{
 "cells": [
  {
   "cell_type": "markdown",
   "metadata": {},
   "source": [
    "# Networks: structure, evolution & processes\n",
    "**Internet Analytics - Lab 2**\n"
   ]
  },
  {
   "cell_type": "markdown",
   "metadata": {},
   "source": [
    "---\n",
    "\n",
    "## 2.2 Network sampling\n",
    "\n",
    "#### Exercise 2.7: Random walk on the Facebook network"
   ]
  },
  {
   "cell_type": "code",
   "execution_count": 1,
   "metadata": {},
   "outputs": [],
   "source": [
    "%config Completer.use_jedi = True\n",
    "import random "
   ]
  },
  {
   "cell_type": "code",
   "execution_count": 2,
   "metadata": {},
   "outputs": [],
   "source": [
    "\n",
    "import requests\n",
    "URL_TEMPLATE = 'http://iccluster028.iccluster.epfl.ch:5050/v1.0/facebook?user={user_id}'\n",
    "\n",
    "user_id = 'a5771bce93e200c36f7cd9dfd0e5deaa'\n",
    "\n",
    "def getData(fid):\n",
    "    url = URL_TEMPLATE.format(user_id=fid)\n",
    "    response = requests.get(url)\n",
    "    return response.json()"
   ]
  },
  {
   "cell_type": "code",
   "execution_count": 3,
   "metadata": {
    "scrolled": true
   },
   "outputs": [
    {
     "name": "stdout",
     "output_type": "stream",
     "text": [
      "100\n",
      "average currently : 32.6\n",
      "200\n",
      "average currently : 29.01\n",
      "300\n",
      "average currently : 26.61\n",
      "400\n",
      "average currently : 27.045\n",
      "500\n",
      "average currently : 27.85\n",
      "600\n",
      "average currently : 27.208333333333332\n",
      "700\n",
      "average currently : 26.187142857142856\n",
      "800\n",
      "average currently : 25.89\n",
      "900\n",
      "average currently : 25.11888888888889\n",
      "1000\n",
      "average currently : 24.522\n",
      "24.583\n"
     ]
    }
   ],
   "source": [
    "data = getData(user_id)\n",
    "\n",
    "age = 0\n",
    "N= 1000.0\n",
    "for i in range(int(N)):\n",
    "    i+=1\n",
    "    if(i % 100 ==0 ):\n",
    "        print(i)\n",
    "        print(\"average currently : \" + str(age/i))\n",
    "    age += data[\"age\"]\n",
    "    random.seed(i)\n",
    "    newFriend = random.randint(0,len(data[\"friends\"])-1)\n",
    "    data= getData(data[\"friends\"][newFriend])\n",
    "average = float(age)/N\n",
    "print(average)\n",
    "    \n",
    "    \n",
    "    "
   ]
  },
  {
   "cell_type": "markdown",
   "metadata": {},
   "source": [
    "#### Exercise 2.8"
   ]
  },
  {
   "cell_type": "markdown",
   "metadata": {
    "collapsed": true
   },
   "source": [
    "1.\n",
    "Even running the random  walk at N = 1000 we get an average around 22 to 26 years of age which is very far from\n",
    "the actual average. \n",
    "2.This of course depends on randomness but currently it seems people seem to be friends with \n",
    "people of the same age.\n"
   ]
  },
  {
   "cell_type": "code",
   "execution_count": 4,
   "metadata": {},
   "outputs": [
    {
     "name": "stdout",
     "output_type": "stream",
     "text": [
      "last 100 average : 19.13\n",
      "current average : 19.13\n",
      "last 100 average : 19.87\n",
      "current average : 19.5\n",
      "last 100 average : 20.4\n",
      "current average : 19.8\n",
      "last 100 average : 21.72\n",
      "current average : 20.28\n",
      "last 100 average : 19.81\n",
      "current average : 20.186\n",
      "last 100 average : 19.81\n",
      "current average : 20.123333333333335\n",
      "last 100 average : 20.39\n",
      "current average : 20.161428571428573\n",
      "last 100 average : 22.93\n",
      "current average : 20.5075\n",
      "last 100 average : 21.26\n",
      "current average : 20.59111111111111\n",
      "20.513\n"
     ]
    }
   ],
   "source": [
    "\n",
    "def noreturn(N=1000.0, weighted = True, reverse = False):\n",
    "    age = 0\n",
    "    data = getData(user_id)\n",
    "    #set of people we already have the age of\n",
    "    fset = {user_id}\n",
    "    #saving how many friends one has so we can use weighted sampleing later\n",
    "    deg = [(user_id ,len(data[\"friends\"]))]\n",
    "    newF = user_id\n",
    "    #represents the percentage of times we continue sampleing from current new friends instead of resampling\n",
    "    #from fset\n",
    "    theta = 0.95\n",
    "    \n",
    "    age100=0\n",
    "    for i in range(int(N)):\n",
    "        if(i%100 == 0 and i!= 0):\n",
    "            print(\"last 100 average : \" + str(age100/100.0))\n",
    "            print(\"current average : \" + str(age/i))\n",
    "            \n",
    "            age100=0\n",
    "        #used to calculate overall age average\n",
    "        age+= data[\"age\"]\n",
    "        #used to calculate average over last 100 people\n",
    "        age100+=data[\"age\"]\n",
    "        tries=0\n",
    "        #random resapmling\n",
    "        random.seed(i)\n",
    "        if(random.uniform(0,1) >= theta):\n",
    "            random.seed(i)\n",
    "            newF= random.sample(fset, k=1)[0]\n",
    "        \n",
    "        while( newF in fset):\n",
    "            tries +=1\n",
    "            if(tries > 10):\n",
    "                tries= 0\n",
    "                if(weighted):\n",
    "                    deg.sort(key = lambda x : x[1])\n",
    "                    weights = [j for i,j in deg]\n",
    "                    if(reverse):\n",
    "                        weights = weights.reverse()\n",
    "                    random.seed(i*tries)\n",
    "                    newF = random.choices([i for i, j in deg],\n",
    "                                     weights,\n",
    "                                     k=1)[0]\n",
    "                else:\n",
    "                    newF =  resample(fset,i*tries)#if can't fight a friend that hasn't been seen yet\n",
    "                    # then go back in graph to random point and try new friend \n",
    "            else:\n",
    "                data= getData(newF)\n",
    "                random.seed(i*tries)\n",
    "                randInt= random.randint(0,len(data[\"friends\"])-1)\n",
    "                newF = data[\"friends\"][randInt]\n",
    "        deg.append((newF, len(data[\"friends\"])))\n",
    "        fset.add(newF)\n",
    "        data = getData(newF)\n",
    "    return age/N\n",
    "def resample(fset,seed):\n",
    "    random.seed(seed)\n",
    "    random.sample(fset,k=1)[0]\n",
    "    \n",
    "    \n",
    "print(noreturn(weighted=True,reverse=True))\n",
    "    \n"
   ]
  },
  {
   "cell_type": "markdown",
   "metadata": {},
   "source": [
    "3.\n",
    "The average we got is around 21 using the no return random walk with random resampling, making sure that most of the time we don't count the same people twice and that each of our datapoints is unique hopefully giving us a better overview over the whole network. In addition, when choosing a neighboring node for the random walk proves difficult (over ten tries of choosing a friend returns a friend already visited) then the algorithm chooses another node to retry based on a weighted distribution. The weights of that distribution are based on the amount of friends a user has which hopefully helps explore more of the network. Reversing the weights order, such that people with less friends are more likely to be picked surprisingly didn't have much effect \n"
   ]
  }
 ],
 "metadata": {
  "kernelspec": {
   "display_name": "Python 3",
   "language": "python",
   "name": "python3"
  },
  "language_info": {
   "codemirror_mode": {
    "name": "ipython",
    "version": 3
   },
   "file_extension": ".py",
   "mimetype": "text/x-python",
   "name": "python",
   "nbconvert_exporter": "python",
   "pygments_lexer": "ipython3",
   "version": "3.8.8"
  }
 },
 "nbformat": 4,
 "nbformat_minor": 2
}
