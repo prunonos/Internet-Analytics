{
 "cells": [
  {
   "cell_type": "markdown",
   "metadata": {},
   "source": [
    "# Lab 3 — dimensionality reduction"
   ]
  },
  {
   "cell_type": "code",
   "execution_count": 1,
   "metadata": {},
   "outputs": [],
   "source": [
    "import json\n",
    "import matplotlib.pyplot as plt\n",
    "import numpy as np\n",
    "import random\n",
    "from bokeh.models import Legend, LegendItem\n",
    "from sklearn.manifold import TSNE\n",
    "import pyspark.sql as f\n",
    "\n",
    "from operator import itemgetter\n",
    "%config IPCompleter.greedy=True\n",
    "%matplotlib inline\n",
    "plt.style.use(\"ggplot\")"
   ]
  },
  {
   "cell_type": "code",
   "execution_count": 2,
   "metadata": {},
   "outputs": [
    {
     "data": {
      "text/html": [
       "\n",
       "    <div class=\"bk-root\">\n",
       "        <a href=\"https://bokeh.org\" target=\"_blank\" class=\"bk-logo bk-logo-small bk-logo-notebook\"></a>\n",
       "        <span id=\"1001\">Loading BokehJS ...</span>\n",
       "    </div>"
      ]
     },
     "metadata": {},
     "output_type": "display_data"
    },
    {
     "data": {
      "application/javascript": [
       "\n",
       "(function(root) {\n",
       "  function now() {\n",
       "    return new Date();\n",
       "  }\n",
       "\n",
       "  var force = true;\n",
       "\n",
       "  if (typeof root._bokeh_onload_callbacks === \"undefined\" || force === true) {\n",
       "    root._bokeh_onload_callbacks = [];\n",
       "    root._bokeh_is_loading = undefined;\n",
       "  }\n",
       "\n",
       "  var JS_MIME_TYPE = 'application/javascript';\n",
       "  var HTML_MIME_TYPE = 'text/html';\n",
       "  var EXEC_MIME_TYPE = 'application/vnd.bokehjs_exec.v0+json';\n",
       "  var CLASS_NAME = 'output_bokeh rendered_html';\n",
       "\n",
       "  /**\n",
       "   * Render data to the DOM node\n",
       "   */\n",
       "  function render(props, node) {\n",
       "    var script = document.createElement(\"script\");\n",
       "    node.appendChild(script);\n",
       "  }\n",
       "\n",
       "  /**\n",
       "   * Handle when an output is cleared or removed\n",
       "   */\n",
       "  function handleClearOutput(event, handle) {\n",
       "    var cell = handle.cell;\n",
       "\n",
       "    var id = cell.output_area._bokeh_element_id;\n",
       "    var server_id = cell.output_area._bokeh_server_id;\n",
       "    // Clean up Bokeh references\n",
       "    if (id != null && id in Bokeh.index) {\n",
       "      Bokeh.index[id].model.document.clear();\n",
       "      delete Bokeh.index[id];\n",
       "    }\n",
       "\n",
       "    if (server_id !== undefined) {\n",
       "      // Clean up Bokeh references\n",
       "      var cmd = \"from bokeh.io.state import curstate; print(curstate().uuid_to_server['\" + server_id + \"'].get_sessions()[0].document.roots[0]._id)\";\n",
       "      cell.notebook.kernel.execute(cmd, {\n",
       "        iopub: {\n",
       "          output: function(msg) {\n",
       "            var id = msg.content.text.trim();\n",
       "            if (id in Bokeh.index) {\n",
       "              Bokeh.index[id].model.document.clear();\n",
       "              delete Bokeh.index[id];\n",
       "            }\n",
       "          }\n",
       "        }\n",
       "      });\n",
       "      // Destroy server and session\n",
       "      var cmd = \"import bokeh.io.notebook as ion; ion.destroy_server('\" + server_id + \"')\";\n",
       "      cell.notebook.kernel.execute(cmd);\n",
       "    }\n",
       "  }\n",
       "\n",
       "  /**\n",
       "   * Handle when a new output is added\n",
       "   */\n",
       "  function handleAddOutput(event, handle) {\n",
       "    var output_area = handle.output_area;\n",
       "    var output = handle.output;\n",
       "\n",
       "    // limit handleAddOutput to display_data with EXEC_MIME_TYPE content only\n",
       "    if ((output.output_type != \"display_data\") || (!output.data.hasOwnProperty(EXEC_MIME_TYPE))) {\n",
       "      return\n",
       "    }\n",
       "\n",
       "    var toinsert = output_area.element.find(\".\" + CLASS_NAME.split(' ')[0]);\n",
       "\n",
       "    if (output.metadata[EXEC_MIME_TYPE][\"id\"] !== undefined) {\n",
       "      toinsert[toinsert.length - 1].firstChild.textContent = output.data[JS_MIME_TYPE];\n",
       "      // store reference to embed id on output_area\n",
       "      output_area._bokeh_element_id = output.metadata[EXEC_MIME_TYPE][\"id\"];\n",
       "    }\n",
       "    if (output.metadata[EXEC_MIME_TYPE][\"server_id\"] !== undefined) {\n",
       "      var bk_div = document.createElement(\"div\");\n",
       "      bk_div.innerHTML = output.data[HTML_MIME_TYPE];\n",
       "      var script_attrs = bk_div.children[0].attributes;\n",
       "      for (var i = 0; i < script_attrs.length; i++) {\n",
       "        toinsert[toinsert.length - 1].firstChild.setAttribute(script_attrs[i].name, script_attrs[i].value);\n",
       "      }\n",
       "      // store reference to server id on output_area\n",
       "      output_area._bokeh_server_id = output.metadata[EXEC_MIME_TYPE][\"server_id\"];\n",
       "    }\n",
       "  }\n",
       "\n",
       "  function register_renderer(events, OutputArea) {\n",
       "\n",
       "    function append_mime(data, metadata, element) {\n",
       "      // create a DOM node to render to\n",
       "      var toinsert = this.create_output_subarea(\n",
       "        metadata,\n",
       "        CLASS_NAME,\n",
       "        EXEC_MIME_TYPE\n",
       "      );\n",
       "      this.keyboard_manager.register_events(toinsert);\n",
       "      // Render to node\n",
       "      var props = {data: data, metadata: metadata[EXEC_MIME_TYPE]};\n",
       "      render(props, toinsert[toinsert.length - 1]);\n",
       "      element.append(toinsert);\n",
       "      return toinsert\n",
       "    }\n",
       "\n",
       "    /* Handle when an output is cleared or removed */\n",
       "    events.on('clear_output.CodeCell', handleClearOutput);\n",
       "    events.on('delete.Cell', handleClearOutput);\n",
       "\n",
       "    /* Handle when a new output is added */\n",
       "    events.on('output_added.OutputArea', handleAddOutput);\n",
       "\n",
       "    /**\n",
       "     * Register the mime type and append_mime function with output_area\n",
       "     */\n",
       "    OutputArea.prototype.register_mime_type(EXEC_MIME_TYPE, append_mime, {\n",
       "      /* Is output safe? */\n",
       "      safe: true,\n",
       "      /* Index of renderer in `output_area.display_order` */\n",
       "      index: 0\n",
       "    });\n",
       "  }\n",
       "\n",
       "  // register the mime type if in Jupyter Notebook environment and previously unregistered\n",
       "  if (root.Jupyter !== undefined) {\n",
       "    var events = require('base/js/events');\n",
       "    var OutputArea = require('notebook/js/outputarea').OutputArea;\n",
       "\n",
       "    if (OutputArea.prototype.mime_types().indexOf(EXEC_MIME_TYPE) == -1) {\n",
       "      register_renderer(events, OutputArea);\n",
       "    }\n",
       "  }\n",
       "\n",
       "  \n",
       "  if (typeof (root._bokeh_timeout) === \"undefined\" || force === true) {\n",
       "    root._bokeh_timeout = Date.now() + 5000;\n",
       "    root._bokeh_failed_load = false;\n",
       "  }\n",
       "\n",
       "  var NB_LOAD_WARNING = {'data': {'text/html':\n",
       "     \"<div style='background-color: #fdd'>\\n\"+\n",
       "     \"<p>\\n\"+\n",
       "     \"BokehJS does not appear to have successfully loaded. If loading BokehJS from CDN, this \\n\"+\n",
       "     \"may be due to a slow or bad network connection. Possible fixes:\\n\"+\n",
       "     \"</p>\\n\"+\n",
       "     \"<ul>\\n\"+\n",
       "     \"<li>re-rerun `output_notebook()` to attempt to load from CDN again, or</li>\\n\"+\n",
       "     \"<li>use INLINE resources instead, as so:</li>\\n\"+\n",
       "     \"</ul>\\n\"+\n",
       "     \"<code>\\n\"+\n",
       "     \"from bokeh.resources import INLINE\\n\"+\n",
       "     \"output_notebook(resources=INLINE)\\n\"+\n",
       "     \"</code>\\n\"+\n",
       "     \"</div>\"}};\n",
       "\n",
       "  function display_loaded() {\n",
       "    var el = document.getElementById(\"1001\");\n",
       "    if (el != null) {\n",
       "      el.textContent = \"BokehJS is loading...\";\n",
       "    }\n",
       "    if (root.Bokeh !== undefined) {\n",
       "      if (el != null) {\n",
       "        el.textContent = \"BokehJS \" + root.Bokeh.version + \" successfully loaded.\";\n",
       "      }\n",
       "    } else if (Date.now() < root._bokeh_timeout) {\n",
       "      setTimeout(display_loaded, 100)\n",
       "    }\n",
       "  }\n",
       "\n",
       "\n",
       "  function run_callbacks() {\n",
       "    try {\n",
       "      root._bokeh_onload_callbacks.forEach(function(callback) {\n",
       "        if (callback != null)\n",
       "          callback();\n",
       "      });\n",
       "    } finally {\n",
       "      delete root._bokeh_onload_callbacks\n",
       "    }\n",
       "    console.debug(\"Bokeh: all callbacks have finished\");\n",
       "  }\n",
       "\n",
       "  function load_libs(css_urls, js_urls, callback) {\n",
       "    if (css_urls == null) css_urls = [];\n",
       "    if (js_urls == null) js_urls = [];\n",
       "\n",
       "    root._bokeh_onload_callbacks.push(callback);\n",
       "    if (root._bokeh_is_loading > 0) {\n",
       "      console.debug(\"Bokeh: BokehJS is being loaded, scheduling callback at\", now());\n",
       "      return null;\n",
       "    }\n",
       "    if (js_urls == null || js_urls.length === 0) {\n",
       "      run_callbacks();\n",
       "      return null;\n",
       "    }\n",
       "    console.debug(\"Bokeh: BokehJS not loaded, scheduling load and callback at\", now());\n",
       "    root._bokeh_is_loading = css_urls.length + js_urls.length;\n",
       "\n",
       "    function on_load() {\n",
       "      root._bokeh_is_loading--;\n",
       "      if (root._bokeh_is_loading === 0) {\n",
       "        console.debug(\"Bokeh: all BokehJS libraries/stylesheets loaded\");\n",
       "        run_callbacks()\n",
       "      }\n",
       "    }\n",
       "\n",
       "    function on_error() {\n",
       "      console.error(\"failed to load \" + url);\n",
       "    }\n",
       "\n",
       "    for (var i = 0; i < css_urls.length; i++) {\n",
       "      var url = css_urls[i];\n",
       "      const element = document.createElement(\"link\");\n",
       "      element.onload = on_load;\n",
       "      element.onerror = on_error;\n",
       "      element.rel = \"stylesheet\";\n",
       "      element.type = \"text/css\";\n",
       "      element.href = url;\n",
       "      console.debug(\"Bokeh: injecting link tag for BokehJS stylesheet: \", url);\n",
       "      document.body.appendChild(element);\n",
       "    }\n",
       "\n",
       "    for (var i = 0; i < js_urls.length; i++) {\n",
       "      var url = js_urls[i];\n",
       "      var element = document.createElement('script');\n",
       "      element.onload = on_load;\n",
       "      element.onerror = on_error;\n",
       "      element.async = false;\n",
       "      element.src = url;\n",
       "      console.debug(\"Bokeh: injecting script tag for BokehJS library: \", url);\n",
       "      document.head.appendChild(element);\n",
       "    }\n",
       "  };var element = document.getElementById(\"1001\");\n",
       "  if (element == null) {\n",
       "    console.error(\"Bokeh: ERROR: autoload.js configured with elementid '1001' but no matching script tag was found. \")\n",
       "    return false;\n",
       "  }\n",
       "\n",
       "  function inject_raw_css(css) {\n",
       "    const element = document.createElement(\"style\");\n",
       "    element.appendChild(document.createTextNode(css));\n",
       "    document.body.appendChild(element);\n",
       "  }\n",
       "\n",
       "  \n",
       "  var js_urls = [\"https://cdn.pydata.org/bokeh/release/bokeh-1.4.0.min.js\", \"https://cdn.pydata.org/bokeh/release/bokeh-widgets-1.4.0.min.js\", \"https://cdn.pydata.org/bokeh/release/bokeh-tables-1.4.0.min.js\", \"https://cdn.pydata.org/bokeh/release/bokeh-gl-1.4.0.min.js\"];\n",
       "  var css_urls = [];\n",
       "  \n",
       "\n",
       "  var inline_js = [\n",
       "    function(Bokeh) {\n",
       "      Bokeh.set_log_level(\"info\");\n",
       "    },\n",
       "    function(Bokeh) {\n",
       "    \n",
       "    \n",
       "    }\n",
       "  ];\n",
       "\n",
       "  function run_inline_js() {\n",
       "    \n",
       "    if (root.Bokeh !== undefined || force === true) {\n",
       "      \n",
       "    for (var i = 0; i < inline_js.length; i++) {\n",
       "      inline_js[i].call(root, root.Bokeh);\n",
       "    }\n",
       "    if (force === true) {\n",
       "        display_loaded();\n",
       "      }} else if (Date.now() < root._bokeh_timeout) {\n",
       "      setTimeout(run_inline_js, 100);\n",
       "    } else if (!root._bokeh_failed_load) {\n",
       "      console.log(\"Bokeh: BokehJS failed to load within specified timeout.\");\n",
       "      root._bokeh_failed_load = true;\n",
       "    } else if (force !== true) {\n",
       "      var cell = $(document.getElementById(\"1001\")).parents('.cell').data().cell;\n",
       "      cell.output_area.append_execute_result(NB_LOAD_WARNING)\n",
       "    }\n",
       "\n",
       "  }\n",
       "\n",
       "  if (root._bokeh_is_loading === 0) {\n",
       "    console.debug(\"Bokeh: BokehJS loaded, going straight to plotting\");\n",
       "    run_inline_js();\n",
       "  } else {\n",
       "    load_libs(css_urls, js_urls, function() {\n",
       "      console.debug(\"Bokeh: BokehJS plotting callback run at\", now());\n",
       "      run_inline_js();\n",
       "    });\n",
       "  }\n",
       "}(window));"
      ],
      "application/vnd.bokehjs_load.v0+json": "\n(function(root) {\n  function now() {\n    return new Date();\n  }\n\n  var force = true;\n\n  if (typeof root._bokeh_onload_callbacks === \"undefined\" || force === true) {\n    root._bokeh_onload_callbacks = [];\n    root._bokeh_is_loading = undefined;\n  }\n\n  \n\n  \n  if (typeof (root._bokeh_timeout) === \"undefined\" || force === true) {\n    root._bokeh_timeout = Date.now() + 5000;\n    root._bokeh_failed_load = false;\n  }\n\n  var NB_LOAD_WARNING = {'data': {'text/html':\n     \"<div style='background-color: #fdd'>\\n\"+\n     \"<p>\\n\"+\n     \"BokehJS does not appear to have successfully loaded. If loading BokehJS from CDN, this \\n\"+\n     \"may be due to a slow or bad network connection. Possible fixes:\\n\"+\n     \"</p>\\n\"+\n     \"<ul>\\n\"+\n     \"<li>re-rerun `output_notebook()` to attempt to load from CDN again, or</li>\\n\"+\n     \"<li>use INLINE resources instead, as so:</li>\\n\"+\n     \"</ul>\\n\"+\n     \"<code>\\n\"+\n     \"from bokeh.resources import INLINE\\n\"+\n     \"output_notebook(resources=INLINE)\\n\"+\n     \"</code>\\n\"+\n     \"</div>\"}};\n\n  function display_loaded() {\n    var el = document.getElementById(\"1001\");\n    if (el != null) {\n      el.textContent = \"BokehJS is loading...\";\n    }\n    if (root.Bokeh !== undefined) {\n      if (el != null) {\n        el.textContent = \"BokehJS \" + root.Bokeh.version + \" successfully loaded.\";\n      }\n    } else if (Date.now() < root._bokeh_timeout) {\n      setTimeout(display_loaded, 100)\n    }\n  }\n\n\n  function run_callbacks() {\n    try {\n      root._bokeh_onload_callbacks.forEach(function(callback) {\n        if (callback != null)\n          callback();\n      });\n    } finally {\n      delete root._bokeh_onload_callbacks\n    }\n    console.debug(\"Bokeh: all callbacks have finished\");\n  }\n\n  function load_libs(css_urls, js_urls, callback) {\n    if (css_urls == null) css_urls = [];\n    if (js_urls == null) js_urls = [];\n\n    root._bokeh_onload_callbacks.push(callback);\n    if (root._bokeh_is_loading > 0) {\n      console.debug(\"Bokeh: BokehJS is being loaded, scheduling callback at\", now());\n      return null;\n    }\n    if (js_urls == null || js_urls.length === 0) {\n      run_callbacks();\n      return null;\n    }\n    console.debug(\"Bokeh: BokehJS not loaded, scheduling load and callback at\", now());\n    root._bokeh_is_loading = css_urls.length + js_urls.length;\n\n    function on_load() {\n      root._bokeh_is_loading--;\n      if (root._bokeh_is_loading === 0) {\n        console.debug(\"Bokeh: all BokehJS libraries/stylesheets loaded\");\n        run_callbacks()\n      }\n    }\n\n    function on_error() {\n      console.error(\"failed to load \" + url);\n    }\n\n    for (var i = 0; i < css_urls.length; i++) {\n      var url = css_urls[i];\n      const element = document.createElement(\"link\");\n      element.onload = on_load;\n      element.onerror = on_error;\n      element.rel = \"stylesheet\";\n      element.type = \"text/css\";\n      element.href = url;\n      console.debug(\"Bokeh: injecting link tag for BokehJS stylesheet: \", url);\n      document.body.appendChild(element);\n    }\n\n    for (var i = 0; i < js_urls.length; i++) {\n      var url = js_urls[i];\n      var element = document.createElement('script');\n      element.onload = on_load;\n      element.onerror = on_error;\n      element.async = false;\n      element.src = url;\n      console.debug(\"Bokeh: injecting script tag for BokehJS library: \", url);\n      document.head.appendChild(element);\n    }\n  };var element = document.getElementById(\"1001\");\n  if (element == null) {\n    console.error(\"Bokeh: ERROR: autoload.js configured with elementid '1001' but no matching script tag was found. \")\n    return false;\n  }\n\n  function inject_raw_css(css) {\n    const element = document.createElement(\"style\");\n    element.appendChild(document.createTextNode(css));\n    document.body.appendChild(element);\n  }\n\n  \n  var js_urls = [\"https://cdn.pydata.org/bokeh/release/bokeh-1.4.0.min.js\", \"https://cdn.pydata.org/bokeh/release/bokeh-widgets-1.4.0.min.js\", \"https://cdn.pydata.org/bokeh/release/bokeh-tables-1.4.0.min.js\", \"https://cdn.pydata.org/bokeh/release/bokeh-gl-1.4.0.min.js\"];\n  var css_urls = [];\n  \n\n  var inline_js = [\n    function(Bokeh) {\n      Bokeh.set_log_level(\"info\");\n    },\n    function(Bokeh) {\n    \n    \n    }\n  ];\n\n  function run_inline_js() {\n    \n    if (root.Bokeh !== undefined || force === true) {\n      \n    for (var i = 0; i < inline_js.length; i++) {\n      inline_js[i].call(root, root.Bokeh);\n    }\n    if (force === true) {\n        display_loaded();\n      }} else if (Date.now() < root._bokeh_timeout) {\n      setTimeout(run_inline_js, 100);\n    } else if (!root._bokeh_failed_load) {\n      console.log(\"Bokeh: BokehJS failed to load within specified timeout.\");\n      root._bokeh_failed_load = true;\n    } else if (force !== true) {\n      var cell = $(document.getElementById(\"1001\")).parents('.cell').data().cell;\n      cell.output_area.append_execute_result(NB_LOAD_WARNING)\n    }\n\n  }\n\n  if (root._bokeh_is_loading === 0) {\n    console.debug(\"Bokeh: BokehJS loaded, going straight to plotting\");\n    run_inline_js();\n  } else {\n    load_libs(css_urls, js_urls, function() {\n      console.debug(\"Bokeh: BokehJS plotting callback run at\", now());\n      run_inline_js();\n    });\n  }\n}(window));"
     },
     "metadata": {},
     "output_type": "display_data"
    }
   ],
   "source": [
    "import pickle\n",
    "from matplotlib.colors import rgb2hex \n",
    "from bokeh.io import show, output_notebook\n",
    "from bokeh.plotting import figure, ColumnDataSource\n",
    "from bokeh.models import HoverTool, ResetTool, PanTool, WheelZoomTool, SaveTool\n",
    "output_notebook()"
   ]
  },
  {
   "cell_type": "code",
   "execution_count": 3,
   "metadata": {},
   "outputs": [],
   "source": [
    "from sklearn.preprocessing import scale # Data scaling\n",
    "from sklearn import decomposition #PCA\n",
    "import pandas as pd"
   ]
  },
  {
   "cell_type": "code",
   "execution_count": 4,
   "metadata": {},
   "outputs": [
    {
     "name": "stdout",
     "output_type": "stream",
     "text": [
      "WARNING: log4j.properties is not found. HADOOP_CONF_DIR may be incomplete.\n",
      "{\"tagId\": 1127, \"tag\": \"zombie\"}\n",
      "{\"tagId\": 1128, \"tag\": \"zombies\"}\n"
     ]
    }
   ],
   "source": [
    "!hdfs dfs -cat /ix/ml-20m/genome-tags.txt | tail -n 2"
   ]
  },
  {
   "cell_type": "code",
   "execution_count": 5,
   "metadata": {},
   "outputs": [],
   "source": [
    "data = sc.textFile(\"/ix/ml-20m/genome-tags.txt\").map(json.loads)\n",
    "tag2name = dict(data.map(itemgetter(\"tagId\", \"tag\")).collect())"
   ]
  },
  {
   "cell_type": "code",
   "execution_count": 6,
   "metadata": {},
   "outputs": [
    {
     "name": "stdout",
     "output_type": "stream",
     "text": [
      "WARNING: log4j.properties is not found. HADOOP_CONF_DIR may be incomplete.\n",
      "{\"relevance\": 0.11449999999999999, \"tagId\": 1127, \"movieId\": 131170}\n",
      "{\"relevance\": 0.02174999999999999, \"tagId\": 1128, \"movieId\": 131170}\n"
     ]
    }
   ],
   "source": [
    "!hdfs dfs -cat /ix/ml-20m/genome-scores.txt | tail -n 2"
   ]
  },
  {
   "cell_type": "markdown",
   "metadata": {},
   "source": [
    "#### Exercise 3.1\n",
    "\n",
    "In this exercise we analyse the variance and eigenvalues of our data in order to have an idea of how could be the dimensional reduction."
   ]
  },
  {
   "cell_type": "code",
   "execution_count": 7,
   "metadata": {},
   "outputs": [],
   "source": [
    "data = sc.textFile(\"/ix/ml-20m/genome-scores.txt\").map(json.loads)\n",
    "movieRate = data.map(itemgetter(\"tagId\", \"movieId\", \"relevance\" ))"
   ]
  },
  {
   "cell_type": "code",
   "execution_count": 8,
   "metadata": {
    "scrolled": true
   },
   "outputs": [
    {
     "data": {
      "text/plain": [
       "1128"
      ]
     },
     "execution_count": 8,
     "metadata": {},
     "output_type": "execute_result"
    }
   ],
   "source": [
    "# how many tags there are?\n",
    "data.map(itemgetter('tagId')).distinct().count()"
   ]
  },
  {
   "cell_type": "code",
   "execution_count": 9,
   "metadata": {},
   "outputs": [
    {
     "data": {
      "text/plain": [
       "1128"
      ]
     },
     "execution_count": 9,
     "metadata": {},
     "output_type": "execute_result"
    }
   ],
   "source": [
    "data.map(itemgetter('tagId')).sortBy(lambda x: x).distinct().max()"
   ]
  },
  {
   "cell_type": "markdown",
   "metadata": {},
   "source": [
    "Now we now that we have a total of 1128 tags and that they range from 1 to 1128. \n",
    "\n",
    "First, we sort our data by the pair `tagId` and `movieId`. So, later, it will be easier to create the matrix."
   ]
  },
  {
   "cell_type": "code",
   "execution_count": 10,
   "metadata": {},
   "outputs": [],
   "source": [
    "tuples = movieRate.sortBy(lambda k: (k[0],k[1]), ascending=True).collect()"
   ]
  },
  {
   "cell_type": "code",
   "execution_count": 11,
   "metadata": {},
   "outputs": [],
   "source": [
    "tuples_array = np.array(tuples)"
   ]
  },
  {
   "cell_type": "markdown",
   "metadata": {},
   "source": [
    "Now, we have our Numpy array with 3 columns: tagId, movieId and relevance. Now we need to create the final matrix from this array."
   ]
  },
  {
   "cell_type": "code",
   "execution_count": 12,
   "metadata": {},
   "outputs": [
    {
     "data": {
      "text/plain": [
       "array([[1.00000e+00, 1.00000e+00, 2.50000e-02],\n",
       "       [1.00000e+00, 2.00000e+00, 3.97500e-02],\n",
       "       [1.00000e+00, 3.00000e+00, 4.35000e-02],\n",
       "       ...,\n",
       "       [1.12800e+03, 1.31013e+05, 1.62500e-02],\n",
       "       [1.12800e+03, 1.31168e+05, 1.72500e-02],\n",
       "       [1.12800e+03, 1.31170e+05, 2.17500e-02]])"
      ]
     },
     "execution_count": 12,
     "metadata": {},
     "output_type": "execute_result"
    }
   ],
   "source": [
    "tuples_array"
   ]
  },
  {
   "cell_type": "markdown",
   "metadata": {},
   "source": [
    "We create a matrix M x N, where M is the number of tags and N the number of movies."
   ]
  },
  {
   "cell_type": "code",
   "execution_count": 13,
   "metadata": {},
   "outputs": [
    {
     "name": "stdout",
     "output_type": "stream",
     "text": [
      "We have 1128 tags and 10381 movies.\n"
     ]
    }
   ],
   "source": [
    "unique_tags   = np.unique(tuples_array[:,0])\n",
    "unique_movies = np.unique(tuples_array[:,1])\n",
    "\n",
    "assert len(unique_tags)*len(unique_movies) == len(tuples_array) \n",
    "print(f'We have {len(unique_tags)} tags and {len(unique_movies)} movies.')"
   ]
  },
  {
   "cell_type": "markdown",
   "metadata": {},
   "source": [
    "So, in our matrix we have 1128 tags (columns) for each movie."
   ]
  },
  {
   "cell_type": "code",
   "execution_count": 14,
   "metadata": {
    "scrolled": true
   },
   "outputs": [
    {
     "data": {
      "text/plain": [
       "array([[0.025  , 0.03975, 0.0435 , ..., 0.042  , 0.05975, 0.05325],\n",
       "       [0.025  , 0.04375, 0.05475, ..., 0.03175, 0.10375, 0.08625],\n",
       "       [0.05775, 0.03775, 0.028  , ..., 0.017  , 0.1785 , 0.017  ],\n",
       "       ...,\n",
       "       [0.03625, 0.01475, 0.0195 , ..., 0.0095 , 0.51925, 0.01575],\n",
       "       [0.07775, 0.09025, 0.097  , ..., 0.0755 , 0.067  , 0.1145 ],\n",
       "       [0.023  , 0.01875, 0.0185 , ..., 0.01625, 0.01725, 0.02175]])"
      ]
     },
     "execution_count": 14,
     "metadata": {},
     "output_type": "execute_result"
    }
   ],
   "source": [
    "relevances = tuples_array[:,2].reshape(len(unique_tags),len(unique_movies))\n",
    "relevances"
   ]
  },
  {
   "cell_type": "code",
   "execution_count": 15,
   "metadata": {},
   "outputs": [],
   "source": [
    "relevances_df = pd.DataFrame(relevances, columns=unique_movies, index=unique_tags)"
   ]
  },
  {
   "cell_type": "code",
   "execution_count": 16,
   "metadata": {},
   "outputs": [
    {
     "data": {
      "text/html": [
       "<div>\n",
       "<style scoped>\n",
       "    .dataframe tbody tr th:only-of-type {\n",
       "        vertical-align: middle;\n",
       "    }\n",
       "\n",
       "    .dataframe tbody tr th {\n",
       "        vertical-align: top;\n",
       "    }\n",
       "\n",
       "    .dataframe thead th {\n",
       "        text-align: right;\n",
       "    }\n",
       "</style>\n",
       "<table border=\"1\" class=\"dataframe\">\n",
       "  <thead>\n",
       "    <tr style=\"text-align: right;\">\n",
       "      <th></th>\n",
       "      <th>1.0</th>\n",
       "      <th>2.0</th>\n",
       "      <th>3.0</th>\n",
       "      <th>4.0</th>\n",
       "      <th>5.0</th>\n",
       "      <th>6.0</th>\n",
       "      <th>7.0</th>\n",
       "      <th>8.0</th>\n",
       "      <th>9.0</th>\n",
       "      <th>10.0</th>\n",
       "      <th>...</th>\n",
       "      <th>130075.0</th>\n",
       "      <th>130087.0</th>\n",
       "      <th>130490.0</th>\n",
       "      <th>130496.0</th>\n",
       "      <th>130520.0</th>\n",
       "      <th>130578.0</th>\n",
       "      <th>130840.0</th>\n",
       "      <th>131013.0</th>\n",
       "      <th>131168.0</th>\n",
       "      <th>131170.0</th>\n",
       "    </tr>\n",
       "  </thead>\n",
       "  <tbody>\n",
       "    <tr>\n",
       "      <th>1.0</th>\n",
       "      <td>0.02500</td>\n",
       "      <td>0.03975</td>\n",
       "      <td>0.04350</td>\n",
       "      <td>0.03725</td>\n",
       "      <td>0.04200</td>\n",
       "      <td>0.02825</td>\n",
       "      <td>0.04575</td>\n",
       "      <td>0.03075</td>\n",
       "      <td>0.03500</td>\n",
       "      <td>0.99975</td>\n",
       "      <td>...</td>\n",
       "      <td>0.03150</td>\n",
       "      <td>0.05925</td>\n",
       "      <td>0.02700</td>\n",
       "      <td>0.03275</td>\n",
       "      <td>0.05875</td>\n",
       "      <td>0.15400</td>\n",
       "      <td>0.02400</td>\n",
       "      <td>0.04200</td>\n",
       "      <td>0.05975</td>\n",
       "      <td>0.05325</td>\n",
       "    </tr>\n",
       "    <tr>\n",
       "      <th>2.0</th>\n",
       "      <td>0.02500</td>\n",
       "      <td>0.04375</td>\n",
       "      <td>0.05475</td>\n",
       "      <td>0.03950</td>\n",
       "      <td>0.05275</td>\n",
       "      <td>0.02550</td>\n",
       "      <td>0.05275</td>\n",
       "      <td>0.03550</td>\n",
       "      <td>0.04050</td>\n",
       "      <td>0.99975</td>\n",
       "      <td>...</td>\n",
       "      <td>0.03650</td>\n",
       "      <td>0.05700</td>\n",
       "      <td>0.02575</td>\n",
       "      <td>0.03000</td>\n",
       "      <td>0.02325</td>\n",
       "      <td>0.04025</td>\n",
       "      <td>0.03025</td>\n",
       "      <td>0.03175</td>\n",
       "      <td>0.10375</td>\n",
       "      <td>0.08625</td>\n",
       "    </tr>\n",
       "    <tr>\n",
       "      <th>3.0</th>\n",
       "      <td>0.05775</td>\n",
       "      <td>0.03775</td>\n",
       "      <td>0.02800</td>\n",
       "      <td>0.03675</td>\n",
       "      <td>0.05925</td>\n",
       "      <td>0.01850</td>\n",
       "      <td>0.16675</td>\n",
       "      <td>0.04675</td>\n",
       "      <td>0.01825</td>\n",
       "      <td>0.01950</td>\n",
       "      <td>...</td>\n",
       "      <td>0.11300</td>\n",
       "      <td>0.01850</td>\n",
       "      <td>0.03825</td>\n",
       "      <td>0.02400</td>\n",
       "      <td>0.02150</td>\n",
       "      <td>0.01975</td>\n",
       "      <td>0.02425</td>\n",
       "      <td>0.01700</td>\n",
       "      <td>0.17850</td>\n",
       "      <td>0.01700</td>\n",
       "    </tr>\n",
       "    <tr>\n",
       "      <th>4.0</th>\n",
       "      <td>0.09675</td>\n",
       "      <td>0.04800</td>\n",
       "      <td>0.07700</td>\n",
       "      <td>0.03100</td>\n",
       "      <td>0.03675</td>\n",
       "      <td>0.04550</td>\n",
       "      <td>0.08275</td>\n",
       "      <td>0.02175</td>\n",
       "      <td>0.01800</td>\n",
       "      <td>0.03675</td>\n",
       "      <td>...</td>\n",
       "      <td>0.07475</td>\n",
       "      <td>0.03725</td>\n",
       "      <td>0.03525</td>\n",
       "      <td>0.02375</td>\n",
       "      <td>0.04425</td>\n",
       "      <td>0.01850</td>\n",
       "      <td>0.09375</td>\n",
       "      <td>0.05600</td>\n",
       "      <td>0.14875</td>\n",
       "      <td>0.02650</td>\n",
       "    </tr>\n",
       "    <tr>\n",
       "      <th>5.0</th>\n",
       "      <td>0.14675</td>\n",
       "      <td>0.11025</td>\n",
       "      <td>0.05400</td>\n",
       "      <td>0.06825</td>\n",
       "      <td>0.07525</td>\n",
       "      <td>0.09575</td>\n",
       "      <td>0.11450</td>\n",
       "      <td>0.05600</td>\n",
       "      <td>0.03650</td>\n",
       "      <td>0.06675</td>\n",
       "      <td>...</td>\n",
       "      <td>0.06800</td>\n",
       "      <td>0.05050</td>\n",
       "      <td>0.04975</td>\n",
       "      <td>0.06400</td>\n",
       "      <td>0.05000</td>\n",
       "      <td>0.02850</td>\n",
       "      <td>0.05600</td>\n",
       "      <td>0.05750</td>\n",
       "      <td>0.27750</td>\n",
       "      <td>0.15700</td>\n",
       "    </tr>\n",
       "    <tr>\n",
       "      <th>...</th>\n",
       "      <td>...</td>\n",
       "      <td>...</td>\n",
       "      <td>...</td>\n",
       "      <td>...</td>\n",
       "      <td>...</td>\n",
       "      <td>...</td>\n",
       "      <td>...</td>\n",
       "      <td>...</td>\n",
       "      <td>...</td>\n",
       "      <td>...</td>\n",
       "      <td>...</td>\n",
       "      <td>...</td>\n",
       "      <td>...</td>\n",
       "      <td>...</td>\n",
       "      <td>...</td>\n",
       "      <td>...</td>\n",
       "      <td>...</td>\n",
       "      <td>...</td>\n",
       "      <td>...</td>\n",
       "      <td>...</td>\n",
       "      <td>...</td>\n",
       "    </tr>\n",
       "    <tr>\n",
       "      <th>1124.0</th>\n",
       "      <td>0.04150</td>\n",
       "      <td>0.02250</td>\n",
       "      <td>0.03675</td>\n",
       "      <td>0.05925</td>\n",
       "      <td>0.02075</td>\n",
       "      <td>0.15525</td>\n",
       "      <td>0.04875</td>\n",
       "      <td>0.02825</td>\n",
       "      <td>0.02225</td>\n",
       "      <td>0.03750</td>\n",
       "      <td>...</td>\n",
       "      <td>0.16875</td>\n",
       "      <td>0.07975</td>\n",
       "      <td>0.12075</td>\n",
       "      <td>0.06875</td>\n",
       "      <td>0.06500</td>\n",
       "      <td>0.02375</td>\n",
       "      <td>0.10775</td>\n",
       "      <td>0.10750</td>\n",
       "      <td>0.03225</td>\n",
       "      <td>0.58775</td>\n",
       "    </tr>\n",
       "    <tr>\n",
       "      <th>1125.0</th>\n",
       "      <td>0.01925</td>\n",
       "      <td>0.01550</td>\n",
       "      <td>0.01700</td>\n",
       "      <td>0.01500</td>\n",
       "      <td>0.01650</td>\n",
       "      <td>0.03525</td>\n",
       "      <td>0.01975</td>\n",
       "      <td>0.01675</td>\n",
       "      <td>0.01100</td>\n",
       "      <td>0.01775</td>\n",
       "      <td>...</td>\n",
       "      <td>0.01825</td>\n",
       "      <td>0.02325</td>\n",
       "      <td>0.00925</td>\n",
       "      <td>0.05100</td>\n",
       "      <td>0.01775</td>\n",
       "      <td>0.04225</td>\n",
       "      <td>0.06200</td>\n",
       "      <td>0.02500</td>\n",
       "      <td>0.04800</td>\n",
       "      <td>0.01075</td>\n",
       "    </tr>\n",
       "    <tr>\n",
       "      <th>1126.0</th>\n",
       "      <td>0.03625</td>\n",
       "      <td>0.01475</td>\n",
       "      <td>0.01950</td>\n",
       "      <td>0.01525</td>\n",
       "      <td>0.01675</td>\n",
       "      <td>0.01950</td>\n",
       "      <td>0.01050</td>\n",
       "      <td>0.01125</td>\n",
       "      <td>0.00700</td>\n",
       "      <td>0.01775</td>\n",
       "      <td>...</td>\n",
       "      <td>0.01425</td>\n",
       "      <td>0.01375</td>\n",
       "      <td>0.00875</td>\n",
       "      <td>0.00825</td>\n",
       "      <td>0.00850</td>\n",
       "      <td>0.00525</td>\n",
       "      <td>0.00775</td>\n",
       "      <td>0.00950</td>\n",
       "      <td>0.51925</td>\n",
       "      <td>0.01575</td>\n",
       "    </tr>\n",
       "    <tr>\n",
       "      <th>1127.0</th>\n",
       "      <td>0.07775</td>\n",
       "      <td>0.09025</td>\n",
       "      <td>0.09700</td>\n",
       "      <td>0.06450</td>\n",
       "      <td>0.10750</td>\n",
       "      <td>0.06650</td>\n",
       "      <td>0.10925</td>\n",
       "      <td>0.07000</td>\n",
       "      <td>0.07275</td>\n",
       "      <td>0.07300</td>\n",
       "      <td>...</td>\n",
       "      <td>0.09650</td>\n",
       "      <td>0.06350</td>\n",
       "      <td>0.11700</td>\n",
       "      <td>0.09050</td>\n",
       "      <td>0.06650</td>\n",
       "      <td>0.07575</td>\n",
       "      <td>0.27000</td>\n",
       "      <td>0.07550</td>\n",
       "      <td>0.06700</td>\n",
       "      <td>0.11450</td>\n",
       "    </tr>\n",
       "    <tr>\n",
       "      <th>1128.0</th>\n",
       "      <td>0.02300</td>\n",
       "      <td>0.01875</td>\n",
       "      <td>0.01850</td>\n",
       "      <td>0.01300</td>\n",
       "      <td>0.01825</td>\n",
       "      <td>0.01900</td>\n",
       "      <td>0.01850</td>\n",
       "      <td>0.01500</td>\n",
       "      <td>0.01550</td>\n",
       "      <td>0.01825</td>\n",
       "      <td>...</td>\n",
       "      <td>0.01625</td>\n",
       "      <td>0.01250</td>\n",
       "      <td>0.02975</td>\n",
       "      <td>0.01675</td>\n",
       "      <td>0.01575</td>\n",
       "      <td>0.01325</td>\n",
       "      <td>0.13375</td>\n",
       "      <td>0.01625</td>\n",
       "      <td>0.01725</td>\n",
       "      <td>0.02175</td>\n",
       "    </tr>\n",
       "  </tbody>\n",
       "</table>\n",
       "<p>1128 rows × 10381 columns</p>\n",
       "</div>"
      ],
      "text/plain": [
       "        1.0       2.0       3.0       4.0       5.0       6.0       7.0       \\\n",
       "1.0      0.02500   0.03975   0.04350   0.03725   0.04200   0.02825   0.04575   \n",
       "2.0      0.02500   0.04375   0.05475   0.03950   0.05275   0.02550   0.05275   \n",
       "3.0      0.05775   0.03775   0.02800   0.03675   0.05925   0.01850   0.16675   \n",
       "4.0      0.09675   0.04800   0.07700   0.03100   0.03675   0.04550   0.08275   \n",
       "5.0      0.14675   0.11025   0.05400   0.06825   0.07525   0.09575   0.11450   \n",
       "...          ...       ...       ...       ...       ...       ...       ...   \n",
       "1124.0   0.04150   0.02250   0.03675   0.05925   0.02075   0.15525   0.04875   \n",
       "1125.0   0.01925   0.01550   0.01700   0.01500   0.01650   0.03525   0.01975   \n",
       "1126.0   0.03625   0.01475   0.01950   0.01525   0.01675   0.01950   0.01050   \n",
       "1127.0   0.07775   0.09025   0.09700   0.06450   0.10750   0.06650   0.10925   \n",
       "1128.0   0.02300   0.01875   0.01850   0.01300   0.01825   0.01900   0.01850   \n",
       "\n",
       "        8.0       9.0       10.0      ...  130075.0  130087.0  130490.0  \\\n",
       "1.0      0.03075   0.03500   0.99975  ...   0.03150   0.05925   0.02700   \n",
       "2.0      0.03550   0.04050   0.99975  ...   0.03650   0.05700   0.02575   \n",
       "3.0      0.04675   0.01825   0.01950  ...   0.11300   0.01850   0.03825   \n",
       "4.0      0.02175   0.01800   0.03675  ...   0.07475   0.03725   0.03525   \n",
       "5.0      0.05600   0.03650   0.06675  ...   0.06800   0.05050   0.04975   \n",
       "...          ...       ...       ...  ...       ...       ...       ...   \n",
       "1124.0   0.02825   0.02225   0.03750  ...   0.16875   0.07975   0.12075   \n",
       "1125.0   0.01675   0.01100   0.01775  ...   0.01825   0.02325   0.00925   \n",
       "1126.0   0.01125   0.00700   0.01775  ...   0.01425   0.01375   0.00875   \n",
       "1127.0   0.07000   0.07275   0.07300  ...   0.09650   0.06350   0.11700   \n",
       "1128.0   0.01500   0.01550   0.01825  ...   0.01625   0.01250   0.02975   \n",
       "\n",
       "        130496.0  130520.0  130578.0  130840.0  131013.0  131168.0  131170.0  \n",
       "1.0      0.03275   0.05875   0.15400   0.02400   0.04200   0.05975   0.05325  \n",
       "2.0      0.03000   0.02325   0.04025   0.03025   0.03175   0.10375   0.08625  \n",
       "3.0      0.02400   0.02150   0.01975   0.02425   0.01700   0.17850   0.01700  \n",
       "4.0      0.02375   0.04425   0.01850   0.09375   0.05600   0.14875   0.02650  \n",
       "5.0      0.06400   0.05000   0.02850   0.05600   0.05750   0.27750   0.15700  \n",
       "...          ...       ...       ...       ...       ...       ...       ...  \n",
       "1124.0   0.06875   0.06500   0.02375   0.10775   0.10750   0.03225   0.58775  \n",
       "1125.0   0.05100   0.01775   0.04225   0.06200   0.02500   0.04800   0.01075  \n",
       "1126.0   0.00825   0.00850   0.00525   0.00775   0.00950   0.51925   0.01575  \n",
       "1127.0   0.09050   0.06650   0.07575   0.27000   0.07550   0.06700   0.11450  \n",
       "1128.0   0.01675   0.01575   0.01325   0.13375   0.01625   0.01725   0.02175  \n",
       "\n",
       "[1128 rows x 10381 columns]"
      ]
     },
     "execution_count": 16,
     "metadata": {},
     "output_type": "execute_result"
    }
   ],
   "source": [
    "relevances_df"
   ]
  },
  {
   "cell_type": "markdown",
   "metadata": {},
   "source": [
    "Now, we compute and plot the variance of each tag. So we calculate the variance along the tag axis. We are interested in finding the tags that have more variability in the data."
   ]
  },
  {
   "cell_type": "code",
   "execution_count": 17,
   "metadata": {},
   "outputs": [],
   "source": [
    "var_rel = np.var(relevances,axis=1)"
   ]
  },
  {
   "cell_type": "code",
   "execution_count": 18,
   "metadata": {},
   "outputs": [
    {
     "data": {
      "text/plain": [
       "Text(0, 0.5, 'Variance')"
      ]
     },
     "execution_count": 18,
     "metadata": {},
     "output_type": "execute_result"
    },
    {
     "data": {
      "image/png": "[encoded data removed]",
      "text/plain": [
       "<Figure size 1152x432 with 1 Axes>"
      ]
     },
     "metadata": {},
     "output_type": "display_data"
    }
   ],
   "source": [
    "plt.figure(figsize=(16,6))\n",
    "plt.plot(unique_tags,var_rel)\n",
    "plt.title('Variance of each tag')\n",
    "plt.xlabel('Tag'); plt.ylabel('Variance')"
   ]
  },
  {
   "cell_type": "markdown",
   "metadata": {},
   "source": [
    "As we can see there are some tags that have more variance than others. So it's very probable that this tags will provide us more useful information than others that have lower variance values."
   ]
  },
  {
   "cell_type": "markdown",
   "metadata": {},
   "source": [
    "We want to reduce the dimensional space of our data but keeping as much variance as possible. To do that, we want to compute which are the directions in which the data has the most variance. In order to do that we will do the following:\n",
    "\n",
    "First, we compute the covariance matrix of the data, but before we substract the mean of each tag, in order to normalize ."
   ]
  },
  {
   "cell_type": "code",
   "execution_count": 19,
   "metadata": {},
   "outputs": [],
   "source": [
    "mean_rel = np.mean(relevances,axis=1)\n",
    "cov_matrix = np.cov(relevances - mean_rel.reshape(-1,1))"
   ]
  },
  {
   "cell_type": "code",
   "execution_count": 20,
   "metadata": {},
   "outputs": [
    {
     "data": {
      "text/plain": [
       "array([[ 0.00490042,  0.00327346, -0.00030115, ...,  0.00016838,\n",
       "        -0.00016172, -0.00014599],\n",
       "       [ 0.00327346,  0.00374098, -0.00023234, ...,  0.00011866,\n",
       "        -0.00015645, -0.00014514],\n",
       "       [-0.00030115, -0.00023234,  0.01184989, ...,  0.00130349,\n",
       "        -0.00112118, -0.00035662],\n",
       "       ...,\n",
       "       [ 0.00016838,  0.00011866,  0.00130349, ...,  0.0188282 ,\n",
       "        -0.00114338, -0.00032847],\n",
       "       [-0.00016172, -0.00015645, -0.00112118, ..., -0.00114338,\n",
       "         0.01105378,  0.00659333],\n",
       "       [-0.00014599, -0.00014514, -0.00035662, ..., -0.00032847,\n",
       "         0.00659333,  0.00658031]])"
      ]
     },
     "execution_count": 20,
     "metadata": {},
     "output_type": "execute_result"
    }
   ],
   "source": [
    "cov_matrix"
   ]
  },
  {
   "cell_type": "markdown",
   "metadata": {},
   "source": [
    "We check that our covariance matrix has the shape of M x M, where M is the number of tags."
   ]
  },
  {
   "cell_type": "code",
   "execution_count": 21,
   "metadata": {},
   "outputs": [
    {
     "data": {
      "text/plain": [
       "(1128, 1128)"
      ]
     },
     "execution_count": 21,
     "metadata": {},
     "output_type": "execute_result"
    }
   ],
   "source": [
    "cov_matrix.shape"
   ]
  },
  {
   "cell_type": "markdown",
   "metadata": {},
   "source": [
    "Now, we compute the eigenvalues of the covariance matrix we just computed.\n",
    "\n",
    "The eigenvalues will tell us how the eigenvectors keep the variance from the original data."
   ]
  },
  {
   "cell_type": "code",
   "execution_count": 22,
   "metadata": {},
   "outputs": [
    {
     "data": {
      "text/plain": [
       "array([5.49031633e-05, 7.85936871e-05, 1.21317789e-04, ...,\n",
       "       9.96051519e-01, 1.22147104e+00, 2.75337748e+00])"
      ]
     },
     "execution_count": 22,
     "metadata": {},
     "output_type": "execute_result"
    }
   ],
   "source": [
    "eig_val,eig_vect = np.linalg.eigh(cov_matrix)\n",
    "eig_val"
   ]
  },
  {
   "cell_type": "code",
   "execution_count": 23,
   "metadata": {},
   "outputs": [],
   "source": [
    "idxs = np.argsort(eig_val)[::-1]    # eigenvalues index sorted by value (desc.)\n",
    "eig_val_sort = eig_val[idxs]        # we take the eigenvalues sorted"
   ]
  },
  {
   "cell_type": "code",
   "execution_count": 24,
   "metadata": {
    "scrolled": false
   },
   "outputs": [
    {
     "data": {
      "text/plain": [
       "Text(0, 0.5, 'eigenvalue')"
      ]
     },
     "execution_count": 24,
     "metadata": {},
     "output_type": "execute_result"
    },
    {
     "data": {
      "image/png": "[encoded data removed]",
      "text/plain": [
       "<Figure size 864x432 with 1 Axes>"
      ]
     },
     "metadata": {},
     "output_type": "display_data"
    }
   ],
   "source": [
    "plt.figure(figsize=(12,6))\n",
    "plt.plot(eig_val,color='tab:blue')\n",
    "plt.title('Eigenvalues of the Covariance Matrix')\n",
    "plt.xticks(range(0,1200,50))\n",
    "plt.xlabel('Tags in Cov. Mat.'); plt.ylabel('eigenvalue')"
   ]
  },
  {
   "cell_type": "markdown",
   "metadata": {},
   "source": [
    "The eigenvalues of the covariance matrix encode the variability of the data in an orthogonal basis. The corresponding eigenvectors represents a principal direction, and as higher is the eigenvalue of the eigenvector it will keep more variance from the original data in the new low-dimensional space. \n",
    "\n",
    "The whole set of eigenvectors keep all the original variance but we would not reduce the dimensional space, so we are interested in take a X set of eigenvectors that keep a certain % of the original variance..\n",
    "\n",
    "Let's see how many directions (eigenvectors) we need to keep the 66% of the original variance."
   ]
  },
  {
   "cell_type": "code",
   "execution_count": 25,
   "metadata": {},
   "outputs": [
    {
     "data": {
      "text/plain": [
       "37"
      ]
     },
     "execution_count": 25,
     "metadata": {},
     "output_type": "execute_result"
    }
   ],
   "source": [
    "# Capturing 2/3 of the variability\n",
    "Sum= eig_val_sort.sum()\n",
    "treshold = 2/3\n",
    "nbDirections = 0\n",
    "pourcentage = 0\n",
    "for v in eig_val_sort:\n",
    "    nbDirections += 1\n",
    "    pourcentage += v/Sum\n",
    "    if(pourcentage >= treshold) : break\n",
    "nbDirections"
   ]
  },
  {
   "cell_type": "markdown",
   "metadata": {},
   "source": [
    "We can observed that only the first few eigen values represent almost all the data. \n",
    "Therefore in this case, dimensional reduction is very efficient."
   ]
  },
  {
   "cell_type": "markdown",
   "metadata": {},
   "source": [
    "We can capture $\\frac{2}{3}$ of the variability in the data with 37 directions. So we would pass from 1128 dimensions to 37 dimensions keeping a lot of the original variance."
   ]
  },
  {
   "cell_type": "markdown",
   "metadata": {},
   "source": [
    "### Concept Space\n",
    "#### Exercise 3.2."
   ]
  },
  {
   "cell_type": "markdown",
   "metadata": {},
   "source": [
    "The first 5 principal dimensions are the ones with the highest eigenvalues that we previous computed."
   ]
  },
  {
   "cell_type": "code",
   "execution_count": 26,
   "metadata": {},
   "outputs": [
    {
     "data": {
      "text/plain": [
       "(5, 1128)"
      ]
     },
     "execution_count": 26,
     "metadata": {},
     "output_type": "execute_result"
    }
   ],
   "source": [
    "prin_dim_5 = eig_vect[idxs[:5]]\n",
    "prin_dim_5.shape"
   ]
  },
  {
   "cell_type": "markdown",
   "metadata": {},
   "source": [
    "Now we save into a dictionary the coordinates of every tag in the new 5 first principal directions.\n",
    "\n",
    "In order to do that, we take our new 5 principal directions and we need to transpose this matrix to have in each row the tag coordenates in the 5 principal directions."
   ]
  },
  {
   "cell_type": "code",
   "execution_count": 27,
   "metadata": {},
   "outputs": [
    {
     "data": {
      "text/plain": [
       "(1128, 5)"
      ]
     },
     "execution_count": 27,
     "metadata": {},
     "output_type": "execute_result"
    }
   ],
   "source": [
    "tags_in_5pca = prin_dim_5.T\n",
    "tags_in_5pca.shape"
   ]
  },
  {
   "cell_type": "markdown",
   "metadata": {},
   "source": [
    "We can already create our dictionary with the tag name as key and the tag low-dimensional space coordinates as value."
   ]
  },
  {
   "cell_type": "code",
   "execution_count": 28,
   "metadata": {},
   "outputs": [],
   "source": [
    "tag_coord = { tag2name[tagKey] : tags_in_5pca[tagKey-1] for tagKey in tag2name.keys()}"
   ]
  },
  {
   "cell_type": "code",
   "execution_count": 29,
   "metadata": {},
   "outputs": [
    {
     "data": {
      "text/plain": [
       "array([-2.16084094e-02,  1.23459852e-02,  2.05074518e-05, -1.07305363e-02,\n",
       "       -2.23081370e-02])"
      ]
     },
     "execution_count": 29,
     "metadata": {},
     "output_type": "execute_result"
    }
   ],
   "source": [
    "# for example\n",
    "tag_coord['comedy']"
   ]
  },
  {
   "cell_type": "markdown",
   "metadata": {},
   "source": [
    "Now, we find the 10 tags that have the highest and lowest coordinates in the 5 first principal directions.\n",
    "\n",
    "First, we take the maximum tag for each of the 5 principal directions:"
   ]
  },
  {
   "cell_type": "code",
   "execution_count": 31,
   "metadata": {},
   "outputs": [
    {
     "name": "stdout",
     "output_type": "stream",
     "text": [
      "The tags with the highest coordinates in each principal direction are:\n",
      "Principal Direction: 1 -> assassins\n",
      "Principal Direction: 2 -> arnold\n",
      "Principal Direction: 3 -> bad acting\n",
      "Principal Direction: 4 -> con artists\n",
      "Principal Direction: 5 -> crude humor\n"
     ]
    }
   ],
   "source": [
    "print('The tags with the highest coordinates in each principal direction are:')\n",
    "indMax = np.argmax(tags_in_5pca,axis=0)\n",
    "for i,tag in enumerate(indMax):\n",
    "    print(f'Principal Direction: {i+1} -> {tag2name[tag]}')"
   ]
  },
  {
   "cell_type": "code",
   "execution_count": 32,
   "metadata": {
    "scrolled": true
   },
   "outputs": [
    {
     "name": "stdout",
     "output_type": "stream",
     "text": [
      "The tags with the lowest coordinates in each principal direction are:\n",
      "Principal Direction: 1 -> arnold\n",
      "Principal Direction: 2 -> assassins\n",
      "Principal Direction: 3 -> artsy\n",
      "Principal Direction: 4 -> college\n",
      "Principal Direction: 5 -> dialogue\n"
     ]
    }
   ],
   "source": [
    "print('The tags with the lowest coordinates in each principal direction are:')\n",
    "indMin = np.argmin(tags_in_5pca,axis=0)\n",
    "for i,tag in enumerate(indMin):\n",
    "    print(f'Principal Direction: {i+1} -> {tag2name[tag]}')"
   ]
  },
  {
   "cell_type": "markdown",
   "metadata": {},
   "source": [
    "The results make sense because, for example we have that in the 3rd principal direction, 'bad acting' and 'artsy' are the maximum and minimum respectively in that direction, and they are opposite concepts. We also have a similar example in the 5th Principal Direction with 'crude humor' and 'dialogue', that although they are not opposite concepts, they are intuitively different and independent. "
   ]
  },
  {
   "cell_type": "code",
   "execution_count": 33,
   "metadata": {},
   "outputs": [],
   "source": [
    "with open(\"tag-coordinates.pickle\", \"wb\") as f:\n",
    "    pickle.dump(tag_coord, f)"
   ]
  },
  {
   "cell_type": "markdown",
   "metadata": {},
   "source": [
    "### Movie Visualization\n",
    "#### Exercise 3.3."
   ]
  },
  {
   "cell_type": "markdown",
   "metadata": {},
   "source": [
    "We proceed to visualize some selected movies on the first two principal dimensions.\n",
    "\n",
    "First, we import the file with the selected movies."
   ]
  },
  {
   "cell_type": "code",
   "execution_count": 34,
   "metadata": {
    "scrolled": true
   },
   "outputs": [],
   "source": [
    "with open(\"selected-movies.pickle\", \"rb\") as f:\n",
    "    movies = pickle.load(f, encoding=\"utf-8\")"
   ]
  },
  {
   "cell_type": "markdown",
   "metadata": {},
   "source": [
    "Second, we take the two principal dimensions:"
   ]
  },
  {
   "cell_type": "code",
   "execution_count": 35,
   "metadata": {},
   "outputs": [
    {
     "data": {
      "text/plain": [
       "(2, 1128)"
      ]
     },
     "execution_count": 35,
     "metadata": {},
     "output_type": "execute_result"
    }
   ],
   "source": [
    "prin_dim_2 = eig_vect[idxs[:2]]\n",
    "prin_dim_2.shape"
   ]
  },
  {
   "cell_type": "markdown",
   "metadata": {},
   "source": [
    "Now to visualize the selected movies into the low-dimensional space we need to project them into it. "
   ]
  },
  {
   "cell_type": "code",
   "execution_count": 36,
   "metadata": {},
   "outputs": [
    {
     "data": {
      "text/plain": [
       "array([   780,   5349,   2571,    318,   2329,   5147,  55444,  32296,\n",
       "        43930,   4658,   6774,   3967, 114028,    480,    260,   4700,\n",
       "          527,   2959,   6132,   2858,   6016,  94018,   5687,   1240,\n",
       "       111759,    356,  81845,   2324,   5163,   7235,   1199,  48043,\n",
       "         4465,    805,  74545,  54503,   2706])"
      ]
     },
     "execution_count": 36,
     "metadata": {},
     "output_type": "execute_result"
    }
   ],
   "source": [
    "sel_movies_id = np.array(movies)[:,0].astype(int)\n",
    "sel_movies_id"
   ]
  },
  {
   "cell_type": "code",
   "execution_count": 37,
   "metadata": {},
   "outputs": [
    {
     "data": {
      "text/html": [
       "<div>\n",
       "<style scoped>\n",
       "    .dataframe tbody tr th:only-of-type {\n",
       "        vertical-align: middle;\n",
       "    }\n",
       "\n",
       "    .dataframe tbody tr th {\n",
       "        vertical-align: top;\n",
       "    }\n",
       "\n",
       "    .dataframe thead th {\n",
       "        text-align: right;\n",
       "    }\n",
       "</style>\n",
       "<table border=\"1\" class=\"dataframe\">\n",
       "  <thead>\n",
       "    <tr style=\"text-align: right;\">\n",
       "      <th></th>\n",
       "      <th>780.0</th>\n",
       "      <th>5349.0</th>\n",
       "      <th>2571.0</th>\n",
       "      <th>318.0</th>\n",
       "      <th>2329.0</th>\n",
       "      <th>5147.0</th>\n",
       "      <th>55444.0</th>\n",
       "      <th>32296.0</th>\n",
       "      <th>43930.0</th>\n",
       "      <th>4658.0</th>\n",
       "      <th>...</th>\n",
       "      <th>2324.0</th>\n",
       "      <th>5163.0</th>\n",
       "      <th>7235.0</th>\n",
       "      <th>1199.0</th>\n",
       "      <th>48043.0</th>\n",
       "      <th>4465.0</th>\n",
       "      <th>805.0</th>\n",
       "      <th>74545.0</th>\n",
       "      <th>54503.0</th>\n",
       "      <th>2706.0</th>\n",
       "    </tr>\n",
       "  </thead>\n",
       "  <tbody>\n",
       "    <tr>\n",
       "      <th>1.0</th>\n",
       "      <td>0.06625</td>\n",
       "      <td>0.04850</td>\n",
       "      <td>0.03125</td>\n",
       "      <td>0.02400</td>\n",
       "      <td>0.02625</td>\n",
       "      <td>0.01375</td>\n",
       "      <td>0.02425</td>\n",
       "      <td>0.06650</td>\n",
       "      <td>0.02000</td>\n",
       "      <td>0.01750</td>\n",
       "      <td>...</td>\n",
       "      <td>0.03250</td>\n",
       "      <td>0.02500</td>\n",
       "      <td>0.02625</td>\n",
       "      <td>0.02075</td>\n",
       "      <td>0.02525</td>\n",
       "      <td>0.03275</td>\n",
       "      <td>0.04025</td>\n",
       "      <td>0.14400</td>\n",
       "      <td>0.03250</td>\n",
       "      <td>0.11900</td>\n",
       "    </tr>\n",
       "    <tr>\n",
       "      <th>2.0</th>\n",
       "      <td>0.06825</td>\n",
       "      <td>0.04125</td>\n",
       "      <td>0.03075</td>\n",
       "      <td>0.02150</td>\n",
       "      <td>0.02300</td>\n",
       "      <td>0.01525</td>\n",
       "      <td>0.02225</td>\n",
       "      <td>0.06575</td>\n",
       "      <td>0.02075</td>\n",
       "      <td>0.01850</td>\n",
       "      <td>...</td>\n",
       "      <td>0.02350</td>\n",
       "      <td>0.02825</td>\n",
       "      <td>0.02350</td>\n",
       "      <td>0.01950</td>\n",
       "      <td>0.02150</td>\n",
       "      <td>0.03550</td>\n",
       "      <td>0.04025</td>\n",
       "      <td>0.03175</td>\n",
       "      <td>0.02950</td>\n",
       "      <td>0.05125</td>\n",
       "    </tr>\n",
       "    <tr>\n",
       "      <th>3.0</th>\n",
       "      <td>0.02650</td>\n",
       "      <td>0.03800</td>\n",
       "      <td>0.03700</td>\n",
       "      <td>0.07425</td>\n",
       "      <td>0.02050</td>\n",
       "      <td>0.04075</td>\n",
       "      <td>0.06125</td>\n",
       "      <td>0.02650</td>\n",
       "      <td>0.02025</td>\n",
       "      <td>0.02325</td>\n",
       "      <td>...</td>\n",
       "      <td>0.07925</td>\n",
       "      <td>0.01525</td>\n",
       "      <td>0.02675</td>\n",
       "      <td>0.14175</td>\n",
       "      <td>0.06025</td>\n",
       "      <td>0.05800</td>\n",
       "      <td>0.02850</td>\n",
       "      <td>0.10075</td>\n",
       "      <td>0.01650</td>\n",
       "      <td>0.02075</td>\n",
       "    </tr>\n",
       "    <tr>\n",
       "      <th>4.0</th>\n",
       "      <td>0.04100</td>\n",
       "      <td>0.07325</td>\n",
       "      <td>0.10225</td>\n",
       "      <td>0.14475</td>\n",
       "      <td>0.04675</td>\n",
       "      <td>0.13875</td>\n",
       "      <td>0.16475</td>\n",
       "      <td>0.02350</td>\n",
       "      <td>0.02475</td>\n",
       "      <td>0.07250</td>\n",
       "      <td>...</td>\n",
       "      <td>0.12275</td>\n",
       "      <td>0.06300</td>\n",
       "      <td>0.03675</td>\n",
       "      <td>0.19750</td>\n",
       "      <td>0.11200</td>\n",
       "      <td>0.03500</td>\n",
       "      <td>0.02475</td>\n",
       "      <td>0.07125</td>\n",
       "      <td>0.03950</td>\n",
       "      <td>0.03450</td>\n",
       "    </tr>\n",
       "    <tr>\n",
       "      <th>5.0</th>\n",
       "      <td>0.06425</td>\n",
       "      <td>0.12525</td>\n",
       "      <td>0.10700</td>\n",
       "      <td>0.26675</td>\n",
       "      <td>0.18975</td>\n",
       "      <td>0.10275</td>\n",
       "      <td>0.11850</td>\n",
       "      <td>0.04600</td>\n",
       "      <td>0.03225</td>\n",
       "      <td>0.07675</td>\n",
       "      <td>...</td>\n",
       "      <td>0.36600</td>\n",
       "      <td>0.04175</td>\n",
       "      <td>0.04425</td>\n",
       "      <td>0.14825</td>\n",
       "      <td>0.05250</td>\n",
       "      <td>0.13625</td>\n",
       "      <td>0.07725</td>\n",
       "      <td>0.10625</td>\n",
       "      <td>0.06350</td>\n",
       "      <td>0.07425</td>\n",
       "    </tr>\n",
       "    <tr>\n",
       "      <th>...</th>\n",
       "      <td>...</td>\n",
       "      <td>...</td>\n",
       "      <td>...</td>\n",
       "      <td>...</td>\n",
       "      <td>...</td>\n",
       "      <td>...</td>\n",
       "      <td>...</td>\n",
       "      <td>...</td>\n",
       "      <td>...</td>\n",
       "      <td>...</td>\n",
       "      <td>...</td>\n",
       "      <td>...</td>\n",
       "      <td>...</td>\n",
       "      <td>...</td>\n",
       "      <td>...</td>\n",
       "      <td>...</td>\n",
       "      <td>...</td>\n",
       "      <td>...</td>\n",
       "      <td>...</td>\n",
       "      <td>...</td>\n",
       "      <td>...</td>\n",
       "    </tr>\n",
       "    <tr>\n",
       "      <th>1124.0</th>\n",
       "      <td>0.08175</td>\n",
       "      <td>0.07725</td>\n",
       "      <td>0.09975</td>\n",
       "      <td>0.18200</td>\n",
       "      <td>0.16025</td>\n",
       "      <td>0.16275</td>\n",
       "      <td>0.23700</td>\n",
       "      <td>0.05050</td>\n",
       "      <td>0.07825</td>\n",
       "      <td>0.04800</td>\n",
       "      <td>...</td>\n",
       "      <td>0.09100</td>\n",
       "      <td>0.01575</td>\n",
       "      <td>0.06750</td>\n",
       "      <td>0.15750</td>\n",
       "      <td>0.20500</td>\n",
       "      <td>0.07675</td>\n",
       "      <td>0.06200</td>\n",
       "      <td>0.33100</td>\n",
       "      <td>0.23775</td>\n",
       "      <td>0.06800</td>\n",
       "    </tr>\n",
       "    <tr>\n",
       "      <th>1125.0</th>\n",
       "      <td>0.02175</td>\n",
       "      <td>0.03325</td>\n",
       "      <td>0.18675</td>\n",
       "      <td>0.04225</td>\n",
       "      <td>0.02775</td>\n",
       "      <td>0.11100</td>\n",
       "      <td>0.03700</td>\n",
       "      <td>0.01525</td>\n",
       "      <td>0.01175</td>\n",
       "      <td>0.12750</td>\n",
       "      <td>...</td>\n",
       "      <td>0.05175</td>\n",
       "      <td>0.05375</td>\n",
       "      <td>0.04800</td>\n",
       "      <td>0.12075</td>\n",
       "      <td>0.12525</td>\n",
       "      <td>0.02325</td>\n",
       "      <td>0.01250</td>\n",
       "      <td>0.02475</td>\n",
       "      <td>0.03075</td>\n",
       "      <td>0.02150</td>\n",
       "    </tr>\n",
       "    <tr>\n",
       "      <th>1126.0</th>\n",
       "      <td>0.06475</td>\n",
       "      <td>0.01700</td>\n",
       "      <td>0.02325</td>\n",
       "      <td>0.10250</td>\n",
       "      <td>0.11825</td>\n",
       "      <td>0.01300</td>\n",
       "      <td>0.02125</td>\n",
       "      <td>0.00475</td>\n",
       "      <td>0.00500</td>\n",
       "      <td>0.00775</td>\n",
       "      <td>...</td>\n",
       "      <td>0.89650</td>\n",
       "      <td>0.00550</td>\n",
       "      <td>0.01050</td>\n",
       "      <td>0.01275</td>\n",
       "      <td>0.01250</td>\n",
       "      <td>0.03175</td>\n",
       "      <td>0.02600</td>\n",
       "      <td>0.01850</td>\n",
       "      <td>0.01975</td>\n",
       "      <td>0.02825</td>\n",
       "    </tr>\n",
       "    <tr>\n",
       "      <th>1127.0</th>\n",
       "      <td>0.14125</td>\n",
       "      <td>0.20725</td>\n",
       "      <td>0.09175</td>\n",
       "      <td>0.08975</td>\n",
       "      <td>0.10750</td>\n",
       "      <td>0.07975</td>\n",
       "      <td>0.09525</td>\n",
       "      <td>0.04375</td>\n",
       "      <td>0.05875</td>\n",
       "      <td>0.16750</td>\n",
       "      <td>...</td>\n",
       "      <td>0.11250</td>\n",
       "      <td>0.60450</td>\n",
       "      <td>0.20500</td>\n",
       "      <td>0.05150</td>\n",
       "      <td>0.04825</td>\n",
       "      <td>0.08925</td>\n",
       "      <td>0.06675</td>\n",
       "      <td>0.05875</td>\n",
       "      <td>0.04875</td>\n",
       "      <td>0.08275</td>\n",
       "    </tr>\n",
       "    <tr>\n",
       "      <th>1128.0</th>\n",
       "      <td>0.02525</td>\n",
       "      <td>0.03475</td>\n",
       "      <td>0.02750</td>\n",
       "      <td>0.02900</td>\n",
       "      <td>0.02825</td>\n",
       "      <td>0.02225</td>\n",
       "      <td>0.02300</td>\n",
       "      <td>0.00975</td>\n",
       "      <td>0.01125</td>\n",
       "      <td>0.02300</td>\n",
       "      <td>...</td>\n",
       "      <td>0.03350</td>\n",
       "      <td>0.05725</td>\n",
       "      <td>0.03525</td>\n",
       "      <td>0.01650</td>\n",
       "      <td>0.01325</td>\n",
       "      <td>0.02150</td>\n",
       "      <td>0.02000</td>\n",
       "      <td>0.01650</td>\n",
       "      <td>0.01725</td>\n",
       "      <td>0.01925</td>\n",
       "    </tr>\n",
       "  </tbody>\n",
       "</table>\n",
       "<p>1128 rows × 37 columns</p>\n",
       "</div>"
      ],
      "text/plain": [
       "        780.0    5349.0   2571.0   318.0    2329.0   5147.0   55444.0  \\\n",
       "1.0     0.06625  0.04850  0.03125  0.02400  0.02625  0.01375  0.02425   \n",
       "2.0     0.06825  0.04125  0.03075  0.02150  0.02300  0.01525  0.02225   \n",
       "3.0     0.02650  0.03800  0.03700  0.07425  0.02050  0.04075  0.06125   \n",
       "4.0     0.04100  0.07325  0.10225  0.14475  0.04675  0.13875  0.16475   \n",
       "5.0     0.06425  0.12525  0.10700  0.26675  0.18975  0.10275  0.11850   \n",
       "...         ...      ...      ...      ...      ...      ...      ...   \n",
       "1124.0  0.08175  0.07725  0.09975  0.18200  0.16025  0.16275  0.23700   \n",
       "1125.0  0.02175  0.03325  0.18675  0.04225  0.02775  0.11100  0.03700   \n",
       "1126.0  0.06475  0.01700  0.02325  0.10250  0.11825  0.01300  0.02125   \n",
       "1127.0  0.14125  0.20725  0.09175  0.08975  0.10750  0.07975  0.09525   \n",
       "1128.0  0.02525  0.03475  0.02750  0.02900  0.02825  0.02225  0.02300   \n",
       "\n",
       "        32296.0  43930.0  4658.0   ...  2324.0   5163.0   7235.0   1199.0   \\\n",
       "1.0     0.06650  0.02000  0.01750  ...  0.03250  0.02500  0.02625  0.02075   \n",
       "2.0     0.06575  0.02075  0.01850  ...  0.02350  0.02825  0.02350  0.01950   \n",
       "3.0     0.02650  0.02025  0.02325  ...  0.07925  0.01525  0.02675  0.14175   \n",
       "4.0     0.02350  0.02475  0.07250  ...  0.12275  0.06300  0.03675  0.19750   \n",
       "5.0     0.04600  0.03225  0.07675  ...  0.36600  0.04175  0.04425  0.14825   \n",
       "...         ...      ...      ...  ...      ...      ...      ...      ...   \n",
       "1124.0  0.05050  0.07825  0.04800  ...  0.09100  0.01575  0.06750  0.15750   \n",
       "1125.0  0.01525  0.01175  0.12750  ...  0.05175  0.05375  0.04800  0.12075   \n",
       "1126.0  0.00475  0.00500  0.00775  ...  0.89650  0.00550  0.01050  0.01275   \n",
       "1127.0  0.04375  0.05875  0.16750  ...  0.11250  0.60450  0.20500  0.05150   \n",
       "1128.0  0.00975  0.01125  0.02300  ...  0.03350  0.05725  0.03525  0.01650   \n",
       "\n",
       "        48043.0  4465.0   805.0    74545.0  54503.0  2706.0   \n",
       "1.0     0.02525  0.03275  0.04025  0.14400  0.03250  0.11900  \n",
       "2.0     0.02150  0.03550  0.04025  0.03175  0.02950  0.05125  \n",
       "3.0     0.06025  0.05800  0.02850  0.10075  0.01650  0.02075  \n",
       "4.0     0.11200  0.03500  0.02475  0.07125  0.03950  0.03450  \n",
       "5.0     0.05250  0.13625  0.07725  0.10625  0.06350  0.07425  \n",
       "...         ...      ...      ...      ...      ...      ...  \n",
       "1124.0  0.20500  0.07675  0.06200  0.33100  0.23775  0.06800  \n",
       "1125.0  0.12525  0.02325  0.01250  0.02475  0.03075  0.02150  \n",
       "1126.0  0.01250  0.03175  0.02600  0.01850  0.01975  0.02825  \n",
       "1127.0  0.04825  0.08925  0.06675  0.05875  0.04875  0.08275  \n",
       "1128.0  0.01325  0.02150  0.02000  0.01650  0.01725  0.01925  \n",
       "\n",
       "[1128 rows x 37 columns]"
      ]
     },
     "execution_count": 37,
     "metadata": {},
     "output_type": "execute_result"
    }
   ],
   "source": [
    "# we select data of the selected movies\n",
    "rele_selMovies = relevances_df[sel_movies_id].to_numpy()\n",
    "relevances_df[sel_movies_id]"
   ]
  },
  {
   "cell_type": "code",
   "execution_count": 38,
   "metadata": {},
   "outputs": [
    {
     "data": {
      "text/plain": [
       "(1128, 37)"
      ]
     },
     "execution_count": 38,
     "metadata": {},
     "output_type": "execute_result"
    }
   ],
   "source": [
    "rele_selMovies.shape"
   ]
  },
  {
   "cell_type": "markdown",
   "metadata": {},
   "source": [
    "Now, we can project the selected data into the new low-dimensional space."
   ]
  },
  {
   "cell_type": "code",
   "execution_count": 39,
   "metadata": {},
   "outputs": [],
   "source": [
    "proj2PCA = prin_dim_2 @ rele_selMovies"
   ]
  },
  {
   "cell_type": "code",
   "execution_count": 40,
   "metadata": {},
   "outputs": [
    {
     "data": {
      "text/plain": [
       "(37, 2)"
      ]
     },
     "execution_count": 40,
     "metadata": {},
     "output_type": "execute_result"
    }
   ],
   "source": [
    "proj2PCA= proj2PCA.T\n",
    "proj2PCA.shape"
   ]
  },
  {
   "cell_type": "markdown",
   "metadata": {},
   "source": [
    "These are the selected movies represented in a 2-dimensional space."
   ]
  },
  {
   "cell_type": "code",
   "execution_count": 41,
   "metadata": {},
   "outputs": [
    {
     "data": {
      "text/html": [
       "\n",
       "\n",
       "\n",
       "\n",
       "\n",
       "\n",
       "  <div class=\"bk-root\" id=\"2ee7cb44-5a13-4aae-a449-fe97cb51d8c6\" data-root-id=\"1008\"></div>\n"
      ]
     },
     "metadata": {},
     "output_type": "display_data"
    },
    {
     "data": {
      "application/javascript": [
       "(function(root) {\n",
       "  function embed_document(root) {\n",
       "    \n",
       "  var docs_json = {\"3d54d668-2d2b-42e6-9cb8-fd7537169f59\":{\"roots\":{\"references\":[{\"attributes\":{\"below\":[{\"id\":\"1019\",\"type\":\"LinearAxis\"}],\"center\":[{\"id\":\"1023\",\"type\":\"Grid\"},{\"id\":\"1028\",\"type\":\"Grid\"}],\"left\":[{\"id\":\"1024\",\"type\":\"LinearAxis\"}],\"plot_height\":360,\"plot_width\":960,\"renderers\":[{\"id\":\"1038\",\"type\":\"GlyphRenderer\"}],\"title\":{\"id\":\"1009\",\"type\":\"Title\"},\"toolbar\":{\"id\":\"1029\",\"type\":\"Toolbar\"},\"x_range\":{\"id\":\"1011\",\"type\":\"DataRange1d\"},\"x_scale\":{\"id\":\"1015\",\"type\":\"LinearScale\"},\"y_range\":{\"id\":\"1013\",\"type\":\"DataRange1d\"},\"y_scale\":{\"id\":\"1017\",\"type\":\"LinearScale\"}},\"id\":\"1008\",\"subtype\":\"Figure\",\"type\":\"Plot\"},{\"attributes\":{\"callback\":null,\"tooltips\":[[\"Name\",\"@name\"]]},\"id\":\"1003\",\"type\":\"HoverTool\"},{\"attributes\":{\"fill_alpha\":{\"value\":0.5},\"fill_color\":{\"field\":\"color\"},\"line_alpha\":{\"value\":0.5},\"line_color\":{\"field\":\"color\"},\"size\":{\"units\":\"screen\",\"value\":20},\"x\":{\"field\":\"x\"},\"y\":{\"field\":\"y\"}},\"id\":\"1036\",\"type\":\"Circle\"},{\"attributes\":{\"callback\":null},\"id\":\"1011\",\"type\":\"DataRange1d\"},{\"attributes\":{\"callback\":null,\"data\":{\"color\":[\"#22a884\",\"#b5de2b\",\"#a8db34\",\"#c2df23\",\"#8ed645\",\"#dfe318\",\"#a8db34\",\"#463480\",\"#472e7c\",\"#9bd93c\",\"#6ece58\",\"#9bd93c\",\"#cae11f\",\"#d2e21b\",\"#d2e21b\",\"#23898e\",\"#e5e419\",\"#75d054\",\"#443a83\",\"#b0dd2f\",\"#bddf26\",\"#306a8e\",\"#81d34d\",\"#fde725\",\"#c2df23\",\"#4ec36b\",\"#dfe318\",\"#7ad151\",\"#3bbb75\",\"#2cb17e\",\"#f1e51d\",\"#20928c\",\"#dfe318\",\"#37b878\",\"#8ed645\",\"#b0dd2f\",\"#22a884\"],\"name\":[\"Independence Day (a.k.a. ID4) (1996)\",\"Spider-Man (2002)\",\"Matrix, The (1999)\",\"Shawshank Redemption, The (1994)\",\"American History X (1998)\",\"Wild Strawberries (Smultronst\\u00e4llet) (1957)\",\"Control (2007)\",\"Miss Congeniality 2: Armed and Fabulous (2005)\",\"Just My Luck (2006)\",\"Santa Sangre (1989)\",\"Videodrome (1983)\",\"Billy Elliot (2000)\",\"Pride (2014)\",\"Jurassic Park (1993)\",\"Star Wars: Episode IV - A New Hope (1977)\",\"Princess Diaries, The (2001)\",\"Schindler's List (1993)\",\"Fight Club (1999)\",\"New York Ripper, The (Squartatore di New York, Lo) (1982)\",\"American Beauty (1999)\",\"City of God (Cidade de Deus) (2002)\",\"Battleship (2012)\",\"Take Care of My Cat (Goyangileul butaghae) (2001)\",\"Terminator, The (1984)\",\"Edge of Tomorrow (2014)\",\"Forrest Gump (1994)\",\"King's Speech, The (2010)\",\"Life Is Beautiful (La Vita \\u00e8 bella) (1997)\",\"Stage Fright (Deliria) (1987)\",\"Ichi the Killer (Koroshiya 1) (2001)\",\"Brazil (1985)\",\"Fountain, The (2006)\",\"Accused, The (1988)\",\"Time to Kill, A (1996)\",\"Ghost Writer, The (2010)\",\"Superbad (2007)\",\"American Pie (1999)\"],\"x\":{\"__ndarray__\":\"1fHBqfZs0r+AFrP25JBmP2P86GG3l7q/pKJbZ3FFyr/6x56WqK+2v7iQWoX0p5Y/f9C87ks1kj9Lh3uyT2yePw0Aybl9c82/oCCXEARs1D8GNJlJPyStPxt5SoltLbA/MIP9IubbvD+vYCsYGfDHvyO5K5AeWsC/8lAFIkkqyb9IVz4a8I2xv7hLrhh/wcQ/QLo0nqVOvT/QlWu2XvS5P2rx+dH8hr8/wQy1F/aWwb8AGTrgH3VYv52iGoZk4ce/2jBU9W/Nwb+sLvaipmfBvxz1QevMB6E/1qt/y4Q8yb9023HovCXUP7x0EzpkmdE/LUx4o42kwD/Ny6K+A1XNP354bMVIfrq/IHZt/mWhwL90raFfowSsv93d+uNqMKC/YQdPIA0jtb8=\",\"dtype\":\"float64\",\"shape\":[37]},\"y\":{\"__ndarray__\":\"ZzC4lt6c3b9nMH5510LGvyM3+OFSxtC/TR5EXtcU2b+OKpSA4VXQv46kjV/nr8M/JeyAp3B0sj92lOM3cWd/P5PKmjrnIbA/lDP0JMcyrj+gpio38U2NP76ei/TOVbq/nOF7R53DuL+169Zl++e9v1bjc/58edS/JEaXR6w3pz/hh0ZKW3nSv07XPUz6Wci/fwJzY9bD1b84gGLS0FWJv0h7SJ4UXYa/w/I/7zKcur+etYAHfzzFP3k+hQ6cpNi/OmYZOF8m2L/i7wKN1NzLvxDnlBYqwam/1J3mxNv8179iuqIWs5LKv1D1P9Ye3pM/gEzx6389i79sxhatFi6hv/Dab+a4E4I/TFlW1DBrq7/Il4Hd9H3Gv3wVsB6YcXk/Oe115B76tL8=\",\"dtype\":\"float64\",\"shape\":[37]}},\"selected\":{\"id\":\"1046\",\"type\":\"Selection\"},\"selection_policy\":{\"id\":\"1045\",\"type\":\"UnionRenderers\"}},\"id\":\"1002\",\"type\":\"ColumnDataSource\"},{\"attributes\":{},\"id\":\"1015\",\"type\":\"LinearScale\"},{\"attributes\":{},\"id\":\"1017\",\"type\":\"LinearScale\"},{\"attributes\":{\"formatter\":{\"id\":\"1041\",\"type\":\"BasicTickFormatter\"},\"ticker\":{\"id\":\"1020\",\"type\":\"BasicTicker\"}},\"id\":\"1019\",\"type\":\"LinearAxis\"},{\"attributes\":{},\"id\":\"1006\",\"type\":\"WheelZoomTool\"},{\"attributes\":{},\"id\":\"1025\",\"type\":\"BasicTicker\"},{\"attributes\":{},\"id\":\"1020\",\"type\":\"BasicTicker\"},{\"attributes\":{},\"id\":\"1045\",\"type\":\"UnionRenderers\"},{\"attributes\":{\"ticker\":{\"id\":\"1020\",\"type\":\"BasicTicker\"}},\"id\":\"1023\",\"type\":\"Grid\"},{\"attributes\":{},\"id\":\"1043\",\"type\":\"BasicTickFormatter\"},{\"attributes\":{},\"id\":\"1007\",\"type\":\"SaveTool\"},{\"attributes\":{\"dimension\":1,\"ticker\":{\"id\":\"1025\",\"type\":\"BasicTicker\"}},\"id\":\"1028\",\"type\":\"Grid\"},{\"attributes\":{\"formatter\":{\"id\":\"1043\",\"type\":\"BasicTickFormatter\"},\"ticker\":{\"id\":\"1025\",\"type\":\"BasicTicker\"}},\"id\":\"1024\",\"type\":\"LinearAxis\"},{\"attributes\":{\"active_drag\":\"auto\",\"active_inspect\":\"auto\",\"active_multi\":null,\"active_scroll\":\"auto\",\"active_tap\":\"auto\",\"tools\":[{\"id\":\"1003\",\"type\":\"HoverTool\"},{\"id\":\"1004\",\"type\":\"ResetTool\"},{\"id\":\"1005\",\"type\":\"PanTool\"},{\"id\":\"1006\",\"type\":\"WheelZoomTool\"},{\"id\":\"1007\",\"type\":\"SaveTool\"}]},\"id\":\"1029\",\"type\":\"Toolbar\"},{\"attributes\":{\"text\":\"Movies\"},\"id\":\"1009\",\"type\":\"Title\"},{\"attributes\":{\"data_source\":{\"id\":\"1002\",\"type\":\"ColumnDataSource\"},\"glyph\":{\"id\":\"1036\",\"type\":\"Circle\"},\"hover_glyph\":null,\"muted_glyph\":null,\"nonselection_glyph\":{\"id\":\"1037\",\"type\":\"Circle\"},\"selection_glyph\":null,\"view\":{\"id\":\"1039\",\"type\":\"CDSView\"}},\"id\":\"1038\",\"type\":\"GlyphRenderer\"},{\"attributes\":{\"fill_alpha\":{\"value\":0.1},\"fill_color\":{\"value\":\"#1f77b4\"},\"line_alpha\":{\"value\":0.1},\"line_color\":{\"value\":\"#1f77b4\"},\"size\":{\"units\":\"screen\",\"value\":20},\"x\":{\"field\":\"x\"},\"y\":{\"field\":\"y\"}},\"id\":\"1037\",\"type\":\"Circle\"},{\"attributes\":{},\"id\":\"1005\",\"type\":\"PanTool\"},{\"attributes\":{},\"id\":\"1046\",\"type\":\"Selection\"},{\"attributes\":{},\"id\":\"1004\",\"type\":\"ResetTool\"},{\"attributes\":{\"source\":{\"id\":\"1002\",\"type\":\"ColumnDataSource\"}},\"id\":\"1039\",\"type\":\"CDSView\"},{\"attributes\":{},\"id\":\"1041\",\"type\":\"BasicTickFormatter\"},{\"attributes\":{\"callback\":null},\"id\":\"1013\",\"type\":\"DataRange1d\"}],\"root_ids\":[\"1008\"]},\"title\":\"Bokeh Application\",\"version\":\"1.4.0\"}};\n",
       "  var render_items = [{\"docid\":\"3d54d668-2d2b-42e6-9cb8-fd7537169f59\",\"notebook_comms_target\":\"1047\",\"roots\":{\"1008\":\"2ee7cb44-5a13-4aae-a449-fe97cb51d8c6\"}}];\n",
       "  root.Bokeh.embed.embed_items_notebook(docs_json, render_items);\n",
       "\n",
       "  }\n",
       "  if (root.Bokeh !== undefined) {\n",
       "    embed_document(root);\n",
       "  } else {\n",
       "    var attempts = 0;\n",
       "    var timer = setInterval(function(root) {\n",
       "      if (root.Bokeh !== undefined) {\n",
       "        clearInterval(timer);\n",
       "        embed_document(root);\n",
       "      } else {\n",
       "        attempts++;\n",
       "        if (attempts > 100) {\n",
       "          clearInterval(timer);\n",
       "          console.log(\"Bokeh: ERROR: Unable to run BokehJS code because BokehJS library is missing\");\n",
       "        }\n",
       "      }\n",
       "    }, 10, root)\n",
       "  }\n",
       "})(window);"
      ],
      "application/vnd.bokehjs_exec.v0+json": ""
     },
     "metadata": {
      "application/vnd.bokehjs_exec.v0+json": {
       "id": "1008"
      }
     },
     "output_type": "display_data"
    },
    {
     "data": {
      "text/html": [
       "<p><code>&lt;Bokeh Notebook handle for <strong>In[41]</strong>&gt;</code></p>"
      ],
      "text/plain": [
       "<bokeh.io.notebook.CommsHandle at 0x7f76cc23f190>"
      ]
     },
     "execution_count": 41,
     "metadata": {},
     "output_type": "execute_result"
    }
   ],
   "source": [
    "# Continuous colors\n",
    "cmap = plt.get_cmap('viridis')\n",
    "def val2rgb(val):\n",
    "    return rgb2hex(cmap(val)[:3])\n",
    "\n",
    "source = ColumnDataSource(\n",
    "    data={\n",
    "        \"x\": proj2PCA[:,0],\n",
    "        \"y\": proj2PCA[:,1],\n",
    "        \"name\": np.array(movies)[:,1],\n",
    "        \"color\": [val2rgb(float(x)) for x in np.array(movies)[:,2]],\n",
    "    })\n",
    "\n",
    "hover = HoverTool(\n",
    "    tooltips=[\n",
    "        (\"Name\", \"@name\"),\n",
    "    ])\n",
    "tools = [hover, ResetTool(), PanTool(), WheelZoomTool(), SaveTool()]\n",
    "\n",
    "p = figure(plot_width=960, plot_height=360, tools=tools, title=\"Movies\")\n",
    "\n",
    "p.circle(\"x\", \"y\", source=source, size=20, color=\"color\", alpha=0.5)\n",
    "show(p, notebook_handle=True)"
   ]
  },
  {
   "cell_type": "markdown",
   "metadata": {},
   "source": [
    "It seems like all comedy movies are located on the right part of the plot "
   ]
  },
  {
   "cell_type": "markdown",
   "metadata": {},
   "source": [
    "We observe that Rotten Tomatoes scores are correlated with the first dimension of the projected data (the x coordinates).\n",
    "As the colors changes from left to right"
   ]
  },
  {
   "cell_type": "markdown",
   "metadata": {},
   "source": [
    "### Movie visualization using t-SNE vs. PCA\n",
    "#### Exercise 3.4."
   ]
  },
  {
   "cell_type": "markdown",
   "metadata": {},
   "source": [
    "First of all, we project all the movies on the first 50 principal directions."
   ]
  },
  {
   "cell_type": "code",
   "execution_count": 42,
   "metadata": {},
   "outputs": [],
   "source": [
    "prin_dim_50 = eig_vect[idxs[:50]]"
   ]
  },
  {
   "cell_type": "code",
   "execution_count": 43,
   "metadata": {},
   "outputs": [],
   "source": [
    "proj50PCA = prin_dim_50 @ relevances\n",
    "proj50PCA = proj50PCA.T"
   ]
  },
  {
   "cell_type": "code",
   "execution_count": 44,
   "metadata": {},
   "outputs": [
    {
     "data": {
      "text/plain": [
       "(10381, 50)"
      ]
     },
     "execution_count": 44,
     "metadata": {},
     "output_type": "execute_result"
    }
   ],
   "source": [
    "proj50PCA.shape"
   ]
  },
  {
   "cell_type": "markdown",
   "metadata": {},
   "source": [
    "Now, we can apply t-SNE method to embed this 50 dimensional space in 2 dimensions."
   ]
  },
  {
   "cell_type": "code",
   "execution_count": 45,
   "metadata": {},
   "outputs": [],
   "source": [
    "tsneResult = TSNE(init='pca',n_components=2).fit_transform(proj50PCA)"
   ]
  },
  {
   "cell_type": "code",
   "execution_count": 46,
   "metadata": {},
   "outputs": [
    {
     "data": {
      "text/plain": [
       "(10381, 2)"
      ]
     },
     "execution_count": 46,
     "metadata": {},
     "output_type": "execute_result"
    }
   ],
   "source": [
    "tsneResult.shape"
   ]
  },
  {
   "cell_type": "markdown",
   "metadata": {},
   "source": [
    "At this point, we already have the movies projected in a 2-dimensional space applying the t-SNE method. Let's visualize it.\n",
    "\n",
    "We also want to visualize the top 5 tags for each movie using the *hover* tool."
   ]
  },
  {
   "cell_type": "code",
   "execution_count": 47,
   "metadata": {},
   "outputs": [
    {
     "data": {
      "text/plain": [
       "(10381, 5)"
      ]
     },
     "execution_count": 47,
     "metadata": {},
     "output_type": "execute_result"
    }
   ],
   "source": [
    "# creation of top 5 tags of each movie\n",
    "# we take the indices of the top 5 tags and we take the name of the tags from the tag dictionary.\n",
    "top5tags = np.array([ [tag2name[a+1] for a in arr][::-1] for arr in np.argsort(relevances.T)[:,-5:]])\n",
    "top5tags.shape"
   ]
  },
  {
   "cell_type": "code",
   "execution_count": 48,
   "metadata": {},
   "outputs": [],
   "source": [
    "# Use a sample of the data\n",
    "random.seed(1)\n",
    "sampleIndexes = [random.randint(0, 10380) for i in range(1000)]"
   ]
  },
  {
   "cell_type": "code",
   "execution_count": 49,
   "metadata": {},
   "outputs": [],
   "source": [
    "movies_txt = sc.textFile(\"/ix/ml-20m/movies.txt\").map(json.loads)\n",
    "movies_dict = movies_txt.map(itemgetter('movieId','title')).collectAsMap()"
   ]
  },
  {
   "cell_type": "code",
   "execution_count": 50,
   "metadata": {},
   "outputs": [],
   "source": [
    "tsneSample = tsneResult[sampleIndexes]\n",
    "tagNamesSample = top5tags[sampleIndexes]\n",
    "namesSample = unique_movies[sampleIndexes]"
   ]
  },
  {
   "cell_type": "code",
   "execution_count": 51,
   "metadata": {},
   "outputs": [
    {
     "data": {
      "text/html": [
       "\n",
       "\n",
       "\n",
       "\n",
       "\n",
       "\n",
       "  <div class=\"bk-root\" id=\"c8a2dfce-f60e-4383-bcb9-c2bb2170c71f\" data-root-id=\"1096\"></div>\n"
      ]
     },
     "metadata": {},
     "output_type": "display_data"
    },
    {
     "data": {
      "application/javascript": [
       "(function(root) {\n",
       "  function embed_document(root) {\n",
       "    \n",
       "  var docs_json = {\"1713bc53-d4fa-49b1-aa4b-0963ef878363\":{\"roots\":{\"references\":[{\"attributes\":{\"below\":[{\"id\":\"1107\",\"type\":\"LinearAxis\"}],\"center\":[{\"id\":\"1111\",\"type\":\"Grid\"},{\"id\":\"1116\",\"type\":\"Grid\"}],\"left\":[{\"id\":\"1112\",\"type\":\"LinearAxis\"}],\"plot_height\":360,\"plot_width\":960,\"renderers\":[{\"id\":\"1126\",\"type\":\"GlyphRenderer\"}],\"title\":{\"id\":\"1097\",\"type\":\"Title\"},\"toolbar\":{\"id\":\"1117\",\"type\":\"Toolbar\"},\"x_range\":{\"id\":\"1099\",\"type\":\"DataRange1d\"},\"x_scale\":{\"id\":\"1103\",\"type\":\"LinearScale\"},\"y_range\":{\"id\":\"1101\",\"type\":\"DataRange1d\"},\"y_scale\":{\"id\":\"1105\",\"type\":\"LinearScale\"}},\"id\":\"1096\",\"subtype\":\"Figure\",\"type\":\"Plot\"},{\"attributes\":{\"source\":{\"id\":\"1090\",\"type\":\"ColumnDataSource\"}},\"id\":\"1127\",\"type\":\"CDSView\"},{\"attributes\":{\"callback\":null},\"id\":\"1099\",\"type\":\"DataRange1d\"},{\"attributes\":{\"callback\":null,\"tooltips\":[[\"name\",\"@name\"],[\"tags\",\"@tags\"]]},\"id\":\"1091\",\"type\":\"HoverTool\"},{\"attributes\":{},\"id\":\"1103\",\"type\":\"LinearScale\"},{\"attributes\":{\"callback\":null},\"id\":\"1101\",\"type\":\"DataRange1d\"},{\"attributes\":{},\"id\":\"1138\",\"type\":\"BasicTickFormatter\"},{\"attributes\":{},\"id\":\"1136\",\"type\":\"BasicTickFormatter\"},{\"attributes\":{},\"id\":\"1105\",\"type\":\"LinearScale\"},{\"attributes\":{},\"id\":\"1140\",\"type\":\"UnionRenderers\"},{\"attributes\":{\"formatter\":{\"id\":\"1136\",\"type\":\"BasicTickFormatter\"},\"ticker\":{\"id\":\"1108\",\"type\":\"BasicTicker\"}},\"id\":\"1107\",\"type\":\"LinearAxis\"},{\"attributes\":{},\"id\":\"1141\",\"type\":\"Selection\"},{\"attributes\":{},\"id\":\"1113\",\"type\":\"BasicTicker\"},{\"attributes\":{},\"id\":\"1108\",\"type\":\"BasicTicker\"},{\"attributes\":{\"callback\":null,\"data\":{\"name\":[\"Message in a Bottle (1999)\",\"Man from Nowhere, The (Ajeossi) (2010)\",\"Bad Moon (1996)\",\"Awakening, The (1980)\",\"Knock Off (1998)\",\"Sicko (2007)\",\"Sin City (2005)\",\"Child, The (L'enfant) (2005)\",\"Swimming to Cambodia (1987)\",\"Circus (2000)\",\"Music From Another Room (1998)\",\"Lonely Hearts (2006)\",\"Made in America (1993)\",\"Tale of Two Sisters, A (Janghwa, Hongryeon) (2003)\",\"Batman & Mr. Freeze: Subzero (1998)\",\"Blue Umbrella, The (2013)\",\"Carrington (1995)\",\"Bride & Prejudice (2004)\",\"Everybody's Famous! (Iedereen beroemd!) (2000)\",\"Along Came a Spider (2001)\",\"Flight (2012)\",\"Going My Way (1944)\",\"Little Romance, A (1979)\",\"Savage Nights (Nuits fauves, Les) (1992)\",\"Wyatt Earp (1994)\",\"Dazed and Confused (1993)\",\"Michael Jackson's This Is It (2009)\",\"Desperado (1995)\",\"Pride and Prejudice (1940)\",\"Chocolat (2000)\",\"Charlie Brown Christmas, A (1965)\",\"Mrs. Doubtfire (1993)\",\"Futurama: Into the Wild Green Yonder (2009)\",\"Fourth Protocol, The (1987)\",\"Man Who Copied, The (Homem Que Copiava, O) (2003)\",\"Live Free or Die Hard (2007)\",\"Ricky Gervais Live 2: Politics (2004)\",\"Postcards From the Edge (1990)\",\"Stoked: The Rise and Fall of Gator (2002)\",\"Triumph of the Will (Triumph des Willens) (1934)\",\"Horrors of Spider Island (Ein Toter Hing im Netz) (1960)\",\"Oliver Twist (2005)\",\"Monkey Business (1952)\",\"Naked Gun 33 1/3: The Final Insult (1994)\",\"That's Entertainment (1974)\",\"Experiment, The (2010)\",\"Passion in the Desert (1998)\",\"Here on Earth (2000)\",\"Comet (2014)\",\"Isle, The (Seom) (2000)\",\"About Last Night... (1986)\",\"2 Fast 2 Furious (Fast and the Furious 2, The) (2003)\",\"Sleuth (2007)\",\"Charlie Brown Christmas, A (1965)\",\"Witless Protection (2008)\",\"Parenthood (1989)\",\"Russian Ark (Russkiy Kovcheg) (2002)\",\"Body and Soul (1947)\",\"Piranha 3DD (a.k.a. Piranha DD) (2012)\",\"In the Valley of Elah (2007)\",\"Dedication (2007)\",\"Rush (1991)\",\"Taken 2 (2012)\",\"Love and a .45 (1994)\",\"Apocalypto (2006)\",\"Dead Pool, The (1988)\",\"Clearing, The (2004)\",\"Undertow (2004)\",\"Terrorist, The (a.k.a. Malli) (Theeviravaathi) (1998)\",\"Love Don't Cost a Thing (2003)\",\"Road Trip: Beer Pong (2009)\",\"Reckoning, The (2004)\",\"My Own Private Idaho (1991)\",\"Return, The (Vozvrashcheniye) (2003)\",\"Counterfeiters, The (Die F\\u00e4lscher) (2007)\",\"Barefoot Executive, The (1971)\",\"Falling Down (1993)\",\"Pride and Glory (2008)\",\"Jin Roh: The Wolf Brigade (Jin-R\\u00f4) (1998)\",\"Reefer Madness (a.k.a. Tell Your Children) (1938)\",\"Atlantis: Milo's Return (2003) \",\"Piano, The (1993)\",\"Running Scared (2006)\",\"Hungarian Fairy Tale, A (Hol volt, hol nem volt) (1987)\",\"Half Past Dead (2002)\",\"Quiet Ones, The (2014)\",\"Guilt Trip, The (2012)\",\"Rampart (2011)\",\"Sansho the Bailiff (Sansh\\u00f4 day\\u00fb) (1954)\",\"Two Jakes, The (1990)\",\"Backdraft (1991)\",\"Bee Movie (2007)\",\"Navy Seals (1990)\",\"Before the Rain (Pred dozhdot) (1994)\",\"Firestarter (1984)\",\"Surrogates (2009)\",\"Tooth Fairy (2010)\",\"Bread and Roses (2000)\",\"Sleepover (2004)\",\"Happening, The (2008)\",\"Kind Hearts and Coronets (1949)\",\"Rum Diary, The (2011)\",\"Out of Time (2003)\",\"Unfinished Life, An (2005)\",\"Bill & Ted's Bogus Journey (1991)\",\"Agora (2009)\",\"Day of the Doctor, The (2013)\",\"In the Bleak Midwinter (1995)\",\"Protocol (1984)\",\"War, Inc. (2008)\",\"Cocoon: The Return (1988)\",\"Burning Plain, The (2008)\",\"Fighter, The (2010)\",\"Official Story, The (La historia oficial) (1985)\",\"Blue Thunder (1983)\",\"So Dear to My Heart (1949)\",\"Stormbreaker (Alex Rider: Operation Stormbreaker) (2006)\",\"Attraction (2000)\",\"Super 8 (2011)\",\"Enter the Void (2009)\",\"Clara's Heart (1988)\",\"Wristcutters: A Love Story (2006)\",\"Born Rich (2003)\",\"Painted Veil, The (2006)\",\"Bad Santa (2003)\",\"Enduring Love (2004)\",\"Order, The (2003)\",\"Othello (1995)\",\"Cloudy with a Chance of Meatballs (2009)\",\"Coco Before Chanel (Coco avant Chanel) (2009)\",\"Two Night Stand (2014)\",\"Sabotage (2014)\",\"Absolute Beginners (1986)\",\"Just Like Heaven (2005)\",\"Past, The (Le pass\\u00e9) (2013)\",\"King of the Hill (1993)\",\"Chopper (2000)\",\"Boondock Saints, The (2000)\",\"Runaways, The (2010)\",\"Pirates! Band of Misfits, The (2012)\",\"Ninth Gate, The (1999)\",\"Midnight in the Garden of Good and Evil (1997)\",\"I Am Love (Io sono l'amore) (2009)\",\"American Pie 2 (2001)\",\"Pagemaster, The (1994)\",\"Unbearable Lightness of Being, The (1988)\",\"Ponette (1996)\",\"Only You (1994)\",\"Longest Yard, The (2005)\",\"Interview with the Vampire: The Vampire Chronicles (1994)\",\"Pauline & Paulette (Pauline en Paulette) (2001)\",\"Little Monsters (1989)\",\"Blue Angel, The (Blaue Engel, Der) (1930)\",\"Incredible Journey, The (1963)\",\"Love, Rosie (2014)\",\"Death Wish 3 (1985)\",\"Commando (1985)\",\"Villain, The (1979)\",\"Young Frankenstein (1974)\",\"Harvey (1950)\",\"Goldfinger (1964)\",\"Battle Creek Brawl (Big Brawl, The) (1980)\",\"International, The (2009)\",\"Shampoo (1975)\",\"Kung Pow: Enter the Fist (2002)\",\"Happy Times (Xingfu shiguang) (2000)\",\"Edukators, The (Die Fetten Jahre sind vorbei) (2004)\",\"How to Lose a Guy in 10 Days (2003)\",\"Across the Universe (2007)\",\"X-Men: The Last Stand (2006)\",\"Doctor Dolittle (1967)\",\"Age of Innocence, The (1993)\",\"Empire (2002)\",\"Gunga Din (1939)\",\"Code Unknown (Code inconnu: R\\u00e9cit incomplet de divers voyages) (2000)\",\"Unknown Soldier, The (Tuntematon sotilas) (1955)\",\"True Grit (1969)\",\"American Astronaut, The (2001)\",\"Far Off Place, A (1993)\",\"Billy Liar (1963)\",\"Julia (2008)\",\"Bring It On (2000)\",\"Family, The (2013)\",\"Cannibal! The Musical (a.k.a. Alferd Packer: The Musical) (1996)\",\"I Like It Like That (1994)\",\"Reform School Girls (1986)\",\"Three Colors: White (Trzy kolory: Bialy) (1994)\",\"Harry Potter and the Prisoner of Azkaban (2004)\",\"Inspector Gadget (1999)\",\"Bread and Chocolate (Pane e cioccolata) (1973)\",\"Story of Us, The (1999)\",\"Turtles Can Fly (Lakposhtha h\\u00e2m parvaz mikonand) (2004)\",\"Girl Who Leapt Through Time, The (Toki o kakeru sh\\u00f4jo) (2006)\",\"Star Chamber, The (1983)\",\"Alvin and the Chipmunks: The Squeakquel (2009)\",\"Born in East L.A. (1987)\",\"Mistress America (2015)\",\"Heart of a Dog (Sobachye serdtse) (1988)\",\"F for Fake (V\\u00e9rit\\u00e9s et mensonges) (1973)\",\"My Demon Lover (1987)\",\"Che: Part Two (2008)\",\"Schindler's List (1993)\",\"Lupin III: The Castle Of Cagliostro (Rupan sansei: Kariosutoro no shiro) (1979)\",\"Puncture (2011)\",\"Starstruck (1982)\",\"Sleeping with Other People (2015)\",\"Eddie Murphy Delirious (1983)\",\"Sexual Life of the Belgians, The (Vie sexuelle des Belges 1950-1978, La) (1994)\",\"Captain Ron (1992)\",\"Heart Condition (1990)\",\"Slumber Party Massacre, The (1982)\",\"Lover's Knot (1996)\",\"Lola (1981)\",\"Killing Fields, The (1984)\",\"Night Falls on Manhattan (1996)\",\"Student Bodies (1981)\",\"City by the Sea (2002)\",\"Handle with Care (a.k.a. Citizen's Band) (1977)\",\"That's Entertainment (1974)\",\"Unknown (2011)\",\"Stepfather II (1989)\",\"Thin Red Line, The (1998)\",\"Rob Roy (1995)\",\"Morning Glory (2010)\",\"Space Jam (1996)\",\"Cloud Atlas (2012)\",\"All the Pretty Horses (2000)\",\"Bad Teacher (2011)\",\"Factotum (2005)\",\"Simpatico (1999)\",\"This Is Where I Leave You (2014)\",\"Zeitgeist: The Movie (2007)\",\"Kids in the Hall: Brain Candy (1996)\",\"Flying Deuces, The (1939)\",\"Coming Home (1978)\",\"Paper Moon (1973)\",\"Bulworth (1998)\",\"Girl on the Bridge, The (Fille sur le pont, La) (1999)\",\"Future, The (2011)\",\"Lady Snowblood (Shurayukihime) (1973)\",\"Bay, The (2012)\",\"Slipper and the Rose, The (1976)\",\"Big Nothing (2006)\",\"Freddy's Dead: The Final Nightmare (Nightmare on Elm Street Part 6: Freddy's Dead, A) (1991)\",\"Dolls (1987)\",\"Nightcap (Merci pour le chocolat) (2000)\",\"Orphanage, The (Orfanato, El) (2007)\",\"In the Shadow of the Moon (2007)\",\"Panther (1995)\",\"Talk of the Town, The (1942)\",\"The Lego Movie (2014)\",\"Mayor of the Sunset Strip (2003)\",\"And Your Mother Too (Y tu mam\\u00e1 tambi\\u00e9n) (2001)\",\"Stuart Saves His Family (1995)\",\"Phantasm (1979)\",\"Cutter's Way (1981)\",\"Day for Night (La Nuit Am\\u00e9ricaine) (1973)\",\"Waste Land (2010)\",\"Long Goodbye, The (1973)\",\"League of Extraordinary Gentlemen, The (a.k.a. LXG) (2003)\",\"Ju Dou (1990)\",\"Dr. T and the Women (2000)\",\"Toy, The (1982)\",\"Heaven's Burning (1997)\",\"Valentin (Valent\\u00edn) (2002)\",\"Percy Jackson & the Olympians: The Lightning Thief (2010)\",\"Kind Hearts and Coronets (1949)\",\"Ice Age: Dawn of the Dinosaurs (2009)\",\"Unaccompanied Minors (2006)\",\"Drag Me to Hell (2009)\",\"Swordfish (2001)\",\"Apocalypse Now (1979)\",\"Craft, The (1996)\",\"Out to Sea (1997)\",\"Crocodile Dundee II (1988)\",\"Holy Smoke (1999)\",\"Adventures of Buckaroo Banzai Across the 8th Dimension, The (1984)\",\"Informant!, The (2009)\",\"Contender, The (2000)\",\"Independent, The (2000)\",\"Gigantic (A Tale of Two Johns) (2002)\",\"After Earth (2013)\",\"In the Name of the King: A Dungeon Siege Tale (2008)\",\"American Pie 2 (2001)\",\"Japanese Story (2003)\",\"Sinbad: Legend of the Seven Seas (2003)\",\"Buffalo Soldiers (2001)\",\"Autumn Sonata (H\\u00f6stsonaten) (1978)\",\"Caveman (1981)\",\"Youngblood (1986)\",\"We're the Millers (2013)\",\"Reno 911!: Miami (2007)\",\"Pet Sematary II (1992)\",\"Apollo 18 (2011)\",\"Red Riding: 1974 (2009)\",\"Nightmare on Elm Street 4: The Dream Master, A (1988)\",\"Querelle (1982)\",\"Faces (1968)\",\"To End All Wars (2001)\",\"Carrie (1976)\",\"Three Faces of Eve, The (1957)\",\"Mosquito Coast, The (1986)\",\"I Still Know What You Did Last Summer (1998)\",\"One, Two, Three (1961)\",\"Sixteen Candles (1984)\",\"Calvary (2014)\",\"Premium Rush (2012)\",\"Osterman Weekend, The (1983)\",\"Scream (1996)\",\"Cars 2 (2011)\",\"Defendor (2009)\",\"Hannibal (2001)\",\"Mechanic, The (2011)\",\"Temptress Moon (Feng Yue) (1996)\",\"Fame (1980)\",\"Nausica\\u00e4 of the Valley of the Wind (Kaze no tani no Naushika) (1984)\",\"Blood Work (2002)\",\"Even the Rain (Tambi\\u00e9n la lluvia) (2010)\",\"Public Enemies (2009)\",\"Charlotte's Web (1973)\",\"Baxter, The (2005)\",\"Queen of the Damned (2002)\",\"Saving Private Ryan (1998)\",\"Crow: City of Angels, The (1996)\",\"Biggie and Tupac (2002)\",\"Before Sunrise (1995)\",\"Cheap Thrills (2013)\",\"Interview with the Vampire: The Vampire Chronicles (1994)\",\"Office Killer (1997)\",\"Decline of the American Empire, The (D\\u00e9clin de l'empire am\\u00e9ricain, Le) (1986)\",\"Gods Must Be Crazy, The (1980)\",\"Switchblade Sisters (1975)\",\"My Chauffeur (1986)\",\"Game of Death (1978)\",\"Angels' Share, The (2012)\",\"Samurai III: Duel on Ganryu Island (a.k.a. Bushido) (Miyamoto Musashi kanketsuhen: kett\\u00f4 Ganry\\u00fbjima) (1956)\",\"Live and Let Die (1973)\",\"Henry: Portrait of a Serial Killer, Part 2 (1998)\",\"Amityville Horror, The (2005)\",\"Scrooged (1988)\",\"Big Business (1988)\",\"Sullivan's Travels (1941)\",\"West Side Story (1961)\",\"Shackleton's Antarctic Adventure (2001)\",\"Jersey Girl (1992)\",\"Messenger, The (2009)\",\"Sex and Lucia (Luc\\u00eda y el sexo) (2001)\",\"Clash of the Titans (2010)\",\"Weekend at Bernie's II (1993)\",\"Pursuit of Happyness, The (2006)\",\"Duellists, The (1977)\",\"Dear Jesse (1997)\",\"Bless the Child (2000)\",\"Little Romance, A (1979)\",\"Celtic Pride (1996)\",\"Hudsucker Proxy, The (1994)\",\"Net, The (1995)\",\"Blood Work (2002)\",\"TPB AFK: The Pirate Bay Away from Keyboard (2013)\",\"Night of the Shooting Stars (Notte di San Lorenzo, La) (1982)\",\"Rhinestone (1984)\",\"Support Your Local Sheriff! (1969)\",\"Eating Raoul (1982)\",\"Hound of the Baskervilles, The (1939)\",\"2 ou 3 choses que je sais d'elle (2 or 3 Things I Know About Her) (1967)\",\"Passion Fish (1992)\",\"Imitation of Life (1959)\",\"What Maisie Knew (2012)\",\"Bad News Bears (2005)\",\"Popeye (1980)\",\"New York Stories (1989)\",\"How the Grinch Stole Christmas (a.k.a. The Grinch) (2000)\",\"Tangled Ever After (2012)\",\"Messenger, The (2009)\",\"When a Stranger Calls (2006)\",\"Matrix Revolutions, The (2003)\",\"Phantom of the Paradise (1974)\",\"Night to Remember, A (1958)\",\"Boondock Saints II: All Saints Day, The (2009)\",\"Replacements, The (2000)\",\"Ghost Ship (2002)\",\"Road Warrior, The (Mad Max 2) (1981)\",\"American Ninja (1985)\",\"Pure Luck (1991)\",\"Hollow Reed (1996)\",\"Oh, Heavenly Dog! (1980)\",\"Bean (1997)\",\"Cube Zero (2004)\",\"Mrs. Dalloway (1997)\",\"Warrior (2011)\",\"Terminator 3: Rise of the Machines (2003)\",\"Revenge of the Nerds II: Nerds in Paradise (1987)\",\"Power of One, The (1992)\",\"My Bloody Valentine (1981)\",\"Barb Wire (1996)\",\"Basic (2003)\",\"Close Encounters of the Third Kind (1977)\",\"City of God (Cidade de Deus) (2002)\",\"Mission: Impossible - Ghost Protocol (2011)\",\"Punch-Drunk Love (2002)\",\"Torch Song Trilogy (1988)\",\"6th Man, The (Sixth Man, The) (1997)\",\"Buffalo '66 (a.k.a. Buffalo 66) (1998)\",\"Veronika Decides to Die (2009)\",\"Ernest & C\\u00e9lestine (Ernest et C\\u00e9lestine) (2012)\",\"Mission: Impossible - Ghost Protocol (2011)\",\"21 and Over (2013)\",\"Twisted (1996)\",\"Running on Empty (1988)\",\"Back to the Beach (1987)\",\"Corrina, Corrina (1994)\",\"Imagine: John Lennon (1988)\",\"Claymation Christmas Celebration, A (1987)\",\"April Fool's Day (1986)\",\"Independent, The (2000)\",\"Red Riding: 1974 (2009)\",\"Field of Dreams (1989)\",\"Young Guns (1988)\",\"Naked Gun 33 1/3: The Final Insult (1994)\",\"Kids (1995)\",\"Windtalkers (2002)\",\"Hudson Hawk (1991)\",\"This Is England (2006)\",\"Firewall (2006)\",\"Don't Look in the Basement! (1973)\",\"Buffalo '66 (a.k.a. Buffalo 66) (1998)\",\"Control (2007)\",\"Levity (2003)\",\"Thieves (Voleurs, Les) (1996)\",\"Snow Angels (2007)\",\"Papillon (1973)\",\"Year My Voice Broke, The (1987)\",\"Detroit Rock City (1999)\",\"Saragossa Manuscript, The (Rekopis znaleziony w Saragossie) (1965)\",\"Liquid Sky (1982)\",\"Woman Next Door, The (Femme d'\\u00e0 c\\u00f4t\\u00e9, La) (1981)\",\"Freaky Friday (1977)\",\"Gonzo: The Life and Work of Dr. Hunter S. Thompson (2008)\",\"Redemption (Hummingbird) (2013)\",\"20 Million Miles to Earth (1957)\",\"Celebration, The (Festen) (1998)\",\"Pumpkinhead (1988)\",\"Mummy's Curse, The (1944)\",\"Maiden Heist, The (2009)\",\"Super Mario Bros. (1993)\",\"King of Comedy, The (1983)\",\"Two Night Stand (2014)\",\"Sex and the City 2 (2010)\",\"Love and Death (1975)\",\"Pitch Black (2000)\",\"Hills Have Eyes, The (1977)\",\"Merlin (1998)\",\"Troll 2 (1990)\",\"Body Heat (1981)\",\"Venice/Venice (1992)\",\"Cyborg (1989)\",\"Tango & Cash (1989)\",\"Madonna: Truth or Dare (1991)\",\"Germany Year Zero (Germania anno zero) (Deutschland im Jahre Null) (1948)\",\"Quigley Down Under (1990)\",\"Survival of the Dead (2009)\",\"No Holds Barred (1989)\",\"Saw VI (2009)\",\"As it is in Heaven (S\\u00e5 som i himmelen) (2004)\",\"Men Who Stare at Goats, The (2009)\",\"Rock School (2005)\",\"Scarlet Letter, The (1995)\",\"Hairdresser's Husband, The (Le mari de la coiffeuse) (1990)\",\"What's Up, Doc? (1972)\",\"Simpatico (1999)\",\"Glass House, The (2001)\",\"Letters from Iwo Jima (2006)\",\"Blue Chips (1994)\",\"Secret Honor (1984)\",\"Takers (2010)\",\"To Live (Huozhe) (1994)\",\"When We Were Kings (1996)\",\"Shoah (1985)\",\"Seeking Justice (2011)\",\"Doug's 1st Movie (1999)\",\"Quartet (2012)\",\"Meet Joe Black (1998)\",\"Walk on the Moon, A (1999)\",\"Return of a Man Called Horse, The (1976)\",\"Summer of '42 (1971)\",\"City of Joy (1992)\",\"Trip, The (2010)\",\"Dear Frankie (2004)\",\"Man on the Moon (1999)\",\"Sabotage (2014)\",\"Stripes (1981)\",\"Mississippi Burning (1988)\",\"Code Name: The Cleaner (2007)\",\"Pie in the Sky (1996)\",\"Beach, The (2000)\",\"Day of the Dead (2008)\",\"Dogfight (1991)\",\"Lars and the Real Girl (2007)\",\"Chorus, The (Choristes, Les) (2004)\",\"Fortune Cookie, The (1966)\",\"House by the Cemetery, The (Quella villa accanto al cimitero) (1981)\",\"Cannery Row (1982)\",\"TV Set, The (2006)\",\"Quincea\\u00f1era (2006)\",\"Gray's Anatomy (1996)\",\"Ladder 49 (2004)\",\"Rugrats Go Wild! (2003)\",\"Jack Goes Boating (2010)\",\"Hotel Chevalier (Part 1 of 'The Darjeeling Limited') (2007)\",\"Collateral Damage (2002)\",\"Foxy Brown (1974)\",\"Bulletproof (1996)\",\"Paris Was a Woman (1995)\",\"Taken (2008)\",\"Great Gatsby, The (1974)\",\"Dirty Dozen, The (1967)\",\"Redbelt (2008)\",\"But I'm a Cheerleader (1999)\",\"Sword and the Sorcerer, The (1982)\",\"Ernest Goes to Jail (1990)\",\"Man in the White Suit, The (1951)\",\"Work of Director Michel Gondry, The (2003)\",\"Out of Towners, The (1970)\",\"Incredibly True Adventure of Two Girls in Love, The (1995)\",\"Match Point (2005)\",\"Broken City (2013)\",\"G.I. Jane (1997)\",\"Slam (1998)\",\"Crystal Fairy & the Magical Cactus and 2012 (2013)\",\"Wanted (2008)\",\"Captain America: The First Avenger (2011)\",\"Since Otar Left (Depuis qu'Otar est parti...) (2003)\",\"Howards End (1992)\",\"Armour of God (Long xiong hu di) (1987)\",\"Punisher, The (1989)\",\"To Be or Not to Be (1983)\",\"All the Pretty Horses (2000)\",\"Trust (2010)\",\"Mr. Smith Goes to Washington (1939)\",\"Rescue Dawn (2006)\",\"Sansho the Bailiff (Sansh\\u00f4 day\\u00fb) (1954)\",\"Prince and the Pauper, The (1937)\",\"Scent of Green Papaya, The (M\\u00f9i du du xhan - L'odeur de la papaye verte) (1993)\",\"Rogue (2007)\",\"Meatballs (1979)\",\"Veronika Decides to Die (2009)\",\"Heaven's Prisoners (1996)\",\"Reader, The (2008)\",\"Wings of the Dove, The (1997)\",\"Bad Timing: A Sensual Obsession (1980)\",\"A Most Violent Year (2014)\",\"Lethal Weapon 4 (1998)\",\"Morons From Outer Space (1985)\",\"To Have, or Not (En avoir (ou pas)) (1995)\",\"Twin Dragons (Shuang long hui) (1992)\",\"Chef (2014)\",\"Breakdown (1997)\",\"El Cid (1961)\",\"Appointment with Death (1988)\",\"Rose Red (2002)\",\"Addams Family Reunion (1998)\",\"Time of the Wolf, The (Le temps du loup) (2003)\",\"Trading Places (1983)\",\"Bang the Drum Slowly (1973)\",\"Sea Inside, The (Mar adentro) (2004)\",\"Celebration, The (Festen) (1998)\",\"Laggies (2014)\",\"Ratatouille (2007)\",\"Phantom of the Opera (1943)\",\"Ring, The (1927)\",\"Fist of Legend (Jing wu ying xiong) (1994)\",\"Big Wedding, The (2013)\",\"Home (2009)\",\"Thunderbirds Are GO (1966)\",\"Phoenix (1998)\",\"Good Girl, The (2002)\",\"Bad News Bears in Breaking Training, The (1977)\",\"Fat Man and Little Boy (1989)\",\"Envy (2004)\",\"Jackass 3D (2010)\",\"Two Bits (1995)\",\"Parenthood (1989)\",\"Divo, Il (2008)\",\"Bobby Jones, Stroke of Genius (2004)\",\"We Bought a Zoo (2011)\",\"Jungle Book, The (1994)\",\"Searching for Bobby Fischer (1993)\",\"Paddington (2014)\",\"Family, The (2013)\",\"Coming to America (1988)\",\"Quadrophenia (1979)\",\"Phantasm III: Lord of the Dead (1994)\",\"My Dog Skip (1999)\",\"My Big Fat Greek Wedding (2002)\",\"Bedroom Window, The (1987)\",\"Partly Cloudy (2009)\",\"American Pop (1981)\",\"Brainstorm (1983)\",\"Extreme Ops (2002)\",\"Rock of Ages (2012)\",\"Ghost World (2001)\",\"Three Musketeers, The (1973)\",\"Shop Around the Corner, The (1940)\",\"Prophet, A (Un Proph\\u00e8te) (2009)\",\"Damage (Fatale) (1992)\",\"Hills Have Eyes II, The (2007)\",\"They Live by Night (1949)\",\"Clay Pigeons (1998)\",\"Ballad of Ramblin' Jack, The (2000)\",\"Too Big to Fail (2011)\",\"Bedazzled (1967)\",\"H.O.T.S. (1979)\",\"After Dark, My Sweet (1990)\",\"Blackbeard's Ghost (1968)\",\"Beverly Hills Cop III (1994)\",\"Phoenix (1998)\",\"Hangover Part II, The (2011)\",\"Dumb & Dumber (Dumb and Dumber) (1994)\",\"Book of Eli, The (2010)\",\"Isle, The (Seom) (2000)\",\"Avalanche (1978)\",\"Young Guns II (1990)\",\"Seeker: The Dark Is Rising, The (2007)\",\"Flesh & Blood (1985)\",\"Another Earth (2011)\",\"Treasure Planet (2002)\",\"Twilight Samurai, The (Tasogare Seibei) (2002)\",\"Love in the Time of Cholera (2007)\",\"Haunted Mansion, The (2003)\",\"Friday the 13th (2009)\",\"Stone Reader (2002)\",\"Nixon (1995)\",\"Alarmist, The (a.k.a. Life During Wartime) (1997)\",\"I Remember Mama (1948)\",\"Beauty Shop (2005)\",\"Avalon (2001)\",\"Continental Divide (1981)\",\"City Island (2009)\",\"Northwest Passage (1940)\",\"Bad Boys II (2003)\",\"Guard, The (2011)\",\"Fracture (2007)\",\"Lord of the Rings, The (1978)\",\"One Million Years B.C. (1966)\",\"Noises Off... (1992)\",\"Shower (Xizao) (1999)\",\"Jackass 2.5 (2007)\",\"Bio-Dome (1996)\",\"Bad News Bears Go to Japan, The (1978)\",\"Evil Dead (2013)\",\"Happy-Go-Lucky (2008)\",\"Running Man, The (1987)\",\"Dreamer: Inspired by a True Story (2005)\",\"Rapture-Palooza (2013)\",\"Vicky Cristina Barcelona (2008)\",\"Yu-Gi-Oh! (2004)\",\"Faces of Death 3 (1985)\",\"Three Ages (1923)\",\"Wild Parrots of Telegraph Hill, The (2003)\",\"Rover, The (2014)\",\"Informers, The (2008)\",\"Benji the Hunted (1987)\",\"Kindergarten Cop (1990)\",\"Battle in Seattle (2007)\",\"Confessional, The (Confessionnal, Le) (1995)\",\"Killers, The (1946)\",\"Friends with Kids (2011)\",\"In-Laws, The (1979)\",\"Testament of Dr. Mabuse, The (Das Testament des Dr. Mabuse) (1933)\",\"Mississippi Masala (1991)\",\"Before I Go to Sleep (2014)\",\"Pirates! Band of Misfits, The (2012)\",\"Femme Nikita, La (Nikita) (1990)\",\"Condemned, The (2007)\",\"Dry White Season, A (1989)\",\"Dangerous Lives of Altar Boys, The (2002)\",\"Blackhat (2015)\",\"Higher Learning (1995)\",\"Gun Crazy (a.k.a. Deadly Is the Female) (1949)\",\"Annie (2014)\",\"Adventures of Elmo in Grouchland, The (1999)\",\"Harry Potter and the Prisoner of Azkaban (2004)\",\"Little Otik (Otes\\u00e1nek) (2000)\",\"Pitch Black (2000)\",\"Nosferatu (Nosferatu, eine Symphonie des Grauens) (1922)\",\"Austenland (2013)\",\"Love & Human Remains (1993)\",\"Judgment at Nuremberg (1961)\",\"Heist (2001)\",\"Last Shot, The (2004)\",\"Veronika Decides to Die (2009)\",\"Jason Goes to Hell: The Final Friday (1993)\",\"Bat, The (1959)\",\"Legend of Zorro, The (2005)\",\"Opera (1987)\",\"Unaccompanied Minors (2006)\",\"End of the Affair, The (1955)\",\"Hostel (2005)\",\"Forgetting Sarah Marshall (2008)\",\"High School High (1996)\",\"Sex and Zen (Rou pu Tuan zhi tou Qing bao Jian) (1992)\",\"Ruins, The (2008)\",\"Deep Impact (1998)\",\"Cloud Atlas (2012)\",\"Khartoum (1966)\",\"Fantasia (1940)\",\"Interstate 60 (2002)\",\"Trust (1990)\",\"Son of Godzilla (Kaij\\u00fbt\\u00f4 no kessen: Gojira no musuko) (1967)\",\"Double Happiness (1994)\",\"Nighthawks (1981)\",\"Welcome Home, Roscoe Jenkins (2008)\",\"RoboCop (1987)\",\"Wag the Dog (1997)\",\"Undead (2003)\",\"Rookie of the Year (1993)\",\"Adore (2013)\",\"Banana Joe (1981)\",\"Art of War, The (2000)\",\"Still Waiting... (2009)\",\"Eyes of Tammy Faye, The (2000)\",\"Cannonball Run II (1984)\",\"Gay Purr-ee (1962)\",\"Kandahar (Safar e Ghandehar) (2001)\",\"Deer Hunter, The (1978)\",\"Star Trek II: The Wrath of Khan (1982)\",\"Surveillance (2008)\",\"Secret Things (Choses secr\\u00e8tes) (2002)\",\"World's Fastest Indian, The (2005)\",\"Iron Man (2008)\",\"Easy A (2010)\",\"My Fair Lady (1964)\",\"Come See the Paradise (1990)\",\"Care Bears Movie II: A New Generation (1986)\",\"Centurion (2010)\",\"White Water Summer (1987)\",\"Revolution Will Not Be Televised, The (a.k.a. Chavez: Inside the Coup) (2003)\",\"Her (2013)\",\"Knight's Tale, A (2001)\",\"Au revoir les enfants (1987)\",\"Biutiful (2010)\",\"Christmas Carol, A (Scrooge) (1951)\",\"Next Friday (2000)\",\"D\\u00e9j\\u00e0 Vu (Deja Vu) (2006)\",\"Hole in the Head, A (1959)\",\"Physician, The (2013)\",\"Wildcats (1986)\",\"Ishtar (1987)\",\"French Lieutenant's Woman, The (1981)\",\"Adventure in Space and Time, An (2013)\",\"Milagro Beanfield War (1988)\",\"Saint of Fort Washington, The (1993)\",\"What We Did on Our Holiday (2014)\",\"Flim-Flam Man, The (1967)\",\"Guy Thing, A (2003)\",\"Drifting Clouds (Kauas pilvet karkaavat) (1996)\",\"Gross Anatomy (a.k.a. A Cut Above) (1989)\",\"Kandahar (Safar e Ghandehar) (2001)\",\"Predator (1987)\",\"Birds, The (1963)\",\"The Hunger Games: Mockingjay - Part 1 (2014)\",\"Messenger: The Story of Joan of Arc, The (1999)\",\"Girl with the Dragon Tattoo, The (2011)\",\"Christmas in July (1940)\",\"Ghost Rider: Spirit of Vengeance (2012)\",\"Morning After, The (1986)\",\"Blue Is the Warmest Color (La vie d'Ad\\u00e8le) (2013)\",\"Last Metro, The (Dernier m\\u00e9tro, Le) (1980)\",\"Flightplan (2005)\",\"Unborn, The (2009)\",\"Man of the Century (1999)\",\"10 Things I Hate About You (1999)\",\"Bandits (1997)\",\"Million Dollar Baby (2004)\",\"Revenge (1990)\",\"Raggedy Man (1981)\",\"My Little Chickadee (1940)\",\"Alaska: Spirit of the Wild (1997)\",\"NeverEnding Story II: The Next Chapter, The (1990)\",\"Saving Grace (2000)\",\"Faces of Death 6 (1996)\",\"Better Off Dead... (1985)\",\"Mask of Zorro, The (1998)\",\"River's Edge (1986)\",\"Soul Plane (2004)\",\"Tempest (1982)\",\"Big Nothing (2006)\",\"Land Girls, The (1998)\",\"Dersu Uzala (1975)\",\"Kaspar Hauser (1993)\",\"Parent Trap, The (1961)\",\"Incredible Burt Wonderstone, The (2013)\",\"Federal Hill (1994)\",\"Chocolat (2000)\",\"Bye Bye, Love (1995)\",\"Ten Canoes (2006)\",\"Pink Panther 2, The (2009)\",\"Interstellar (2014)\",\"I Remember Mama (1948)\",\"Grind (2003)\",\"Falling in Love (1984)\",\"Phoenix (1998)\",\"3 Days to Kill (2014)\",\"Third Miracle, The (1999)\",\"Wild Things (1998)\",\"Hot Pursuit (1987)\",\"Christmas Carol, A (Scrooge) (1951)\",\"City Slickers (1991)\",\"Rescue Dawn (2006)\",\"Eros (2004)\",\"Road to Bali (1952)\",\"Backdraft (1991)\",\"Norma Rae (1979)\",\"Dr. Dolittle 2 (2001)\",\"Fraternity Vacation (1985)\",\"Duck Season (Temporada de patos) (2004)\",\"Fish Tank (2009)\",\"Human Centipede II (Full Sequence), The (2011)\",\"Monterey Pop (1968)\",\"Killer Shrews, The (1959)\",\"Kes (1969)\",\"Into the Arms of Strangers: Stories of the Kindertransport (2000)\",\"It Runs in the Family (2003)\",\"Arn: The Knight Templar (Arn - Tempelriddaren) (2007)\",\"Would You Rather (2012)\",\"Little Mermaid, The (1989)\",\"Detour (1945)\",\"Beautician and the Beast, The (1997)\",\"Big Squeeze, The (1996)\",\"Major Payne (1995)\",\"Dunston Checks In (1996)\",\"Jackass Number Two (2006)\",\"If You Could See What I Hear (1982)\",\"Animal Crackers (1930)\",\"Red Tails (2012)\",\"Spider-Man (2002)\",\"Dark Command (1940)\",\"Panic in Needle Park, The (1971)\",\"Someone to Watch Over Me (1987)\",\"Aces: Iron Eagle III (1992)\",\"Rudy (1993)\",\"Ladybird Ladybird (1994)\",\"How to Succeed in Business Without Really Trying (1967)\",\"Dinner Game, The (D\\u00eener de cons, Le) (1998)\",\"Broken Embraces (Los abrazos rotos) (2009)\",\"That Thing You Do! (1996)\",\"Rite, The (2011)\",\"Coffee and Cigarettes (2003)\",\"Princess Diaries, The (2001)\",\"Karate Kid, The (1984)\",\"Rosewood (1997)\",\"Joyeux No\\u00ebl (Merry Christmas) (2005)\",\"Russian Ark (Russkiy Kovcheg) (2002)\",\"Hunted, The (1995)\",\"Two Much (1995)\",\"G-Force (2009)\",\"Palookaville (1996)\",\"Choke (2008)\",\"First Blood (Rambo: First Blood) (1982)\",\"Stealing Beauty (1996)\",\"M*A*S*H (a.k.a. MASH) (1970)\",\"I Married A Strange Person! (1997)\",\"Who Am I? (Wo shi shei) (1998)\",\"Artemisia (1997)\",\"All the Vermeers in New York (1990)\",\"What's Love Got to Do with It? (1993)\",\"Unreasonable Man, An (2006)\",\"Theory of Flight, The (1998)\",\"Gloria (1980)\",\"Bossa Nova (2000)\",\"Agony and the Ecstasy, The (1965)\",\"Bridge Too Far, A (1977)\",\"My Father the Hero (Mon p\\u00e8re, ce h\\u00e9ros.) (1991)\",\"Going Clear: Scientology and the Prison of Belief (2015)\",\"Affair of the Necklace, The (2001)\",\"Operation Petticoat (1959)\",\"Everybody's All-American (1988)\",\"Vanishing, The (Spoorloos) (1988)\",\"Search for One-eye Jimmy, The (1996)\",\"Pitch Perfect (2012)\",\"Alex Cross (2012)\",\"Encino Man (1992)\",\"Jacob the Liar (Jakob, der L\\u00fcgner) (1975)\",\"Killer Klowns from Outer Space (1988)\",\"Out of the Furnace (Dust to Dust) (Low Dweller, The) (2013)\",\"Megamind (2010)\",\"Cinderella (1997)\",\"Palookaville (1996)\",\"Mobsters (1991)\",\"Temple Grandin (2010)\",\"Stage Beauty (2004)\",\"Hunt For Gollum, The (2009)\",\"Angel Heart (1987)\",\"Ramen Girl, The (2008)\",\"Traffic (Trafic) (1971)\",\"This Is Spinal Tap (1984)\",\"Empire of the Ants (1977)\",\"Only Lovers Left Alive (2013)\",\"Blood for Dracula (Andy Warhol's Dracula) (1974)\",\"Road House (1989)\",\"Beach, The (2000)\",\"City of Angels (1998)\",\"Funny Farm (1988)\",\"For the Moment (1994)\",\"Melody Time (1948)\",\"Where Is the Friend's Home? (Where Is My Friend's House?) (Khane-ye doust kodjast?) (1987)\",\"Collector, The (La collectionneuse) (1967)\",\"39 Steps, The (1935)\",\"Butcher Boy, The (1997)\",\"Shutter (2008)\",\"Winter Passing (2005)\",\"Reservation Road (2007)\",\"Ox-Bow Incident, The (1943)\",\"Almost Heroes (1998)\",\"Best Little Whorehouse in Texas, The (1982)\",\"Visitors, The (Visiteurs, Les) (1993)\",\"King Kong vs. Godzilla (Kingukongu tai Gojira) (1962)\",\"S. Darko (S. Darko: A Donnie Darko Tale) (2009)\",\"Ciao, Professore! (Io speriamo che me la cavo) (1992)\",\"Boys Town (1938)\",\"Simple Plan, A (1998)\",\"Citizen Toxie: The Toxic Avenger IV (2000)\",\"Dot the I (2003)\",\"Bronx Tale, A (1993)\",\"Yes Man (2008)\",\"Kate & Leopold (2001)\",\"Truman Show, The (1998)\",\"Miss Firecracker (1989)\",\"Two-Lane Blacktop (1971)\",\"Steel (1997)\",\"Strange Brew (1983)\",\"Beauty and the Beast (1991)\",\"Alexander Nevsky (Aleksandr Nevskiy) (1938)\",\"Sleepers (1996)\",\"Serendipity (2001)\",\"Deathtrap (1982)\",\"Karate Kid, Part II, The (1986)\",\"Silkwood (1983)\",\"Martin (1977)\",\"Trouble with Harry, The (1955)\",\"Mechanic, The (1972)\",\"Blues Brothers 2000 (1998)\",\"Holy Mountain, The (Monta\\u00f1a sagrada, La) (1973)\",\"Short Circuit (1986)\",\"Man from Earth, The (2007)\",\"Step Up 3D (2010)\",\"Love and Death (1975)\",\"It Runs in the Family (2003)\",\"What's Up, Doc? (1972)\",\"Married Life (2007)\",\"Thief, The (Vor) (1997)\",\"Dictator, The (2012)\",\"Running With Scissors (2006)\",\"Friday the 13th Part V: A New Beginning (1985)\",\"Back to School (1986)\",\"Stella Dallas (1937)\",\"Day the Earth Stood Still, The (2008)\",\"Life as We Know It (2010)\",\"Hunter, The (2011)\",\"Rachel Getting Married (2008)\",\"Aliens in the Attic (2009)\",\"Robin Hood: Men in Tights (1993)\",\"Five Card Stud (a.k.a. 5 Card Stud) (1968)\",\"Psycho II (1983)\",\"Fatal Beauty (1987)\",\"They Drive by Night (1940)\",\"Night of the Iguana, The (1964)\",\"Lone Wolf and Cub: Baby Cart to Hades (Kozure \\u00d4kami: Shinikazeni mukau ubaguruma) (1972)\",\"Seize the Day (1986)\",\"Krippendorf's Tribe (1998)\",\"Warriors of Heaven and Earth (Tian di ying xiong) (2003)\",\"Death in Venice (Morte a Venezia) (1971)\",\"Pink Flamingos (1972)\",\"Take Shelter (2011)\",\"Brazil (1985)\",\"My Life and Times With Antonin Artaud (En compagnie d'Antonin Artaud) (1993)\",\"Sweet Home Alabama (2002)\",\"Year One (2009)\",\"Evelyn (2002)\",\"Golden Age, The (\\u00c2ge d'Or, L') (1930)\",\"Transporter, The (2002)\",\"May (2002)\",\"Kingdom of the Spiders (1977)\",\"Forbidden Zone (1980)\",\"Lost Honor of Katharina Blum, The (Verlorene Ehre der Katharina Blum oder: Wie Gewalt entstehen und wohin sie f\\u00fchren kann, Die) (1975)\",\"Body of Lies (2008)\",\"Things We Lost in the Fire (2007)\",\"Beauty of the Day (Belle de jour) (1967)\",\"Castaway (1986)\",\"Monument Ave. (1998)\",\"Dick (1999)\",\"Breaking Up (1997)\",\"Born Free (1966)\",\"Raising Victor Vargas (2002)\",\"Freakonomics (2010)\",\"Manchurian Candidate, The (1962)\",\"Off the Map (2003)\",\"Honeysuckle Rose (a.k.a. On the Road Again) (1980)\",\"Fountain, The (2006)\",\"Saint Ralph (2004)\"],\"tags\":[[\"love story\",\"romantic\",\"romance\",\"based on a book\",\"chick flick\"],[\"action\",\"vengeance\",\"violence\",\"drama\",\"revenge\"],[\"werewolves\",\"werewolf\",\"dog\",\"horror\",\"original\"],[\"egypt\",\"supernatural\",\"mummy\",\"grindhouse\",\"horror\"],[\"martial arts\",\"kung fu\",\"action\",\"fight scenes\",\"hong kong\"],[\"politics\",\"documentary\",\"social commentary\",\"propaganda\",\"canada\"],[\"graphic novel\",\"based on a comic\",\"adapted from:comic\",\"violence\",\"violent\"],[\"golden palm\",\"adoption\",\"bleak\",\"downbeat\",\"melancholic\"],[\"genocide\",\"storytelling\",\"criterion\",\"existentialism\",\"original\"],[\"gangsters\",\"twists & turns\",\"off-beat comedy\",\"caper\",\"crime\"],[\"romantic\",\"romantic comedy\",\"love story\",\"destiny\",\"romance\"],[\"serial killer\",\"murder\",\"crime\",\"detective\",\"pg-13\"],[\"comedy\",\"funny\",\"original\",\"very funny\",\"happy ending\"],[\"creepy\",\"psychological\",\"tense\",\"psychology\",\"horror\"],[\"dark hero\",\"batman\",\"super hero\",\"super-hero\",\"superheroes\"],[\"animation\",\"short\",\"pixar\",\"computer animation\",\"heartwarming\"],[\"relationships\",\"love\",\"intimate\",\"love story\",\"melancholic\"],[\"indians\",\"bollywood\",\"adapted from:book\",\"colourful\",\"india\"],[\"original\",\"life philosophy\",\"bollywood\",\"culture clash\",\"suprisingly clever\"],[\"secret service\",\"kidnapping\",\"based on a book\",\"twists & turns\",\"plot twist\"],[\"addiction\",\"alcoholism\",\"drinking\",\"great acting\",\"drug abuse\"],[\"oscar (best supporting actor)\",\"oscar (best picture)\",\"oscar (best actor)\",\"oscar (best directing)\",\"oscar\"],[\"romance\",\"love\",\"love story\",\"romantic\",\"paris\"],[\"relationships\",\"life\",\"aids\",\"sexual\",\"mentor\"],[\"gunfight\",\"western\",\"biographical\",\"biopic\",\"oscar (best cinematography)\"],[\"teen\",\"high school\",\"marijuana\",\"weed\",\"teen movie\"],[\"music\",\"documentary\",\"dance\",\"musical\",\"musicians\"],[\"action\",\"stylish\",\"violence\",\"gunfight\",\"good action\"],[\"adapted from:book\",\"literary adaptation\",\"jane austen\",\"based on a book\",\"adaptation\"],[\"oscar (best music - original score)\",\"chocolate\",\"magic realism\",\"small town\",\"sweet\"],[\"christmas\",\"holiday\",\"classic\",\"cartoon\",\"special\"],[\"children\",\"comedy\",\"divorce\",\"family\",\"cross dressing\"],[\"sci fi\",\"series\",\"based on a tv show\",\"great ending\",\"firefly\"],[\"spy\",\"spying\",\"tom clancy\",\"spies\",\"cold war\"],[\"brazil\",\"dreams\",\"rio de janeiro\",\"criterion\",\"money\"],[\"action\",\"action packed\",\"good action\",\"pg-13\",\"explosions\"],[\"politics\",\"world politics\",\"stand-up comedy\",\"funny\",\"political\"],[\"mother daughter relationship\",\"based on book\",\"adapted from:book\",\"drug addiction\",\"addiction\"],[\"sports\",\"documentary\",\"criterion\",\"california\",\"brutality\"],[\"germany\",\"nazis\",\"world war ii\",\"fascism\",\"propaganda\"],[\"spiders\",\"island\",\"stranded\",\"original\",\"horror\"],[\"story\",\"adapted from:book\",\"based on a book\",\"adaptation\",\"classic\"],[\"screwball comedy\",\"screwball\",\"comedy\",\"fun movie\",\"fountain of youth\"],[\"parody\",\"comedy\",\"funny as hell\",\"spoof\",\"hilarious\"],[\"dance\",\"musical\",\"music\",\"oscar (best directing)\",\"dancing\"],[\"prison\",\"psychology\",\"remake\",\"original\",\"psychological\"],[\"visually stunning\",\"egypt\",\"unusual plot structure\",\"desert\",\"imagination\"],[\"love story\",\"teen movie\",\"romance\",\"chick flick\",\"romantic\"],[\"relationships\",\"love story\",\"romantic\",\"love\",\"parallel universe\"],[\"enigmatic\",\"art house\",\"loneliness\",\"brutality\",\"disturbing\"],[\"relationships\",\"love story\",\"romantic\",\"nudity (topless - notable)\",\"sexual\"],[\"cars\",\"racing\",\"undercover cop\",\"action\",\"car chase\"],[\"surveillance\",\"original\",\"remake\",\"twists & turns\",\"based on a play\"],[\"christmas\",\"holiday\",\"classic\",\"cartoon\",\"special\"],[\"idiotic\",\"so bad it's funny\",\"humorous\",\"parody\",\"predictable\"],[\"parenthood\",\"comedy\",\"family\",\"family drama\",\"children\"],[\"18th century\",\"russia\",\"cinematography\",\"enigmatic\",\"art\"],[\"boxing\",\"sports\",\"rags to riches\",\"downbeat\",\"gritty\"],[\"stupid as hell\",\"splatter\",\"horror\",\"original\",\"silly fun\"],[\"powerful ending\",\"iraq war\",\"iraq\",\"investigation\",\"innocence lost\"],[\"quirky\",\"romantic comedy\",\"weird\",\"romance\",\"bittersweet\"],[\"undercover cop\",\"drug addiction\",\"addiction\",\"drugs\",\"corruption\"],[\"kidnapping\",\"action\",\"islam\",\"father daughter relationship\",\"revenge\"],[\"road movie\",\"gangsters\",\"texas\",\"original\",\"strippers\"],[\"violence\",\"brutality\",\"violent\",\"sacrifice\",\"visceral\"],[\"san francisco\",\"series\",\"chase\",\"serial killer\",\"vengeance\"],[\"kidnapping\",\"suspense\",\"twists & turns\",\"original\",\"tense\"],[\"single father\",\"cinematography\",\"runaway\",\"meditative\",\"story\"],[\"visually appealing\",\"reflective\",\"cinematography\",\"life & death\",\"beautifully filmed\"],[\"teen movie\",\"remake\",\"original\",\"hip hop\",\"fight scenes\"],[\"amy smart\",\"teen movie\",\"road trip\",\"teen\",\"predictable\"],[\"murder mystery\",\"medieval\",\"original\",\"mystery\",\"dramatic\"],[\"loneliness\",\"road movie\",\"queer\",\"melancholic\",\"original\"],[\"bleak\",\"childhood\",\"enigmatic\",\"father son relationship\",\"allegory\"],[\"holocaust\",\"nazis\",\"world war ii\",\"jews\",\"oscar (best foreign language film)\"],[\"television\",\"family\",\"satirical\",\"silly\",\"disney\"],[\"vigilantism\",\"violence\",\"vigilante\",\"violent\",\"anti-hero\"],[\"police corruption\",\"police\",\"corruption\",\"crime\",\"police investigation\"],[\"anime\",\"japan\",\"complex\",\"tokyo\",\"forceful\"],[\"marijuana\",\"weed\",\"cult film\",\"drugs\",\"cult classic\"],[\"sequels\",\"animation\",\"sequel\",\"disney\",\"cartoon\"],[\"oscar (best actress)\",\"passionate\",\"amazing cinematography\",\"male nudity\",\"intimate\"],[\"violence\",\"undercover cop\",\"violent\",\"mafia\",\"hit men\"],[\"mozart\",\"visually appealing\",\"tokyo\",\"melancholic\",\"bollywood\"],[\"fight scenes\",\"action\",\"good action\",\"so bad it's funny\",\"prison\"],[\"horror\",\"supernatural\",\"scary\",\"demons\",\"psychological\"],[\"mother-son relationship\",\"road trip\",\"relationships\",\"comedy\",\"new jersey\"],[\"police corruption\",\"police\",\"police investigation\",\"corruption\",\"los angeles\"],[\"criterion\",\"meditative\",\"bittersweet\",\"poignant\",\"masterpiece\"],[\"sequels\",\"sequel\",\"los angeles\",\"original\",\"complex\"],[\"70mm\",\"special effects\",\"action\",\"good action\",\"great movie\"],[\"animation\",\"computer animation\",\"talking animals\",\"animated\",\"kids and family\"],[\"good action\",\"action\",\"military\",\"action packed\",\"weapons\"],[\"criterion\",\"non-linear\",\"melancholic\",\"storytelling\",\"cinematography\"],[\"based on a book\",\"adaptation\",\"adapted from:book\",\"supernatural\",\"special effects\"],[\"dystopic future\",\"robots\",\"future\",\"futuristic\",\"technology\"],[\"silly\",\"predictable\",\"family\",\"script\",\"so bad it's funny\"],[\"politics\",\"political\",\"immigrants\",\"corporate america\",\"workplace\"],[\"girlie movie\",\"teen movie\",\"teen\",\"teens\",\"high school\"],[\"end of the world\",\"natural disaster\",\"so bad it's funny\",\"bad acting\",\"horrible\"],[\"british comedy\",\"imdb top 250\",\"criterion\",\"murder\",\"witty\"],[\"based on a book\",\"drugs\",\"drug abuse\",\"journalism\",\"adapted from:book\"],[\"police investigation\",\"police\",\"twists & turns\",\"corruption\",\"detective\"],[\"good\",\"destiny\",\"mentor\",\"heartwarming\",\"redemption\"],[\"future\",\"rock and roll\",\"time travel\",\"death\",\"adventure\"],[\"christianity\",\"christian\",\"history\",\"islam\",\"religion\"],[\"doctors\",\"time loop\",\"science fiction\",\"war\",\"time\"],[\"shakespeare\",\"ensemble cast\",\"witty\",\"love\",\"original\"],[\"comedy\",\"original\",\"satirical\",\"predictable\",\"romantic\"],[\"war\",\"satire\",\"satirical\",\"original\",\"war movie\"],[\"sequels\",\"sequel\",\"immortality\",\"alien\",\"franchise\"],[\"guilt\",\"storytelling\",\"mother daughter relationship\",\"drama\",\"multiple storylines\"],[\"oscar (best supporting actor)\",\"drama\",\"sports\",\"drug addiction\",\"based on a true story\"],[\"argentina\",\"foreign\",\"oscar (best foreign language film)\",\"latin america\",\"history\"],[\"chase\",\"action\",\"police\",\"good action\",\"surveillance\"],[\"cartoon\",\"disney\",\"animation\",\"simple\",\"animated\"],[\"spy\",\"based on a book\",\"adapted from:book\",\"books\",\"spying\"],[\"relationships\",\"obsession\",\"violent\",\"psychological\",\"sexual\"],[\"alien\",\"sci-fi\",\"aliens\",\"story\",\"small town\"],[\"hallucinatory\",\"psychedelic\",\"visual\",\"pornography\",\"art house\"],[\"family\",\"destiny\",\"catastrophe\",\"original\",\"culture clash\"],[\"afterlife\",\"off-beat comedy\",\"suicide\",\"dark humor\",\"weird\"],[\"money\",\"homeless\",\"kids and family\",\"original\",\"corporate america\"],[\"adultery\",\"period piece\",\"love story\",\"cinematography\",\"china\"],[\"christmas\",\"holiday\",\"foul language\",\"funniest movies\",\"hilarious\"],[\"based on a book\",\"obsession\",\"psychology\",\"psychological\",\"complex\"],[\"supernatural\",\"mentor\",\"plot holes\",\"demons\",\"pointless\"],[\"shakespeare\",\"based on a play\",\"betrayal\",\"adaptation\",\"great acting\"],[\"animation\",\"computer animation\",\"based on a book\",\"story\",\"food\"],[\"fashion\",\"paris\",\"france\",\"french\",\"biopic\"],[\"romantic comedy\",\"romance\",\"relationships\",\"romantic\",\"happy ending\"],[\"action\",\"arnold\",\"good action\",\"car chase\",\"revenge\"],[\"music\",\"rock and roll\",\"musical\",\"1980s\",\"teen movie\"],[\"chick flick\",\"romantic comedy\",\"romantic\",\"sweet\",\"san francisco\"],[\"oscar (best foreign language film)\",\"relationships\",\"iran\",\"social commentary\",\"intimate\"],[\"coming of age\",\"1930s\",\"criterion\",\"depression\",\"adolescence\"],[\"violent\",\"violence\",\"crime\",\"prison\",\"australia\"],[\"vigilantism\",\"irish accent\",\"vigilante\",\"organized crime\",\"brothers\"],[\"rock and roll\",\"drugs\",\"music business\",\"musicians\",\"runaway\"],[\"aardman studios\",\"aardman\",\"animation\",\"stop motion\",\"pirates\"],[\"books\",\"devil\",\"mystery\",\"adapted from:book\",\"based on a book\"],[\"based on a book\",\"adapted from:book\",\"based on book\",\"book\",\"murder\"],[\"intimate\",\"cinematography\",\"relationships\",\"erotic\",\"pornography\"],[\"teen\",\"comedy\",\"teen movie\",\"sequels\",\"good sequel\"],[\"adventure\",\"fantasy\",\"books\",\"original\",\"animation\"],[\"adapted from:book\",\"based on a book\",\"criterion\",\"intimate\",\"melancholic\"],[\"childhood\",\"death\",\"poignant\",\"intimate\",\"beautifully filmed\"],[\"romantic\",\"romantic comedy\",\"robert downey jr\",\"destiny\",\"romance\"],[\"football\",\"remake\",\"comedy\",\"sports\",\"prison\"],[\"vampires\",\"vampire\",\"immortality\",\"adapted from:book\",\"goth\"],[\"independent film\",\"sisters\",\"vampire human love\",\"original\",\"loneliness\"],[\"monsters\",\"original\",\"monster\",\"mentor\",\"fantasy\"],[\"talky\",\"cynical\",\"germany\",\"german\",\"enigmatic\"],[\"animals\",\"disney\",\"animal movie\",\"dog\",\"dogs\"],[\"love\",\"romantic\",\"relationships\",\"based on a book\",\"romantic comedy\"],[\"vigilante\",\"gangs\",\"vigilantism\",\"violence\",\"weapons\"],[\"action\",\"arnold\",\"good action\",\"weapons\",\"chase\"],[\"arnold\",\"parody\",\"comedy\",\"goofy\",\"cartoon\"],[\"spoof\",\"comedy\",\"imdb top 250\",\"parody\",\"quotable\"],[\"imdb top 250\",\"based on a play\",\"oscar (best supporting actress)\",\"imaginary friend\",\"heartwarming\"],[\"007 (series)\",\"007\",\"bond\",\"spying\",\"franchise\"],[\"martial arts\",\"kung fu\",\"gangsters\",\"fight scenes\",\"fighting\"],[\"conspiracy\",\"espionage\",\"thriller\",\"corruption\",\"assassination\"],[\"sexual\",\"satirical\",\"oscar (best supporting actress)\",\"women\",\"sexy\"],[\"parody\",\"spoof\",\"martial arts\",\"kung fu\",\"comedy\"],[\"blindness\",\"workplace\",\"china\",\"intimate\",\"foreign\"],[\"political\",\"idealism\",\"germany\",\"politics\",\"good soundtrack\"],[\"romantic comedy\",\"chick flick\",\"girlie movie\",\"romantic\",\"good romantic comedies\"],[\"beatles\",\"music\",\"lyrical\",\"musical\",\"visually stunning\"],[\"mutants\",\"super hero\",\"superheroes\",\"adapted from:comic\",\"big budget\"],[\"animals\",\"talking animals\",\"musical\",\"fantasy\",\"family\"],[\"costume drama\",\"period piece\",\"literary adaptation\",\"adapted from:book\",\"19th century\"],[\"drugs\",\"gangsters\",\"good soundtrack\",\"corruption\",\"revenge\"],[\"race issues\",\"indians\",\"colonialism\",\"india\",\"adventure\"],[\"criterion\",\"enigmatic\",\"reflective\",\"complex\",\"art house\"],[\"finnish\",\"war\",\"war movie\",\"best war films\",\"based on a book\"],[\"western\",\"gunfight\",\"justice\",\"oscar (best actor)\",\"oscar\"],[\"space\",\"space travel\",\"music\",\"weird\",\"surreal\"],[\"alaska\",\"africa\",\"desert\",\"adventure\",\"based on a book\"],[\"criterion\",\"loneliness\",\"original\",\"dreams\",\"affectionate\"],[\"criterion\",\"greed\",\"original\",\"twists & turns\",\"neo-noir\"],[\"cheerleading\",\"teen movie\",\"teen\",\"high school\",\"girlie movie\"],[\"mafia\",\"gratuitous violence\",\"family\",\"dysfunctional family\",\"family drama\"],[\"cannibalism\",\"musical\",\"splatter\",\"cult film\",\"music\"],[\"vampire human love\",\"original\",\"great\",\"bittersweet\",\"good soundtrack\"],[\"prison\",\"nudity\",\"pornography\",\"sexy\",\"nudity (topless)\"],[\"enigmatic\",\"trilogy\",\"criterion\",\"poland\",\"melancholic\"],[\"emma watson\",\"wizards\",\"adapted from:book\",\"based on book\",\"fantasy world\"],[\"based on a tv show\",\"cartoon\",\"kids and family\",\"original\",\"silly\"],[\"foreign\",\"bittersweet\",\"criterion\",\"golden palm\",\"beautifully filmed\"],[\"marriage\",\"divorce\",\"relationships\",\"romantic\",\"romantic comedy\"],[\"iraq\",\"iraq war\",\"middle east\",\"bleak\",\"camp\"],[\"anime\",\"japan\",\"coming of age\",\"drama\",\"original\"],[\"police investigation\",\"vigilante\",\"lawyers\",\"conspiracy\",\"vigilantism\"],[\"talking animals\",\"kids and family\",\"cute\",\"kids\",\"predictable\"],[\"comedy\",\"immigrants\",\"saturday night live\",\"mexico\",\"original\"],[\"relationships\",\"new york\",\"dialogue driven\",\"dialogue\",\"loneliness\"],[\"russian\",\"social commentary\",\"criterion\",\"masterpiece\",\"satire\"],[\"criterion\",\"art\",\"artist\",\"artistic\",\"fake documentary\"],[\"demons\",\"80s\",\"splatter\",\"so bad it's funny\",\"original\"],[\"criterion\",\"revolution\",\"cuba\",\"based on a true story\",\"biopic\"],[\"jews\",\"holocaust\",\"oscar (best directing)\",\"poland\",\"oscar (best editing)\"],[\"anime\",\"adventure\",\"japan\",\"studio ghibli\",\"miyazaki\"],[\"lawyers\",\"true story\",\"based on true story\",\"greed\",\"corruption\"],[\"australian\",\"music\",\"musical\",\"oil\",\"australia\"],[\"relationships\",\"romantic comedy\",\"sex\",\"romantic\",\"romance\"],[\"stand-up comedy\",\"funny\",\"comedy\",\"hilarious\",\"funny as hell\"],[\"sexual\",\"life philosophy\",\"pornography\",\"childhood\",\"life\"],[\"comedy\",\"adventure\",\"too short\",\"fun movie\",\"family\"],[\"ghosts\",\"vengeance\",\"comedy\",\"life philosophy\",\"original\"],[\"slasher\",\"splatter\",\"horror\",\"nudity\",\"serial killer\"],[\"so bad it's funny\",\"brutality\",\"romantic\",\"gay character\",\"romantic comedy\"],[\"criterion\",\"germany\",\"bleak\",\"obsession\",\"relationships\"],[\"genocide\",\"oscar (best supporting actor)\",\"oscar (best cinematography)\",\"powerful ending\",\"civil war\"],[\"corruption\",\"police corruption\",\"mentor\",\"justice\",\"drama\"],[\"parody\",\"cult classic\",\"spoof\",\"horror\",\"cult film\"],[\"father son relationship\",\"family drama\",\"father-son relationship\",\"redemption\",\"drama\"],[\"grindhouse\",\"radio\",\"criterion\",\"transformation\",\"fight scenes\"],[\"dance\",\"musical\",\"music\",\"oscar (best directing)\",\"dancing\"],[\"conspiracy\",\"amnesia\",\"assassin\",\"plot twist\",\"action\"],[\"slasher\",\"original\",\"splatter\",\"sequels\",\"sequel\"],[\"war movie\",\"war\",\"meditative\",\"best war films\",\"cinematography\"],[\"scotland\",\"sword fight\",\"18th century\",\"sword fighting\",\"historical\"],[\"romantic comedy\",\"chick flick\",\"girlie movie\",\"comedy\",\"entertaining\"],[\"cartoon\",\"sports\",\"animation\",\"basketball\",\"fun\"],[\"future\",\"complex\",\"futuristic\",\"storytelling\",\"visually appealing\"],[\"based on a book\",\"horses\",\"cinematography\",\"beautiful scenery\",\"scenic\"],[\"comedy\",\"teacher\",\"weed\",\"high school\",\"funny\"],[\"writer's life\",\"based on a book\",\"drinking\",\"writers\",\"workplace\"],[\"complex\",\"original\",\"racing\",\"first contact\",\"predictable\"],[\"dysfunctional family\",\"family drama\",\"family bonds\",\"family\",\"spelling bee\"],[\"conspiracy theory\",\"religion\",\"islam\",\"christianity\",\"documentary\"],[\"awesome soundtrack\",\"comedy\",\"weird\",\"drugs\",\"quotable\"],[\"runaway\",\"criterion\",\"secrets\",\"desert\",\"foreign\"],[\"powerful ending\",\"oscar (best actress)\",\"vietnam war\",\"vietnam\",\"war\"],[\"oscar (best supporting actor)\",\"con artists\",\"1930s\",\"oscar (best supporting actress)\",\"black and white\"],[\"political\",\"politics\",\"world politics\",\"interracial romance\",\"satire\"],[\"french\",\"black and white\",\"relationships\",\"beautifully filmed\",\"france\"],[\"relationships\",\"melancholic\",\"weird\",\"existentialism\",\"dreams\"],[\"vengeance\",\"revenge\",\"sword fighting\",\"violent\",\"bloody\"],[\"horror\",\"death\",\"small town\",\"original\",\"survival\"],[\"fairy tale\",\"fairy tales\",\"romantic\",\"musical\",\"life philosophy\"],[\"twists & turns\",\"crime\",\"caper\",\"dark humor\",\"dark comedy\"],[\"franchise\",\"slasher\",\"horror\",\"teens\",\"series\"],[\"stop motion\",\"splatter\",\"creepy\",\"horror\",\"low budget\"],[\"criterion\",\"sexy\",\"secrets\",\"psychological\",\"art house\"],[\"ghosts/afterlife\",\"supernatural\",\"creepy\",\"horror\",\"ghosts\"],[\"astronauts\",\"space program\",\"nasa\",\"space\",\"mars\"],[\"history\",\"true story\",\"factual\",\"very interesting\",\"revolution\"],[\"screwball comedy\",\"comedy\",\"drama\",\"mentor\",\"murder\"],[\"stop motion\",\"computer animation\",\"animation\",\"original\",\"imagination\"],[\"rock and roll\",\"documentary\",\"music\",\"music business\",\"musicians\"],[\"sexual\",\"road trip\",\"male nudity\",\"adolescence\",\"sexuality\"],[\"dysfunctional family\",\"saturday night live\",\"satire\",\"original\",\"humorous\"],[\"author:neil gaiman\",\"horror\",\"cult classic\",\"splatter\",\"creepy\"],[\"downbeat\",\"murder mystery\",\"character study\",\"enigmatic\",\"guilt\"],[\"criterion\",\"affectionate\",\"light\",\"bittersweet\",\"talky\"],[\"artistic\",\"art\",\"artist\",\"documentary\",\"poverty\"],[\"adapted from:book\",\"coen bros\",\"private detective\",\"noir thriller\",\"cynical\"],[\"based on a comic\",\"super hero\",\"superheroes\",\"superhero\",\"big budget\"],[\"powerful ending\",\"tragedy\",\"visually stunning\",\"intimate\",\"adultery\"],[\"women\",\"pointless\",\"original\",\"nudity (full frontal)\",\"satirical\"],[\"comedy\",\"race issues\",\"original\",\"silly fun\",\"fun movie\"],[\"violent\",\"violence\",\"original\",\"very interesting\",\"vengeance\"],[\"argentina\",\"childhood\",\"coming of age\",\"spanish\",\"destiny\"],[\"based on a book\",\"mythology\",\"based on book\",\"adapted from:book\",\"books\"],[\"british comedy\",\"imdb top 250\",\"criterion\",\"murder\",\"witty\"],[\"animation\",\"talking animals\",\"franchise\",\"computer animation\",\"dinosaurs\"],[\"christmas\",\"kids\",\"family\",\"holiday\",\"children\"],[\"horror\",\"supernatural\",\"splatter\",\"demons\",\"scary\"],[\"action\",\"hacking\",\"good action\",\"hackers\",\"cool\"],[\"francis ford copolla\",\"mindfuck\",\"best war films\",\"insanity\",\"oscar (best cinematography)\"],[\"teen\",\"teen movie\",\"goth\",\"witch\",\"high school\"],[\"comedy\",\"fun movie\",\"great\",\"original\",\"fun\"],[\"australia\",\"good sequel\",\"sequels\",\"sequel\",\"adventure\"],[\"erotic\",\"sexual\",\"nudity (full frontal - notable)\",\"australia\",\"nudity (topless - notable)\"],[\"cult classic\",\"cult film\",\"sci-fi\",\"scifi\",\"cult\"],[\"true story\",\"based on a true story\",\"coen bros\",\"greed\",\"corruption\"],[\"world politics\",\"politics\",\"political\",\"president\",\"political corruption\"],[\"weird\",\"comedy\",\"humorous\",\"great\",\"farce\"],[\"documentary\",\"weird\",\"original\",\"lyrical\",\"affectionate\"],[\"sci-fi\",\"sci fi\",\"scifi\",\"future\",\"father son relationship\"],[\"video game adaptation\",\"based on a video game\",\"horrible\",\"fantasy\",\"bad acting\"],[\"teen\",\"comedy\",\"teen movie\",\"sequels\",\"good sequel\"],[\"australia\",\"culture clash\",\"australian\",\"drama\",\"melancholic\"],[\"animation\",\"adventure\",\"computer animation\",\"animated\",\"swashbuckler\"],[\"military\",\"drugs\",\"corruption\",\"weapons\",\"anti-hero\"],[\"mother daughter relationship\",\"criterion\",\"reflective\",\"intimate\",\"melancholic\"],[\"silly fun\",\"parody\",\"goofy\",\"spoof\",\"silly\"],[\"sports\",\"mentor\",\"fighting\",\"underdog\",\"football\"],[\"weed\",\"marijuana\",\"comedy\",\"funny\",\"hilarious\"],[\"based on a tv show\",\"reality tv\",\"male nudity\",\"police\",\"comedy\"],[\"horror\",\"splatter\",\"sequels\",\"good sequel\",\"original\"],[\"astronauts\",\"space\",\"nasa\",\"space program\",\"sci-fi\"],[\"police corruption\",\"serial killer\",\"corruption\",\"crime\",\"investigation\"],[\"franchise\",\"slasher\",\"dreams\",\"serial killer\",\"teens\"],[\"homosexuality\",\"queer\",\"gay\",\"sexual\",\"glbt\"],[\"criterion\",\"talky\",\"bleak\",\"intimate\",\"stylized\"],[\"world war ii\",\"wwii\",\"best war films\",\"war\",\"sacrifice\"],[\"horror\",\"adapted from:book\",\"bullying\",\"creepy\",\"high school\"],[\"psychiatry\",\"oscar (best actress)\",\"psychology\",\"schizophrenia\",\"mental illness\"],[\"based on a book\",\"adapted from:book\",\"jungle\",\"obsession\",\"eccentricity\"],[\"slasher\",\"horror\",\"sequels\",\"good sequel\",\"predictable\"],[\"cold war\",\"comedy\",\"germany\",\"farce\",\"berlin\"],[\"teen movie\",\"teen\",\"geeks\",\"teens\",\"1980s\"],[\"irish\",\"irish accent\",\"father daughter relationship\",\"catholicism\",\"bleak\"],[\"chase\",\"fast paced\",\"action\",\"new york city\",\"original\"],[\"espionage\",\"spying\",\"nudity (topless)\",\"complex\",\"surveillance\"],[\"horror\",\"slasher\",\"teen\",\"teen movie\",\"suspense\"],[\"cars\",\"computer animation\",\"animation\",\"pixar animation\",\"pixar\"],[\"superhero\",\"super hero\",\"superheroes\",\"vigilante\",\"vigilantism\"],[\"serial killer\",\"hannibal lecter\",\"based on a book\",\"cannibalism\",\"adapted from:book\"],[\"assassin\",\"action\",\"hit men\",\"mentor\",\"good action\"],[\"china\",\"melancholic\",\"dysfunctional family\",\"betrayal\",\"cinematography\"],[\"music\",\"high school\",\"dance\",\"teen movie\",\"teen\"],[\"miyazaki\",\"japan\",\"anime\",\"fantasy world\",\"imagination\"],[\"police investigation\",\"detective\",\"murder mystery\",\"chase\",\"murder\"],[\"foreign\",\"rebellion\",\"spanish\",\"mentor\",\"indians\"],[\"gangsters\",\"1930s\",\"bank robbery\",\"organized crime\",\"gunfight\"],[\"animals\",\"animation\",\"cartoon\",\"children\",\"based on book\"],[\"quirky\",\"romantic comedy\",\"romantic\",\"sweet\",\"relationships\"],[\"vampires\",\"vampire\",\"based on a book\",\"goth\",\"book was better\"],[\"best war films\",\"oscar (best directing)\",\"war\",\"oscar (best cinematography)\",\"wwii\"],[\"good sequel\",\"dark hero\",\"sequel\",\"sequels\",\"original\"],[\"hip hop\",\"documentary\",\"murder\",\"death\",\"very interesting\"],[\"romantic\",\"dialogue driven\",\"love story\",\"romance\",\"vienna\"],[\"greed\",\"dark humor\",\"tense\",\"dark comedy\",\"twists & turns\"],[\"vampires\",\"vampire\",\"immortality\",\"adapted from:book\",\"goth\"],[\"workplace\",\"weird\",\"pornography\",\"graphic novel\",\"original\"],[\"dialogue driven\",\"sexual\",\"intellectual\",\"relationships\",\"talky\"],[\"africa\",\"culture clash\",\"comedy\",\"humorous\",\"slapstick\"],[\"race issues\",\"gangs\",\"original\",\"bullying\",\"cult film\"],[\"romantic comedy\",\"cute!\",\"cute\",\"light\",\"silly fun\"],[\"martial arts\",\"kung fu\",\"fight scenes\",\"fighting\",\"hong kong\"],[\"scotland\",\"drugs\",\"drinking\",\"drama\",\"violence\"],[\"criterion\",\"japan\",\"trilogy\",\"samurai\",\"oscar (best foreign language film)\"],[\"007 (series)\",\"007\",\"bond\",\"franchise\",\"espionage\"],[\"serial killer\",\"sequels\",\"murder\",\"slasher\",\"original\"],[\"remake\",\"horror\",\"haunted house\",\"ghosts\",\"supernatural\"],[\"christmas\",\"holiday\",\"ghosts\",\"comedy\",\"original\"],[\"comedy\",\"original\",\"80s\",\"mentor\",\"destiny\"],[\"criterion\",\"social commentary\",\"poverty\",\"comedy\",\"satire\"],[\"oscar (best cinematography)\",\"music\",\"dance\",\"musical\",\"gangs\"],[\"antarctica\",\"1930s\",\"documentary\",\"story\",\"oscar (best actress)\"],[\"new jersey\",\"romantic comedy\",\"happy ending\",\"chick flick\",\"romantic\"],[\"military\",\"great acting\",\"dramatic\",\"death\",\"emotional\"],[\"male nudity\",\"writer's life\",\"sexual\",\"pornography\",\"sex\"],[\"mythology\",\"special effects\",\"remake\",\"action\",\"cgi\"],[\"sequel\",\"sequels\",\"crappy sequel\",\"goofy\",\"so bad it's funny\"],[\"single father\",\"homeless\",\"touching\",\"rags to riches\",\"based on a true story\"],[\"sword fighting\",\"visual\",\"cinematography\",\"masterpiece\",\"period piece\"],[\"homophobia\",\"politics\",\"homosexuality\",\"documentary\",\"unusual plot structure\"],[\"devil\",\"supernatural\",\"god\",\"religion\",\"special effects\"],[\"romance\",\"love\",\"love story\",\"romantic\",\"paris\"],[\"sports\",\"basketball\",\"boston\",\"comedy\",\"goofy\"],[\"coen bros\",\"coen brothers\",\"whimsical\",\"original\",\"quirky\"],[\"internet\",\"hacking\",\"conspiracy\",\"technology\",\"hackers\"],[\"police investigation\",\"detective\",\"murder mystery\",\"chase\",\"murder\"],[\"internet\",\"documentary\",\"greed\",\"capitalism\",\"fighting the system\"],[\"world war ii\",\"fascism\",\"wwii\",\"nazis\",\"golden palm\"],[\"music business\",\"comedy\",\"original\",\"predictable\",\"bad plot\"],[\"western\",\"gunfight\",\"spoof\",\"comedy\",\"goofy\"],[\"dark humor\",\"black comedy\",\"cult film\",\"original\",\"criterion\"],[\"adapted from:book\",\"classic\",\"murder\",\"mad scientist\",\"original\"],[\"criterion\",\"meditative\",\"intellectual\",\"talky\",\"golden palm\"],[\"friendship\",\"small town\",\"relationships\",\"loneliness\",\"unlikely friendships\"],[\"race issues\",\"mother daughter relationship\",\"amazing cinematography\",\"intimate\",\"talky\"],[\"parenthood\",\"spelling bee\",\"divorce\",\"heartbreaking\",\"childhood\"],[\"remake\",\"sports\",\"original\",\"comedy\",\"baseball\"],[\"adapted from:comic\",\"cartoon\",\"original\",\"musical\",\"dialogue\"],[\"new york\",\"midlife crisis\",\"new york city\",\"life\",\"melancholic\"],[\"christmas\",\"holiday\",\"dr. seuss\",\"story\",\"based on a book\"],[\"animation\",\"too short\",\"sequel\",\"good sequel\",\"love\"],[\"military\",\"great acting\",\"dramatic\",\"death\",\"emotional\"],[\"remake\",\"original\",\"predictable\",\"teen movie\",\"pg-13\"],[\"trilogy\",\"man versus machine\",\"fight scenes\",\"visually stunning\",\"technology\"],[\"music\",\"rock and roll\",\"musical\",\"cult film\",\"cult classic\"],[\"criterion\",\"factual\",\"dramatic\",\"tragedy\",\"historical\"],[\"vigilante\",\"sequels\",\"sequel\",\"vigilantism\",\"good sequel\"],[\"football\",\"sports\",\"cheerleading\",\"comedy\",\"feel-good\"],[\"ghosts\",\"horror\",\"supernatural\",\"original\",\"bad acting\"],[\"post apocalyptic\",\"lone hero\",\"post-apocalyptic\",\"futuristic\",\"action\"],[\"ninja\",\"martial arts\",\"action\",\"fight scenes\",\"kung fu\"],[\"too short\",\"comedy\",\"original\",\"predictable\",\"very funny\"],[\"gay character\",\"parenthood\",\"gay\",\"intimate\",\"drama\"],[\"dog\",\"chase\",\"fantasy\",\"fun movie\",\"camp\"],[\"comedy\",\"series\",\"based on a tv show\",\"hilarious\",\"original\"],[\"sci-fi\",\"original\",\"scifi\",\"sci fi\",\"prequel\"],[\"adapted from:book\",\"adaptation\",\"costume drama\",\"books\",\"book\"],[\"fighting\",\"brothers\",\"redemption\",\"martial arts\",\"emotional\"],[\"future\",\"action\",\"cyborgs\",\"franchise\",\"arnold\"],[\"sequels\",\"sequel\",\"nerds\",\"crappy sequel\",\"good sequel\"],[\"based on book\",\"based on a book\",\"adapted from:book\",\"book\",\"books\"],[\"slasher\",\"splatter\",\"horror\",\"bloody\",\"cult classic\"],[\"based on a comic\",\"cyberpunk\",\"futuristic\",\"nudity (topless)\",\"good action\"],[\"twists & turns\",\"military\",\"plot twist\",\"twist ending\",\"surprise ending\"],[\"alien\",\"aliens\",\"oscar (best cinematography)\",\"spielberg\",\"first contact\"],[\"violence\",\"violent\",\"amazing cinematography\",\"amazing photography\",\"gangs\"],[\"action\",\"franchise\",\"espionage\",\"good action\",\"action packed\"],[\"weird\",\"surreal\",\"loneliness\",\"love\",\"original\"],[\"gay character\",\"gay\",\"queer\",\"transgender\",\"homosexuality\"],[\"sports\",\"basketball\",\"comedy\",\"original\",\"new jersey\"],[\"quirky\",\"independent film\",\"loneliness\",\"melancholic\",\"stylized\"],[\"based on a book\",\"intense\",\"suicide\",\"complex\",\"mental illness\"],[\"oscar (best animated feature)\",\"animation\",\"friendship\",\"animated\",\"visually appealing\"],[\"action\",\"franchise\",\"espionage\",\"good action\",\"action packed\"],[\"drinking\",\"college\",\"male nudity\",\"crude humor\",\"teen movie\"],[\"gay\",\"violent\",\"girlie movie\",\"teen movie\",\"romantic comedy\"],[\"drama\",\"family drama\",\"family\",\"parenthood\",\"rebellion\"],[\"silly fun\",\"fun movie\",\"original\",\"parody\",\"fun\"],[\"interracial romance\",\"race issues\",\"heartwarming\",\"children\",\"death\"],[\"beatles\",\"rock and roll\",\"musicians\",\"biographical\",\"biography\"],[\"christmas\",\"holiday\",\"stop motion\",\"claymation\",\"original\"],[\"slasher\",\"horror\",\"twist ending\",\"splatter\",\"surprise ending\"],[\"weird\",\"comedy\",\"humorous\",\"great\",\"farce\"],[\"police corruption\",\"serial killer\",\"corruption\",\"crime\",\"investigation\"],[\"baseball\",\"sports\",\"feel-good\",\"fantasy\",\"father son relationship\"],[\"western\",\"gunfight\",\"mentor\",\"revenge\",\"vengeance\"],[\"parody\",\"comedy\",\"funny as hell\",\"spoof\",\"hilarious\"],[\"drugs\",\"pornography\",\"teen\",\"golden palm\",\"sex\"],[\"world war ii\",\"wwii\",\"native americans\",\"wartime\",\"war\"],[\"silly fun\",\"silly\",\"comedy\",\"fun movie\",\"goofy\"],[\"skinhead\",\"coming of age\",\"england\",\"1980s\",\"bullying\"],[\"action\",\"hacking\",\"kidnapping\",\"tom clancy\",\"bank robbery\"],[\"horror\",\"splatter\",\"low budget\",\"original\",\"insanity\"],[\"quirky\",\"independent film\",\"loneliness\",\"melancholic\",\"stylized\"],[\"biopic\",\"musicians\",\"rock and roll\",\"bleak\",\"music\"],[\"redemption\",\"independent film\",\"life philosophy\",\"amazing cinematography\",\"storytelling\"],[\"criterion\",\"crime\",\"character study\",\"enigmatic\",\"relationships\"],[\"relationships\",\"melancholic\",\"loneliness\",\"intimate\",\"downbeat\"],[\"prison escape\",\"based on a book\",\"prison\",\"based on book\",\"based on a true story\"],[\"criterion\",\"loneliness\",\"australia\",\"adolescence\",\"small town\"],[\"rock and roll\",\"teen\",\"teen movie\",\"high school\",\"awesome soundtrack\"],[\"enigmatic\",\"literary adaptation\",\"meditative\",\"hallucinatory\",\"18th century\"],[\"weird\",\"alien\",\"aliens\",\"cult film\",\"cult classic\"],[\"melancholic\",\"love\",\"adultery\",\"intimate\",\"passionate\"],[\"switching places\",\"family\",\"disney\",\"children\",\"fun movie\"],[\"narrated\",\"biographical\",\"biography\",\"journalism\",\"drugs\"],[\"homeless\",\"fight scenes\",\"london\",\"redemption\",\"gangsters\"],[\"alien\",\"stop motion\",\"scifi\",\"sci fi\",\"monsters\"],[\"secrets\",\"dysfunctional family\",\"sexual abuse\",\"intimate\",\"great acting\"],[\"oscar (best effects - visual effects)\",\"horror\",\"demons\",\"creepy\",\"witch\"],[\"mummy\",\"egypt\",\"monster\",\"series\",\"original\"],[\"heist\",\"caper\",\"art\",\"original\",\"obsession\"],[\"based on a video game\",\"video game\",\"video game adaptation\",\"adapted from:game\",\"videogame\"],[\"obsession\",\"golden palm\",\"satirical\",\"loneliness\",\"character study\"],[\"romantic comedy\",\"romance\",\"relationships\",\"romantic\",\"happy ending\"],[\"based on a tv show\",\"girlie movie\",\"fashion\",\"shopping\",\"relationships\"],[\"comedy\",\"intellectual\",\"affectionate\",\"goofy\",\"satirical\"],[\"alien\",\"sci-fi\",\"scifi\",\"aliens\",\"science fiction\"],[\"horror\",\"cannibalism\",\"gruesome\",\"creepy\",\"splatter\"],[\"medieval\",\"dark fantasy\",\"wizards\",\"fantasy\",\"magic\"],[\"so bad it's funny\",\"bad acting\",\"so bad it's good\",\"horrible\",\"cult film\"],[\"neo-noir\",\"noir\",\"twists & turns\",\"erotic\",\"sexy\"],[\"metaphysics\",\"women\",\"parallel universe\",\"mentor\",\"memory loss\"],[\"cyborgs\",\"post apocalyptic\",\"action\",\"lone hero\",\"fight scenes\"],[\"action\",\"good action\",\"buddy movie\",\"action packed\",\"undercover cop\"],[\"documentary\",\"girlie movie\",\"queer\",\"pornography\",\"controversial\"],[\"criterion\",\"bleak\",\"germany\",\"world war ii\",\"masterpiece\"],[\"western\",\"gunfight\",\"action\",\"australia\",\"destiny\"],[\"zombie\",\"zombies\",\"splatter\",\"so bad it's funny\",\"stupid as hell\"],[\"fun movie\",\"so bad it's funny\",\"original\",\"horrible\",\"predictable\"],[\"franchise\",\"serial killer\",\"twist ending\",\"torture\",\"gory\"],[\"music\",\"life & death\",\"life philosophy\",\"feel-good\",\"touching\"],[\"coen bros\",\"absurd\",\"based on a book\",\"military\",\"comedy\"],[\"rock and roll\",\"musicians\",\"music business\",\"kids\",\"original\"],[\"based on a book\",\"based on book\",\"literature\",\"book\",\"adaptation\"],[\"obsession\",\"love\",\"bittersweet\",\"passionate\",\"relationships\"],[\"screwball comedy\",\"classic\",\"san francisco\",\"comedy\",\"chase\"],[\"complex\",\"original\",\"racing\",\"first contact\",\"predictable\"],[\"thriller\",\"suspenseful\",\"suspense\",\"predictable\",\"twists & turns\"],[\"world war ii\",\"japan\",\"oscar (best directing)\",\"best war films\",\"wwii\"],[\"sports\",\"basketball\",\"college\",\"golf\",\"original\"],[\"criterion\",\"enigmatic\",\"original\",\"political\",\"claustrophobic\"],[\"heist\",\"bank robbery\",\"caper\",\"robbery\",\"action\"],[\"china\",\"revolution\",\"communism\",\"intimate\",\"tragedy\"],[\"documentary\",\"sports\",\"africa\",\"inspiring\",\"boxing\"],[\"holocaust\",\"jews\",\"nazis\",\"criterion\",\"poland\"],[\"conspiracy\",\"vigilante\",\"plot holes\",\"new orleans\",\"vigilantism\"],[\"cartoon\",\"based on a tv show\",\"animation\",\"kids\",\"disney\"],[\"musicians\",\"based on a play\",\"classical music\",\"directorial debut\",\"aging\"],[\"ghosts/afterlife\",\"death\",\"life & death\",\"love story\",\"destiny\"],[\"adultery\",\"infidelity\",\"bittersweet\",\"midlife crisis\",\"mother daughter relationship\"],[\"indians\",\"native americans\",\"sequels\",\"horses\",\"sequel\"],[\"coming of age\",\"adolescence\",\"coming-of-age\",\"nostalgic\",\"bittersweet\"],[\"indians\",\"india\",\"life philosophy\",\"redemption\",\"based on a book\"],[\"england\",\"road trip\",\"british comedy\",\"loneliness\",\"midlife crisis\"],[\"touching\",\"mother-son relationship\",\"emotional\",\"heartbreaking\",\"bittersweet\"],[\"biographical\",\"biopic\",\"biography\",\"eccentricity\",\"original\"],[\"action\",\"arnold\",\"good action\",\"car chase\",\"revenge\"],[\"comedy\",\"military\",\"hilarious\",\"funny\",\"nudity (topless - notable)\"],[\"oscar (best cinematography)\",\"segregation\",\"based on a true story\",\"true story\",\"drama\"],[\"so bad it's funny\",\"bad plot\",\"espionage\",\"predictable\",\"action\"],[\"nudity (topless - notable)\",\"romantic\",\"romance\",\"obsession\",\"relationships\"],[\"visually appealing\",\"utopia\",\"marijuana\",\"island\",\"adapted from:book\"],[\"zombies\",\"virus\",\"zombie\",\"splatter\",\"remake\"],[\"innocence lost\",\"love story\",\"vietnam war\",\"original\",\"romantic\"],[\"small town\",\"loneliness\",\"touching\",\"sweet\",\"heartwarming\"],[\"mentor\",\"music\",\"france\",\"boarding school\",\"french\"],[\"oscar (best supporting actor)\",\"greed\",\"lawyers\",\"comedy\",\"great\"],[\"splatter\",\"horror\",\"creepy\",\"gory\",\"bloody\"],[\"adapted from:book\",\"based on a book\",\"books\",\"book\",\"based on book\"],[\"writers\",\"satire\",\"comedy\",\"television\",\"original\"],[\"gay\",\"gay character\",\"homosexuality\",\"pregnancy\",\"family bonds\"],[\"criterion\",\"storytelling\",\"visual\",\"original\",\"doctors\"],[\"sacrifice\",\"mentor\",\"courage\",\"life & death\",\"action\"],[\"family\",\"based on a tv show\",\"talking animals\",\"island\",\"animation\"],[\"relationships\",\"loneliness\",\"intimate\",\"based on a play\",\"marriage\"],[\"hotel\",\"relationships\",\"melancholic\",\"weird\",\"criterion\"],[\"arnold\",\"action\",\"explosions\",\"good action\",\"terrorism\"],[\"blaxploitation\",\"vigilante\",\"vengeance\",\"violent\",\"revenge\"],[\"undercover cop\",\"action\",\"good action\",\"comedy\",\"buddy movie\"],[\"lesbian\",\"relationships\",\"documentary\",\"women\",\"gay\"],[\"father daughter relationship\",\"action\",\"good action\",\"kidnapping\",\"fast paced\"],[\"adapted from:book\",\"based on a book\",\"based on book\",\"book\",\"literary adaptation\"],[\"world war ii\",\"best war films\",\"wwii\",\"ensemble cast\",\"war\"],[\"martial arts\",\"fighting the system\",\"fighting\",\"fight scenes\",\"original\"],[\"cheerleading\",\"gay character\",\"gay\",\"homosexuality\",\"queer\"],[\"fantasy\",\"adventure\",\"good versus evil\",\"fun movie\",\"special effects\"],[\"goofy\",\"camp\",\"humorous\",\"original\",\"silly fun\"],[\"british comedy\",\"satirical\",\"witty\",\"affectionate\",\"england\"],[\"creativity\",\"surreal\",\"weird\",\"imagination\",\"french\"],[\"new york city\",\"ethnic conflict\",\"new york\",\"comedy\",\"mentor\"],[\"lesbian\",\"coming of age\",\"gay\",\"teen\",\"adolescence\"],[\"obsession\",\"london\",\"non-hollywood ending\",\"adultery\",\"infidelity\"],[\"political corruption\",\"corruption\",\"politics\",\"twists & turns\",\"conspiracy\"],[\"military\",\"women\",\"girlie movie\",\"action\",\"political corruption\"],[\"marijuana\",\"drugs\",\"prison\",\"violence\",\"weed\"],[\"road trip\",\"drugs\",\"pornography\",\"drinking\",\"original\"],[\"based on a comic\",\"assassin\",\"action\",\"adapted from:comic\",\"action packed\"],[\"superhero\",\"super hero\",\"superheroes\",\"marvel\",\"based on a comic\"],[\"pornography\",\"harsh\",\"intimate\",\"criterion\",\"french\"],[\"costume drama\",\"oscar (best actress)\",\"criterion\",\"period piece\",\"amazing cinematography\"],[\"kung fu\",\"martial arts\",\"fight scenes\",\"hong kong\",\"action\"],[\"adapted from:comic\",\"based on a comic\",\"vigilante\",\"action\",\"comic book\"],[\"world war ii\",\"nazis\",\"wartime\",\"nazi\",\"jews\"],[\"based on a book\",\"horses\",\"cinematography\",\"beautiful scenery\",\"scenic\"],[\"rape\",\"pornography\",\"sexual abuse\",\"vengeance\",\"internet\"],[\"political\",\"political corruption\",\"politics\",\"idealism\",\"world politics\"],[\"prison escape\",\"true story\",\"jungle\",\"survival\",\"based on a true story\"],[\"criterion\",\"meditative\",\"bittersweet\",\"poignant\",\"masterpiece\"],[\"adapted from:book\",\"mentor\",\"classic\",\"story\",\"swashbuckler\"],[\"beautifully filmed\",\"visually appealing\",\"cinematography\",\"meditative\",\"visually stunning\"],[\"splatter\",\"stranded\",\"australia\",\"suspenseful\",\"tense\"],[\"camp\",\"goofy\",\"comedy\",\"teen movie\",\"nostalgic\"],[\"based on a book\",\"intense\",\"suicide\",\"complex\",\"mental illness\"],[\"nudity (topless - notable)\",\"new orleans\",\"hit men\",\"detective\",\"nudity (topless)\"],[\"nudity (rear)\",\"holocaust\",\"germany\",\"world war ii\",\"nazis\"],[\"period piece\",\"costume drama\",\"passionate\",\"beautifully filmed\",\"adapted from:book\"],[\"criterion\",\"obsession\",\"enigmatic\",\"art house\",\"sexual\"],[\"organized crime\",\"gangster\",\"new york\",\"gangsters\",\"violent\"],[\"series\",\"action\",\"franchise\",\"good action\",\"action packed\"],[\"parody\",\"alien\",\"sci fi\",\"british comedy\",\"spoof\"],[\"bleak\",\"finnish\",\"grindhouse\",\"criterion\",\"life & death\"],[\"martial arts\",\"kung fu\",\"fight scenes\",\"hong kong\",\"fighting\"],[\"cooking\",\"feel good movie\",\"food\",\"feel-good\",\"visually appealing\"],[\"suspenseful\",\"tense\",\"suspense\",\"chase\",\"kidnapping\"],[\"70mm\",\"spain\",\"epic\",\"historical\",\"us history\"],[\"mystery\",\"murder\",\"detective\",\"complex\",\"murder mystery\"],[\"haunted house\",\"supernatural\",\"ghosts\",\"creepy\",\"horror\"],[\"original\",\"family\",\"gothic\",\"macabre\",\"so bad it's funny\"],[\"bleak\",\"allegory\",\"disturbing\",\"pointless\",\"post apocalyptic\"],[\"comedy\",\"rags to riches\",\"saturday night live\",\"homeless\",\"1980s\"],[\"baseball\",\"sports\",\"unlikely friendships\",\"dramatic\",\"terminal illness\"],[\"oscar (best foreign language film)\",\"life & death\",\"death\",\"disability\",\"life\"],[\"secrets\",\"dysfunctional family\",\"sexual abuse\",\"intimate\",\"great acting\"],[\"coming of age\",\"teenager\",\"teenagers\",\"teen movie\",\"high school\"],[\"oscar (best animated feature)\",\"pixar animation\",\"computer animation\",\"animation\",\"animated\"],[\"opera\",\"based on a book\",\"based on book\",\"classical music\",\"adaptation\"],[\"hitchcock\",\"silent\",\"suspense\",\"visual\",\"original\"],[\"martial arts\",\"kung fu\",\"fight scenes\",\"fighting\",\"china\"],[\"romantic comedy\",\"so bad it's funny\",\"ensemble cast\",\"dysfunctional family\",\"divorce\"],[\"amazing photography\",\"stunning\",\"documentary\",\"visually stunning\",\"environmental\"],[\"astronauts\",\"puppets\",\"secrets\",\"original\",\"mars\"],[\"crime\",\"police corruption\",\"heist\",\"gambling\",\"gangsters\"],[\"depressing\",\"depression\",\"small town\",\"independent film\",\"loneliness\"],[\"sports\",\"sequel\",\"kids\",\"sequels\",\"fun movie\"],[\"bombs\",\"world war ii\",\"wartime\",\"powerful ending\",\"dramatic\"],[\"comedy\",\"horrible\",\"dumb but funny\",\"idiotic\",\"pointless\"],[\"male nudity\",\"hilarious\",\"mtv\",\"crude humor\",\"idiotic\"],[\"coming of age\",\"homeless\",\"life & death\",\"dreams\",\"mentor\"],[\"parenthood\",\"comedy\",\"family\",\"family drama\",\"children\"],[\"golden palm\",\"mafia\",\"enigmatic\",\"stylized\",\"political\"],[\"golf\",\"sports\",\"mentor\",\"life philosophy\",\"biographical\"],[\"single father\",\"animals\",\"family bonds\",\"family drama\",\"feel-good\"],[\"jungle\",\"animals\",\"adventure\",\"animal movie\",\"talking animals\"],[\"chess\",\"mentor\",\"based on a true story\",\"based on true story\",\"true story\"],[\"based on a book\",\"heartwarming\",\"family\",\"talking animals\",\"children\"],[\"mafia\",\"gratuitous violence\",\"family\",\"dysfunctional family\",\"family drama\"],[\"comedy\",\"funny\",\"classic\",\"hilarious\",\"africa\"],[\"rebellion\",\"rock and roll\",\"music\",\"good soundtrack\",\"adolescence\"],[\"splatter\",\"horror\",\"franchise\",\"series\",\"supernatural\"],[\"dog\",\"dogs\",\"childhood\",\"sentimental\",\"heartwarming\"],[\"romantic comedy\",\"chick flick\",\"culture clash\",\"family\",\"wedding\"],[\"thriller\",\"tense\",\"hitchcock\",\"lawyer\",\"suspense\"],[\"pixar\",\"short\",\"too short\",\"computer animation\",\"animation\"],[\"animation\",\"animated\",\"music\",\"good soundtrack\",\"rock and roll\"],[\"70mm\",\"death\",\"cyberpunk\",\"science fiction\",\"futuristic\"],[\"bad plot\",\"action\",\"so bad it's funny\",\"horrible\",\"sports\"],[\"rock and roll\",\"musical\",\"music\",\"musicians\",\"good music\"],[\"adolescence\",\"coming of age\",\"bittersweet\",\"high school\",\"melancholic\"],[\"swashbuckler\",\"sword fight\",\"classic\",\"sword fighting\",\"adventure\"],[\"romantic comedy\",\"romantic\",\"sweet\",\"classic\",\"love story\"],[\"prison\",\"ethnic conflict\",\"crime\",\"golden palm\",\"oscar (best foreign language film)\"],[\"obsession\",\"adultery\",\"erotic\",\"sexual\",\"pornography\"],[\"splatter\",\"mutants\",\"horror\",\"remake\",\"rape\"],[\"amazing cinematography\",\"noir\",\"violent\",\"runaway\",\"tense\"],[\"dark humor\",\"serial killer\",\"murder\",\"nudity (topless - brief)\",\"nudity (rear)\"],[\"music\",\"musicians\",\"documentary\",\"biography\",\"melancholic\"],[\"greed\",\"politics\",\"business\",\"true story\",\"based on a book\"],[\"devil\",\"original\",\"british comedy\",\"comedy\",\"humorous\"],[\"nudity (topless - notable)\",\"nudity\",\"sexy\",\"fun movie\",\"nudity (full frontal - notable)\"],[\"neo-noir\",\"noir\",\"crime gone awry\",\"kidnapping\",\"film noir\"],[\"ghosts\",\"family\",\"disney\",\"original\",\"mentor\"],[\"good action\",\"action\",\"comedy\",\"sequel\",\"good sequel\"],[\"crime\",\"police corruption\",\"heist\",\"gambling\",\"gangsters\"],[\"drinking\",\"comedy\",\"sequels\",\"good sequel\",\"male nudity\"],[\"suprisingly clever\",\"dumb\",\"funniest movies\",\"comedy\",\"goofy\"],[\"post-apocalyptic\",\"post apocalyptic\",\"apocalypse\",\"action\",\"religion\"],[\"enigmatic\",\"art house\",\"loneliness\",\"brutality\",\"disturbing\"],[\"disaster\",\"natural disaster\",\"so bad it's funny\",\"catastrophe\",\"special effects\"],[\"western\",\"nudity (rear)\",\"good sequel\",\"sequels\",\"gunfight\"],[\"based on a book\",\"based on book\",\"fantasy\",\"adapted from:book\",\"fantasy world\"],[\"rape\",\"sexualized violence\",\"violent\",\"brutality\",\"violence\"],[\"melancholic\",\"scifi\",\"science fiction\",\"sci-fi\",\"parallel universe\"],[\"animation\",\"disney animated feature\",\"oscar (best animated feature)\",\"treasure hunt\",\"treasure\"],[\"japan\",\"sword fighting\",\"samurai\",\"sword fight\",\"single father\"],[\"based on a book\",\"adapted from:book\",\"based on book\",\"book\",\"love\"],[\"ghosts\",\"family\",\"special effects\",\"supernatural\",\"haunted house\"],[\"remake\",\"slasher\",\"franchise\",\"serial killer\",\"horror\"],[\"books\",\"obsession\",\"book\",\"writers\",\"literature\"],[\"president\",\"biographical\",\"world politics\",\"politics\",\"biopic\"],[\"pointless\",\"original\",\"quirky\",\"comedy\",\"predictable\"],[\"oscar (best cinematography)\",\"oscar (best actress)\",\"wartime\",\"oscar (best directing)\",\"sentimental\"],[\"women\",\"stereotypes\",\"comedy\",\"shopping\",\"original\"],[\"virtual reality\",\"cyberpunk\",\"visually appealing\",\"visually stunning\",\"visual\"],[\"romantic comedy\",\"romantic\",\"love story\",\"mentor\",\"political corruption\"],[\"secrets\",\"dysfunctional family\",\"great acting\",\"family drama\",\"drama\"],[\"indians\",\"native americans\",\"oscar (best cinematography)\",\"18th century\",\"historical\"],[\"action\",\"good action\",\"action packed\",\"car chase\",\"undercover cop\"],[\"irish\",\"irish accent\",\"ireland\",\"drugs\",\"police corruption\"],[\"murder mystery\",\"lawyers\",\"police investigation\",\"courtroom\",\"murder\"],[\"adapted from:book\",\"wizards\",\"animation\",\"book was better\",\"cartoon\"],[\"dinosaurs\",\"stop motion\",\"special effects\",\"spiders\",\"stop-motion\"],[\"based on a play\",\"farce\",\"comedy\",\"hilarious\",\"original\"],[\"china\",\"foreign\",\"touching\",\"poignant\",\"beautifully filmed\"],[\"male nudity\",\"pornography\",\"original\",\"nudity (full frontal - notable)\",\"mtv\"],[\"stupid\",\"stupidity\",\"goofy\",\"dumb but funny\",\"dumb\"],[\"baseball\",\"sequel\",\"japan\",\"kids\",\"franchise\"],[\"horror\",\"remake\",\"splatter\",\"notable soundtrack\",\"demons\"],[\"character study\",\"bittersweet\",\"loneliness\",\"melancholic\",\"relationships\"],[\"reality tv\",\"arnold\",\"futuristic\",\"action\",\"future\"],[\"horses\",\"feel-good\",\"family drama\",\"beautiful scenery\",\"family bonds\"],[\"comedy\",\"god\",\"irreverent\",\"hilarious\",\"end of the world\"],[\"relationships\",\"narrated\",\"love\",\"love triangles\",\"spain\"],[\"animation\",\"anime\",\"predictable\",\"cartoon\",\"franchise\"],[\"serial killer\",\"horror\",\"murder\",\"original\",\"animals\"],[\"silent\",\"rome\",\"criterion\",\"1920s\",\"unusual plot structure\"],[\"san francisco\",\"birds\",\"homeless\",\"documentary\",\"ecology\"],[\"bleak\",\"australia\",\"road trip\",\"post apocalyptic\",\"post-apocalyptic\"],[\"pointless\",\"nudity (topless)\",\"drugs\",\"original\",\"life philosophy\"],[\"animals\",\"dog\",\"animal movie\",\"family\",\"dogs\"],[\"arnold\",\"comedy\",\"kids\",\"action\",\"children\"],[\"political\",\"politics\",\"destiny\",\"capitalism\",\"conspiracy theory\"],[\"criterion\",\"enigmatic\",\"hitchcock\",\"original\",\"golden palm\"],[\"noir thriller\",\"hit men\",\"criterion\",\"noir\",\"bleak\"],[\"relationships\",\"romantic comedy\",\"romantic\",\"parenthood\",\"original\"],[\"funniest movies\",\"comedy\",\"funny as hell\",\"hilarious\",\"funny\"],[\"criterion\",\"allegory\",\"tense\",\"stylized\",\"germany\"],[\"ethnic conflict\",\"interracial romance\",\"indians\",\"race issues\",\"love story\"],[\"amnesia\",\"memory loss\",\"suspenseful\",\"twists & turns\",\"memory\"],[\"aardman studios\",\"aardman\",\"animation\",\"stop motion\",\"pirates\"],[\"assassin\",\"stylish\",\"hit men\",\"assassins\",\"french\"],[\"action\",\"free to download\",\"reality tv\",\"dark hero\",\"good action\"],[\"south africa\",\"segregation\",\"corruption\",\"lawyers\",\"justice\"],[\"catholicism\",\"adolescence\",\"coming-of-age\",\"coming of age\",\"original\"],[\"hacking\",\"hackers\",\"internet\",\"interracial romance\",\"original\"],[\"college\",\"segregation\",\"stereotypes\",\"racism\",\"neo-nazis\"],[\"crime\",\"noir\",\"film noir\",\"criterion\",\"tense\"],[\"remake\",\"musical\",\"interracial romance\",\"original\",\"family\"],[\"muppets\",\"children\",\"kids\",\"kids and family\",\"family\"],[\"emma watson\",\"wizards\",\"adapted from:book\",\"based on book\",\"fantasy world\"],[\"stop motion\",\"surreal\",\"weird\",\"surrealism\",\"obsession\"],[\"alien\",\"sci-fi\",\"scifi\",\"aliens\",\"science fiction\"],[\"vampires\",\"classic\",\"vampire\",\"imdb top 250\",\"silent\"],[\"jane austen\",\"romance\",\"based on a book\",\"18th century\",\"girlie movie\"],[\"relationships\",\"gay character\",\"loneliness\",\"gay\",\"love\"],[\"world war ii\",\"nazis\",\"germany\",\"wwii\",\"nazi\"],[\"heist\",\"caper\",\"twists & turns\",\"plot twist\",\"dialogue\"],[\"comedy\",\"original\",\"true story\",\"mob\",\"mentor\"],[\"based on a book\",\"intense\",\"suicide\",\"complex\",\"mental illness\"],[\"franchise\",\"slasher\",\"horror\",\"splatter\",\"serial killer\"],[\"serial killer\",\"horror\",\"slasher\",\"mad scientist\",\"creepy\"],[\"swashbuckler\",\"action\",\"sword fighting\",\"good action\",\"story\"],[\"creepy\",\"stylized\",\"stylish\",\"gruesome\",\"tense\"],[\"christmas\",\"kids\",\"family\",\"holiday\",\"children\"],[\"god\",\"catholicism\",\"literature\",\"talky\",\"relationships\"],[\"horror\",\"splatter\",\"gruesome\",\"gory\",\"gore\"],[\"male nudity\",\"comedy\",\"highly quotable\",\"funny\",\"hawaii\"],[\"high school\",\"spoof\",\"parody\",\"comedy\",\"teen movie\"],[\"male nudity\",\"sexual\",\"sexy\",\"erotic\",\"pornography\"],[\"horror\",\"based on a book\",\"creepy\",\"splatter\",\"gory\"],[\"end of the world\",\"natural disaster\",\"space\",\"big budget\",\"astronauts\"],[\"future\",\"complex\",\"futuristic\",\"storytelling\",\"visually appealing\"],[\"70mm\",\"egypt\",\"islam\",\"historical\",\"desert\"],[\"classical music\",\"animation\",\"music\",\"cartoon\",\"disney animated feature\"],[\"social commentary\",\"original\",\"life philosophy\",\"mentor\",\"surreal\"],[\"coen bros\",\"deadpan\",\"independent film\",\"quirky\",\"dark humor\"],[\"goofy\",\"island\",\"father son relationship\",\"monsters\",\"monster\"],[\"relationships\",\"original\",\"unusual plot structure\",\"parenthood\",\"canada\"],[\"terrorism\",\"undercover cop\",\"chase\",\"good action\",\"action\"],[\"comedy\",\"pg-13\",\"family\",\"predictable\",\"funny\"],[\"futuristic\",\"cyborgs\",\"future\",\"violent\",\"violence\"],[\"political\",\"politics\",\"satire\",\"president\",\"world politics\"],[\"splatter\",\"cult classic\",\"zombies\",\"zombie\",\"virus\"],[\"baseball\",\"sports\",\"fun movie\",\"kids\",\"fun\"],[\"relationships\",\"mother-son relationship\",\"pornography\",\"sexual\",\"erotic\"],[\"comedy\",\"life philosophy\",\"good\",\"80s\",\"silly\"],[\"action\",\"good action\",\"united nations\",\"fight scenes\",\"conspiracy\"],[\"sequels\",\"original\",\"pointless\",\"nudity (topless)\",\"immortality\"],[\"documentary\",\"intimate\",\"pornography\",\"biographical\",\"compassionate\"],[\"racing\",\"sequel\",\"silly fun\",\"sequels\",\"crappy sequel\"],[\"cartoon\",\"animation\",\"musical\",\"animated\",\"fairy tale\"],[\"islam\",\"women\",\"iran\",\"desert\",\"intimate\"],[\"oscar (best supporting actor)\",\"vietnam war\",\"oscar (best picture)\",\"oscar (best editing)\",\"war\"],[\"space opera\",\"space\",\"science fiction\",\"franchise\",\"series\"],[\"serial killer\",\"surveillance\",\"police investigation\",\"brutality\",\"psychological\"],[\"sexual\",\"erotic\",\"sexuality\",\"workplace\",\"sex\"],[\"feel-good\",\"true story\",\"based on a true story\",\"based on true story\",\"motorcycle\"],[\"super hero\",\"superheroes\",\"superhero\",\"based on a comic\",\"robert downey jr\"],[\"teen movie\",\"high school\",\"teen\",\"virginity\",\"comedy\"],[\"oscar (best picture)\",\"oscar (best supporting actor)\",\"based on a play\",\"70mm\",\"musical\"],[\"camp\",\"wwii\",\"family\",\"world war ii\",\"love story\"],[\"kids and family\",\"camp\",\"ninja\",\"original\",\"children\"],[\"action\",\"bloody\",\"scotland\",\"brutality\",\"history\"],[\"teen movie\",\"camp\",\"adventure\",\"teen\",\"pg-13\"],[\"latin america\",\"politics\",\"documentary\",\"political\",\"oil\"],[\"loneliness\",\"technology\",\"relationships\",\"love\",\"original\"],[\"medieval\",\"fun movie\",\"entertaining\",\"awesome soundtrack\",\"notable soundtrack\"],[\"world war ii\",\"boarding school\",\"nazis\",\"criterion\",\"jews\"],[\"single father\",\"cancer\",\"death\",\"bleak\",\"immigrants\"],[\"christmas\",\"classic\",\"ghosts\",\"holiday\",\"based on a book\"],[\"funny\",\"good sequel\",\"weed\",\"funny as hell\",\"chris tucker\"],[\"time loop\",\"surveillance\",\"time travel\",\"sci-fi\",\"future\"],[\"original\",\"great movie\",\"family\",\"fighting the system\",\"oscar (best actress)\"],[\"based on a book\",\"historical\",\"history\",\"islam\",\"beautiful scenery\"],[\"football\",\"sports\",\"comedy\",\"high school\",\"silly fun\"],[\"horrible\",\"original\",\"so bad it's funny\",\"comedy\",\"awful\"],[\"based on a book\",\"complex\",\"obsession\",\"enigmatic\",\"romance\"],[\"doctors\",\"drama\",\"affectionate\",\"mentor\",\"history\"],[\"small town\",\"feel-good\",\"feel good movie\",\"mentor\",\"good\"],[\"homeless\",\"original\",\"mental illness\",\"depression\",\"loneliness\"],[\"scotland\",\"kids and family\",\"secrets\",\"divorce\",\"family drama\"],[\"great\",\"life philosophy\",\"great movie\",\"fun movie\",\"mentor\"],[\"romantic comedy\",\"chick flick\",\"wedding\",\"comedy\",\"romantic\"],[\"finnish\",\"melancholic\",\"loneliness\",\"drinking\",\"depression\"],[\"mentor\",\"school\",\"teacher\",\"original\",\"doctors\"],[\"islam\",\"women\",\"iran\",\"desert\",\"intimate\"],[\"alien\",\"action\",\"arnold\",\"sci-fi\",\"weapons\"],[\"hitchcock\",\"mother-son relationship\",\"birds\",\"suspense\",\"suspenseful\"],[\"based on a book\",\"rebellion\",\"dystopia\",\"pg-13\",\"revolution\"],[\"historical\",\"france\",\"history\",\"god\",\"religion\"],[\"adapted from:book\",\"swedish\",\"investigation\",\"based on a book\",\"suspense\"],[\"poverty\",\"satire\",\"greed\",\"compassionate\",\"poignant\"],[\"superhero\",\"super hero\",\"superheroes\",\"based on a comic\",\"action\"],[\"murder mystery\",\"murder\",\"thriller\",\"suspense\",\"conspiracy\"],[\"golden palm\",\"pornography\",\"intimate\",\"loneliness\",\"sexual\"],[\"world war ii\",\"nazis\",\"paris\",\"wartime\",\"french\"],[\"suspenseful\",\"kidnapping\",\"thriller\",\"twists & turns\",\"suspense\"],[\"horror\",\"supernatural\",\"ghosts\",\"demons\",\"predictable\"],[\"so bad it's funny\",\"dialogue\",\"weird\",\"original\",\"off-beat comedy\"],[\"teen movie\",\"teen\",\"girlie movie\",\"high school\",\"teenager\"],[\"rock and roll\",\"music\",\"german\",\"germany\",\"musicians\"],[\"oscar (best directing)\",\"oscar (best picture)\",\"oscar (best supporting actor)\",\"imdb top 250\",\"dark hero\"],[\"vengeance\",\"love story\",\"powerful ending\",\"adultery\",\"revenge\"],[\"small town\",\"wistful\",\"loneliness\",\"texas\",\"relationships\"],[\"indians\",\"screwball\",\"1930s\",\"censorship\",\"talky\"],[\"nature\",\"narrated\",\"wilderness\",\"oil\",\"documentary\"],[\"fantasy\",\"fantasy world\",\"magic\",\"based on a book\",\"original\"],[\"british comedy\",\"marijuana\",\"comedy\",\"england\",\"british\"],[\"violence\",\"original\",\"predictable\",\"pointless\",\"franchise\"],[\"teen\",\"teen movie\",\"high school\",\"teens\",\"1980s\"],[\"sword fighting\",\"swashbuckler\",\"sword fight\",\"adventure\",\"action\"],[\"social commentary\",\"teen movie\",\"high school\",\"murder\",\"teen\"],[\"stupid as hell\",\"hip hop\",\"so bad it's funny\",\"stereotypes\",\"bad plot\"],[\"midlife crisis\",\"original\",\"shakespeare\",\"dialogue\",\"new york\"],[\"twists & turns\",\"crime\",\"caper\",\"dark humor\",\"dark comedy\"],[\"women\",\"wartime\",\"world war ii\",\"wwii\",\"england\"],[\"criterion\",\"amazing cinematography\",\"70mm\",\"kurosawa\",\"beautifully filmed\"],[\"germany\",\"fascism\",\"18th century\",\"original\",\"enigmatic\"],[\"switching places\",\"family\",\"children\",\"divorce\",\"cute\"],[\"magic\",\"stage magic\",\"comedy\",\"goofy\",\"fantasy world\"],[\"gay\",\"independent film\",\"very interesting\",\"original\",\"gay character\"],[\"oscar (best music - original score)\",\"chocolate\",\"magic realism\",\"small town\",\"sweet\"],[\"parenthood\",\"single father\",\"divorce\",\"original\",\"children\"],[\"australia\",\"cinematography\",\"storytelling\",\"australian\",\"narrated\"],[\"comedy\",\"funny\",\"original\",\"remake\",\"slapstick\"],[\"mindfuck\",\"space travel\",\"nasa\",\"astronauts\",\"space\"],[\"oscar (best cinematography)\",\"oscar (best actress)\",\"wartime\",\"oscar (best directing)\",\"sentimental\"],[\"teen movie\",\"dumb but funny\",\"teen\",\"fun movie\",\"goofy\"],[\"romantic\",\"love story\",\"romance\",\"love\",\"destiny\"],[\"crime\",\"police corruption\",\"heist\",\"gambling\",\"gangsters\"],[\"father daughter relationship\",\"paris\",\"family drama\",\"action\",\"assassin\"],[\"catholicism\",\"religion\",\"god\",\"drama\",\"redemption\"],[\"plot twist\",\"nudity (full frontal - brief)\",\"twists & turns\",\"surprise ending\",\"twist\"],[\"chase\",\"teen movie\",\"80s\",\"adventure\",\"comedy\"],[\"christmas\",\"classic\",\"ghosts\",\"holiday\",\"based on a book\"],[\"midlife crisis\",\"comedy\",\"unlikely friendships\",\"friendship\",\"oscar winner\"],[\"prison escape\",\"true story\",\"jungle\",\"survival\",\"based on a true story\"],[\"erotic\",\"nudity (full frontal)\",\"dreams\",\"nudity (full frontal - notable)\",\"melancholic\"],[\"road movie\",\"utopia\",\"silly fun\",\"fun movie\",\"island\"],[\"70mm\",\"special effects\",\"action\",\"good action\",\"great movie\"],[\"oscar (best actress)\",\"small town\",\"oscar\",\"oscar (best directing)\",\"classic\"],[\"talking animals\",\"animals\",\"animal movie\",\"sequels\",\"good sequel\"],[\"sex comedy\",\"so bad it's funny\",\"beer\",\"80s\",\"teen movie\"],[\"unlikely friendships\",\"friendship\",\"adolescence\",\"teen movie\",\"childhood\"],[\"coming of age\",\"bleak\",\"adolescence\",\"criterion\",\"poverty\"],[\"gore\",\"horror\",\"brutality\",\"sexualized violence\",\"torture\"],[\"rock and roll\",\"musicians\",\"criterion\",\"music\",\"original\"],[\"island\",\"mad scientist\",\"spiders\",\"horror\",\"stranded\"],[\"criterion\",\"bleak\",\"working class\",\"childhood\",\"bullying\"],[\"germany\",\"holocaust\",\"world war ii\",\"nazis\",\"documentary\"],[\"judaism\",\"family drama\",\"dysfunctional family\",\"family bonds\",\"family\"],[\"medieval\",\"based on a book\",\"islam\",\"swedish\",\"books\"],[\"horror\",\"scary\",\"twist ending\",\"gory\",\"torture\"],[\"disney animated feature\",\"animation\",\"cartoon\",\"animated\",\"kids and family\"],[\"film noir\",\"noir\",\"narrated\",\"criterion\",\"talky\"],[\"romantic comedy\",\"predictable\",\"cute!\",\"original\",\"family\"],[\"original\",\"camp\",\"great\",\"mentor\",\"romantic\"],[\"military\",\"comedy\",\"funny\",\"children\",\"funniest movies\"],[\"kids and family\",\"single father\",\"kids\",\"family\",\"children\"],[\"male nudity\",\"hilarious\",\"mtv\",\"funniest movies\",\"stupidity\"],[\"true story\",\"love\",\"blindness\",\"feel-good\",\"feel good movie\"],[\"marx brothers\",\"highly quotable\",\"imdb top 250\",\"talky\",\"quotable\"],[\"world war ii\",\"wwii\",\"segregation\",\"military\",\"wartime\"],[\"super hero\",\"superheroes\",\"superhero\",\"adapted from:comic\",\"based on a comic\"],[\"civil war\",\"western\",\"gunfight\",\"american civil war\",\"texas\"],[\"drug addiction\",\"addiction\",\"drugs\",\"downbeat\",\"heroin\"],[\"thriller\",\"detective\",\"murder\",\"police investigation\",\"suspenseful\"],[\"military\",\"action\",\"franchise\",\"predictable\",\"original\"],[\"football\",\"sports\",\"inspiring\",\"true story\",\"based on true story\"],[\"social commentary\",\"working class\",\"harsh\",\"intimate\",\"drama\"],[\"musical\",\"broadway\",\"original\",\"good music\",\"lyrical\"],[\"comedy\",\"french\",\"france\",\"farce\",\"hilarious\"],[\"almodovar\",\"golden palm\",\"spanish\",\"obsession\",\"relationships\"],[\"rock and roll\",\"music business\",\"musicians\",\"nostalgic\",\"music\"],[\"demons\",\"devil\",\"supernatural\",\"horror\",\"psychiatry\"],[\"dialogue driven\",\"surreal\",\"dialogue\",\"very interesting\",\"enigmatic\"],[\"girlie movie\",\"teen movie\",\"teen\",\"based on a book\",\"chick flick\"],[\"mentor\",\"martial arts\",\"bullying\",\"1980s\",\"coming of age\"],[\"true story\",\"based on true story\",\"courage\",\"gunfight\",\"segregation\"],[\"war\",\"christmas\",\"oscar (best foreign language film)\",\"france\",\"world war i\"],[\"18th century\",\"russia\",\"cinematography\",\"enigmatic\",\"art\"],[\"ninja\",\"fight scenes\",\"action\",\"sword fight\",\"sword fighting\"],[\"screwball comedy\",\"comedy\",\"art\",\"screwball\",\"original\"],[\"talking animals\",\"animals\",\"kids and family\",\"computer animation\",\"silly fun\"],[\"heist\",\"new jersey\",\"original\",\"quirky\",\"crime\"],[\"based on book\",\"based on a book\",\"adapted from:book\",\"sexual\",\"addiction\"],[\"action\",\"small town\",\"good action\",\"realistic action\",\"violence\"],[\"liv tyler\",\"relationships\",\"nudity (topless - notable)\",\"visually appealing\",\"pornography\"],[\"golden palm\",\"war\",\"war movie\",\"satirical\",\"wartime\"],[\"surreal\",\"weird\",\"animation\",\"male nudity\",\"original\"],[\"martial arts\",\"kung fu\",\"fight scenes\",\"action\",\"fighting\"],[\"artist\",\"artistic\",\"art\",\"true story\",\"biographical\"],[\"loneliness\",\"art\",\"art house\",\"existentialism\",\"cinematography\"],[\"biopic\",\"biographical\",\"rock and roll\",\"biography\",\"oscar (best actress)\"],[\"politics\",\"political\",\"documentary\",\"business\",\"fighting the system\"],[\"disability\",\"redemption\",\"love story\",\"original\",\"unusual plot structure\"],[\"mafia\",\"gangsters\",\"mob\",\"hit men\",\"original\"],[\"brazil\",\"romance\",\"romantic\",\"rio de janeiro\",\"romantic comedy\"],[\"70mm\",\"artistic\",\"historical\",\"art\",\"biographical\"],[\"best war films\",\"world war ii\",\"wwii\",\"war\",\"70mm\"],[\"original\",\"france\",\"mentor\",\"catastrophe\",\"comedy\"],[\"manipulation\",\"religion\",\"greed\",\"islam\",\"brainwashing\"],[\"18th century\",\"period piece\",\"france\",\"historical\",\"revolution\"],[\"screwball comedy\",\"comedy\",\"wartime\",\"submarine\",\"world war ii\"],[\"football\",\"sports\",\"unlikely friendships\",\"original\",\"life philosophy\"],[\"obsession\",\"criterion\",\"suspenseful\",\"psychological\",\"psychology\"],[\"ensemble cast\",\"independent film\",\"original\",\"dialogue\",\"off-beat comedy\"],[\"music\",\"comedy\",\"college\",\"girlie movie\",\"pg-13\"],[\"serial killer\",\"action\",\"based on a book\",\"predictable\",\"good action\"],[\"high school\",\"teen movie\",\"teen\",\"teens\",\"comedy\"],[\"jews\",\"powerful ending\",\"poland\",\"holocaust\",\"anti-semitism\"],[\"clowns\",\"cult classic\",\"small town\",\"cult film\",\"aliens\"],[\"bleak\",\"intense\",\"brutality\",\"violence\",\"original\"],[\"superheroes\",\"superhero\",\"animation\",\"super hero\",\"computer animation\"],[\"fairy tale\",\"musical\",\"original\",\"family\",\"music\"],[\"heist\",\"new jersey\",\"original\",\"quirky\",\"crime\"],[\"mafia\",\"organized crime\",\"gangsters\",\"gangster\",\"hit men\"],[\"disability\",\"autism\",\"biopic\",\"true story\",\"graphic design\"],[\"cross dressing\",\"women\",\"based on a play\",\"costume drama\",\"period piece\"],[\"based on a book\",\"franchise\",\"fight scenes\",\"original\",\"visual\"],[\"mystery\",\"dark\",\"devil\",\"twists & turns\",\"twist ending\"],[\"japan\",\"tokyo\",\"japanese\",\"destiny\",\"girlie movie\"],[\"criterion\",\"original\",\"cars\",\"technology\",\"complex\"],[\"rock and roll\",\"cult classic\",\"quotable\",\"mockumentary\",\"music business\"],[\"special effects\",\"spiders\",\"bad acting\",\"so bad it's funny\",\"sci fi\"],[\"vampires\",\"vampire\",\"immortality\",\"melancholic\",\"existentialism\"],[\"vampire\",\"virginity\",\"splatter\",\"criterion\",\"vampires\"],[\"mentor\",\"good action\",\"action\",\"cool\",\"fight scenes\"],[\"visually appealing\",\"utopia\",\"marijuana\",\"island\",\"adapted from:book\"],[\"love story\",\"tear jerker\",\"romantic\",\"touching\",\"girlie movie\"],[\"chase\",\"comedy\",\"funny\",\"humorous\",\"saturday night live\"],[\"infidelity\",\"gay character\",\"culture clash\",\"relationships\",\"original\"],[\"cartoon\",\"animation\",\"disney\",\"disney animated feature\",\"musical\"],[\"enigmatic\",\"criterion\",\"childhood\",\"mentor\",\"unlikely friendships\"],[\"criterion\",\"art\",\"intellectual\",\"sexy\",\"talky\"],[\"hitchcock\",\"criterion\",\"spy\",\"espionage\",\"spying\"],[\"insanity\",\"irish accent\",\"mental illness\",\"irish\",\"childhood\"],[\"remake\",\"ghosts\",\"horror\",\"supernatural\",\"original\"],[\"writers\",\"loneliness\",\"melancholic\",\"relationships\",\"dysfunctional family\"],[\"guilt\",\"crime\",\"death\",\"justice\",\"police investigation\"],[\"western\",\"imdb top 250\",\"gunfight\",\"oscar (best directing)\",\"mob\"],[\"comedy\",\"dumb but funny\",\"saturday night live\",\"funniest movies\",\"hilarious\"],[\"musical\",\"music\",\"original\",\"dancing\",\"fun movie\"],[\"france\",\"french\",\"comedy\",\"medieval\",\"culture clash\"],[\"tokyo\",\"japan\",\"monster\",\"better than the american version\",\"monsters\"],[\"franchise\",\"crappy sequel\",\"time loop\",\"sequels\",\"pointless\"],[\"teacher\",\"children\",\"foreign\",\"childhood\",\"original\"],[\"mentor\",\"oscar (best actress)\",\"oscar (best actor)\",\"childhood\",\"sentimental\"],[\"greed\",\"twists & turns\",\"great acting\",\"money\",\"morality\"],[\"splatter\",\"cult film\",\"cult classic\",\"so bad it's funny\",\"original\"],[\"twists & turns\",\"plot twist\",\"twist ending\",\"love story\",\"plot\"],[\"organized crime\",\"mafia\",\"gangsters\",\"gangster\",\"mob\"],[\"comedy\",\"romantic comedy\",\"funny\",\"homeless\",\"very funny\"],[\"romantic comedy\",\"chick flick\",\"romantic\",\"romance\",\"love story\"],[\"reality tv\",\"modern fantasy\",\"original\",\"alone in the world\",\"utopia\"],[\"beauty pageant\",\"small town\",\"based on a play\",\"original\",\"adaptation\"],[\"road movie\",\"criterion\",\"cars\",\"enigmatic\",\"existentialism\"],[\"superhero\",\"super hero\",\"super-hero\",\"based on a comic\",\"superheroes\"],[\"beer\",\"funniest movies\",\"comedy\",\"dumb\",\"saturday night live\"],[\"animation\",\"fairy tale\",\"disney animated feature\",\"kids and family\",\"animated\"],[\"criterion\",\"russia\",\"russian\",\"propaganda\",\"masterpiece\"],[\"innocence lost\",\"sexual abuse\",\"vengeance\",\"child abuse\",\"revenge\"],[\"romantic comedy\",\"romantic\",\"chick flick\",\"destiny\",\"good romantic comedies\"],[\"twists & turns\",\"murder mystery\",\"based on a play\",\"original\",\"thriller\"],[\"martial arts\",\"mentor\",\"good sequel\",\"fighting\",\"sequels\"],[\"death\",\"fighting the system\",\"workplace\",\"dramatic\",\"mentor\"],[\"vampires\",\"vampire\",\"cult classic\",\"horror\",\"splatter\"],[\"hitchcock\",\"death\",\"dark humor\",\"black comedy\",\"suspense\"],[\"assassin\",\"hit men\",\"mentor\",\"hitman\",\"assassins\"],[\"music\",\"musicians\",\"sequels\",\"sequel\",\"good sequel\"],[\"surreal\",\"surrealism\",\"weird\",\"hallucinatory\",\"strange\"],[\"robot\",\"robots\",\"scifi\",\"science fiction\",\"80s\"],[\"intellectual\",\"science fiction\",\"immortality\",\"philosophical\",\"excellent script\"],[\"dance\",\"dancing\",\"hip hop\",\"teen movie\",\"good soundtrack\"],[\"comedy\",\"intellectual\",\"affectionate\",\"goofy\",\"satirical\"],[\"judaism\",\"family drama\",\"dysfunctional family\",\"family bonds\",\"family\"],[\"screwball comedy\",\"classic\",\"san francisco\",\"comedy\",\"chase\"],[\"adultery\",\"relationships\",\"marriage\",\"betrayal\",\"secrets\"],[\"russian\",\"russia\",\"foreign\",\"bleak\",\"poignant\"],[\"comedy\",\"satire\",\"parody\",\"humor\",\"hilarious\"],[\"psychiatry\",\"adapted from:book\",\"weird\",\"based on a book\",\"quirky\"],[\"slasher\",\"franchise\",\"serial killer\",\"murder\",\"teens\"],[\"college\",\"robert downey jr\",\"comedy\",\"goofy\",\"fun movie\"],[\"culture clash\",\"oscar (best actress)\",\"drama\",\"melancholic\",\"relationships\"],[\"remake\",\"alien\",\"aliens\",\"big budget\",\"special effects\"],[\"romantic comedy\",\"chick flick\",\"romantic\",\"girlie movie\",\"sweet\"],[\"wilderness\",\"scenic\",\"cinematography\",\"enigmatic\",\"hunting\"],[\"dysfunctional family\",\"relationships\",\"wedding\",\"sisters\",\"intimate\"],[\"alien\",\"aliens\",\"kids\",\"children\",\"foul language\"],[\"spoof\",\"parody\",\"comedy\",\"hilarious\",\"funniest movies\"],[\"gunfight\",\"western\",\"vengeance\",\"original\",\"mentor\"],[\"good sequel\",\"sequels\",\"sequel\",\"murder\",\"crappy sequel\"],[\"undercover cop\",\"good action\",\"action\",\"drugs\",\"original\"],[\"murder\",\"downbeat\",\"original\",\"talky\",\"drama\"],[\"based on a play\",\"loneliness\",\"talky\",\"drinking\",\"criterion\"],[\"father son relationship\",\"samurai\",\"stylish\",\"father-son relationship\",\"vengeance\"],[\"depression\",\"corruption\",\"heartbreaking\",\"drinking\",\"greed\"],[\"comedy\",\"stereotypes\",\"family\",\"original\",\"lame\"],[\"wuxia\",\"kung fu\",\"fight scenes\",\"desert\",\"cinematography\"],[\"melancholic\",\"enigmatic\",\"masterpiece\",\"obsession\",\"beautifully filmed\"],[\"male nudity\",\"pornography\",\"cult film\",\"sexual\",\"cannibalism\"],[\"psychology\",\"dreams\",\"psychological\",\"mental illness\",\"cerebral\"],[\"dystopic future\",\"fighting the system\",\"futuristic\",\"imagination\",\"visually stunning\"],[\"criterion\",\"melancholic\",\"spanish\",\"intimate\",\"male nudity\"],[\"romantic comedy\",\"chick flick\",\"girlie movie\",\"romantic\",\"sweet\"],[\"comedy\",\"parody\",\"funny\",\"road trip\",\"hilarious\"],[\"irish\",\"based on true story\",\"irish accent\",\"true story\",\"based on a true story\"],[\"criterion\",\"surreal\",\"surrealism\",\"art\",\"weird\"],[\"good action\",\"action\",\"fight scenes\",\"martial arts\",\"car chase\"],[\"weird\",\"horror\",\"splatter\",\"loneliness\",\"creepy\"],[\"spiders\",\"horror\",\"creepy\",\"splatter\",\"grindhouse\"],[\"cult film\",\"weird\",\"surreal\",\"cult classic\",\"low budget\"],[\"criterion\",\"surveillance\",\"bleak\",\"police\",\"police investigation\"],[\"espionage\",\"middle east\",\"spying\",\"spy\",\"terrorism\"],[\"interracial romance\",\"addiction\",\"drama\",\"drug addiction\",\"great acting\"],[\"sexual\",\"enigmatic\",\"obsession\",\"surreal\",\"criterion\"],[\"stranded\",\"survival\",\"island\",\"relationships\",\"nudity (topless - notable)\"],[\"irish\",\"boston\",\"gangsters\",\"life philosophy\",\"murder\"],[\"original\",\"comedy\",\"teen movie\",\"quirky\",\"satirical\"],[\"relationships\",\"happy ending\",\"girlie movie\",\"romantic comedy\",\"romantic\"],[\"lions\",\"animal movie\",\"indians\",\"animals\",\"prison escape\"],[\"adolescence\",\"bittersweet\",\"coming of age\",\"realistic\",\"coming-of-age\"],[\"book was better\",\"based on book\",\"crime\",\"documentary\",\"very interesting\"],[\"brainwashing\",\"political\",\"conspiracy\",\"assassin\",\"politics\"],[\"depression\",\"independent film\",\"loneliness\",\"original\",\"desert\"],[\"road movie\",\"music\",\"musicians\",\"chase\",\"musical\"],[\"visually stunning\",\"life & death\",\"unusual plot structure\",\"cerebral\",\"immortality\"],[\"sentimental\",\"mentor\",\"feel-good\",\"inspiring\",\"coming of age\"]],\"x\":{\"__ndarray__\":\"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\",\"dtype\":\"float32\",\"shape\":[1000]},\"y\":{\"__ndarray__\":\"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\",\"dtype\":\"float32\",\"shape\":[1000]}},\"selected\":{\"id\":\"1141\",\"type\":\"Selection\"},\"selection_policy\":{\"id\":\"1140\",\"type\":\"UnionRenderers\"}},\"id\":\"1090\",\"type\":\"ColumnDataSource\"},{\"attributes\":{},\"id\":\"1094\",\"type\":\"WheelZoomTool\"},{\"attributes\":{\"ticker\":{\"id\":\"1108\",\"type\":\"BasicTicker\"}},\"id\":\"1111\",\"type\":\"Grid\"},{\"attributes\":{\"dimension\":1,\"ticker\":{\"id\":\"1113\",\"type\":\"BasicTicker\"}},\"id\":\"1116\",\"type\":\"Grid\"},{\"attributes\":{},\"id\":\"1092\",\"type\":\"ResetTool\"},{\"attributes\":{\"formatter\":{\"id\":\"1138\",\"type\":\"BasicTickFormatter\"},\"ticker\":{\"id\":\"1113\",\"type\":\"BasicTicker\"}},\"id\":\"1112\",\"type\":\"LinearAxis\"},{\"attributes\":{\"active_drag\":\"auto\",\"active_inspect\":\"auto\",\"active_multi\":null,\"active_scroll\":\"auto\",\"active_tap\":\"auto\",\"tools\":[{\"id\":\"1091\",\"type\":\"HoverTool\"},{\"id\":\"1092\",\"type\":\"ResetTool\"},{\"id\":\"1093\",\"type\":\"PanTool\"},{\"id\":\"1094\",\"type\":\"WheelZoomTool\"},{\"id\":\"1095\",\"type\":\"SaveTool\"}]},\"id\":\"1117\",\"type\":\"Toolbar\"},{\"attributes\":{\"data_source\":{\"id\":\"1090\",\"type\":\"ColumnDataSource\"},\"glyph\":{\"id\":\"1124\",\"type\":\"Circle\"},\"hover_glyph\":null,\"muted_glyph\":null,\"nonselection_glyph\":{\"id\":\"1125\",\"type\":\"Circle\"},\"selection_glyph\":null,\"view\":{\"id\":\"1127\",\"type\":\"CDSView\"}},\"id\":\"1126\",\"type\":\"GlyphRenderer\"},{\"attributes\":{},\"id\":\"1093\",\"type\":\"PanTool\"},{\"attributes\":{},\"id\":\"1095\",\"type\":\"SaveTool\"},{\"attributes\":{\"fill_alpha\":{\"value\":0.5},\"fill_color\":{\"value\":\"#1f77b4\"},\"line_alpha\":{\"value\":0.5},\"line_color\":{\"value\":\"#1f77b4\"},\"size\":{\"units\":\"screen\",\"value\":20},\"x\":{\"field\":\"x\"},\"y\":{\"field\":\"y\"}},\"id\":\"1124\",\"type\":\"Circle\"},{\"attributes\":{\"fill_alpha\":{\"value\":0.1},\"fill_color\":{\"value\":\"#1f77b4\"},\"line_alpha\":{\"value\":0.1},\"line_color\":{\"value\":\"#1f77b4\"},\"size\":{\"units\":\"screen\",\"value\":20},\"x\":{\"field\":\"x\"},\"y\":{\"field\":\"y\"}},\"id\":\"1125\",\"type\":\"Circle\"},{\"attributes\":{\"text\":\"t-SNE 2D-projection\"},\"id\":\"1097\",\"type\":\"Title\"}],\"root_ids\":[\"1096\"]},\"title\":\"Bokeh Application\",\"version\":\"1.4.0\"}};\n",
       "  var render_items = [{\"docid\":\"1713bc53-d4fa-49b1-aa4b-0963ef878363\",\"notebook_comms_target\":\"1142\",\"roots\":{\"1096\":\"c8a2dfce-f60e-4383-bcb9-c2bb2170c71f\"}}];\n",
       "  root.Bokeh.embed.embed_items_notebook(docs_json, render_items);\n",
       "\n",
       "  }\n",
       "  if (root.Bokeh !== undefined) {\n",
       "    embed_document(root);\n",
       "  } else {\n",
       "    var attempts = 0;\n",
       "    var timer = setInterval(function(root) {\n",
       "      if (root.Bokeh !== undefined) {\n",
       "        clearInterval(timer);\n",
       "        embed_document(root);\n",
       "      } else {\n",
       "        attempts++;\n",
       "        if (attempts > 100) {\n",
       "          clearInterval(timer);\n",
       "          console.log(\"Bokeh: ERROR: Unable to run BokehJS code because BokehJS library is missing\");\n",
       "        }\n",
       "      }\n",
       "    }, 10, root)\n",
       "  }\n",
       "})(window);"
      ],
      "application/vnd.bokehjs_exec.v0+json": ""
     },
     "metadata": {
      "application/vnd.bokehjs_exec.v0+json": {
       "id": "1096"
      }
     },
     "output_type": "display_data"
    },
    {
     "data": {
      "text/html": [
       "<p><code>&lt;Bokeh Notebook handle for <strong>In[51]</strong>&gt;</code></p>"
      ],
      "text/plain": [
       "<bokeh.io.notebook.CommsHandle at 0x7f76cc248dd0>"
      ]
     },
     "execution_count": 51,
     "metadata": {},
     "output_type": "execute_result"
    }
   ],
   "source": [
    "cmap = plt.get_cmap('viridis')\n",
    "def val2rgb(val):\n",
    "    return rgb2hex(cmap(val)[:3])\n",
    "\n",
    "source = ColumnDataSource(\n",
    "    data={\n",
    "        \"x\": tsneSample[:,0],\n",
    "        \"y\": tsneSample[:,1],\n",
    "        \"name\": [movies_dict[id_] for id_ in namesSample],\n",
    "#         \"color\": [val2rgb(c) for c in color.reshape(-1,)],\n",
    "        \"tags\": tagNamesSample\n",
    "    })\n",
    "\n",
    "hover = HoverTool(\n",
    "    tooltips=[\n",
    "        (\"name\", \"@name\"),\n",
    "        (\"tags\", \"@tags\")\n",
    "    ])\n",
    "tools = [hover, ResetTool(), PanTool(), WheelZoomTool(), SaveTool()]\n",
    "\n",
    "p = figure(plot_width=960, plot_height=360, tools=tools, title=\"t-SNE 2D-projection\")\n",
    "\n",
    "# p.circle(\"x\", \"y\", source=source, size=20, color=\"color\", alpha=0.5)\n",
    "p.circle(\"x\", \"y\", source=source, size=20, alpha=0.5)\n",
    "show(p, notebook_handle=True)"
   ]
  },
  {
   "cell_type": "markdown",
   "metadata": {},
   "source": [
    "We can appreciate how movies that are part of the same or similar genres are very close in space, almost clustering. \n",
    "\n",
    "For instance, we can see in the bottom-left of the plot how the cartoon movies and family movies are very close, being part of a cluster. We can also see how very different movies are very far in the space, for instance action and war movies are far right on the plot (y>60). \n",
    "\n",
    "So it can be appreciated how this method permit us to plot high-dimensional data into only 2 dimensions while keeping a lot of knowledge."
   ]
  },
  {
   "cell_type": "markdown",
   "metadata": {},
   "source": [
    "Now, it's time to apply and plot PCA-2 to compare with t-SNE."
   ]
  },
  {
   "cell_type": "code",
   "execution_count": 52,
   "metadata": {},
   "outputs": [],
   "source": [
    "prin_dim_2 = eig_vect[idxs[:2]]\n",
    "proj2PCA = prin_dim_2 @ relevances\n",
    "proj2PCA = proj2PCA.T\n",
    "proj2PCA.shape\n",
    "\n",
    "proj2PCA_sample = proj2PCA[sampleIndexes]"
   ]
  },
  {
   "cell_type": "code",
   "execution_count": 53,
   "metadata": {},
   "outputs": [
    {
     "data": {
      "text/html": [
       "\n",
       "\n",
       "\n",
       "\n",
       "\n",
       "\n",
       "  <div class=\"bk-root\" id=\"3093178c-fdc6-40c7-8286-9ffc5fa88165\" data-root-id=\"1191\"></div>\n"
      ]
     },
     "metadata": {},
     "output_type": "display_data"
    },
    {
     "data": {
      "application/javascript": [
       "(function(root) {\n",
       "  function embed_document(root) {\n",
       "    \n",
       "  var docs_json = {\"c36b10c0-9979-46f5-9593-bb3ecb465f2e\":{\"roots\":{\"references\":[{\"attributes\":{\"below\":[{\"id\":\"1202\",\"type\":\"LinearAxis\"}],\"center\":[{\"id\":\"1206\",\"type\":\"Grid\"},{\"id\":\"1211\",\"type\":\"Grid\"}],\"left\":[{\"id\":\"1207\",\"type\":\"LinearAxis\"}],\"plot_height\":360,\"plot_width\":960,\"renderers\":[{\"id\":\"1221\",\"type\":\"GlyphRenderer\"}],\"title\":{\"id\":\"1192\",\"type\":\"Title\"},\"toolbar\":{\"id\":\"1212\",\"type\":\"Toolbar\"},\"x_range\":{\"id\":\"1194\",\"type\":\"DataRange1d\"},\"x_scale\":{\"id\":\"1198\",\"type\":\"LinearScale\"},\"y_range\":{\"id\":\"1196\",\"type\":\"DataRange1d\"},\"y_scale\":{\"id\":\"1200\",\"type\":\"LinearScale\"}},\"id\":\"1191\",\"subtype\":\"Figure\",\"type\":\"Plot\"},{\"attributes\":{\"source\":{\"id\":\"1185\",\"type\":\"ColumnDataSource\"}},\"id\":\"1222\",\"type\":\"CDSView\"},{\"attributes\":{},\"id\":\"1198\",\"type\":\"LinearScale\"},{\"attributes\":{},\"id\":\"1240\",\"type\":\"BasicTickFormatter\"},{\"attributes\":{\"callback\":null},\"id\":\"1196\",\"type\":\"DataRange1d\"},{\"attributes\":{},\"id\":\"1238\",\"type\":\"BasicTickFormatter\"},{\"attributes\":{},\"id\":\"1242\",\"type\":\"UnionRenderers\"},{\"attributes\":{},\"id\":\"1200\",\"type\":\"LinearScale\"},{\"attributes\":{},\"id\":\"1243\",\"type\":\"Selection\"},{\"attributes\":{\"formatter\":{\"id\":\"1238\",\"type\":\"BasicTickFormatter\"},\"ticker\":{\"id\":\"1203\",\"type\":\"BasicTicker\"}},\"id\":\"1202\",\"type\":\"LinearAxis\"},{\"attributes\":{\"callback\":null,\"data\":{\"name\":[\"Message in a Bottle (1999)\",\"Man from Nowhere, The (Ajeossi) (2010)\",\"Bad Moon (1996)\",\"Awakening, The (1980)\",\"Knock Off (1998)\",\"Sicko (2007)\",\"Sin City (2005)\",\"Child, The (L'enfant) (2005)\",\"Swimming to Cambodia (1987)\",\"Circus (2000)\",\"Music From Another Room (1998)\",\"Lonely Hearts (2006)\",\"Made in America (1993)\",\"Tale of Two Sisters, A (Janghwa, Hongryeon) (2003)\",\"Batman & Mr. Freeze: Subzero (1998)\",\"Blue Umbrella, The (2013)\",\"Carrington (1995)\",\"Bride & Prejudice (2004)\",\"Everybody's Famous! (Iedereen beroemd!) (2000)\",\"Along Came a Spider (2001)\",\"Flight (2012)\",\"Going My Way (1944)\",\"Little Romance, A (1979)\",\"Savage Nights (Nuits fauves, Les) (1992)\",\"Wyatt Earp (1994)\",\"Dazed and Confused (1993)\",\"Michael Jackson's This Is It (2009)\",\"Desperado (1995)\",\"Pride and Prejudice (1940)\",\"Chocolat (2000)\",\"Charlie Brown Christmas, A (1965)\",\"Mrs. Doubtfire (1993)\",\"Futurama: Into the Wild Green Yonder (2009)\",\"Fourth Protocol, The (1987)\",\"Man Who Copied, The (Homem Que Copiava, O) (2003)\",\"Live Free or Die Hard (2007)\",\"Ricky Gervais Live 2: Politics (2004)\",\"Postcards From the Edge (1990)\",\"Stoked: The Rise and Fall of Gator (2002)\",\"Triumph of the Will (Triumph des Willens) (1934)\",\"Horrors of Spider Island (Ein Toter Hing im Netz) (1960)\",\"Oliver Twist (2005)\",\"Monkey Business (1952)\",\"Naked Gun 33 1/3: The Final Insult (1994)\",\"That's Entertainment (1974)\",\"Experiment, The (2010)\",\"Passion in the Desert (1998)\",\"Here on Earth (2000)\",\"Comet (2014)\",\"Isle, The (Seom) (2000)\",\"About Last Night... (1986)\",\"2 Fast 2 Furious (Fast and the Furious 2, The) (2003)\",\"Sleuth (2007)\",\"Charlie Brown Christmas, A (1965)\",\"Witless Protection (2008)\",\"Parenthood (1989)\",\"Russian Ark (Russkiy Kovcheg) (2002)\",\"Body and Soul (1947)\",\"Piranha 3DD (a.k.a. Piranha DD) (2012)\",\"In the Valley of Elah (2007)\",\"Dedication (2007)\",\"Rush (1991)\",\"Taken 2 (2012)\",\"Love and a .45 (1994)\",\"Apocalypto (2006)\",\"Dead Pool, The (1988)\",\"Clearing, The (2004)\",\"Undertow (2004)\",\"Terrorist, The (a.k.a. Malli) (Theeviravaathi) (1998)\",\"Love Don't Cost a Thing (2003)\",\"Road Trip: Beer Pong (2009)\",\"Reckoning, The (2004)\",\"My Own Private Idaho (1991)\",\"Return, The (Vozvrashcheniye) (2003)\",\"Counterfeiters, The (Die F\\u00e4lscher) (2007)\",\"Barefoot Executive, The (1971)\",\"Falling Down (1993)\",\"Pride and Glory (2008)\",\"Jin Roh: The Wolf Brigade (Jin-R\\u00f4) (1998)\",\"Reefer Madness (a.k.a. Tell Your Children) (1938)\",\"Atlantis: Milo's Return (2003) \",\"Piano, The (1993)\",\"Running Scared (2006)\",\"Hungarian Fairy Tale, A (Hol volt, hol nem volt) (1987)\",\"Half Past Dead (2002)\",\"Quiet Ones, The (2014)\",\"Guilt Trip, The (2012)\",\"Rampart (2011)\",\"Sansho the Bailiff (Sansh\\u00f4 day\\u00fb) (1954)\",\"Two Jakes, The (1990)\",\"Backdraft (1991)\",\"Bee Movie (2007)\",\"Navy Seals (1990)\",\"Before the Rain (Pred dozhdot) (1994)\",\"Firestarter (1984)\",\"Surrogates (2009)\",\"Tooth Fairy (2010)\",\"Bread and Roses (2000)\",\"Sleepover (2004)\",\"Happening, The (2008)\",\"Kind Hearts and Coronets (1949)\",\"Rum Diary, The (2011)\",\"Out of Time (2003)\",\"Unfinished Life, An (2005)\",\"Bill & Ted's Bogus Journey (1991)\",\"Agora (2009)\",\"Day of the Doctor, The (2013)\",\"In the Bleak Midwinter (1995)\",\"Protocol (1984)\",\"War, Inc. (2008)\",\"Cocoon: The Return (1988)\",\"Burning Plain, The (2008)\",\"Fighter, The (2010)\",\"Official Story, The (La historia oficial) (1985)\",\"Blue Thunder (1983)\",\"So Dear to My Heart (1949)\",\"Stormbreaker (Alex Rider: Operation Stormbreaker) (2006)\",\"Attraction (2000)\",\"Super 8 (2011)\",\"Enter the Void (2009)\",\"Clara's Heart (1988)\",\"Wristcutters: A Love Story (2006)\",\"Born Rich (2003)\",\"Painted Veil, The (2006)\",\"Bad Santa (2003)\",\"Enduring Love (2004)\",\"Order, The (2003)\",\"Othello (1995)\",\"Cloudy with a Chance of Meatballs (2009)\",\"Coco Before Chanel (Coco avant Chanel) (2009)\",\"Two Night Stand (2014)\",\"Sabotage (2014)\",\"Absolute Beginners (1986)\",\"Just Like Heaven (2005)\",\"Past, The (Le pass\\u00e9) (2013)\",\"King of the Hill (1993)\",\"Chopper (2000)\",\"Boondock Saints, The (2000)\",\"Runaways, The (2010)\",\"Pirates! Band of Misfits, The (2012)\",\"Ninth Gate, The (1999)\",\"Midnight in the Garden of Good and Evil (1997)\",\"I Am Love (Io sono l'amore) (2009)\",\"American Pie 2 (2001)\",\"Pagemaster, The (1994)\",\"Unbearable Lightness of Being, The (1988)\",\"Ponette (1996)\",\"Only You (1994)\",\"Longest Yard, The (2005)\",\"Interview with the Vampire: The Vampire Chronicles (1994)\",\"Pauline & Paulette (Pauline en Paulette) (2001)\",\"Little Monsters (1989)\",\"Blue Angel, The (Blaue Engel, Der) (1930)\",\"Incredible Journey, The (1963)\",\"Love, Rosie (2014)\",\"Death Wish 3 (1985)\",\"Commando (1985)\",\"Villain, The (1979)\",\"Young Frankenstein (1974)\",\"Harvey (1950)\",\"Goldfinger (1964)\",\"Battle Creek Brawl (Big Brawl, The) (1980)\",\"International, The (2009)\",\"Shampoo (1975)\",\"Kung Pow: Enter the Fist (2002)\",\"Happy Times (Xingfu shiguang) (2000)\",\"Edukators, The (Die Fetten Jahre sind vorbei) (2004)\",\"How to Lose a Guy in 10 Days (2003)\",\"Across the Universe (2007)\",\"X-Men: The Last Stand (2006)\",\"Doctor Dolittle (1967)\",\"Age of Innocence, The (1993)\",\"Empire (2002)\",\"Gunga Din (1939)\",\"Code Unknown (Code inconnu: R\\u00e9cit incomplet de divers voyages) (2000)\",\"Unknown Soldier, The (Tuntematon sotilas) (1955)\",\"True Grit (1969)\",\"American Astronaut, The (2001)\",\"Far Off Place, A (1993)\",\"Billy Liar (1963)\",\"Julia (2008)\",\"Bring It On (2000)\",\"Family, The (2013)\",\"Cannibal! The Musical (a.k.a. Alferd Packer: The Musical) (1996)\",\"I Like It Like That (1994)\",\"Reform School Girls (1986)\",\"Three Colors: White (Trzy kolory: Bialy) (1994)\",\"Harry Potter and the Prisoner of Azkaban (2004)\",\"Inspector Gadget (1999)\",\"Bread and Chocolate (Pane e cioccolata) (1973)\",\"Story of Us, The (1999)\",\"Turtles Can Fly (Lakposhtha h\\u00e2m parvaz mikonand) (2004)\",\"Girl Who Leapt Through Time, The (Toki o kakeru sh\\u00f4jo) (2006)\",\"Star Chamber, The (1983)\",\"Alvin and the Chipmunks: The Squeakquel (2009)\",\"Born in East L.A. (1987)\",\"Mistress America (2015)\",\"Heart of a Dog (Sobachye serdtse) (1988)\",\"F for Fake (V\\u00e9rit\\u00e9s et mensonges) (1973)\",\"My Demon Lover (1987)\",\"Che: Part Two (2008)\",\"Schindler's List (1993)\",\"Lupin III: The Castle Of Cagliostro (Rupan sansei: Kariosutoro no shiro) (1979)\",\"Puncture (2011)\",\"Starstruck (1982)\",\"Sleeping with Other People (2015)\",\"Eddie Murphy Delirious (1983)\",\"Sexual Life of the Belgians, The (Vie sexuelle des Belges 1950-1978, La) (1994)\",\"Captain Ron (1992)\",\"Heart Condition (1990)\",\"Slumber Party Massacre, The (1982)\",\"Lover's Knot (1996)\",\"Lola (1981)\",\"Killing Fields, The (1984)\",\"Night Falls on Manhattan (1996)\",\"Student Bodies (1981)\",\"City by the Sea (2002)\",\"Handle with Care (a.k.a. Citizen's Band) (1977)\",\"That's Entertainment (1974)\",\"Unknown (2011)\",\"Stepfather II (1989)\",\"Thin Red Line, The (1998)\",\"Rob Roy (1995)\",\"Morning Glory (2010)\",\"Space Jam (1996)\",\"Cloud Atlas (2012)\",\"All the Pretty Horses (2000)\",\"Bad Teacher (2011)\",\"Factotum (2005)\",\"Simpatico (1999)\",\"This Is Where I Leave You (2014)\",\"Zeitgeist: The Movie (2007)\",\"Kids in the Hall: Brain Candy (1996)\",\"Flying Deuces, The (1939)\",\"Coming Home (1978)\",\"Paper Moon (1973)\",\"Bulworth (1998)\",\"Girl on the Bridge, The (Fille sur le pont, La) (1999)\",\"Future, The (2011)\",\"Lady Snowblood (Shurayukihime) (1973)\",\"Bay, The (2012)\",\"Slipper and the Rose, The (1976)\",\"Big Nothing (2006)\",\"Freddy's Dead: The Final Nightmare (Nightmare on Elm Street Part 6: Freddy's Dead, A) (1991)\",\"Dolls (1987)\",\"Nightcap (Merci pour le chocolat) (2000)\",\"Orphanage, The (Orfanato, El) (2007)\",\"In the Shadow of the Moon (2007)\",\"Panther (1995)\",\"Talk of the Town, The (1942)\",\"The Lego Movie (2014)\",\"Mayor of the Sunset Strip (2003)\",\"And Your Mother Too (Y tu mam\\u00e1 tambi\\u00e9n) (2001)\",\"Stuart Saves His Family (1995)\",\"Phantasm (1979)\",\"Cutter's Way (1981)\",\"Day for Night (La Nuit Am\\u00e9ricaine) (1973)\",\"Waste Land (2010)\",\"Long Goodbye, The (1973)\",\"League of Extraordinary Gentlemen, The (a.k.a. LXG) (2003)\",\"Ju Dou (1990)\",\"Dr. T and the Women (2000)\",\"Toy, The (1982)\",\"Heaven's Burning (1997)\",\"Valentin (Valent\\u00edn) (2002)\",\"Percy Jackson & the Olympians: The Lightning Thief (2010)\",\"Kind Hearts and Coronets (1949)\",\"Ice Age: Dawn of the Dinosaurs (2009)\",\"Unaccompanied Minors (2006)\",\"Drag Me to Hell (2009)\",\"Swordfish (2001)\",\"Apocalypse Now (1979)\",\"Craft, The (1996)\",\"Out to Sea (1997)\",\"Crocodile Dundee II (1988)\",\"Holy Smoke (1999)\",\"Adventures of Buckaroo Banzai Across the 8th Dimension, The (1984)\",\"Informant!, The (2009)\",\"Contender, The (2000)\",\"Independent, The (2000)\",\"Gigantic (A Tale of Two Johns) (2002)\",\"After Earth (2013)\",\"In the Name of the King: A Dungeon Siege Tale (2008)\",\"American Pie 2 (2001)\",\"Japanese Story (2003)\",\"Sinbad: Legend of the Seven Seas (2003)\",\"Buffalo Soldiers (2001)\",\"Autumn Sonata (H\\u00f6stsonaten) (1978)\",\"Caveman (1981)\",\"Youngblood (1986)\",\"We're the Millers (2013)\",\"Reno 911!: Miami (2007)\",\"Pet Sematary II (1992)\",\"Apollo 18 (2011)\",\"Red Riding: 1974 (2009)\",\"Nightmare on Elm Street 4: The Dream Master, A (1988)\",\"Querelle (1982)\",\"Faces (1968)\",\"To End All Wars (2001)\",\"Carrie (1976)\",\"Three Faces of Eve, The (1957)\",\"Mosquito Coast, The (1986)\",\"I Still Know What You Did Last Summer (1998)\",\"One, Two, Three (1961)\",\"Sixteen Candles (1984)\",\"Calvary (2014)\",\"Premium Rush (2012)\",\"Osterman Weekend, The (1983)\",\"Scream (1996)\",\"Cars 2 (2011)\",\"Defendor (2009)\",\"Hannibal (2001)\",\"Mechanic, The (2011)\",\"Temptress Moon (Feng Yue) (1996)\",\"Fame (1980)\",\"Nausica\\u00e4 of the Valley of the Wind (Kaze no tani no Naushika) (1984)\",\"Blood Work (2002)\",\"Even the Rain (Tambi\\u00e9n la lluvia) (2010)\",\"Public Enemies (2009)\",\"Charlotte's Web (1973)\",\"Baxter, The (2005)\",\"Queen of the Damned (2002)\",\"Saving Private Ryan (1998)\",\"Crow: City of Angels, The (1996)\",\"Biggie and Tupac (2002)\",\"Before Sunrise (1995)\",\"Cheap Thrills (2013)\",\"Interview with the Vampire: The Vampire Chronicles (1994)\",\"Office Killer (1997)\",\"Decline of the American Empire, The (D\\u00e9clin de l'empire am\\u00e9ricain, Le) (1986)\",\"Gods Must Be Crazy, The (1980)\",\"Switchblade Sisters (1975)\",\"My Chauffeur (1986)\",\"Game of Death (1978)\",\"Angels' Share, The (2012)\",\"Samurai III: Duel on Ganryu Island (a.k.a. Bushido) (Miyamoto Musashi kanketsuhen: kett\\u00f4 Ganry\\u00fbjima) (1956)\",\"Live and Let Die (1973)\",\"Henry: Portrait of a Serial Killer, Part 2 (1998)\",\"Amityville Horror, The (2005)\",\"Scrooged (1988)\",\"Big Business (1988)\",\"Sullivan's Travels (1941)\",\"West Side Story (1961)\",\"Shackleton's Antarctic Adventure (2001)\",\"Jersey Girl (1992)\",\"Messenger, The (2009)\",\"Sex and Lucia (Luc\\u00eda y el sexo) (2001)\",\"Clash of the Titans (2010)\",\"Weekend at Bernie's II (1993)\",\"Pursuit of Happyness, The (2006)\",\"Duellists, The (1977)\",\"Dear Jesse (1997)\",\"Bless the Child (2000)\",\"Little Romance, A (1979)\",\"Celtic Pride (1996)\",\"Hudsucker Proxy, The (1994)\",\"Net, The (1995)\",\"Blood Work (2002)\",\"TPB AFK: The Pirate Bay Away from Keyboard (2013)\",\"Night of the Shooting Stars (Notte di San Lorenzo, La) (1982)\",\"Rhinestone (1984)\",\"Support Your Local Sheriff! (1969)\",\"Eating Raoul (1982)\",\"Hound of the Baskervilles, The (1939)\",\"2 ou 3 choses que je sais d'elle (2 or 3 Things I Know About Her) (1967)\",\"Passion Fish (1992)\",\"Imitation of Life (1959)\",\"What Maisie Knew (2012)\",\"Bad News Bears (2005)\",\"Popeye (1980)\",\"New York Stories (1989)\",\"How the Grinch Stole Christmas (a.k.a. The Grinch) (2000)\",\"Tangled Ever After (2012)\",\"Messenger, The (2009)\",\"When a Stranger Calls (2006)\",\"Matrix Revolutions, The (2003)\",\"Phantom of the Paradise (1974)\",\"Night to Remember, A (1958)\",\"Boondock Saints II: All Saints Day, The (2009)\",\"Replacements, The (2000)\",\"Ghost Ship (2002)\",\"Road Warrior, The (Mad Max 2) (1981)\",\"American Ninja (1985)\",\"Pure Luck (1991)\",\"Hollow Reed (1996)\",\"Oh, Heavenly Dog! (1980)\",\"Bean (1997)\",\"Cube Zero (2004)\",\"Mrs. Dalloway (1997)\",\"Warrior (2011)\",\"Terminator 3: Rise of the Machines (2003)\",\"Revenge of the Nerds II: Nerds in Paradise (1987)\",\"Power of One, The (1992)\",\"My Bloody Valentine (1981)\",\"Barb Wire (1996)\",\"Basic (2003)\",\"Close Encounters of the Third Kind (1977)\",\"City of God (Cidade de Deus) (2002)\",\"Mission: Impossible - Ghost Protocol (2011)\",\"Punch-Drunk Love (2002)\",\"Torch Song Trilogy (1988)\",\"6th Man, The (Sixth Man, The) (1997)\",\"Buffalo '66 (a.k.a. Buffalo 66) (1998)\",\"Veronika Decides to Die (2009)\",\"Ernest & C\\u00e9lestine (Ernest et C\\u00e9lestine) (2012)\",\"Mission: Impossible - Ghost Protocol (2011)\",\"21 and Over (2013)\",\"Twisted (1996)\",\"Running on Empty (1988)\",\"Back to the Beach (1987)\",\"Corrina, Corrina (1994)\",\"Imagine: John Lennon (1988)\",\"Claymation Christmas Celebration, A (1987)\",\"April Fool's Day (1986)\",\"Independent, The (2000)\",\"Red Riding: 1974 (2009)\",\"Field of Dreams (1989)\",\"Young Guns (1988)\",\"Naked Gun 33 1/3: The Final Insult (1994)\",\"Kids (1995)\",\"Windtalkers (2002)\",\"Hudson Hawk (1991)\",\"This Is England (2006)\",\"Firewall (2006)\",\"Don't Look in the Basement! (1973)\",\"Buffalo '66 (a.k.a. Buffalo 66) (1998)\",\"Control (2007)\",\"Levity (2003)\",\"Thieves (Voleurs, Les) (1996)\",\"Snow Angels (2007)\",\"Papillon (1973)\",\"Year My Voice Broke, The (1987)\",\"Detroit Rock City (1999)\",\"Saragossa Manuscript, The (Rekopis znaleziony w Saragossie) (1965)\",\"Liquid Sky (1982)\",\"Woman Next Door, The (Femme d'\\u00e0 c\\u00f4t\\u00e9, La) (1981)\",\"Freaky Friday (1977)\",\"Gonzo: The Life and Work of Dr. Hunter S. Thompson (2008)\",\"Redemption (Hummingbird) (2013)\",\"20 Million Miles to Earth (1957)\",\"Celebration, The (Festen) (1998)\",\"Pumpkinhead (1988)\",\"Mummy's Curse, The (1944)\",\"Maiden Heist, The (2009)\",\"Super Mario Bros. (1993)\",\"King of Comedy, The (1983)\",\"Two Night Stand (2014)\",\"Sex and the City 2 (2010)\",\"Love and Death (1975)\",\"Pitch Black (2000)\",\"Hills Have Eyes, The (1977)\",\"Merlin (1998)\",\"Troll 2 (1990)\",\"Body Heat (1981)\",\"Venice/Venice (1992)\",\"Cyborg (1989)\",\"Tango & Cash (1989)\",\"Madonna: Truth or Dare (1991)\",\"Germany Year Zero (Germania anno zero) (Deutschland im Jahre Null) (1948)\",\"Quigley Down Under (1990)\",\"Survival of the Dead (2009)\",\"No Holds Barred (1989)\",\"Saw VI (2009)\",\"As it is in Heaven (S\\u00e5 som i himmelen) (2004)\",\"Men Who Stare at Goats, The (2009)\",\"Rock School (2005)\",\"Scarlet Letter, The (1995)\",\"Hairdresser's Husband, The (Le mari de la coiffeuse) (1990)\",\"What's Up, Doc? (1972)\",\"Simpatico (1999)\",\"Glass House, The (2001)\",\"Letters from Iwo Jima (2006)\",\"Blue Chips (1994)\",\"Secret Honor (1984)\",\"Takers (2010)\",\"To Live (Huozhe) (1994)\",\"When We Were Kings (1996)\",\"Shoah (1985)\",\"Seeking Justice (2011)\",\"Doug's 1st Movie (1999)\",\"Quartet (2012)\",\"Meet Joe Black (1998)\",\"Walk on the Moon, A (1999)\",\"Return of a Man Called Horse, The (1976)\",\"Summer of '42 (1971)\",\"City of Joy (1992)\",\"Trip, The (2010)\",\"Dear Frankie (2004)\",\"Man on the Moon (1999)\",\"Sabotage (2014)\",\"Stripes (1981)\",\"Mississippi Burning (1988)\",\"Code Name: The Cleaner (2007)\",\"Pie in the Sky (1996)\",\"Beach, The (2000)\",\"Day of the Dead (2008)\",\"Dogfight (1991)\",\"Lars and the Real Girl (2007)\",\"Chorus, The (Choristes, Les) (2004)\",\"Fortune Cookie, The (1966)\",\"House by the Cemetery, The (Quella villa accanto al cimitero) (1981)\",\"Cannery Row (1982)\",\"TV Set, The (2006)\",\"Quincea\\u00f1era (2006)\",\"Gray's Anatomy (1996)\",\"Ladder 49 (2004)\",\"Rugrats Go Wild! (2003)\",\"Jack Goes Boating (2010)\",\"Hotel Chevalier (Part 1 of 'The Darjeeling Limited') (2007)\",\"Collateral Damage (2002)\",\"Foxy Brown (1974)\",\"Bulletproof (1996)\",\"Paris Was a Woman (1995)\",\"Taken (2008)\",\"Great Gatsby, The (1974)\",\"Dirty Dozen, The (1967)\",\"Redbelt (2008)\",\"But I'm a Cheerleader (1999)\",\"Sword and the Sorcerer, The (1982)\",\"Ernest Goes to Jail (1990)\",\"Man in the White Suit, The (1951)\",\"Work of Director Michel Gondry, The (2003)\",\"Out of Towners, The (1970)\",\"Incredibly True Adventure of Two Girls in Love, The (1995)\",\"Match Point (2005)\",\"Broken City (2013)\",\"G.I. Jane (1997)\",\"Slam (1998)\",\"Crystal Fairy & the Magical Cactus and 2012 (2013)\",\"Wanted (2008)\",\"Captain America: The First Avenger (2011)\",\"Since Otar Left (Depuis qu'Otar est parti...) (2003)\",\"Howards End (1992)\",\"Armour of God (Long xiong hu di) (1987)\",\"Punisher, The (1989)\",\"To Be or Not to Be (1983)\",\"All the Pretty Horses (2000)\",\"Trust (2010)\",\"Mr. Smith Goes to Washington (1939)\",\"Rescue Dawn (2006)\",\"Sansho the Bailiff (Sansh\\u00f4 day\\u00fb) (1954)\",\"Prince and the Pauper, The (1937)\",\"Scent of Green Papaya, The (M\\u00f9i du du xhan - L'odeur de la papaye verte) (1993)\",\"Rogue (2007)\",\"Meatballs (1979)\",\"Veronika Decides to Die (2009)\",\"Heaven's Prisoners (1996)\",\"Reader, The (2008)\",\"Wings of the Dove, The (1997)\",\"Bad Timing: A Sensual Obsession (1980)\",\"A Most Violent Year (2014)\",\"Lethal Weapon 4 (1998)\",\"Morons From Outer Space (1985)\",\"To Have, or Not (En avoir (ou pas)) (1995)\",\"Twin Dragons (Shuang long hui) (1992)\",\"Chef (2014)\",\"Breakdown (1997)\",\"El Cid (1961)\",\"Appointment with Death (1988)\",\"Rose Red (2002)\",\"Addams Family Reunion (1998)\",\"Time of the Wolf, The (Le temps du loup) (2003)\",\"Trading Places (1983)\",\"Bang the Drum Slowly (1973)\",\"Sea Inside, The (Mar adentro) (2004)\",\"Celebration, The (Festen) (1998)\",\"Laggies (2014)\",\"Ratatouille (2007)\",\"Phantom of the Opera (1943)\",\"Ring, The (1927)\",\"Fist of Legend (Jing wu ying xiong) (1994)\",\"Big Wedding, The (2013)\",\"Home (2009)\",\"Thunderbirds Are GO (1966)\",\"Phoenix (1998)\",\"Good Girl, The (2002)\",\"Bad News Bears in Breaking Training, The (1977)\",\"Fat Man and Little Boy (1989)\",\"Envy (2004)\",\"Jackass 3D (2010)\",\"Two Bits (1995)\",\"Parenthood (1989)\",\"Divo, Il (2008)\",\"Bobby Jones, Stroke of Genius (2004)\",\"We Bought a Zoo (2011)\",\"Jungle Book, The (1994)\",\"Searching for Bobby Fischer (1993)\",\"Paddington (2014)\",\"Family, The (2013)\",\"Coming to America (1988)\",\"Quadrophenia (1979)\",\"Phantasm III: Lord of the Dead (1994)\",\"My Dog Skip (1999)\",\"My Big Fat Greek Wedding (2002)\",\"Bedroom Window, The (1987)\",\"Partly Cloudy (2009)\",\"American Pop (1981)\",\"Brainstorm (1983)\",\"Extreme Ops (2002)\",\"Rock of Ages (2012)\",\"Ghost World (2001)\",\"Three Musketeers, The (1973)\",\"Shop Around the Corner, The (1940)\",\"Prophet, A (Un Proph\\u00e8te) (2009)\",\"Damage (Fatale) (1992)\",\"Hills Have Eyes II, The (2007)\",\"They Live by Night (1949)\",\"Clay Pigeons (1998)\",\"Ballad of Ramblin' Jack, The (2000)\",\"Too Big to Fail (2011)\",\"Bedazzled (1967)\",\"H.O.T.S. (1979)\",\"After Dark, My Sweet (1990)\",\"Blackbeard's Ghost (1968)\",\"Beverly Hills Cop III (1994)\",\"Phoenix (1998)\",\"Hangover Part II, The (2011)\",\"Dumb & Dumber (Dumb and Dumber) (1994)\",\"Book of Eli, The (2010)\",\"Isle, The (Seom) (2000)\",\"Avalanche (1978)\",\"Young Guns II (1990)\",\"Seeker: The Dark Is Rising, The (2007)\",\"Flesh & Blood (1985)\",\"Another Earth (2011)\",\"Treasure Planet (2002)\",\"Twilight Samurai, The (Tasogare Seibei) (2002)\",\"Love in the Time of Cholera (2007)\",\"Haunted Mansion, The (2003)\",\"Friday the 13th (2009)\",\"Stone Reader (2002)\",\"Nixon (1995)\",\"Alarmist, The (a.k.a. Life During Wartime) (1997)\",\"I Remember Mama (1948)\",\"Beauty Shop (2005)\",\"Avalon (2001)\",\"Continental Divide (1981)\",\"City Island (2009)\",\"Northwest Passage (1940)\",\"Bad Boys II (2003)\",\"Guard, The (2011)\",\"Fracture (2007)\",\"Lord of the Rings, The (1978)\",\"One Million Years B.C. (1966)\",\"Noises Off... (1992)\",\"Shower (Xizao) (1999)\",\"Jackass 2.5 (2007)\",\"Bio-Dome (1996)\",\"Bad News Bears Go to Japan, The (1978)\",\"Evil Dead (2013)\",\"Happy-Go-Lucky (2008)\",\"Running Man, The (1987)\",\"Dreamer: Inspired by a True Story (2005)\",\"Rapture-Palooza (2013)\",\"Vicky Cristina Barcelona (2008)\",\"Yu-Gi-Oh! (2004)\",\"Faces of Death 3 (1985)\",\"Three Ages (1923)\",\"Wild Parrots of Telegraph Hill, The (2003)\",\"Rover, The (2014)\",\"Informers, The (2008)\",\"Benji the Hunted (1987)\",\"Kindergarten Cop (1990)\",\"Battle in Seattle (2007)\",\"Confessional, The (Confessionnal, Le) (1995)\",\"Killers, The (1946)\",\"Friends with Kids (2011)\",\"In-Laws, The (1979)\",\"Testament of Dr. Mabuse, The (Das Testament des Dr. Mabuse) (1933)\",\"Mississippi Masala (1991)\",\"Before I Go to Sleep (2014)\",\"Pirates! Band of Misfits, The (2012)\",\"Femme Nikita, La (Nikita) (1990)\",\"Condemned, The (2007)\",\"Dry White Season, A (1989)\",\"Dangerous Lives of Altar Boys, The (2002)\",\"Blackhat (2015)\",\"Higher Learning (1995)\",\"Gun Crazy (a.k.a. Deadly Is the Female) (1949)\",\"Annie (2014)\",\"Adventures of Elmo in Grouchland, The (1999)\",\"Harry Potter and the Prisoner of Azkaban (2004)\",\"Little Otik (Otes\\u00e1nek) (2000)\",\"Pitch Black (2000)\",\"Nosferatu (Nosferatu, eine Symphonie des Grauens) (1922)\",\"Austenland (2013)\",\"Love & Human Remains (1993)\",\"Judgment at Nuremberg (1961)\",\"Heist (2001)\",\"Last Shot, The (2004)\",\"Veronika Decides to Die (2009)\",\"Jason Goes to Hell: The Final Friday (1993)\",\"Bat, The (1959)\",\"Legend of Zorro, The (2005)\",\"Opera (1987)\",\"Unaccompanied Minors (2006)\",\"End of the Affair, The (1955)\",\"Hostel (2005)\",\"Forgetting Sarah Marshall (2008)\",\"High School High (1996)\",\"Sex and Zen (Rou pu Tuan zhi tou Qing bao Jian) (1992)\",\"Ruins, The (2008)\",\"Deep Impact (1998)\",\"Cloud Atlas (2012)\",\"Khartoum (1966)\",\"Fantasia (1940)\",\"Interstate 60 (2002)\",\"Trust (1990)\",\"Son of Godzilla (Kaij\\u00fbt\\u00f4 no kessen: Gojira no musuko) (1967)\",\"Double Happiness (1994)\",\"Nighthawks (1981)\",\"Welcome Home, Roscoe Jenkins (2008)\",\"RoboCop (1987)\",\"Wag the Dog (1997)\",\"Undead (2003)\",\"Rookie of the Year (1993)\",\"Adore (2013)\",\"Banana Joe (1981)\",\"Art of War, The (2000)\",\"Still Waiting... (2009)\",\"Eyes of Tammy Faye, The (2000)\",\"Cannonball Run II (1984)\",\"Gay Purr-ee (1962)\",\"Kandahar (Safar e Ghandehar) (2001)\",\"Deer Hunter, The (1978)\",\"Star Trek II: The Wrath of Khan (1982)\",\"Surveillance (2008)\",\"Secret Things (Choses secr\\u00e8tes) (2002)\",\"World's Fastest Indian, The (2005)\",\"Iron Man (2008)\",\"Easy A (2010)\",\"My Fair Lady (1964)\",\"Come See the Paradise (1990)\",\"Care Bears Movie II: A New Generation (1986)\",\"Centurion (2010)\",\"White Water Summer (1987)\",\"Revolution Will Not Be Televised, The (a.k.a. Chavez: Inside the Coup) (2003)\",\"Her (2013)\",\"Knight's Tale, A (2001)\",\"Au revoir les enfants (1987)\",\"Biutiful (2010)\",\"Christmas Carol, A (Scrooge) (1951)\",\"Next Friday (2000)\",\"D\\u00e9j\\u00e0 Vu (Deja Vu) (2006)\",\"Hole in the Head, A (1959)\",\"Physician, The (2013)\",\"Wildcats (1986)\",\"Ishtar (1987)\",\"French Lieutenant's Woman, The (1981)\",\"Adventure in Space and Time, An (2013)\",\"Milagro Beanfield War (1988)\",\"Saint of Fort Washington, The (1993)\",\"What We Did on Our Holiday (2014)\",\"Flim-Flam Man, The (1967)\",\"Guy Thing, A (2003)\",\"Drifting Clouds (Kauas pilvet karkaavat) (1996)\",\"Gross Anatomy (a.k.a. A Cut Above) (1989)\",\"Kandahar (Safar e Ghandehar) (2001)\",\"Predator (1987)\",\"Birds, The (1963)\",\"The Hunger Games: Mockingjay - Part 1 (2014)\",\"Messenger: The Story of Joan of Arc, The (1999)\",\"Girl with the Dragon Tattoo, The (2011)\",\"Christmas in July (1940)\",\"Ghost Rider: Spirit of Vengeance (2012)\",\"Morning After, The (1986)\",\"Blue Is the Warmest Color (La vie d'Ad\\u00e8le) (2013)\",\"Last Metro, The (Dernier m\\u00e9tro, Le) (1980)\",\"Flightplan (2005)\",\"Unborn, The (2009)\",\"Man of the Century (1999)\",\"10 Things I Hate About You (1999)\",\"Bandits (1997)\",\"Million Dollar Baby (2004)\",\"Revenge (1990)\",\"Raggedy Man (1981)\",\"My Little Chickadee (1940)\",\"Alaska: Spirit of the Wild (1997)\",\"NeverEnding Story II: The Next Chapter, The (1990)\",\"Saving Grace (2000)\",\"Faces of Death 6 (1996)\",\"Better Off Dead... (1985)\",\"Mask of Zorro, The (1998)\",\"River's Edge (1986)\",\"Soul Plane (2004)\",\"Tempest (1982)\",\"Big Nothing (2006)\",\"Land Girls, The (1998)\",\"Dersu Uzala (1975)\",\"Kaspar Hauser (1993)\",\"Parent Trap, The (1961)\",\"Incredible Burt Wonderstone, The (2013)\",\"Federal Hill (1994)\",\"Chocolat (2000)\",\"Bye Bye, Love (1995)\",\"Ten Canoes (2006)\",\"Pink Panther 2, The (2009)\",\"Interstellar (2014)\",\"I Remember Mama (1948)\",\"Grind (2003)\",\"Falling in Love (1984)\",\"Phoenix (1998)\",\"3 Days to Kill (2014)\",\"Third Miracle, The (1999)\",\"Wild Things (1998)\",\"Hot Pursuit (1987)\",\"Christmas Carol, A (Scrooge) (1951)\",\"City Slickers (1991)\",\"Rescue Dawn (2006)\",\"Eros (2004)\",\"Road to Bali (1952)\",\"Backdraft (1991)\",\"Norma Rae (1979)\",\"Dr. Dolittle 2 (2001)\",\"Fraternity Vacation (1985)\",\"Duck Season (Temporada de patos) (2004)\",\"Fish Tank (2009)\",\"Human Centipede II (Full Sequence), The (2011)\",\"Monterey Pop (1968)\",\"Killer Shrews, The (1959)\",\"Kes (1969)\",\"Into the Arms of Strangers: Stories of the Kindertransport (2000)\",\"It Runs in the Family (2003)\",\"Arn: The Knight Templar (Arn - Tempelriddaren) (2007)\",\"Would You Rather (2012)\",\"Little Mermaid, The (1989)\",\"Detour (1945)\",\"Beautician and the Beast, The (1997)\",\"Big Squeeze, The (1996)\",\"Major Payne (1995)\",\"Dunston Checks In (1996)\",\"Jackass Number Two (2006)\",\"If You Could See What I Hear (1982)\",\"Animal Crackers (1930)\",\"Red Tails (2012)\",\"Spider-Man (2002)\",\"Dark Command (1940)\",\"Panic in Needle Park, The (1971)\",\"Someone to Watch Over Me (1987)\",\"Aces: Iron Eagle III (1992)\",\"Rudy (1993)\",\"Ladybird Ladybird (1994)\",\"How to Succeed in Business Without Really Trying (1967)\",\"Dinner Game, The (D\\u00eener de cons, Le) (1998)\",\"Broken Embraces (Los abrazos rotos) (2009)\",\"That Thing You Do! (1996)\",\"Rite, The (2011)\",\"Coffee and Cigarettes (2003)\",\"Princess Diaries, The (2001)\",\"Karate Kid, The (1984)\",\"Rosewood (1997)\",\"Joyeux No\\u00ebl (Merry Christmas) (2005)\",\"Russian Ark (Russkiy Kovcheg) (2002)\",\"Hunted, The (1995)\",\"Two Much (1995)\",\"G-Force (2009)\",\"Palookaville (1996)\",\"Choke (2008)\",\"First Blood (Rambo: First Blood) (1982)\",\"Stealing Beauty (1996)\",\"M*A*S*H (a.k.a. MASH) (1970)\",\"I Married A Strange Person! (1997)\",\"Who Am I? (Wo shi shei) (1998)\",\"Artemisia (1997)\",\"All the Vermeers in New York (1990)\",\"What's Love Got to Do with It? (1993)\",\"Unreasonable Man, An (2006)\",\"Theory of Flight, The (1998)\",\"Gloria (1980)\",\"Bossa Nova (2000)\",\"Agony and the Ecstasy, The (1965)\",\"Bridge Too Far, A (1977)\",\"My Father the Hero (Mon p\\u00e8re, ce h\\u00e9ros.) (1991)\",\"Going Clear: Scientology and the Prison of Belief (2015)\",\"Affair of the Necklace, The (2001)\",\"Operation Petticoat (1959)\",\"Everybody's All-American (1988)\",\"Vanishing, The (Spoorloos) (1988)\",\"Search for One-eye Jimmy, The (1996)\",\"Pitch Perfect (2012)\",\"Alex Cross (2012)\",\"Encino Man (1992)\",\"Jacob the Liar (Jakob, der L\\u00fcgner) (1975)\",\"Killer Klowns from Outer Space (1988)\",\"Out of the Furnace (Dust to Dust) (Low Dweller, The) (2013)\",\"Megamind (2010)\",\"Cinderella (1997)\",\"Palookaville (1996)\",\"Mobsters (1991)\",\"Temple Grandin (2010)\",\"Stage Beauty (2004)\",\"Hunt For Gollum, The (2009)\",\"Angel Heart (1987)\",\"Ramen Girl, The (2008)\",\"Traffic (Trafic) (1971)\",\"This Is Spinal Tap (1984)\",\"Empire of the Ants (1977)\",\"Only Lovers Left Alive (2013)\",\"Blood for Dracula (Andy Warhol's Dracula) (1974)\",\"Road House (1989)\",\"Beach, The (2000)\",\"City of Angels (1998)\",\"Funny Farm (1988)\",\"For the Moment (1994)\",\"Melody Time (1948)\",\"Where Is the Friend's Home? (Where Is My Friend's House?) (Khane-ye doust kodjast?) (1987)\",\"Collector, The (La collectionneuse) (1967)\",\"39 Steps, The (1935)\",\"Butcher Boy, The (1997)\",\"Shutter (2008)\",\"Winter Passing (2005)\",\"Reservation Road (2007)\",\"Ox-Bow Incident, The (1943)\",\"Almost Heroes (1998)\",\"Best Little Whorehouse in Texas, The (1982)\",\"Visitors, The (Visiteurs, Les) (1993)\",\"King Kong vs. Godzilla (Kingukongu tai Gojira) (1962)\",\"S. Darko (S. Darko: A Donnie Darko Tale) (2009)\",\"Ciao, Professore! (Io speriamo che me la cavo) (1992)\",\"Boys Town (1938)\",\"Simple Plan, A (1998)\",\"Citizen Toxie: The Toxic Avenger IV (2000)\",\"Dot the I (2003)\",\"Bronx Tale, A (1993)\",\"Yes Man (2008)\",\"Kate & Leopold (2001)\",\"Truman Show, The (1998)\",\"Miss Firecracker (1989)\",\"Two-Lane Blacktop (1971)\",\"Steel (1997)\",\"Strange Brew (1983)\",\"Beauty and the Beast (1991)\",\"Alexander Nevsky (Aleksandr Nevskiy) (1938)\",\"Sleepers (1996)\",\"Serendipity (2001)\",\"Deathtrap (1982)\",\"Karate Kid, Part II, The (1986)\",\"Silkwood (1983)\",\"Martin (1977)\",\"Trouble with Harry, The (1955)\",\"Mechanic, The (1972)\",\"Blues Brothers 2000 (1998)\",\"Holy Mountain, The (Monta\\u00f1a sagrada, La) (1973)\",\"Short Circuit (1986)\",\"Man from Earth, The (2007)\",\"Step Up 3D (2010)\",\"Love and Death (1975)\",\"It Runs in the Family (2003)\",\"What's Up, Doc? (1972)\",\"Married Life (2007)\",\"Thief, The (Vor) (1997)\",\"Dictator, The (2012)\",\"Running With Scissors (2006)\",\"Friday the 13th Part V: A New Beginning (1985)\",\"Back to School (1986)\",\"Stella Dallas (1937)\",\"Day the Earth Stood Still, The (2008)\",\"Life as We Know It (2010)\",\"Hunter, The (2011)\",\"Rachel Getting Married (2008)\",\"Aliens in the Attic (2009)\",\"Robin Hood: Men in Tights (1993)\",\"Five Card Stud (a.k.a. 5 Card Stud) (1968)\",\"Psycho II (1983)\",\"Fatal Beauty (1987)\",\"They Drive by Night (1940)\",\"Night of the Iguana, The (1964)\",\"Lone Wolf and Cub: Baby Cart to Hades (Kozure \\u00d4kami: Shinikazeni mukau ubaguruma) (1972)\",\"Seize the Day (1986)\",\"Krippendorf's Tribe (1998)\",\"Warriors of Heaven and Earth (Tian di ying xiong) (2003)\",\"Death in Venice (Morte a Venezia) (1971)\",\"Pink Flamingos (1972)\",\"Take Shelter (2011)\",\"Brazil (1985)\",\"My Life and Times With Antonin Artaud (En compagnie d'Antonin Artaud) (1993)\",\"Sweet Home Alabama (2002)\",\"Year One (2009)\",\"Evelyn (2002)\",\"Golden Age, The (\\u00c2ge d'Or, L') (1930)\",\"Transporter, The (2002)\",\"May (2002)\",\"Kingdom of the Spiders (1977)\",\"Forbidden Zone (1980)\",\"Lost Honor of Katharina Blum, The (Verlorene Ehre der Katharina Blum oder: Wie Gewalt entstehen und wohin sie f\\u00fchren kann, Die) (1975)\",\"Body of Lies (2008)\",\"Things We Lost in the Fire (2007)\",\"Beauty of the Day (Belle de jour) (1967)\",\"Castaway (1986)\",\"Monument Ave. (1998)\",\"Dick (1999)\",\"Breaking Up (1997)\",\"Born Free (1966)\",\"Raising Victor Vargas (2002)\",\"Freakonomics (2010)\",\"Manchurian Candidate, The (1962)\",\"Off the Map (2003)\",\"Honeysuckle Rose (a.k.a. On the Road Again) (1980)\",\"Fountain, The (2006)\",\"Saint Ralph (2004)\"],\"tags\":[[\"love story\",\"romantic\",\"romance\",\"based on a book\",\"chick flick\"],[\"action\",\"vengeance\",\"violence\",\"drama\",\"revenge\"],[\"werewolves\",\"werewolf\",\"dog\",\"horror\",\"original\"],[\"egypt\",\"supernatural\",\"mummy\",\"grindhouse\",\"horror\"],[\"martial arts\",\"kung fu\",\"action\",\"fight scenes\",\"hong kong\"],[\"politics\",\"documentary\",\"social commentary\",\"propaganda\",\"canada\"],[\"graphic novel\",\"based on a comic\",\"adapted from:comic\",\"violence\",\"violent\"],[\"golden palm\",\"adoption\",\"bleak\",\"downbeat\",\"melancholic\"],[\"genocide\",\"storytelling\",\"criterion\",\"existentialism\",\"original\"],[\"gangsters\",\"twists & turns\",\"off-beat comedy\",\"caper\",\"crime\"],[\"romantic\",\"romantic comedy\",\"love story\",\"destiny\",\"romance\"],[\"serial killer\",\"murder\",\"crime\",\"detective\",\"pg-13\"],[\"comedy\",\"funny\",\"original\",\"very funny\",\"happy ending\"],[\"creepy\",\"psychological\",\"tense\",\"psychology\",\"horror\"],[\"dark hero\",\"batman\",\"super hero\",\"super-hero\",\"superheroes\"],[\"animation\",\"short\",\"pixar\",\"computer animation\",\"heartwarming\"],[\"relationships\",\"love\",\"intimate\",\"love story\",\"melancholic\"],[\"indians\",\"bollywood\",\"adapted from:book\",\"colourful\",\"india\"],[\"original\",\"life philosophy\",\"bollywood\",\"culture clash\",\"suprisingly clever\"],[\"secret service\",\"kidnapping\",\"based on a book\",\"twists & turns\",\"plot twist\"],[\"addiction\",\"alcoholism\",\"drinking\",\"great acting\",\"drug abuse\"],[\"oscar (best supporting actor)\",\"oscar (best picture)\",\"oscar (best actor)\",\"oscar (best directing)\",\"oscar\"],[\"romance\",\"love\",\"love story\",\"romantic\",\"paris\"],[\"relationships\",\"life\",\"aids\",\"sexual\",\"mentor\"],[\"gunfight\",\"western\",\"biographical\",\"biopic\",\"oscar (best cinematography)\"],[\"teen\",\"high school\",\"marijuana\",\"weed\",\"teen movie\"],[\"music\",\"documentary\",\"dance\",\"musical\",\"musicians\"],[\"action\",\"stylish\",\"violence\",\"gunfight\",\"good action\"],[\"adapted from:book\",\"literary adaptation\",\"jane austen\",\"based on a book\",\"adaptation\"],[\"oscar (best music - original score)\",\"chocolate\",\"magic realism\",\"small town\",\"sweet\"],[\"christmas\",\"holiday\",\"classic\",\"cartoon\",\"special\"],[\"children\",\"comedy\",\"divorce\",\"family\",\"cross dressing\"],[\"sci fi\",\"series\",\"based on a tv show\",\"great ending\",\"firefly\"],[\"spy\",\"spying\",\"tom clancy\",\"spies\",\"cold war\"],[\"brazil\",\"dreams\",\"rio de janeiro\",\"criterion\",\"money\"],[\"action\",\"action packed\",\"good action\",\"pg-13\",\"explosions\"],[\"politics\",\"world politics\",\"stand-up comedy\",\"funny\",\"political\"],[\"mother daughter relationship\",\"based on book\",\"adapted from:book\",\"drug addiction\",\"addiction\"],[\"sports\",\"documentary\",\"criterion\",\"california\",\"brutality\"],[\"germany\",\"nazis\",\"world war ii\",\"fascism\",\"propaganda\"],[\"spiders\",\"island\",\"stranded\",\"original\",\"horror\"],[\"story\",\"adapted from:book\",\"based on a book\",\"adaptation\",\"classic\"],[\"screwball comedy\",\"screwball\",\"comedy\",\"fun movie\",\"fountain of youth\"],[\"parody\",\"comedy\",\"funny as hell\",\"spoof\",\"hilarious\"],[\"dance\",\"musical\",\"music\",\"oscar (best directing)\",\"dancing\"],[\"prison\",\"psychology\",\"remake\",\"original\",\"psychological\"],[\"visually stunning\",\"egypt\",\"unusual plot structure\",\"desert\",\"imagination\"],[\"love story\",\"teen movie\",\"romance\",\"chick flick\",\"romantic\"],[\"relationships\",\"love story\",\"romantic\",\"love\",\"parallel universe\"],[\"enigmatic\",\"art house\",\"loneliness\",\"brutality\",\"disturbing\"],[\"relationships\",\"love story\",\"romantic\",\"nudity (topless - notable)\",\"sexual\"],[\"cars\",\"racing\",\"undercover cop\",\"action\",\"car chase\"],[\"surveillance\",\"original\",\"remake\",\"twists & turns\",\"based on a play\"],[\"christmas\",\"holiday\",\"classic\",\"cartoon\",\"special\"],[\"idiotic\",\"so bad it's funny\",\"humorous\",\"parody\",\"predictable\"],[\"parenthood\",\"comedy\",\"family\",\"family drama\",\"children\"],[\"18th century\",\"russia\",\"cinematography\",\"enigmatic\",\"art\"],[\"boxing\",\"sports\",\"rags to riches\",\"downbeat\",\"gritty\"],[\"stupid as hell\",\"splatter\",\"horror\",\"original\",\"silly fun\"],[\"powerful ending\",\"iraq war\",\"iraq\",\"investigation\",\"innocence lost\"],[\"quirky\",\"romantic comedy\",\"weird\",\"romance\",\"bittersweet\"],[\"undercover cop\",\"drug addiction\",\"addiction\",\"drugs\",\"corruption\"],[\"kidnapping\",\"action\",\"islam\",\"father daughter relationship\",\"revenge\"],[\"road movie\",\"gangsters\",\"texas\",\"original\",\"strippers\"],[\"violence\",\"brutality\",\"violent\",\"sacrifice\",\"visceral\"],[\"san francisco\",\"series\",\"chase\",\"serial killer\",\"vengeance\"],[\"kidnapping\",\"suspense\",\"twists & turns\",\"original\",\"tense\"],[\"single father\",\"cinematography\",\"runaway\",\"meditative\",\"story\"],[\"visually appealing\",\"reflective\",\"cinematography\",\"life & death\",\"beautifully filmed\"],[\"teen movie\",\"remake\",\"original\",\"hip hop\",\"fight scenes\"],[\"amy smart\",\"teen movie\",\"road trip\",\"teen\",\"predictable\"],[\"murder mystery\",\"medieval\",\"original\",\"mystery\",\"dramatic\"],[\"loneliness\",\"road movie\",\"queer\",\"melancholic\",\"original\"],[\"bleak\",\"childhood\",\"enigmatic\",\"father son relationship\",\"allegory\"],[\"holocaust\",\"nazis\",\"world war ii\",\"jews\",\"oscar (best foreign language film)\"],[\"television\",\"family\",\"satirical\",\"silly\",\"disney\"],[\"vigilantism\",\"violence\",\"vigilante\",\"violent\",\"anti-hero\"],[\"police corruption\",\"police\",\"corruption\",\"crime\",\"police investigation\"],[\"anime\",\"japan\",\"complex\",\"tokyo\",\"forceful\"],[\"marijuana\",\"weed\",\"cult film\",\"drugs\",\"cult classic\"],[\"sequels\",\"animation\",\"sequel\",\"disney\",\"cartoon\"],[\"oscar (best actress)\",\"passionate\",\"amazing cinematography\",\"male nudity\",\"intimate\"],[\"violence\",\"undercover cop\",\"violent\",\"mafia\",\"hit men\"],[\"mozart\",\"visually appealing\",\"tokyo\",\"melancholic\",\"bollywood\"],[\"fight scenes\",\"action\",\"good action\",\"so bad it's funny\",\"prison\"],[\"horror\",\"supernatural\",\"scary\",\"demons\",\"psychological\"],[\"mother-son relationship\",\"road trip\",\"relationships\",\"comedy\",\"new jersey\"],[\"police corruption\",\"police\",\"police investigation\",\"corruption\",\"los angeles\"],[\"criterion\",\"meditative\",\"bittersweet\",\"poignant\",\"masterpiece\"],[\"sequels\",\"sequel\",\"los angeles\",\"original\",\"complex\"],[\"70mm\",\"special effects\",\"action\",\"good action\",\"great movie\"],[\"animation\",\"computer animation\",\"talking animals\",\"animated\",\"kids and family\"],[\"good action\",\"action\",\"military\",\"action packed\",\"weapons\"],[\"criterion\",\"non-linear\",\"melancholic\",\"storytelling\",\"cinematography\"],[\"based on a book\",\"adaptation\",\"adapted from:book\",\"supernatural\",\"special effects\"],[\"dystopic future\",\"robots\",\"future\",\"futuristic\",\"technology\"],[\"silly\",\"predictable\",\"family\",\"script\",\"so bad it's funny\"],[\"politics\",\"political\",\"immigrants\",\"corporate america\",\"workplace\"],[\"girlie movie\",\"teen movie\",\"teen\",\"teens\",\"high school\"],[\"end of the world\",\"natural disaster\",\"so bad it's funny\",\"bad acting\",\"horrible\"],[\"british comedy\",\"imdb top 250\",\"criterion\",\"murder\",\"witty\"],[\"based on a book\",\"drugs\",\"drug abuse\",\"journalism\",\"adapted from:book\"],[\"police investigation\",\"police\",\"twists & turns\",\"corruption\",\"detective\"],[\"good\",\"destiny\",\"mentor\",\"heartwarming\",\"redemption\"],[\"future\",\"rock and roll\",\"time travel\",\"death\",\"adventure\"],[\"christianity\",\"christian\",\"history\",\"islam\",\"religion\"],[\"doctors\",\"time loop\",\"science fiction\",\"war\",\"time\"],[\"shakespeare\",\"ensemble cast\",\"witty\",\"love\",\"original\"],[\"comedy\",\"original\",\"satirical\",\"predictable\",\"romantic\"],[\"war\",\"satire\",\"satirical\",\"original\",\"war movie\"],[\"sequels\",\"sequel\",\"immortality\",\"alien\",\"franchise\"],[\"guilt\",\"storytelling\",\"mother daughter relationship\",\"drama\",\"multiple storylines\"],[\"oscar (best supporting actor)\",\"drama\",\"sports\",\"drug addiction\",\"based on a true story\"],[\"argentina\",\"foreign\",\"oscar (best foreign language film)\",\"latin america\",\"history\"],[\"chase\",\"action\",\"police\",\"good action\",\"surveillance\"],[\"cartoon\",\"disney\",\"animation\",\"simple\",\"animated\"],[\"spy\",\"based on a book\",\"adapted from:book\",\"books\",\"spying\"],[\"relationships\",\"obsession\",\"violent\",\"psychological\",\"sexual\"],[\"alien\",\"sci-fi\",\"aliens\",\"story\",\"small town\"],[\"hallucinatory\",\"psychedelic\",\"visual\",\"pornography\",\"art house\"],[\"family\",\"destiny\",\"catastrophe\",\"original\",\"culture clash\"],[\"afterlife\",\"off-beat comedy\",\"suicide\",\"dark humor\",\"weird\"],[\"money\",\"homeless\",\"kids and family\",\"original\",\"corporate america\"],[\"adultery\",\"period piece\",\"love story\",\"cinematography\",\"china\"],[\"christmas\",\"holiday\",\"foul language\",\"funniest movies\",\"hilarious\"],[\"based on a book\",\"obsession\",\"psychology\",\"psychological\",\"complex\"],[\"supernatural\",\"mentor\",\"plot holes\",\"demons\",\"pointless\"],[\"shakespeare\",\"based on a play\",\"betrayal\",\"adaptation\",\"great acting\"],[\"animation\",\"computer animation\",\"based on a book\",\"story\",\"food\"],[\"fashion\",\"paris\",\"france\",\"french\",\"biopic\"],[\"romantic comedy\",\"romance\",\"relationships\",\"romantic\",\"happy ending\"],[\"action\",\"arnold\",\"good action\",\"car chase\",\"revenge\"],[\"music\",\"rock and roll\",\"musical\",\"1980s\",\"teen movie\"],[\"chick flick\",\"romantic comedy\",\"romantic\",\"sweet\",\"san francisco\"],[\"oscar (best foreign language film)\",\"relationships\",\"iran\",\"social commentary\",\"intimate\"],[\"coming of age\",\"1930s\",\"criterion\",\"depression\",\"adolescence\"],[\"violent\",\"violence\",\"crime\",\"prison\",\"australia\"],[\"vigilantism\",\"irish accent\",\"vigilante\",\"organized crime\",\"brothers\"],[\"rock and roll\",\"drugs\",\"music business\",\"musicians\",\"runaway\"],[\"aardman studios\",\"aardman\",\"animation\",\"stop motion\",\"pirates\"],[\"books\",\"devil\",\"mystery\",\"adapted from:book\",\"based on a book\"],[\"based on a book\",\"adapted from:book\",\"based on book\",\"book\",\"murder\"],[\"intimate\",\"cinematography\",\"relationships\",\"erotic\",\"pornography\"],[\"teen\",\"comedy\",\"teen movie\",\"sequels\",\"good sequel\"],[\"adventure\",\"fantasy\",\"books\",\"original\",\"animation\"],[\"adapted from:book\",\"based on a book\",\"criterion\",\"intimate\",\"melancholic\"],[\"childhood\",\"death\",\"poignant\",\"intimate\",\"beautifully filmed\"],[\"romantic\",\"romantic comedy\",\"robert downey jr\",\"destiny\",\"romance\"],[\"football\",\"remake\",\"comedy\",\"sports\",\"prison\"],[\"vampires\",\"vampire\",\"immortality\",\"adapted from:book\",\"goth\"],[\"independent film\",\"sisters\",\"vampire human love\",\"original\",\"loneliness\"],[\"monsters\",\"original\",\"monster\",\"mentor\",\"fantasy\"],[\"talky\",\"cynical\",\"germany\",\"german\",\"enigmatic\"],[\"animals\",\"disney\",\"animal movie\",\"dog\",\"dogs\"],[\"love\",\"romantic\",\"relationships\",\"based on a book\",\"romantic comedy\"],[\"vigilante\",\"gangs\",\"vigilantism\",\"violence\",\"weapons\"],[\"action\",\"arnold\",\"good action\",\"weapons\",\"chase\"],[\"arnold\",\"parody\",\"comedy\",\"goofy\",\"cartoon\"],[\"spoof\",\"comedy\",\"imdb top 250\",\"parody\",\"quotable\"],[\"imdb top 250\",\"based on a play\",\"oscar (best supporting actress)\",\"imaginary friend\",\"heartwarming\"],[\"007 (series)\",\"007\",\"bond\",\"spying\",\"franchise\"],[\"martial arts\",\"kung fu\",\"gangsters\",\"fight scenes\",\"fighting\"],[\"conspiracy\",\"espionage\",\"thriller\",\"corruption\",\"assassination\"],[\"sexual\",\"satirical\",\"oscar (best supporting actress)\",\"women\",\"sexy\"],[\"parody\",\"spoof\",\"martial arts\",\"kung fu\",\"comedy\"],[\"blindness\",\"workplace\",\"china\",\"intimate\",\"foreign\"],[\"political\",\"idealism\",\"germany\",\"politics\",\"good soundtrack\"],[\"romantic comedy\",\"chick flick\",\"girlie movie\",\"romantic\",\"good romantic comedies\"],[\"beatles\",\"music\",\"lyrical\",\"musical\",\"visually stunning\"],[\"mutants\",\"super hero\",\"superheroes\",\"adapted from:comic\",\"big budget\"],[\"animals\",\"talking animals\",\"musical\",\"fantasy\",\"family\"],[\"costume drama\",\"period piece\",\"literary adaptation\",\"adapted from:book\",\"19th century\"],[\"drugs\",\"gangsters\",\"good soundtrack\",\"corruption\",\"revenge\"],[\"race issues\",\"indians\",\"colonialism\",\"india\",\"adventure\"],[\"criterion\",\"enigmatic\",\"reflective\",\"complex\",\"art house\"],[\"finnish\",\"war\",\"war movie\",\"best war films\",\"based on a book\"],[\"western\",\"gunfight\",\"justice\",\"oscar (best actor)\",\"oscar\"],[\"space\",\"space travel\",\"music\",\"weird\",\"surreal\"],[\"alaska\",\"africa\",\"desert\",\"adventure\",\"based on a book\"],[\"criterion\",\"loneliness\",\"original\",\"dreams\",\"affectionate\"],[\"criterion\",\"greed\",\"original\",\"twists & turns\",\"neo-noir\"],[\"cheerleading\",\"teen movie\",\"teen\",\"high school\",\"girlie movie\"],[\"mafia\",\"gratuitous violence\",\"family\",\"dysfunctional family\",\"family drama\"],[\"cannibalism\",\"musical\",\"splatter\",\"cult film\",\"music\"],[\"vampire human love\",\"original\",\"great\",\"bittersweet\",\"good soundtrack\"],[\"prison\",\"nudity\",\"pornography\",\"sexy\",\"nudity (topless)\"],[\"enigmatic\",\"trilogy\",\"criterion\",\"poland\",\"melancholic\"],[\"emma watson\",\"wizards\",\"adapted from:book\",\"based on book\",\"fantasy world\"],[\"based on a tv show\",\"cartoon\",\"kids and family\",\"original\",\"silly\"],[\"foreign\",\"bittersweet\",\"criterion\",\"golden palm\",\"beautifully filmed\"],[\"marriage\",\"divorce\",\"relationships\",\"romantic\",\"romantic comedy\"],[\"iraq\",\"iraq war\",\"middle east\",\"bleak\",\"camp\"],[\"anime\",\"japan\",\"coming of age\",\"drama\",\"original\"],[\"police investigation\",\"vigilante\",\"lawyers\",\"conspiracy\",\"vigilantism\"],[\"talking animals\",\"kids and family\",\"cute\",\"kids\",\"predictable\"],[\"comedy\",\"immigrants\",\"saturday night live\",\"mexico\",\"original\"],[\"relationships\",\"new york\",\"dialogue driven\",\"dialogue\",\"loneliness\"],[\"russian\",\"social commentary\",\"criterion\",\"masterpiece\",\"satire\"],[\"criterion\",\"art\",\"artist\",\"artistic\",\"fake documentary\"],[\"demons\",\"80s\",\"splatter\",\"so bad it's funny\",\"original\"],[\"criterion\",\"revolution\",\"cuba\",\"based on a true story\",\"biopic\"],[\"jews\",\"holocaust\",\"oscar (best directing)\",\"poland\",\"oscar (best editing)\"],[\"anime\",\"adventure\",\"japan\",\"studio ghibli\",\"miyazaki\"],[\"lawyers\",\"true story\",\"based on true story\",\"greed\",\"corruption\"],[\"australian\",\"music\",\"musical\",\"oil\",\"australia\"],[\"relationships\",\"romantic comedy\",\"sex\",\"romantic\",\"romance\"],[\"stand-up comedy\",\"funny\",\"comedy\",\"hilarious\",\"funny as hell\"],[\"sexual\",\"life philosophy\",\"pornography\",\"childhood\",\"life\"],[\"comedy\",\"adventure\",\"too short\",\"fun movie\",\"family\"],[\"ghosts\",\"vengeance\",\"comedy\",\"life philosophy\",\"original\"],[\"slasher\",\"splatter\",\"horror\",\"nudity\",\"serial killer\"],[\"so bad it's funny\",\"brutality\",\"romantic\",\"gay character\",\"romantic comedy\"],[\"criterion\",\"germany\",\"bleak\",\"obsession\",\"relationships\"],[\"genocide\",\"oscar (best supporting actor)\",\"oscar (best cinematography)\",\"powerful ending\",\"civil war\"],[\"corruption\",\"police corruption\",\"mentor\",\"justice\",\"drama\"],[\"parody\",\"cult classic\",\"spoof\",\"horror\",\"cult film\"],[\"father son relationship\",\"family drama\",\"father-son relationship\",\"redemption\",\"drama\"],[\"grindhouse\",\"radio\",\"criterion\",\"transformation\",\"fight scenes\"],[\"dance\",\"musical\",\"music\",\"oscar (best directing)\",\"dancing\"],[\"conspiracy\",\"amnesia\",\"assassin\",\"plot twist\",\"action\"],[\"slasher\",\"original\",\"splatter\",\"sequels\",\"sequel\"],[\"war movie\",\"war\",\"meditative\",\"best war films\",\"cinematography\"],[\"scotland\",\"sword fight\",\"18th century\",\"sword fighting\",\"historical\"],[\"romantic comedy\",\"chick flick\",\"girlie movie\",\"comedy\",\"entertaining\"],[\"cartoon\",\"sports\",\"animation\",\"basketball\",\"fun\"],[\"future\",\"complex\",\"futuristic\",\"storytelling\",\"visually appealing\"],[\"based on a book\",\"horses\",\"cinematography\",\"beautiful scenery\",\"scenic\"],[\"comedy\",\"teacher\",\"weed\",\"high school\",\"funny\"],[\"writer's life\",\"based on a book\",\"drinking\",\"writers\",\"workplace\"],[\"complex\",\"original\",\"racing\",\"first contact\",\"predictable\"],[\"dysfunctional family\",\"family drama\",\"family bonds\",\"family\",\"spelling bee\"],[\"conspiracy theory\",\"religion\",\"islam\",\"christianity\",\"documentary\"],[\"awesome soundtrack\",\"comedy\",\"weird\",\"drugs\",\"quotable\"],[\"runaway\",\"criterion\",\"secrets\",\"desert\",\"foreign\"],[\"powerful ending\",\"oscar (best actress)\",\"vietnam war\",\"vietnam\",\"war\"],[\"oscar (best supporting actor)\",\"con artists\",\"1930s\",\"oscar (best supporting actress)\",\"black and white\"],[\"political\",\"politics\",\"world politics\",\"interracial romance\",\"satire\"],[\"french\",\"black and white\",\"relationships\",\"beautifully filmed\",\"france\"],[\"relationships\",\"melancholic\",\"weird\",\"existentialism\",\"dreams\"],[\"vengeance\",\"revenge\",\"sword fighting\",\"violent\",\"bloody\"],[\"horror\",\"death\",\"small town\",\"original\",\"survival\"],[\"fairy tale\",\"fairy tales\",\"romantic\",\"musical\",\"life philosophy\"],[\"twists & turns\",\"crime\",\"caper\",\"dark humor\",\"dark comedy\"],[\"franchise\",\"slasher\",\"horror\",\"teens\",\"series\"],[\"stop motion\",\"splatter\",\"creepy\",\"horror\",\"low budget\"],[\"criterion\",\"sexy\",\"secrets\",\"psychological\",\"art house\"],[\"ghosts/afterlife\",\"supernatural\",\"creepy\",\"horror\",\"ghosts\"],[\"astronauts\",\"space program\",\"nasa\",\"space\",\"mars\"],[\"history\",\"true story\",\"factual\",\"very interesting\",\"revolution\"],[\"screwball comedy\",\"comedy\",\"drama\",\"mentor\",\"murder\"],[\"stop motion\",\"computer animation\",\"animation\",\"original\",\"imagination\"],[\"rock and roll\",\"documentary\",\"music\",\"music business\",\"musicians\"],[\"sexual\",\"road trip\",\"male nudity\",\"adolescence\",\"sexuality\"],[\"dysfunctional family\",\"saturday night live\",\"satire\",\"original\",\"humorous\"],[\"author:neil gaiman\",\"horror\",\"cult classic\",\"splatter\",\"creepy\"],[\"downbeat\",\"murder mystery\",\"character study\",\"enigmatic\",\"guilt\"],[\"criterion\",\"affectionate\",\"light\",\"bittersweet\",\"talky\"],[\"artistic\",\"art\",\"artist\",\"documentary\",\"poverty\"],[\"adapted from:book\",\"coen bros\",\"private detective\",\"noir thriller\",\"cynical\"],[\"based on a comic\",\"super hero\",\"superheroes\",\"superhero\",\"big budget\"],[\"powerful ending\",\"tragedy\",\"visually stunning\",\"intimate\",\"adultery\"],[\"women\",\"pointless\",\"original\",\"nudity (full frontal)\",\"satirical\"],[\"comedy\",\"race issues\",\"original\",\"silly fun\",\"fun movie\"],[\"violent\",\"violence\",\"original\",\"very interesting\",\"vengeance\"],[\"argentina\",\"childhood\",\"coming of age\",\"spanish\",\"destiny\"],[\"based on a book\",\"mythology\",\"based on book\",\"adapted from:book\",\"books\"],[\"british comedy\",\"imdb top 250\",\"criterion\",\"murder\",\"witty\"],[\"animation\",\"talking animals\",\"franchise\",\"computer animation\",\"dinosaurs\"],[\"christmas\",\"kids\",\"family\",\"holiday\",\"children\"],[\"horror\",\"supernatural\",\"splatter\",\"demons\",\"scary\"],[\"action\",\"hacking\",\"good action\",\"hackers\",\"cool\"],[\"francis ford copolla\",\"mindfuck\",\"best war films\",\"insanity\",\"oscar (best cinematography)\"],[\"teen\",\"teen movie\",\"goth\",\"witch\",\"high school\"],[\"comedy\",\"fun movie\",\"great\",\"original\",\"fun\"],[\"australia\",\"good sequel\",\"sequels\",\"sequel\",\"adventure\"],[\"erotic\",\"sexual\",\"nudity (full frontal - notable)\",\"australia\",\"nudity (topless - notable)\"],[\"cult classic\",\"cult film\",\"sci-fi\",\"scifi\",\"cult\"],[\"true story\",\"based on a true story\",\"coen bros\",\"greed\",\"corruption\"],[\"world politics\",\"politics\",\"political\",\"president\",\"political corruption\"],[\"weird\",\"comedy\",\"humorous\",\"great\",\"farce\"],[\"documentary\",\"weird\",\"original\",\"lyrical\",\"affectionate\"],[\"sci-fi\",\"sci fi\",\"scifi\",\"future\",\"father son relationship\"],[\"video game adaptation\",\"based on a video game\",\"horrible\",\"fantasy\",\"bad acting\"],[\"teen\",\"comedy\",\"teen movie\",\"sequels\",\"good sequel\"],[\"australia\",\"culture clash\",\"australian\",\"drama\",\"melancholic\"],[\"animation\",\"adventure\",\"computer animation\",\"animated\",\"swashbuckler\"],[\"military\",\"drugs\",\"corruption\",\"weapons\",\"anti-hero\"],[\"mother daughter relationship\",\"criterion\",\"reflective\",\"intimate\",\"melancholic\"],[\"silly fun\",\"parody\",\"goofy\",\"spoof\",\"silly\"],[\"sports\",\"mentor\",\"fighting\",\"underdog\",\"football\"],[\"weed\",\"marijuana\",\"comedy\",\"funny\",\"hilarious\"],[\"based on a tv show\",\"reality tv\",\"male nudity\",\"police\",\"comedy\"],[\"horror\",\"splatter\",\"sequels\",\"good sequel\",\"original\"],[\"astronauts\",\"space\",\"nasa\",\"space program\",\"sci-fi\"],[\"police corruption\",\"serial killer\",\"corruption\",\"crime\",\"investigation\"],[\"franchise\",\"slasher\",\"dreams\",\"serial killer\",\"teens\"],[\"homosexuality\",\"queer\",\"gay\",\"sexual\",\"glbt\"],[\"criterion\",\"talky\",\"bleak\",\"intimate\",\"stylized\"],[\"world war ii\",\"wwii\",\"best war films\",\"war\",\"sacrifice\"],[\"horror\",\"adapted from:book\",\"bullying\",\"creepy\",\"high school\"],[\"psychiatry\",\"oscar (best actress)\",\"psychology\",\"schizophrenia\",\"mental illness\"],[\"based on a book\",\"adapted from:book\",\"jungle\",\"obsession\",\"eccentricity\"],[\"slasher\",\"horror\",\"sequels\",\"good sequel\",\"predictable\"],[\"cold war\",\"comedy\",\"germany\",\"farce\",\"berlin\"],[\"teen movie\",\"teen\",\"geeks\",\"teens\",\"1980s\"],[\"irish\",\"irish accent\",\"father daughter relationship\",\"catholicism\",\"bleak\"],[\"chase\",\"fast paced\",\"action\",\"new york city\",\"original\"],[\"espionage\",\"spying\",\"nudity (topless)\",\"complex\",\"surveillance\"],[\"horror\",\"slasher\",\"teen\",\"teen movie\",\"suspense\"],[\"cars\",\"computer animation\",\"animation\",\"pixar animation\",\"pixar\"],[\"superhero\",\"super hero\",\"superheroes\",\"vigilante\",\"vigilantism\"],[\"serial killer\",\"hannibal lecter\",\"based on a book\",\"cannibalism\",\"adapted from:book\"],[\"assassin\",\"action\",\"hit men\",\"mentor\",\"good action\"],[\"china\",\"melancholic\",\"dysfunctional family\",\"betrayal\",\"cinematography\"],[\"music\",\"high school\",\"dance\",\"teen movie\",\"teen\"],[\"miyazaki\",\"japan\",\"anime\",\"fantasy world\",\"imagination\"],[\"police investigation\",\"detective\",\"murder mystery\",\"chase\",\"murder\"],[\"foreign\",\"rebellion\",\"spanish\",\"mentor\",\"indians\"],[\"gangsters\",\"1930s\",\"bank robbery\",\"organized crime\",\"gunfight\"],[\"animals\",\"animation\",\"cartoon\",\"children\",\"based on book\"],[\"quirky\",\"romantic comedy\",\"romantic\",\"sweet\",\"relationships\"],[\"vampires\",\"vampire\",\"based on a book\",\"goth\",\"book was better\"],[\"best war films\",\"oscar (best directing)\",\"war\",\"oscar (best cinematography)\",\"wwii\"],[\"good sequel\",\"dark hero\",\"sequel\",\"sequels\",\"original\"],[\"hip hop\",\"documentary\",\"murder\",\"death\",\"very interesting\"],[\"romantic\",\"dialogue driven\",\"love story\",\"romance\",\"vienna\"],[\"greed\",\"dark humor\",\"tense\",\"dark comedy\",\"twists & turns\"],[\"vampires\",\"vampire\",\"immortality\",\"adapted from:book\",\"goth\"],[\"workplace\",\"weird\",\"pornography\",\"graphic novel\",\"original\"],[\"dialogue driven\",\"sexual\",\"intellectual\",\"relationships\",\"talky\"],[\"africa\",\"culture clash\",\"comedy\",\"humorous\",\"slapstick\"],[\"race issues\",\"gangs\",\"original\",\"bullying\",\"cult film\"],[\"romantic comedy\",\"cute!\",\"cute\",\"light\",\"silly fun\"],[\"martial arts\",\"kung fu\",\"fight scenes\",\"fighting\",\"hong kong\"],[\"scotland\",\"drugs\",\"drinking\",\"drama\",\"violence\"],[\"criterion\",\"japan\",\"trilogy\",\"samurai\",\"oscar (best foreign language film)\"],[\"007 (series)\",\"007\",\"bond\",\"franchise\",\"espionage\"],[\"serial killer\",\"sequels\",\"murder\",\"slasher\",\"original\"],[\"remake\",\"horror\",\"haunted house\",\"ghosts\",\"supernatural\"],[\"christmas\",\"holiday\",\"ghosts\",\"comedy\",\"original\"],[\"comedy\",\"original\",\"80s\",\"mentor\",\"destiny\"],[\"criterion\",\"social commentary\",\"poverty\",\"comedy\",\"satire\"],[\"oscar (best cinematography)\",\"music\",\"dance\",\"musical\",\"gangs\"],[\"antarctica\",\"1930s\",\"documentary\",\"story\",\"oscar (best actress)\"],[\"new jersey\",\"romantic comedy\",\"happy ending\",\"chick flick\",\"romantic\"],[\"military\",\"great acting\",\"dramatic\",\"death\",\"emotional\"],[\"male nudity\",\"writer's life\",\"sexual\",\"pornography\",\"sex\"],[\"mythology\",\"special effects\",\"remake\",\"action\",\"cgi\"],[\"sequel\",\"sequels\",\"crappy sequel\",\"goofy\",\"so bad it's funny\"],[\"single father\",\"homeless\",\"touching\",\"rags to riches\",\"based on a true story\"],[\"sword fighting\",\"visual\",\"cinematography\",\"masterpiece\",\"period piece\"],[\"homophobia\",\"politics\",\"homosexuality\",\"documentary\",\"unusual plot structure\"],[\"devil\",\"supernatural\",\"god\",\"religion\",\"special effects\"],[\"romance\",\"love\",\"love story\",\"romantic\",\"paris\"],[\"sports\",\"basketball\",\"boston\",\"comedy\",\"goofy\"],[\"coen bros\",\"coen brothers\",\"whimsical\",\"original\",\"quirky\"],[\"internet\",\"hacking\",\"conspiracy\",\"technology\",\"hackers\"],[\"police investigation\",\"detective\",\"murder mystery\",\"chase\",\"murder\"],[\"internet\",\"documentary\",\"greed\",\"capitalism\",\"fighting the system\"],[\"world war ii\",\"fascism\",\"wwii\",\"nazis\",\"golden palm\"],[\"music business\",\"comedy\",\"original\",\"predictable\",\"bad plot\"],[\"western\",\"gunfight\",\"spoof\",\"comedy\",\"goofy\"],[\"dark humor\",\"black comedy\",\"cult film\",\"original\",\"criterion\"],[\"adapted from:book\",\"classic\",\"murder\",\"mad scientist\",\"original\"],[\"criterion\",\"meditative\",\"intellectual\",\"talky\",\"golden palm\"],[\"friendship\",\"small town\",\"relationships\",\"loneliness\",\"unlikely friendships\"],[\"race issues\",\"mother daughter relationship\",\"amazing cinematography\",\"intimate\",\"talky\"],[\"parenthood\",\"spelling bee\",\"divorce\",\"heartbreaking\",\"childhood\"],[\"remake\",\"sports\",\"original\",\"comedy\",\"baseball\"],[\"adapted from:comic\",\"cartoon\",\"original\",\"musical\",\"dialogue\"],[\"new york\",\"midlife crisis\",\"new york city\",\"life\",\"melancholic\"],[\"christmas\",\"holiday\",\"dr. seuss\",\"story\",\"based on a book\"],[\"animation\",\"too short\",\"sequel\",\"good sequel\",\"love\"],[\"military\",\"great acting\",\"dramatic\",\"death\",\"emotional\"],[\"remake\",\"original\",\"predictable\",\"teen movie\",\"pg-13\"],[\"trilogy\",\"man versus machine\",\"fight scenes\",\"visually stunning\",\"technology\"],[\"music\",\"rock and roll\",\"musical\",\"cult film\",\"cult classic\"],[\"criterion\",\"factual\",\"dramatic\",\"tragedy\",\"historical\"],[\"vigilante\",\"sequels\",\"sequel\",\"vigilantism\",\"good sequel\"],[\"football\",\"sports\",\"cheerleading\",\"comedy\",\"feel-good\"],[\"ghosts\",\"horror\",\"supernatural\",\"original\",\"bad acting\"],[\"post apocalyptic\",\"lone hero\",\"post-apocalyptic\",\"futuristic\",\"action\"],[\"ninja\",\"martial arts\",\"action\",\"fight scenes\",\"kung fu\"],[\"too short\",\"comedy\",\"original\",\"predictable\",\"very funny\"],[\"gay character\",\"parenthood\",\"gay\",\"intimate\",\"drama\"],[\"dog\",\"chase\",\"fantasy\",\"fun movie\",\"camp\"],[\"comedy\",\"series\",\"based on a tv show\",\"hilarious\",\"original\"],[\"sci-fi\",\"original\",\"scifi\",\"sci fi\",\"prequel\"],[\"adapted from:book\",\"adaptation\",\"costume drama\",\"books\",\"book\"],[\"fighting\",\"brothers\",\"redemption\",\"martial arts\",\"emotional\"],[\"future\",\"action\",\"cyborgs\",\"franchise\",\"arnold\"],[\"sequels\",\"sequel\",\"nerds\",\"crappy sequel\",\"good sequel\"],[\"based on book\",\"based on a book\",\"adapted from:book\",\"book\",\"books\"],[\"slasher\",\"splatter\",\"horror\",\"bloody\",\"cult classic\"],[\"based on a comic\",\"cyberpunk\",\"futuristic\",\"nudity (topless)\",\"good action\"],[\"twists & turns\",\"military\",\"plot twist\",\"twist ending\",\"surprise ending\"],[\"alien\",\"aliens\",\"oscar (best cinematography)\",\"spielberg\",\"first contact\"],[\"violence\",\"violent\",\"amazing cinematography\",\"amazing photography\",\"gangs\"],[\"action\",\"franchise\",\"espionage\",\"good action\",\"action packed\"],[\"weird\",\"surreal\",\"loneliness\",\"love\",\"original\"],[\"gay character\",\"gay\",\"queer\",\"transgender\",\"homosexuality\"],[\"sports\",\"basketball\",\"comedy\",\"original\",\"new jersey\"],[\"quirky\",\"independent film\",\"loneliness\",\"melancholic\",\"stylized\"],[\"based on a book\",\"intense\",\"suicide\",\"complex\",\"mental illness\"],[\"oscar (best animated feature)\",\"animation\",\"friendship\",\"animated\",\"visually appealing\"],[\"action\",\"franchise\",\"espionage\",\"good action\",\"action packed\"],[\"drinking\",\"college\",\"male nudity\",\"crude humor\",\"teen movie\"],[\"gay\",\"violent\",\"girlie movie\",\"teen movie\",\"romantic comedy\"],[\"drama\",\"family drama\",\"family\",\"parenthood\",\"rebellion\"],[\"silly fun\",\"fun movie\",\"original\",\"parody\",\"fun\"],[\"interracial romance\",\"race issues\",\"heartwarming\",\"children\",\"death\"],[\"beatles\",\"rock and roll\",\"musicians\",\"biographical\",\"biography\"],[\"christmas\",\"holiday\",\"stop motion\",\"claymation\",\"original\"],[\"slasher\",\"horror\",\"twist ending\",\"splatter\",\"surprise ending\"],[\"weird\",\"comedy\",\"humorous\",\"great\",\"farce\"],[\"police corruption\",\"serial killer\",\"corruption\",\"crime\",\"investigation\"],[\"baseball\",\"sports\",\"feel-good\",\"fantasy\",\"father son relationship\"],[\"western\",\"gunfight\",\"mentor\",\"revenge\",\"vengeance\"],[\"parody\",\"comedy\",\"funny as hell\",\"spoof\",\"hilarious\"],[\"drugs\",\"pornography\",\"teen\",\"golden palm\",\"sex\"],[\"world war ii\",\"wwii\",\"native americans\",\"wartime\",\"war\"],[\"silly fun\",\"silly\",\"comedy\",\"fun movie\",\"goofy\"],[\"skinhead\",\"coming of age\",\"england\",\"1980s\",\"bullying\"],[\"action\",\"hacking\",\"kidnapping\",\"tom clancy\",\"bank robbery\"],[\"horror\",\"splatter\",\"low budget\",\"original\",\"insanity\"],[\"quirky\",\"independent film\",\"loneliness\",\"melancholic\",\"stylized\"],[\"biopic\",\"musicians\",\"rock and roll\",\"bleak\",\"music\"],[\"redemption\",\"independent film\",\"life philosophy\",\"amazing cinematography\",\"storytelling\"],[\"criterion\",\"crime\",\"character study\",\"enigmatic\",\"relationships\"],[\"relationships\",\"melancholic\",\"loneliness\",\"intimate\",\"downbeat\"],[\"prison escape\",\"based on a book\",\"prison\",\"based on book\",\"based on a true story\"],[\"criterion\",\"loneliness\",\"australia\",\"adolescence\",\"small town\"],[\"rock and roll\",\"teen\",\"teen movie\",\"high school\",\"awesome soundtrack\"],[\"enigmatic\",\"literary adaptation\",\"meditative\",\"hallucinatory\",\"18th century\"],[\"weird\",\"alien\",\"aliens\",\"cult film\",\"cult classic\"],[\"melancholic\",\"love\",\"adultery\",\"intimate\",\"passionate\"],[\"switching places\",\"family\",\"disney\",\"children\",\"fun movie\"],[\"narrated\",\"biographical\",\"biography\",\"journalism\",\"drugs\"],[\"homeless\",\"fight scenes\",\"london\",\"redemption\",\"gangsters\"],[\"alien\",\"stop motion\",\"scifi\",\"sci fi\",\"monsters\"],[\"secrets\",\"dysfunctional family\",\"sexual abuse\",\"intimate\",\"great acting\"],[\"oscar (best effects - visual effects)\",\"horror\",\"demons\",\"creepy\",\"witch\"],[\"mummy\",\"egypt\",\"monster\",\"series\",\"original\"],[\"heist\",\"caper\",\"art\",\"original\",\"obsession\"],[\"based on a video game\",\"video game\",\"video game adaptation\",\"adapted from:game\",\"videogame\"],[\"obsession\",\"golden palm\",\"satirical\",\"loneliness\",\"character study\"],[\"romantic comedy\",\"romance\",\"relationships\",\"romantic\",\"happy ending\"],[\"based on a tv show\",\"girlie movie\",\"fashion\",\"shopping\",\"relationships\"],[\"comedy\",\"intellectual\",\"affectionate\",\"goofy\",\"satirical\"],[\"alien\",\"sci-fi\",\"scifi\",\"aliens\",\"science fiction\"],[\"horror\",\"cannibalism\",\"gruesome\",\"creepy\",\"splatter\"],[\"medieval\",\"dark fantasy\",\"wizards\",\"fantasy\",\"magic\"],[\"so bad it's funny\",\"bad acting\",\"so bad it's good\",\"horrible\",\"cult film\"],[\"neo-noir\",\"noir\",\"twists & turns\",\"erotic\",\"sexy\"],[\"metaphysics\",\"women\",\"parallel universe\",\"mentor\",\"memory loss\"],[\"cyborgs\",\"post apocalyptic\",\"action\",\"lone hero\",\"fight scenes\"],[\"action\",\"good action\",\"buddy movie\",\"action packed\",\"undercover cop\"],[\"documentary\",\"girlie movie\",\"queer\",\"pornography\",\"controversial\"],[\"criterion\",\"bleak\",\"germany\",\"world war ii\",\"masterpiece\"],[\"western\",\"gunfight\",\"action\",\"australia\",\"destiny\"],[\"zombie\",\"zombies\",\"splatter\",\"so bad it's funny\",\"stupid as hell\"],[\"fun movie\",\"so bad it's funny\",\"original\",\"horrible\",\"predictable\"],[\"franchise\",\"serial killer\",\"twist ending\",\"torture\",\"gory\"],[\"music\",\"life & death\",\"life philosophy\",\"feel-good\",\"touching\"],[\"coen bros\",\"absurd\",\"based on a book\",\"military\",\"comedy\"],[\"rock and roll\",\"musicians\",\"music business\",\"kids\",\"original\"],[\"based on a book\",\"based on book\",\"literature\",\"book\",\"adaptation\"],[\"obsession\",\"love\",\"bittersweet\",\"passionate\",\"relationships\"],[\"screwball comedy\",\"classic\",\"san francisco\",\"comedy\",\"chase\"],[\"complex\",\"original\",\"racing\",\"first contact\",\"predictable\"],[\"thriller\",\"suspenseful\",\"suspense\",\"predictable\",\"twists & turns\"],[\"world war ii\",\"japan\",\"oscar (best directing)\",\"best war films\",\"wwii\"],[\"sports\",\"basketball\",\"college\",\"golf\",\"original\"],[\"criterion\",\"enigmatic\",\"original\",\"political\",\"claustrophobic\"],[\"heist\",\"bank robbery\",\"caper\",\"robbery\",\"action\"],[\"china\",\"revolution\",\"communism\",\"intimate\",\"tragedy\"],[\"documentary\",\"sports\",\"africa\",\"inspiring\",\"boxing\"],[\"holocaust\",\"jews\",\"nazis\",\"criterion\",\"poland\"],[\"conspiracy\",\"vigilante\",\"plot holes\",\"new orleans\",\"vigilantism\"],[\"cartoon\",\"based on a tv show\",\"animation\",\"kids\",\"disney\"],[\"musicians\",\"based on a play\",\"classical music\",\"directorial debut\",\"aging\"],[\"ghosts/afterlife\",\"death\",\"life & death\",\"love story\",\"destiny\"],[\"adultery\",\"infidelity\",\"bittersweet\",\"midlife crisis\",\"mother daughter relationship\"],[\"indians\",\"native americans\",\"sequels\",\"horses\",\"sequel\"],[\"coming of age\",\"adolescence\",\"coming-of-age\",\"nostalgic\",\"bittersweet\"],[\"indians\",\"india\",\"life philosophy\",\"redemption\",\"based on a book\"],[\"england\",\"road trip\",\"british comedy\",\"loneliness\",\"midlife crisis\"],[\"touching\",\"mother-son relationship\",\"emotional\",\"heartbreaking\",\"bittersweet\"],[\"biographical\",\"biopic\",\"biography\",\"eccentricity\",\"original\"],[\"action\",\"arnold\",\"good action\",\"car chase\",\"revenge\"],[\"comedy\",\"military\",\"hilarious\",\"funny\",\"nudity (topless - notable)\"],[\"oscar (best cinematography)\",\"segregation\",\"based on a true story\",\"true story\",\"drama\"],[\"so bad it's funny\",\"bad plot\",\"espionage\",\"predictable\",\"action\"],[\"nudity (topless - notable)\",\"romantic\",\"romance\",\"obsession\",\"relationships\"],[\"visually appealing\",\"utopia\",\"marijuana\",\"island\",\"adapted from:book\"],[\"zombies\",\"virus\",\"zombie\",\"splatter\",\"remake\"],[\"innocence lost\",\"love story\",\"vietnam war\",\"original\",\"romantic\"],[\"small town\",\"loneliness\",\"touching\",\"sweet\",\"heartwarming\"],[\"mentor\",\"music\",\"france\",\"boarding school\",\"french\"],[\"oscar (best supporting actor)\",\"greed\",\"lawyers\",\"comedy\",\"great\"],[\"splatter\",\"horror\",\"creepy\",\"gory\",\"bloody\"],[\"adapted from:book\",\"based on a book\",\"books\",\"book\",\"based on book\"],[\"writers\",\"satire\",\"comedy\",\"television\",\"original\"],[\"gay\",\"gay character\",\"homosexuality\",\"pregnancy\",\"family bonds\"],[\"criterion\",\"storytelling\",\"visual\",\"original\",\"doctors\"],[\"sacrifice\",\"mentor\",\"courage\",\"life & death\",\"action\"],[\"family\",\"based on a tv show\",\"talking animals\",\"island\",\"animation\"],[\"relationships\",\"loneliness\",\"intimate\",\"based on a play\",\"marriage\"],[\"hotel\",\"relationships\",\"melancholic\",\"weird\",\"criterion\"],[\"arnold\",\"action\",\"explosions\",\"good action\",\"terrorism\"],[\"blaxploitation\",\"vigilante\",\"vengeance\",\"violent\",\"revenge\"],[\"undercover cop\",\"action\",\"good action\",\"comedy\",\"buddy movie\"],[\"lesbian\",\"relationships\",\"documentary\",\"women\",\"gay\"],[\"father daughter relationship\",\"action\",\"good action\",\"kidnapping\",\"fast paced\"],[\"adapted from:book\",\"based on a book\",\"based on book\",\"book\",\"literary adaptation\"],[\"world war ii\",\"best war films\",\"wwii\",\"ensemble cast\",\"war\"],[\"martial arts\",\"fighting the system\",\"fighting\",\"fight scenes\",\"original\"],[\"cheerleading\",\"gay character\",\"gay\",\"homosexuality\",\"queer\"],[\"fantasy\",\"adventure\",\"good versus evil\",\"fun movie\",\"special effects\"],[\"goofy\",\"camp\",\"humorous\",\"original\",\"silly fun\"],[\"british comedy\",\"satirical\",\"witty\",\"affectionate\",\"england\"],[\"creativity\",\"surreal\",\"weird\",\"imagination\",\"french\"],[\"new york city\",\"ethnic conflict\",\"new york\",\"comedy\",\"mentor\"],[\"lesbian\",\"coming of age\",\"gay\",\"teen\",\"adolescence\"],[\"obsession\",\"london\",\"non-hollywood ending\",\"adultery\",\"infidelity\"],[\"political corruption\",\"corruption\",\"politics\",\"twists & turns\",\"conspiracy\"],[\"military\",\"women\",\"girlie movie\",\"action\",\"political corruption\"],[\"marijuana\",\"drugs\",\"prison\",\"violence\",\"weed\"],[\"road trip\",\"drugs\",\"pornography\",\"drinking\",\"original\"],[\"based on a comic\",\"assassin\",\"action\",\"adapted from:comic\",\"action packed\"],[\"superhero\",\"super hero\",\"superheroes\",\"marvel\",\"based on a comic\"],[\"pornography\",\"harsh\",\"intimate\",\"criterion\",\"french\"],[\"costume drama\",\"oscar (best actress)\",\"criterion\",\"period piece\",\"amazing cinematography\"],[\"kung fu\",\"martial arts\",\"fight scenes\",\"hong kong\",\"action\"],[\"adapted from:comic\",\"based on a comic\",\"vigilante\",\"action\",\"comic book\"],[\"world war ii\",\"nazis\",\"wartime\",\"nazi\",\"jews\"],[\"based on a book\",\"horses\",\"cinematography\",\"beautiful scenery\",\"scenic\"],[\"rape\",\"pornography\",\"sexual abuse\",\"vengeance\",\"internet\"],[\"political\",\"political corruption\",\"politics\",\"idealism\",\"world politics\"],[\"prison escape\",\"true story\",\"jungle\",\"survival\",\"based on a true story\"],[\"criterion\",\"meditative\",\"bittersweet\",\"poignant\",\"masterpiece\"],[\"adapted from:book\",\"mentor\",\"classic\",\"story\",\"swashbuckler\"],[\"beautifully filmed\",\"visually appealing\",\"cinematography\",\"meditative\",\"visually stunning\"],[\"splatter\",\"stranded\",\"australia\",\"suspenseful\",\"tense\"],[\"camp\",\"goofy\",\"comedy\",\"teen movie\",\"nostalgic\"],[\"based on a book\",\"intense\",\"suicide\",\"complex\",\"mental illness\"],[\"nudity (topless - notable)\",\"new orleans\",\"hit men\",\"detective\",\"nudity (topless)\"],[\"nudity (rear)\",\"holocaust\",\"germany\",\"world war ii\",\"nazis\"],[\"period piece\",\"costume drama\",\"passionate\",\"beautifully filmed\",\"adapted from:book\"],[\"criterion\",\"obsession\",\"enigmatic\",\"art house\",\"sexual\"],[\"organized crime\",\"gangster\",\"new york\",\"gangsters\",\"violent\"],[\"series\",\"action\",\"franchise\",\"good action\",\"action packed\"],[\"parody\",\"alien\",\"sci fi\",\"british comedy\",\"spoof\"],[\"bleak\",\"finnish\",\"grindhouse\",\"criterion\",\"life & death\"],[\"martial arts\",\"kung fu\",\"fight scenes\",\"hong kong\",\"fighting\"],[\"cooking\",\"feel good movie\",\"food\",\"feel-good\",\"visually appealing\"],[\"suspenseful\",\"tense\",\"suspense\",\"chase\",\"kidnapping\"],[\"70mm\",\"spain\",\"epic\",\"historical\",\"us history\"],[\"mystery\",\"murder\",\"detective\",\"complex\",\"murder mystery\"],[\"haunted house\",\"supernatural\",\"ghosts\",\"creepy\",\"horror\"],[\"original\",\"family\",\"gothic\",\"macabre\",\"so bad it's funny\"],[\"bleak\",\"allegory\",\"disturbing\",\"pointless\",\"post apocalyptic\"],[\"comedy\",\"rags to riches\",\"saturday night live\",\"homeless\",\"1980s\"],[\"baseball\",\"sports\",\"unlikely friendships\",\"dramatic\",\"terminal illness\"],[\"oscar (best foreign language film)\",\"life & death\",\"death\",\"disability\",\"life\"],[\"secrets\",\"dysfunctional family\",\"sexual abuse\",\"intimate\",\"great acting\"],[\"coming of age\",\"teenager\",\"teenagers\",\"teen movie\",\"high school\"],[\"oscar (best animated feature)\",\"pixar animation\",\"computer animation\",\"animation\",\"animated\"],[\"opera\",\"based on a book\",\"based on book\",\"classical music\",\"adaptation\"],[\"hitchcock\",\"silent\",\"suspense\",\"visual\",\"original\"],[\"martial arts\",\"kung fu\",\"fight scenes\",\"fighting\",\"china\"],[\"romantic comedy\",\"so bad it's funny\",\"ensemble cast\",\"dysfunctional family\",\"divorce\"],[\"amazing photography\",\"stunning\",\"documentary\",\"visually stunning\",\"environmental\"],[\"astronauts\",\"puppets\",\"secrets\",\"original\",\"mars\"],[\"crime\",\"police corruption\",\"heist\",\"gambling\",\"gangsters\"],[\"depressing\",\"depression\",\"small town\",\"independent film\",\"loneliness\"],[\"sports\",\"sequel\",\"kids\",\"sequels\",\"fun movie\"],[\"bombs\",\"world war ii\",\"wartime\",\"powerful ending\",\"dramatic\"],[\"comedy\",\"horrible\",\"dumb but funny\",\"idiotic\",\"pointless\"],[\"male nudity\",\"hilarious\",\"mtv\",\"crude humor\",\"idiotic\"],[\"coming of age\",\"homeless\",\"life & death\",\"dreams\",\"mentor\"],[\"parenthood\",\"comedy\",\"family\",\"family drama\",\"children\"],[\"golden palm\",\"mafia\",\"enigmatic\",\"stylized\",\"political\"],[\"golf\",\"sports\",\"mentor\",\"life philosophy\",\"biographical\"],[\"single father\",\"animals\",\"family bonds\",\"family drama\",\"feel-good\"],[\"jungle\",\"animals\",\"adventure\",\"animal movie\",\"talking animals\"],[\"chess\",\"mentor\",\"based on a true story\",\"based on true story\",\"true story\"],[\"based on a book\",\"heartwarming\",\"family\",\"talking animals\",\"children\"],[\"mafia\",\"gratuitous violence\",\"family\",\"dysfunctional family\",\"family drama\"],[\"comedy\",\"funny\",\"classic\",\"hilarious\",\"africa\"],[\"rebellion\",\"rock and roll\",\"music\",\"good soundtrack\",\"adolescence\"],[\"splatter\",\"horror\",\"franchise\",\"series\",\"supernatural\"],[\"dog\",\"dogs\",\"childhood\",\"sentimental\",\"heartwarming\"],[\"romantic comedy\",\"chick flick\",\"culture clash\",\"family\",\"wedding\"],[\"thriller\",\"tense\",\"hitchcock\",\"lawyer\",\"suspense\"],[\"pixar\",\"short\",\"too short\",\"computer animation\",\"animation\"],[\"animation\",\"animated\",\"music\",\"good soundtrack\",\"rock and roll\"],[\"70mm\",\"death\",\"cyberpunk\",\"science fiction\",\"futuristic\"],[\"bad plot\",\"action\",\"so bad it's funny\",\"horrible\",\"sports\"],[\"rock and roll\",\"musical\",\"music\",\"musicians\",\"good music\"],[\"adolescence\",\"coming of age\",\"bittersweet\",\"high school\",\"melancholic\"],[\"swashbuckler\",\"sword fight\",\"classic\",\"sword fighting\",\"adventure\"],[\"romantic comedy\",\"romantic\",\"sweet\",\"classic\",\"love story\"],[\"prison\",\"ethnic conflict\",\"crime\",\"golden palm\",\"oscar (best foreign language film)\"],[\"obsession\",\"adultery\",\"erotic\",\"sexual\",\"pornography\"],[\"splatter\",\"mutants\",\"horror\",\"remake\",\"rape\"],[\"amazing cinematography\",\"noir\",\"violent\",\"runaway\",\"tense\"],[\"dark humor\",\"serial killer\",\"murder\",\"nudity (topless - brief)\",\"nudity (rear)\"],[\"music\",\"musicians\",\"documentary\",\"biography\",\"melancholic\"],[\"greed\",\"politics\",\"business\",\"true story\",\"based on a book\"],[\"devil\",\"original\",\"british comedy\",\"comedy\",\"humorous\"],[\"nudity (topless - notable)\",\"nudity\",\"sexy\",\"fun movie\",\"nudity (full frontal - notable)\"],[\"neo-noir\",\"noir\",\"crime gone awry\",\"kidnapping\",\"film noir\"],[\"ghosts\",\"family\",\"disney\",\"original\",\"mentor\"],[\"good action\",\"action\",\"comedy\",\"sequel\",\"good sequel\"],[\"crime\",\"police corruption\",\"heist\",\"gambling\",\"gangsters\"],[\"drinking\",\"comedy\",\"sequels\",\"good sequel\",\"male nudity\"],[\"suprisingly clever\",\"dumb\",\"funniest movies\",\"comedy\",\"goofy\"],[\"post-apocalyptic\",\"post apocalyptic\",\"apocalypse\",\"action\",\"religion\"],[\"enigmatic\",\"art house\",\"loneliness\",\"brutality\",\"disturbing\"],[\"disaster\",\"natural disaster\",\"so bad it's funny\",\"catastrophe\",\"special effects\"],[\"western\",\"nudity (rear)\",\"good sequel\",\"sequels\",\"gunfight\"],[\"based on a book\",\"based on book\",\"fantasy\",\"adapted from:book\",\"fantasy world\"],[\"rape\",\"sexualized violence\",\"violent\",\"brutality\",\"violence\"],[\"melancholic\",\"scifi\",\"science fiction\",\"sci-fi\",\"parallel universe\"],[\"animation\",\"disney animated feature\",\"oscar (best animated feature)\",\"treasure hunt\",\"treasure\"],[\"japan\",\"sword fighting\",\"samurai\",\"sword fight\",\"single father\"],[\"based on a book\",\"adapted from:book\",\"based on book\",\"book\",\"love\"],[\"ghosts\",\"family\",\"special effects\",\"supernatural\",\"haunted house\"],[\"remake\",\"slasher\",\"franchise\",\"serial killer\",\"horror\"],[\"books\",\"obsession\",\"book\",\"writers\",\"literature\"],[\"president\",\"biographical\",\"world politics\",\"politics\",\"biopic\"],[\"pointless\",\"original\",\"quirky\",\"comedy\",\"predictable\"],[\"oscar (best cinematography)\",\"oscar (best actress)\",\"wartime\",\"oscar (best directing)\",\"sentimental\"],[\"women\",\"stereotypes\",\"comedy\",\"shopping\",\"original\"],[\"virtual reality\",\"cyberpunk\",\"visually appealing\",\"visually stunning\",\"visual\"],[\"romantic comedy\",\"romantic\",\"love story\",\"mentor\",\"political corruption\"],[\"secrets\",\"dysfunctional family\",\"great acting\",\"family drama\",\"drama\"],[\"indians\",\"native americans\",\"oscar (best cinematography)\",\"18th century\",\"historical\"],[\"action\",\"good action\",\"action packed\",\"car chase\",\"undercover cop\"],[\"irish\",\"irish accent\",\"ireland\",\"drugs\",\"police corruption\"],[\"murder mystery\",\"lawyers\",\"police investigation\",\"courtroom\",\"murder\"],[\"adapted from:book\",\"wizards\",\"animation\",\"book was better\",\"cartoon\"],[\"dinosaurs\",\"stop motion\",\"special effects\",\"spiders\",\"stop-motion\"],[\"based on a play\",\"farce\",\"comedy\",\"hilarious\",\"original\"],[\"china\",\"foreign\",\"touching\",\"poignant\",\"beautifully filmed\"],[\"male nudity\",\"pornography\",\"original\",\"nudity (full frontal - notable)\",\"mtv\"],[\"stupid\",\"stupidity\",\"goofy\",\"dumb but funny\",\"dumb\"],[\"baseball\",\"sequel\",\"japan\",\"kids\",\"franchise\"],[\"horror\",\"remake\",\"splatter\",\"notable soundtrack\",\"demons\"],[\"character study\",\"bittersweet\",\"loneliness\",\"melancholic\",\"relationships\"],[\"reality tv\",\"arnold\",\"futuristic\",\"action\",\"future\"],[\"horses\",\"feel-good\",\"family drama\",\"beautiful scenery\",\"family bonds\"],[\"comedy\",\"god\",\"irreverent\",\"hilarious\",\"end of the world\"],[\"relationships\",\"narrated\",\"love\",\"love triangles\",\"spain\"],[\"animation\",\"anime\",\"predictable\",\"cartoon\",\"franchise\"],[\"serial killer\",\"horror\",\"murder\",\"original\",\"animals\"],[\"silent\",\"rome\",\"criterion\",\"1920s\",\"unusual plot structure\"],[\"san francisco\",\"birds\",\"homeless\",\"documentary\",\"ecology\"],[\"bleak\",\"australia\",\"road trip\",\"post apocalyptic\",\"post-apocalyptic\"],[\"pointless\",\"nudity (topless)\",\"drugs\",\"original\",\"life philosophy\"],[\"animals\",\"dog\",\"animal movie\",\"family\",\"dogs\"],[\"arnold\",\"comedy\",\"kids\",\"action\",\"children\"],[\"political\",\"politics\",\"destiny\",\"capitalism\",\"conspiracy theory\"],[\"criterion\",\"enigmatic\",\"hitchcock\",\"original\",\"golden palm\"],[\"noir thriller\",\"hit men\",\"criterion\",\"noir\",\"bleak\"],[\"relationships\",\"romantic comedy\",\"romantic\",\"parenthood\",\"original\"],[\"funniest movies\",\"comedy\",\"funny as hell\",\"hilarious\",\"funny\"],[\"criterion\",\"allegory\",\"tense\",\"stylized\",\"germany\"],[\"ethnic conflict\",\"interracial romance\",\"indians\",\"race issues\",\"love story\"],[\"amnesia\",\"memory loss\",\"suspenseful\",\"twists & turns\",\"memory\"],[\"aardman studios\",\"aardman\",\"animation\",\"stop motion\",\"pirates\"],[\"assassin\",\"stylish\",\"hit men\",\"assassins\",\"french\"],[\"action\",\"free to download\",\"reality tv\",\"dark hero\",\"good action\"],[\"south africa\",\"segregation\",\"corruption\",\"lawyers\",\"justice\"],[\"catholicism\",\"adolescence\",\"coming-of-age\",\"coming of age\",\"original\"],[\"hacking\",\"hackers\",\"internet\",\"interracial romance\",\"original\"],[\"college\",\"segregation\",\"stereotypes\",\"racism\",\"neo-nazis\"],[\"crime\",\"noir\",\"film noir\",\"criterion\",\"tense\"],[\"remake\",\"musical\",\"interracial romance\",\"original\",\"family\"],[\"muppets\",\"children\",\"kids\",\"kids and family\",\"family\"],[\"emma watson\",\"wizards\",\"adapted from:book\",\"based on book\",\"fantasy world\"],[\"stop motion\",\"surreal\",\"weird\",\"surrealism\",\"obsession\"],[\"alien\",\"sci-fi\",\"scifi\",\"aliens\",\"science fiction\"],[\"vampires\",\"classic\",\"vampire\",\"imdb top 250\",\"silent\"],[\"jane austen\",\"romance\",\"based on a book\",\"18th century\",\"girlie movie\"],[\"relationships\",\"gay character\",\"loneliness\",\"gay\",\"love\"],[\"world war ii\",\"nazis\",\"germany\",\"wwii\",\"nazi\"],[\"heist\",\"caper\",\"twists & turns\",\"plot twist\",\"dialogue\"],[\"comedy\",\"original\",\"true story\",\"mob\",\"mentor\"],[\"based on a book\",\"intense\",\"suicide\",\"complex\",\"mental illness\"],[\"franchise\",\"slasher\",\"horror\",\"splatter\",\"serial killer\"],[\"serial killer\",\"horror\",\"slasher\",\"mad scientist\",\"creepy\"],[\"swashbuckler\",\"action\",\"sword fighting\",\"good action\",\"story\"],[\"creepy\",\"stylized\",\"stylish\",\"gruesome\",\"tense\"],[\"christmas\",\"kids\",\"family\",\"holiday\",\"children\"],[\"god\",\"catholicism\",\"literature\",\"talky\",\"relationships\"],[\"horror\",\"splatter\",\"gruesome\",\"gory\",\"gore\"],[\"male nudity\",\"comedy\",\"highly quotable\",\"funny\",\"hawaii\"],[\"high school\",\"spoof\",\"parody\",\"comedy\",\"teen movie\"],[\"male nudity\",\"sexual\",\"sexy\",\"erotic\",\"pornography\"],[\"horror\",\"based on a book\",\"creepy\",\"splatter\",\"gory\"],[\"end of the world\",\"natural disaster\",\"space\",\"big budget\",\"astronauts\"],[\"future\",\"complex\",\"futuristic\",\"storytelling\",\"visually appealing\"],[\"70mm\",\"egypt\",\"islam\",\"historical\",\"desert\"],[\"classical music\",\"animation\",\"music\",\"cartoon\",\"disney animated feature\"],[\"social commentary\",\"original\",\"life philosophy\",\"mentor\",\"surreal\"],[\"coen bros\",\"deadpan\",\"independent film\",\"quirky\",\"dark humor\"],[\"goofy\",\"island\",\"father son relationship\",\"monsters\",\"monster\"],[\"relationships\",\"original\",\"unusual plot structure\",\"parenthood\",\"canada\"],[\"terrorism\",\"undercover cop\",\"chase\",\"good action\",\"action\"],[\"comedy\",\"pg-13\",\"family\",\"predictable\",\"funny\"],[\"futuristic\",\"cyborgs\",\"future\",\"violent\",\"violence\"],[\"political\",\"politics\",\"satire\",\"president\",\"world politics\"],[\"splatter\",\"cult classic\",\"zombies\",\"zombie\",\"virus\"],[\"baseball\",\"sports\",\"fun movie\",\"kids\",\"fun\"],[\"relationships\",\"mother-son relationship\",\"pornography\",\"sexual\",\"erotic\"],[\"comedy\",\"life philosophy\",\"good\",\"80s\",\"silly\"],[\"action\",\"good action\",\"united nations\",\"fight scenes\",\"conspiracy\"],[\"sequels\",\"original\",\"pointless\",\"nudity (topless)\",\"immortality\"],[\"documentary\",\"intimate\",\"pornography\",\"biographical\",\"compassionate\"],[\"racing\",\"sequel\",\"silly fun\",\"sequels\",\"crappy sequel\"],[\"cartoon\",\"animation\",\"musical\",\"animated\",\"fairy tale\"],[\"islam\",\"women\",\"iran\",\"desert\",\"intimate\"],[\"oscar (best supporting actor)\",\"vietnam war\",\"oscar (best picture)\",\"oscar (best editing)\",\"war\"],[\"space opera\",\"space\",\"science fiction\",\"franchise\",\"series\"],[\"serial killer\",\"surveillance\",\"police investigation\",\"brutality\",\"psychological\"],[\"sexual\",\"erotic\",\"sexuality\",\"workplace\",\"sex\"],[\"feel-good\",\"true story\",\"based on a true story\",\"based on true story\",\"motorcycle\"],[\"super hero\",\"superheroes\",\"superhero\",\"based on a comic\",\"robert downey jr\"],[\"teen movie\",\"high school\",\"teen\",\"virginity\",\"comedy\"],[\"oscar (best picture)\",\"oscar (best supporting actor)\",\"based on a play\",\"70mm\",\"musical\"],[\"camp\",\"wwii\",\"family\",\"world war ii\",\"love story\"],[\"kids and family\",\"camp\",\"ninja\",\"original\",\"children\"],[\"action\",\"bloody\",\"scotland\",\"brutality\",\"history\"],[\"teen movie\",\"camp\",\"adventure\",\"teen\",\"pg-13\"],[\"latin america\",\"politics\",\"documentary\",\"political\",\"oil\"],[\"loneliness\",\"technology\",\"relationships\",\"love\",\"original\"],[\"medieval\",\"fun movie\",\"entertaining\",\"awesome soundtrack\",\"notable soundtrack\"],[\"world war ii\",\"boarding school\",\"nazis\",\"criterion\",\"jews\"],[\"single father\",\"cancer\",\"death\",\"bleak\",\"immigrants\"],[\"christmas\",\"classic\",\"ghosts\",\"holiday\",\"based on a book\"],[\"funny\",\"good sequel\",\"weed\",\"funny as hell\",\"chris tucker\"],[\"time loop\",\"surveillance\",\"time travel\",\"sci-fi\",\"future\"],[\"original\",\"great movie\",\"family\",\"fighting the system\",\"oscar (best actress)\"],[\"based on a book\",\"historical\",\"history\",\"islam\",\"beautiful scenery\"],[\"football\",\"sports\",\"comedy\",\"high school\",\"silly fun\"],[\"horrible\",\"original\",\"so bad it's funny\",\"comedy\",\"awful\"],[\"based on a book\",\"complex\",\"obsession\",\"enigmatic\",\"romance\"],[\"doctors\",\"drama\",\"affectionate\",\"mentor\",\"history\"],[\"small town\",\"feel-good\",\"feel good movie\",\"mentor\",\"good\"],[\"homeless\",\"original\",\"mental illness\",\"depression\",\"loneliness\"],[\"scotland\",\"kids and family\",\"secrets\",\"divorce\",\"family drama\"],[\"great\",\"life philosophy\",\"great movie\",\"fun movie\",\"mentor\"],[\"romantic comedy\",\"chick flick\",\"wedding\",\"comedy\",\"romantic\"],[\"finnish\",\"melancholic\",\"loneliness\",\"drinking\",\"depression\"],[\"mentor\",\"school\",\"teacher\",\"original\",\"doctors\"],[\"islam\",\"women\",\"iran\",\"desert\",\"intimate\"],[\"alien\",\"action\",\"arnold\",\"sci-fi\",\"weapons\"],[\"hitchcock\",\"mother-son relationship\",\"birds\",\"suspense\",\"suspenseful\"],[\"based on a book\",\"rebellion\",\"dystopia\",\"pg-13\",\"revolution\"],[\"historical\",\"france\",\"history\",\"god\",\"religion\"],[\"adapted from:book\",\"swedish\",\"investigation\",\"based on a book\",\"suspense\"],[\"poverty\",\"satire\",\"greed\",\"compassionate\",\"poignant\"],[\"superhero\",\"super hero\",\"superheroes\",\"based on a comic\",\"action\"],[\"murder mystery\",\"murder\",\"thriller\",\"suspense\",\"conspiracy\"],[\"golden palm\",\"pornography\",\"intimate\",\"loneliness\",\"sexual\"],[\"world war ii\",\"nazis\",\"paris\",\"wartime\",\"french\"],[\"suspenseful\",\"kidnapping\",\"thriller\",\"twists & turns\",\"suspense\"],[\"horror\",\"supernatural\",\"ghosts\",\"demons\",\"predictable\"],[\"so bad it's funny\",\"dialogue\",\"weird\",\"original\",\"off-beat comedy\"],[\"teen movie\",\"teen\",\"girlie movie\",\"high school\",\"teenager\"],[\"rock and roll\",\"music\",\"german\",\"germany\",\"musicians\"],[\"oscar (best directing)\",\"oscar (best picture)\",\"oscar (best supporting actor)\",\"imdb top 250\",\"dark hero\"],[\"vengeance\",\"love story\",\"powerful ending\",\"adultery\",\"revenge\"],[\"small town\",\"wistful\",\"loneliness\",\"texas\",\"relationships\"],[\"indians\",\"screwball\",\"1930s\",\"censorship\",\"talky\"],[\"nature\",\"narrated\",\"wilderness\",\"oil\",\"documentary\"],[\"fantasy\",\"fantasy world\",\"magic\",\"based on a book\",\"original\"],[\"british comedy\",\"marijuana\",\"comedy\",\"england\",\"british\"],[\"violence\",\"original\",\"predictable\",\"pointless\",\"franchise\"],[\"teen\",\"teen movie\",\"high school\",\"teens\",\"1980s\"],[\"sword fighting\",\"swashbuckler\",\"sword fight\",\"adventure\",\"action\"],[\"social commentary\",\"teen movie\",\"high school\",\"murder\",\"teen\"],[\"stupid as hell\",\"hip hop\",\"so bad it's funny\",\"stereotypes\",\"bad plot\"],[\"midlife crisis\",\"original\",\"shakespeare\",\"dialogue\",\"new york\"],[\"twists & turns\",\"crime\",\"caper\",\"dark humor\",\"dark comedy\"],[\"women\",\"wartime\",\"world war ii\",\"wwii\",\"england\"],[\"criterion\",\"amazing cinematography\",\"70mm\",\"kurosawa\",\"beautifully filmed\"],[\"germany\",\"fascism\",\"18th century\",\"original\",\"enigmatic\"],[\"switching places\",\"family\",\"children\",\"divorce\",\"cute\"],[\"magic\",\"stage magic\",\"comedy\",\"goofy\",\"fantasy world\"],[\"gay\",\"independent film\",\"very interesting\",\"original\",\"gay character\"],[\"oscar (best music - original score)\",\"chocolate\",\"magic realism\",\"small town\",\"sweet\"],[\"parenthood\",\"single father\",\"divorce\",\"original\",\"children\"],[\"australia\",\"cinematography\",\"storytelling\",\"australian\",\"narrated\"],[\"comedy\",\"funny\",\"original\",\"remake\",\"slapstick\"],[\"mindfuck\",\"space travel\",\"nasa\",\"astronauts\",\"space\"],[\"oscar (best cinematography)\",\"oscar (best actress)\",\"wartime\",\"oscar (best directing)\",\"sentimental\"],[\"teen movie\",\"dumb but funny\",\"teen\",\"fun movie\",\"goofy\"],[\"romantic\",\"love story\",\"romance\",\"love\",\"destiny\"],[\"crime\",\"police corruption\",\"heist\",\"gambling\",\"gangsters\"],[\"father daughter relationship\",\"paris\",\"family drama\",\"action\",\"assassin\"],[\"catholicism\",\"religion\",\"god\",\"drama\",\"redemption\"],[\"plot twist\",\"nudity (full frontal - brief)\",\"twists & turns\",\"surprise ending\",\"twist\"],[\"chase\",\"teen movie\",\"80s\",\"adventure\",\"comedy\"],[\"christmas\",\"classic\",\"ghosts\",\"holiday\",\"based on a book\"],[\"midlife crisis\",\"comedy\",\"unlikely friendships\",\"friendship\",\"oscar winner\"],[\"prison escape\",\"true story\",\"jungle\",\"survival\",\"based on a true story\"],[\"erotic\",\"nudity (full frontal)\",\"dreams\",\"nudity (full frontal - notable)\",\"melancholic\"],[\"road movie\",\"utopia\",\"silly fun\",\"fun movie\",\"island\"],[\"70mm\",\"special effects\",\"action\",\"good action\",\"great movie\"],[\"oscar (best actress)\",\"small town\",\"oscar\",\"oscar (best directing)\",\"classic\"],[\"talking animals\",\"animals\",\"animal movie\",\"sequels\",\"good sequel\"],[\"sex comedy\",\"so bad it's funny\",\"beer\",\"80s\",\"teen movie\"],[\"unlikely friendships\",\"friendship\",\"adolescence\",\"teen movie\",\"childhood\"],[\"coming of age\",\"bleak\",\"adolescence\",\"criterion\",\"poverty\"],[\"gore\",\"horror\",\"brutality\",\"sexualized violence\",\"torture\"],[\"rock and roll\",\"musicians\",\"criterion\",\"music\",\"original\"],[\"island\",\"mad scientist\",\"spiders\",\"horror\",\"stranded\"],[\"criterion\",\"bleak\",\"working class\",\"childhood\",\"bullying\"],[\"germany\",\"holocaust\",\"world war ii\",\"nazis\",\"documentary\"],[\"judaism\",\"family drama\",\"dysfunctional family\",\"family bonds\",\"family\"],[\"medieval\",\"based on a book\",\"islam\",\"swedish\",\"books\"],[\"horror\",\"scary\",\"twist ending\",\"gory\",\"torture\"],[\"disney animated feature\",\"animation\",\"cartoon\",\"animated\",\"kids and family\"],[\"film noir\",\"noir\",\"narrated\",\"criterion\",\"talky\"],[\"romantic comedy\",\"predictable\",\"cute!\",\"original\",\"family\"],[\"original\",\"camp\",\"great\",\"mentor\",\"romantic\"],[\"military\",\"comedy\",\"funny\",\"children\",\"funniest movies\"],[\"kids and family\",\"single father\",\"kids\",\"family\",\"children\"],[\"male nudity\",\"hilarious\",\"mtv\",\"funniest movies\",\"stupidity\"],[\"true story\",\"love\",\"blindness\",\"feel-good\",\"feel good movie\"],[\"marx brothers\",\"highly quotable\",\"imdb top 250\",\"talky\",\"quotable\"],[\"world war ii\",\"wwii\",\"segregation\",\"military\",\"wartime\"],[\"super hero\",\"superheroes\",\"superhero\",\"adapted from:comic\",\"based on a comic\"],[\"civil war\",\"western\",\"gunfight\",\"american civil war\",\"texas\"],[\"drug addiction\",\"addiction\",\"drugs\",\"downbeat\",\"heroin\"],[\"thriller\",\"detective\",\"murder\",\"police investigation\",\"suspenseful\"],[\"military\",\"action\",\"franchise\",\"predictable\",\"original\"],[\"football\",\"sports\",\"inspiring\",\"true story\",\"based on true story\"],[\"social commentary\",\"working class\",\"harsh\",\"intimate\",\"drama\"],[\"musical\",\"broadway\",\"original\",\"good music\",\"lyrical\"],[\"comedy\",\"french\",\"france\",\"farce\",\"hilarious\"],[\"almodovar\",\"golden palm\",\"spanish\",\"obsession\",\"relationships\"],[\"rock and roll\",\"music business\",\"musicians\",\"nostalgic\",\"music\"],[\"demons\",\"devil\",\"supernatural\",\"horror\",\"psychiatry\"],[\"dialogue driven\",\"surreal\",\"dialogue\",\"very interesting\",\"enigmatic\"],[\"girlie movie\",\"teen movie\",\"teen\",\"based on a book\",\"chick flick\"],[\"mentor\",\"martial arts\",\"bullying\",\"1980s\",\"coming of age\"],[\"true story\",\"based on true story\",\"courage\",\"gunfight\",\"segregation\"],[\"war\",\"christmas\",\"oscar (best foreign language film)\",\"france\",\"world war i\"],[\"18th century\",\"russia\",\"cinematography\",\"enigmatic\",\"art\"],[\"ninja\",\"fight scenes\",\"action\",\"sword fight\",\"sword fighting\"],[\"screwball comedy\",\"comedy\",\"art\",\"screwball\",\"original\"],[\"talking animals\",\"animals\",\"kids and family\",\"computer animation\",\"silly fun\"],[\"heist\",\"new jersey\",\"original\",\"quirky\",\"crime\"],[\"based on book\",\"based on a book\",\"adapted from:book\",\"sexual\",\"addiction\"],[\"action\",\"small town\",\"good action\",\"realistic action\",\"violence\"],[\"liv tyler\",\"relationships\",\"nudity (topless - notable)\",\"visually appealing\",\"pornography\"],[\"golden palm\",\"war\",\"war movie\",\"satirical\",\"wartime\"],[\"surreal\",\"weird\",\"animation\",\"male nudity\",\"original\"],[\"martial arts\",\"kung fu\",\"fight scenes\",\"action\",\"fighting\"],[\"artist\",\"artistic\",\"art\",\"true story\",\"biographical\"],[\"loneliness\",\"art\",\"art house\",\"existentialism\",\"cinematography\"],[\"biopic\",\"biographical\",\"rock and roll\",\"biography\",\"oscar (best actress)\"],[\"politics\",\"political\",\"documentary\",\"business\",\"fighting the system\"],[\"disability\",\"redemption\",\"love story\",\"original\",\"unusual plot structure\"],[\"mafia\",\"gangsters\",\"mob\",\"hit men\",\"original\"],[\"brazil\",\"romance\",\"romantic\",\"rio de janeiro\",\"romantic comedy\"],[\"70mm\",\"artistic\",\"historical\",\"art\",\"biographical\"],[\"best war films\",\"world war ii\",\"wwii\",\"war\",\"70mm\"],[\"original\",\"france\",\"mentor\",\"catastrophe\",\"comedy\"],[\"manipulation\",\"religion\",\"greed\",\"islam\",\"brainwashing\"],[\"18th century\",\"period piece\",\"france\",\"historical\",\"revolution\"],[\"screwball comedy\",\"comedy\",\"wartime\",\"submarine\",\"world war ii\"],[\"football\",\"sports\",\"unlikely friendships\",\"original\",\"life philosophy\"],[\"obsession\",\"criterion\",\"suspenseful\",\"psychological\",\"psychology\"],[\"ensemble cast\",\"independent film\",\"original\",\"dialogue\",\"off-beat comedy\"],[\"music\",\"comedy\",\"college\",\"girlie movie\",\"pg-13\"],[\"serial killer\",\"action\",\"based on a book\",\"predictable\",\"good action\"],[\"high school\",\"teen movie\",\"teen\",\"teens\",\"comedy\"],[\"jews\",\"powerful ending\",\"poland\",\"holocaust\",\"anti-semitism\"],[\"clowns\",\"cult classic\",\"small town\",\"cult film\",\"aliens\"],[\"bleak\",\"intense\",\"brutality\",\"violence\",\"original\"],[\"superheroes\",\"superhero\",\"animation\",\"super hero\",\"computer animation\"],[\"fairy tale\",\"musical\",\"original\",\"family\",\"music\"],[\"heist\",\"new jersey\",\"original\",\"quirky\",\"crime\"],[\"mafia\",\"organized crime\",\"gangsters\",\"gangster\",\"hit men\"],[\"disability\",\"autism\",\"biopic\",\"true story\",\"graphic design\"],[\"cross dressing\",\"women\",\"based on a play\",\"costume drama\",\"period piece\"],[\"based on a book\",\"franchise\",\"fight scenes\",\"original\",\"visual\"],[\"mystery\",\"dark\",\"devil\",\"twists & turns\",\"twist ending\"],[\"japan\",\"tokyo\",\"japanese\",\"destiny\",\"girlie movie\"],[\"criterion\",\"original\",\"cars\",\"technology\",\"complex\"],[\"rock and roll\",\"cult classic\",\"quotable\",\"mockumentary\",\"music business\"],[\"special effects\",\"spiders\",\"bad acting\",\"so bad it's funny\",\"sci fi\"],[\"vampires\",\"vampire\",\"immortality\",\"melancholic\",\"existentialism\"],[\"vampire\",\"virginity\",\"splatter\",\"criterion\",\"vampires\"],[\"mentor\",\"good action\",\"action\",\"cool\",\"fight scenes\"],[\"visually appealing\",\"utopia\",\"marijuana\",\"island\",\"adapted from:book\"],[\"love story\",\"tear jerker\",\"romantic\",\"touching\",\"girlie movie\"],[\"chase\",\"comedy\",\"funny\",\"humorous\",\"saturday night live\"],[\"infidelity\",\"gay character\",\"culture clash\",\"relationships\",\"original\"],[\"cartoon\",\"animation\",\"disney\",\"disney animated feature\",\"musical\"],[\"enigmatic\",\"criterion\",\"childhood\",\"mentor\",\"unlikely friendships\"],[\"criterion\",\"art\",\"intellectual\",\"sexy\",\"talky\"],[\"hitchcock\",\"criterion\",\"spy\",\"espionage\",\"spying\"],[\"insanity\",\"irish accent\",\"mental illness\",\"irish\",\"childhood\"],[\"remake\",\"ghosts\",\"horror\",\"supernatural\",\"original\"],[\"writers\",\"loneliness\",\"melancholic\",\"relationships\",\"dysfunctional family\"],[\"guilt\",\"crime\",\"death\",\"justice\",\"police investigation\"],[\"western\",\"imdb top 250\",\"gunfight\",\"oscar (best directing)\",\"mob\"],[\"comedy\",\"dumb but funny\",\"saturday night live\",\"funniest movies\",\"hilarious\"],[\"musical\",\"music\",\"original\",\"dancing\",\"fun movie\"],[\"france\",\"french\",\"comedy\",\"medieval\",\"culture clash\"],[\"tokyo\",\"japan\",\"monster\",\"better than the american version\",\"monsters\"],[\"franchise\",\"crappy sequel\",\"time loop\",\"sequels\",\"pointless\"],[\"teacher\",\"children\",\"foreign\",\"childhood\",\"original\"],[\"mentor\",\"oscar (best actress)\",\"oscar (best actor)\",\"childhood\",\"sentimental\"],[\"greed\",\"twists & turns\",\"great acting\",\"money\",\"morality\"],[\"splatter\",\"cult film\",\"cult classic\",\"so bad it's funny\",\"original\"],[\"twists & turns\",\"plot twist\",\"twist ending\",\"love story\",\"plot\"],[\"organized crime\",\"mafia\",\"gangsters\",\"gangster\",\"mob\"],[\"comedy\",\"romantic comedy\",\"funny\",\"homeless\",\"very funny\"],[\"romantic comedy\",\"chick flick\",\"romantic\",\"romance\",\"love story\"],[\"reality tv\",\"modern fantasy\",\"original\",\"alone in the world\",\"utopia\"],[\"beauty pageant\",\"small town\",\"based on a play\",\"original\",\"adaptation\"],[\"road movie\",\"criterion\",\"cars\",\"enigmatic\",\"existentialism\"],[\"superhero\",\"super hero\",\"super-hero\",\"based on a comic\",\"superheroes\"],[\"beer\",\"funniest movies\",\"comedy\",\"dumb\",\"saturday night live\"],[\"animation\",\"fairy tale\",\"disney animated feature\",\"kids and family\",\"animated\"],[\"criterion\",\"russia\",\"russian\",\"propaganda\",\"masterpiece\"],[\"innocence lost\",\"sexual abuse\",\"vengeance\",\"child abuse\",\"revenge\"],[\"romantic comedy\",\"romantic\",\"chick flick\",\"destiny\",\"good romantic comedies\"],[\"twists & turns\",\"murder mystery\",\"based on a play\",\"original\",\"thriller\"],[\"martial arts\",\"mentor\",\"good sequel\",\"fighting\",\"sequels\"],[\"death\",\"fighting the system\",\"workplace\",\"dramatic\",\"mentor\"],[\"vampires\",\"vampire\",\"cult classic\",\"horror\",\"splatter\"],[\"hitchcock\",\"death\",\"dark humor\",\"black comedy\",\"suspense\"],[\"assassin\",\"hit men\",\"mentor\",\"hitman\",\"assassins\"],[\"music\",\"musicians\",\"sequels\",\"sequel\",\"good sequel\"],[\"surreal\",\"surrealism\",\"weird\",\"hallucinatory\",\"strange\"],[\"robot\",\"robots\",\"scifi\",\"science fiction\",\"80s\"],[\"intellectual\",\"science fiction\",\"immortality\",\"philosophical\",\"excellent script\"],[\"dance\",\"dancing\",\"hip hop\",\"teen movie\",\"good soundtrack\"],[\"comedy\",\"intellectual\",\"affectionate\",\"goofy\",\"satirical\"],[\"judaism\",\"family drama\",\"dysfunctional family\",\"family bonds\",\"family\"],[\"screwball comedy\",\"classic\",\"san francisco\",\"comedy\",\"chase\"],[\"adultery\",\"relationships\",\"marriage\",\"betrayal\",\"secrets\"],[\"russian\",\"russia\",\"foreign\",\"bleak\",\"poignant\"],[\"comedy\",\"satire\",\"parody\",\"humor\",\"hilarious\"],[\"psychiatry\",\"adapted from:book\",\"weird\",\"based on a book\",\"quirky\"],[\"slasher\",\"franchise\",\"serial killer\",\"murder\",\"teens\"],[\"college\",\"robert downey jr\",\"comedy\",\"goofy\",\"fun movie\"],[\"culture clash\",\"oscar (best actress)\",\"drama\",\"melancholic\",\"relationships\"],[\"remake\",\"alien\",\"aliens\",\"big budget\",\"special effects\"],[\"romantic comedy\",\"chick flick\",\"romantic\",\"girlie movie\",\"sweet\"],[\"wilderness\",\"scenic\",\"cinematography\",\"enigmatic\",\"hunting\"],[\"dysfunctional family\",\"relationships\",\"wedding\",\"sisters\",\"intimate\"],[\"alien\",\"aliens\",\"kids\",\"children\",\"foul language\"],[\"spoof\",\"parody\",\"comedy\",\"hilarious\",\"funniest movies\"],[\"gunfight\",\"western\",\"vengeance\",\"original\",\"mentor\"],[\"good sequel\",\"sequels\",\"sequel\",\"murder\",\"crappy sequel\"],[\"undercover cop\",\"good action\",\"action\",\"drugs\",\"original\"],[\"murder\",\"downbeat\",\"original\",\"talky\",\"drama\"],[\"based on a play\",\"loneliness\",\"talky\",\"drinking\",\"criterion\"],[\"father son relationship\",\"samurai\",\"stylish\",\"father-son relationship\",\"vengeance\"],[\"depression\",\"corruption\",\"heartbreaking\",\"drinking\",\"greed\"],[\"comedy\",\"stereotypes\",\"family\",\"original\",\"lame\"],[\"wuxia\",\"kung fu\",\"fight scenes\",\"desert\",\"cinematography\"],[\"melancholic\",\"enigmatic\",\"masterpiece\",\"obsession\",\"beautifully filmed\"],[\"male nudity\",\"pornography\",\"cult film\",\"sexual\",\"cannibalism\"],[\"psychology\",\"dreams\",\"psychological\",\"mental illness\",\"cerebral\"],[\"dystopic future\",\"fighting the system\",\"futuristic\",\"imagination\",\"visually stunning\"],[\"criterion\",\"melancholic\",\"spanish\",\"intimate\",\"male nudity\"],[\"romantic comedy\",\"chick flick\",\"girlie movie\",\"romantic\",\"sweet\"],[\"comedy\",\"parody\",\"funny\",\"road trip\",\"hilarious\"],[\"irish\",\"based on true story\",\"irish accent\",\"true story\",\"based on a true story\"],[\"criterion\",\"surreal\",\"surrealism\",\"art\",\"weird\"],[\"good action\",\"action\",\"fight scenes\",\"martial arts\",\"car chase\"],[\"weird\",\"horror\",\"splatter\",\"loneliness\",\"creepy\"],[\"spiders\",\"horror\",\"creepy\",\"splatter\",\"grindhouse\"],[\"cult film\",\"weird\",\"surreal\",\"cult classic\",\"low budget\"],[\"criterion\",\"surveillance\",\"bleak\",\"police\",\"police investigation\"],[\"espionage\",\"middle east\",\"spying\",\"spy\",\"terrorism\"],[\"interracial romance\",\"addiction\",\"drama\",\"drug addiction\",\"great acting\"],[\"sexual\",\"enigmatic\",\"obsession\",\"surreal\",\"criterion\"],[\"stranded\",\"survival\",\"island\",\"relationships\",\"nudity (topless - notable)\"],[\"irish\",\"boston\",\"gangsters\",\"life philosophy\",\"murder\"],[\"original\",\"comedy\",\"teen movie\",\"quirky\",\"satirical\"],[\"relationships\",\"happy ending\",\"girlie movie\",\"romantic comedy\",\"romantic\"],[\"lions\",\"animal movie\",\"indians\",\"animals\",\"prison escape\"],[\"adolescence\",\"bittersweet\",\"coming of age\",\"realistic\",\"coming-of-age\"],[\"book was better\",\"based on book\",\"crime\",\"documentary\",\"very interesting\"],[\"brainwashing\",\"political\",\"conspiracy\",\"assassin\",\"politics\"],[\"depression\",\"independent film\",\"loneliness\",\"original\",\"desert\"],[\"road movie\",\"music\",\"musicians\",\"chase\",\"musical\"],[\"visually stunning\",\"life & death\",\"unusual plot structure\",\"cerebral\",\"immortality\"],[\"sentimental\",\"mentor\",\"feel-good\",\"inspiring\",\"coming of age\"]],\"x\":{\"__ndarray__\":\"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\",\"dtype\":\"float64\",\"shape\":[1000]},\"y\":{\"__ndarray__\":\"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\",\"dtype\":\"float64\",\"shape\":[1000]}},\"selected\":{\"id\":\"1243\",\"type\":\"Selection\"},\"selection_policy\":{\"id\":\"1242\",\"type\":\"UnionRenderers\"}},\"id\":\"1185\",\"type\":\"ColumnDataSource\"},{\"attributes\":{},\"id\":\"1208\",\"type\":\"BasicTicker\"},{\"attributes\":{},\"id\":\"1203\",\"type\":\"BasicTicker\"},{\"attributes\":{\"ticker\":{\"id\":\"1203\",\"type\":\"BasicTicker\"}},\"id\":\"1206\",\"type\":\"Grid\"},{\"attributes\":{\"dimension\":1,\"ticker\":{\"id\":\"1208\",\"type\":\"BasicTicker\"}},\"id\":\"1211\",\"type\":\"Grid\"},{\"attributes\":{},\"id\":\"1187\",\"type\":\"ResetTool\"},{\"attributes\":{\"formatter\":{\"id\":\"1240\",\"type\":\"BasicTickFormatter\"},\"ticker\":{\"id\":\"1208\",\"type\":\"BasicTicker\"}},\"id\":\"1207\",\"type\":\"LinearAxis\"},{\"attributes\":{\"callback\":null,\"tooltips\":[[\"name\",\"@name\"],[\"tags\",\"@tags\"]]},\"id\":\"1186\",\"type\":\"HoverTool\"},{\"attributes\":{},\"id\":\"1188\",\"type\":\"PanTool\"},{\"attributes\":{\"active_drag\":\"auto\",\"active_inspect\":\"auto\",\"active_multi\":null,\"active_scroll\":\"auto\",\"active_tap\":\"auto\",\"tools\":[{\"id\":\"1186\",\"type\":\"HoverTool\"},{\"id\":\"1187\",\"type\":\"ResetTool\"},{\"id\":\"1188\",\"type\":\"PanTool\"},{\"id\":\"1189\",\"type\":\"WheelZoomTool\"},{\"id\":\"1190\",\"type\":\"SaveTool\"}]},\"id\":\"1212\",\"type\":\"Toolbar\"},{\"attributes\":{},\"id\":\"1189\",\"type\":\"WheelZoomTool\"},{\"attributes\":{},\"id\":\"1190\",\"type\":\"SaveTool\"},{\"attributes\":{\"fill_alpha\":{\"value\":0.5},\"fill_color\":{\"value\":\"#1f77b4\"},\"line_alpha\":{\"value\":0.5},\"line_color\":{\"value\":\"#1f77b4\"},\"size\":{\"units\":\"screen\",\"value\":20},\"x\":{\"field\":\"x\"},\"y\":{\"field\":\"y\"}},\"id\":\"1219\",\"type\":\"Circle\"},{\"attributes\":{\"text\":\"PCA 2D-projection\"},\"id\":\"1192\",\"type\":\"Title\"},{\"attributes\":{\"fill_alpha\":{\"value\":0.1},\"fill_color\":{\"value\":\"#1f77b4\"},\"line_alpha\":{\"value\":0.1},\"line_color\":{\"value\":\"#1f77b4\"},\"size\":{\"units\":\"screen\",\"value\":20},\"x\":{\"field\":\"x\"},\"y\":{\"field\":\"y\"}},\"id\":\"1220\",\"type\":\"Circle\"},{\"attributes\":{\"callback\":null},\"id\":\"1194\",\"type\":\"DataRange1d\"},{\"attributes\":{\"data_source\":{\"id\":\"1185\",\"type\":\"ColumnDataSource\"},\"glyph\":{\"id\":\"1219\",\"type\":\"Circle\"},\"hover_glyph\":null,\"muted_glyph\":null,\"nonselection_glyph\":{\"id\":\"1220\",\"type\":\"Circle\"},\"selection_glyph\":null,\"view\":{\"id\":\"1222\",\"type\":\"CDSView\"}},\"id\":\"1221\",\"type\":\"GlyphRenderer\"}],\"root_ids\":[\"1191\"]},\"title\":\"Bokeh Application\",\"version\":\"1.4.0\"}};\n",
       "  var render_items = [{\"docid\":\"c36b10c0-9979-46f5-9593-bb3ecb465f2e\",\"notebook_comms_target\":\"1244\",\"roots\":{\"1191\":\"3093178c-fdc6-40c7-8286-9ffc5fa88165\"}}];\n",
       "  root.Bokeh.embed.embed_items_notebook(docs_json, render_items);\n",
       "\n",
       "  }\n",
       "  if (root.Bokeh !== undefined) {\n",
       "    embed_document(root);\n",
       "  } else {\n",
       "    var attempts = 0;\n",
       "    var timer = setInterval(function(root) {\n",
       "      if (root.Bokeh !== undefined) {\n",
       "        clearInterval(timer);\n",
       "        embed_document(root);\n",
       "      } else {\n",
       "        attempts++;\n",
       "        if (attempts > 100) {\n",
       "          clearInterval(timer);\n",
       "          console.log(\"Bokeh: ERROR: Unable to run BokehJS code because BokehJS library is missing\");\n",
       "        }\n",
       "      }\n",
       "    }, 10, root)\n",
       "  }\n",
       "})(window);"
      ],
      "application/vnd.bokehjs_exec.v0+json": ""
     },
     "metadata": {
      "application/vnd.bokehjs_exec.v0+json": {
       "id": "1191"
      }
     },
     "output_type": "display_data"
    },
    {
     "data": {
      "text/html": [
       "<p><code>&lt;Bokeh Notebook handle for <strong>In[53]</strong>&gt;</code></p>"
      ],
      "text/plain": [
       "<bokeh.io.notebook.CommsHandle at 0x7f76c407ef10>"
      ]
     },
     "execution_count": 53,
     "metadata": {},
     "output_type": "execute_result"
    }
   ],
   "source": [
    "cmap = plt.get_cmap('viridis')\n",
    "def val2rgb(val):\n",
    "    return rgb2hex(cmap(val)[:3])\n",
    "\n",
    "source = ColumnDataSource(\n",
    "    data={\n",
    "        \"x\": proj2PCA_sample[:,0],\n",
    "        \"y\": proj2PCA_sample[:,1],\n",
    "        \"name\": [movies_dict[id_] for id_ in namesSample],\n",
    "#         \"color\": [val2rgb(c) for c in color.reshape(-1,)],\n",
    "        \"tags\": tagNamesSample\n",
    "    })\n",
    "\n",
    "hover = HoverTool(\n",
    "    tooltips=[\n",
    "        (\"name\", \"@name\"),\n",
    "        (\"tags\", \"@tags\")\n",
    "    ])\n",
    "tools = [hover, ResetTool(), PanTool(), WheelZoomTool(), SaveTool()]\n",
    "\n",
    "p = figure(plot_width=960, plot_height=360, tools=tools, title=\"PCA 2D-projection\")\n",
    "\n",
    "# p.circle(\"x\", \"y\", source=source, size=20, color=\"color\", alpha=0.5)\n",
    "p.circle(\"x\", \"y\", source=source, size=20, alpha=0.5)\n",
    "show(p, notebook_handle=True)"
   ]
  },
  {
   "cell_type": "markdown",
   "metadata": {},
   "source": [
    "In the dimensionality reduction with PCA we can still see how similar movies (based on genre and other tags) are close between them. Nevertheless, although the projection keeps a lot of information and variance from the original data, it is more uniformly distributed here and the clusters are not as visible as in the t-SNE method, so it would be more difficult to obtain a frontier that would separate the clusters."
   ]
  },
  {
   "cell_type": "markdown",
   "metadata": {},
   "source": [
    "In the t-SNE method we could see clusters more clearly, and the reason is because t-SNE tries to keep a proportional distance between the points from the original space to the low-dimensional one, it tries to keep the local structure of the original data. And in our case, we have ran t-SNE taking in account the 30 nearest neighbours from each point. An extension of this activity could be to find the optimal value to the number of neighbours to take in account.\n",
    "\n",
    "T-SNE tries to minimize the Kullback-Leibler divergence between the joint probabilities of the low-dimensional embedding and the high-dimensional data, while PCA just maximize the variance."
   ]
  }
 ],
 "metadata": {
  "anaconda-cloud": {},
  "kernelspec": {
   "display_name": "Python 3",
   "language": "python",
   "name": "python3"
  },
  "language_info": {
   "codemirror_mode": {
    "name": "ipython",
    "version": 3
   },
   "file_extension": ".py",
   "mimetype": "text/x-python",
   "name": "python",
   "nbconvert_exporter": "python",
   "pygments_lexer": "ipython3",
   "version": "3.7.6"
  }
 },
 "nbformat": 4,
 "nbformat_minor": 2
}
