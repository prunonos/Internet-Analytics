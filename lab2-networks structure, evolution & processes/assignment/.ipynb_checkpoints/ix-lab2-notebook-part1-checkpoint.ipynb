{
 "cells": [
  {
   "cell_type": "markdown",
   "metadata": {},
   "source": [
    "# Networks: structure, evolution & processes\n",
    "**Internet Analytics - Lab 2**\n",
    "\n",
    "---\n",
    "\n",
    "**Group:** *P*\n",
    "\n",
    "**Names:**\n",
    "\n",
    "* *Albert Koppelmaa*\n",
    "* *Edouard Lacroix*\n",
    "* *Guillem Pruñonosa Soler*\n",
    "* *Gaëtan Schwartz*\n",
    "\n",
    "---\n",
    "\n",
    "#### Instructions\n",
    "\n",
    "*This is a template for part 1 of the lab. Clearly write your answers, comments and interpretations in Markodown cells. Don't forget that you can add $\\LaTeX$ equations in these cells. Feel free to add or remove any cell.*\n",
    "\n",
    "*Please properly comment your code. Code readability will be considered for grading. To avoid long cells of codes in the notebook, you can also embed long python functions and classes in a separate module. Don’t forget to hand in your module if that is the case. In multiple exercises, you are required to come up with your own method to solve various problems. Be creative and clearly motivate and explain your methods. Creativity and clarity will be considered for grading.*"
   ]
  },
  {
   "cell_type": "markdown",
   "metadata": {},
   "source": [
    "---\n",
    "\n",
    "## 2.1 Exploration of real networks\n",
    "\n",
    "#### Exercise 2.1"
   ]
  },
  {
   "cell_type": "code",
   "execution_count": 1,
   "metadata": {},
   "outputs": [],
   "source": [
    "import networkx as nx\n",
    "import numpy as np\n",
    "import matplotlib.pyplot as plt\n",
    "%matplotlib inline"
   ]
  },
  {
   "cell_type": "code",
   "execution_count": 4,
   "metadata": {},
   "outputs": [],
   "source": [
    "# we import the graph (ignoring the comments (starts with #))\n",
    "Data = open('..//data//network1.csv', \"r\")\n",
    "Gnet1 = nx.parse_edgelist(Data, comments='#', delimiter=',', create_using=nx.Graph(),\n",
    "                      nodetype=int, data=(('weight', float),))"
   ]
  },
  {
   "cell_type": "code",
   "execution_count": 5,
   "metadata": {},
   "outputs": [
    {
     "name": "stdout",
     "output_type": "stream",
     "text": [
      "The number of nodes of Network1 is: 13033\n",
      "The number of edges of Network1 is: 18584\n"
     ]
    }
   ],
   "source": [
    "nNodes = np.unique(Gnet1.nodes).shape[0]\n",
    "print(f'The number of nodes of Network1 is: {nNodes}')\n",
    "nEdges = (np.array(Gnet1.edges)).shape[0]\n",
    "print(f'The number of edges of Network1 is: {nEdges}')"
   ]
  },
  {
   "cell_type": "markdown",
   "metadata": {},
   "source": [
    "#### Exercise 2.2:  Node degree distribution"
   ]
  },
  {
   "cell_type": "code",
   "execution_count": 6,
   "metadata": {},
   "outputs": [],
   "source": [
    "ds = sorted([d for n, d in Gnet1.degree()])"
   ]
  },
  {
   "cell_type": "code",
   "execution_count": 7,
   "metadata": {},
   "outputs": [
    {
     "data": {
      "text/plain": [
       "array([   0, 8192, 2889, ...,    0,    0,    1], dtype=int64)"
      ]
     },
     "execution_count": 7,
     "metadata": {},
     "output_type": "execute_result"
    }
   ],
   "source": [
    "np.bincount(ds)"
   ]
  },
  {
   "cell_type": "code",
   "execution_count": 8,
   "metadata": {},
   "outputs": [],
   "source": [
    "ds_s = [str(d) for d in ds]"
   ]
  },
  {
   "cell_type": "markdown",
   "metadata": {},
   "source": [
    "<b>1-. </b>The most useful plot for this task is the histogram because it represents well the degree distribution, taking in account the number of nodes with every degree."
   ]
  },
  {
   "cell_type": "code",
   "execution_count": 9,
   "metadata": {},
   "outputs": [
    {
     "data": {
      "image/png": "[encoded data removed]",
      "text/plain": [
       "<Figure size 576x432 with 1 Axes>"
      ]
     },
     "metadata": {
      "needs_background": "light"
     },
     "output_type": "display_data"
    }
   ],
   "source": [
    "plt.figure(figsize=(8,6))\n",
    "plt.hist(ds_s,bins=len(np.unique(ds)))\n",
    "plt.title(\"Degree Distribution\", fontsize=20)\n",
    "plt.xlabel(\"degrees\", fontsize=10)\n",
    "plt.ylabel(\"counts\", fontsize=10)\n",
    "# Display the result\n",
    "plt.show()"
   ]
  },
  {
   "cell_type": "code",
   "execution_count": 10,
   "metadata": {},
   "outputs": [
    {
     "data": {
      "text/plain": [
       "2.8518376429064682"
      ]
     },
     "execution_count": 10,
     "metadata": {},
     "output_type": "execute_result"
    }
   ],
   "source": [
    "mean = np.mean(ds)\n",
    "mean"
   ]
  },
  {
   "cell_type": "code",
   "execution_count": 11,
   "metadata": {},
   "outputs": [
    {
     "data": {
      "text/plain": [
       "1.5400041433602651"
      ]
     },
     "execution_count": 11,
     "metadata": {},
     "output_type": "execute_result"
    }
   ],
   "source": [
    "# Pareto parameters\n",
    "xm = np.min(ds) # == 1\n",
    "b = mean / (mean - 1) # mean = (b * xm) / (b - 1)\n",
    "b"
   ]
  },
  {
   "cell_type": "code",
   "execution_count": 12,
   "metadata": {},
   "outputs": [
    {
     "name": "stdout",
     "output_type": "stream",
     "text": [
      "Some of the properties of the degree distribution are:\n",
      "- mean = 2.8518376429064682\n",
      "- min value degree = 1\n",
      "- max value degree = 1482\n"
     ]
    }
   ],
   "source": [
    "print('Some of the properties of the degree distribution are:')\n",
    "print(f'- mean = {mean}')\n",
    "print(f'- min value degree = {np.min(ds)}')\n",
    "print(f'- max value degree = {np.max(ds)}')"
   ]
  },
  {
   "cell_type": "code",
   "execution_count": 13,
   "metadata": {},
   "outputs": [
    {
     "data": {
      "text/plain": [
       "[<matplotlib.lines.Line2D at 0x23d28e506d0>]"
      ]
     },
     "execution_count": 13,
     "metadata": {},
     "output_type": "execute_result"
    },
    {
     "data": {
      "image/png": "[encoded data removed]",
      "text/plain": [
       "<Figure size 432x288 with 1 Axes>"
      ]
     },
     "metadata": {
      "needs_background": "light"
     },
     "output_type": "display_data"
    }
   ],
   "source": [
    "from scipy.stats import pareto\n",
    "import matplotlib.pyplot as plt\n",
    "fig, ax = plt.subplots(1,1)\n",
    "# mean, var, skew, kurt = pareto.stats(b, moments='mvsk')\n",
    "\n",
    "plt.title(\"Pareto Distribution\", fontsize=20)\n",
    "\n",
    "x = np.linspace(pareto.ppf(0.01, b),\n",
    "                pareto.ppf(0.99, b), 100)\n",
    "\n",
    "ax.plot(x, pareto.pdf(x, b),\n",
    "       'r-', lw=5, alpha=0.6, label='pareto pdf')"
   ]
  },
  {
   "cell_type": "markdown",
   "metadata": {},
   "source": [
    "The degree of the Network1 Graph follows a Pareto($\\beta$,xmin) distribution with $\\beta$ = 1.54 and xmin = 1, that it is the minimum degree value.\n"
   ]
  },
  {
   "cell_type": "markdown",
   "metadata": {},
   "source": [
    "Both graphs have a very similar shape. We have estimated $\\beta$ given the mean of the degree distribution."
   ]
  },
  {
   "cell_type": "markdown",
   "metadata": {},
   "source": [
    "#### Exercise 2.3: Giant component"
   ]
  },
  {
   "cell_type": "code",
   "execution_count": 14,
   "metadata": {},
   "outputs": [
    {
     "data": {
      "text/plain": [
       "192"
      ]
     },
     "execution_count": 14,
     "metadata": {},
     "output_type": "execute_result"
    }
   ],
   "source": [
    "ncc = nx.number_connected_components(Gnet1)\n",
    "ncc"
   ]
  },
  {
   "cell_type": "markdown",
   "metadata": {},
   "source": [
    "The number of connected components is 192."
   ]
  },
  {
   "cell_type": "code",
   "execution_count": 15,
   "metadata": {},
   "outputs": [
    {
     "data": {
      "text/plain": [
       "[12576, 16, 7, 6, 5]"
      ]
     },
     "execution_count": 15,
     "metadata": {},
     "output_type": "execute_result"
    }
   ],
   "source": [
    "sorted([len(cc) for cc in nx.connected_components(Gnet1)],reverse=True)[:5]"
   ]
  },
  {
   "cell_type": "markdown",
   "metadata": {},
   "source": [
    "There is one giant component and his size is 12576 nodes."
   ]
  },
  {
   "cell_type": "markdown",
   "metadata": {},
   "source": [
    "#### Exercise 2.4: Short paths & Small-worlds"
   ]
  },
  {
   "cell_type": "code",
   "execution_count": 16,
   "metadata": {},
   "outputs": [],
   "source": [
    "connected_components = sorted([cc for cc in nx.connected_components(Gnet1)])\n",
    "G0 = Gnet1.subgraph(connected_components[0]) # G0 = giant component"
   ]
  },
  {
   "cell_type": "code",
   "execution_count": 17,
   "metadata": {},
   "outputs": [
    {
     "data": {
      "text/plain": [
       "12576"
      ]
     },
     "execution_count": 17,
     "metadata": {},
     "output_type": "execute_result"
    }
   ],
   "source": [
    "len(G0.nodes)"
   ]
  },
  {
   "cell_type": "code",
   "execution_count": 18,
   "metadata": {},
   "outputs": [
    {
     "data": {
      "text/plain": [
       "[6, 7]"
      ]
     },
     "execution_count": 18,
     "metadata": {},
     "output_type": "execute_result"
    }
   ],
   "source": [
    "[1,2,3,4,5,6,7][-2:]"
   ]
  },
  {
   "cell_type": "code",
   "execution_count": 22,
   "metadata": {},
   "outputs": [
    {
     "data": {
      "text/plain": [
       "array([ 3748,  4162,  2126, ...,   221, 12986,   222])"
      ]
     },
     "execution_count": 22,
     "metadata": {},
     "output_type": "execute_result"
    }
   ],
   "source": [
    "nodesToVisit"
   ]
  },
  {
   "cell_type": "code",
   "execution_count": 20,
   "metadata": {},
   "outputs": [],
   "source": [
    "distances = []\n",
    "np.random.seed(0)\n",
    "nodesToVisit = np.random.permutation(list(Gnet1.nodes))[:2000]\n",
    "assert len(nodesToVisit[:1000]) == len(nodesToVisit[-1000:])\n",
    "\n",
    "for nA in nodesToVisit[:1000]:\n",
    "    for nB in nodesToVisit[-1000:]:\n",
    "        if not nA == nB:\n",
    "            try:\n",
    "                dist = nx.shortest_path_length(Gnet1,source=nA,target=nB)\n",
    "                distances.append(dist)\n",
    "            except:\n",
    "                pass\n"
   ]
  },
  {
   "cell_type": "code",
   "execution_count": 21,
   "metadata": {},
   "outputs": [
    {
     "data": {
      "text/plain": [
       "4.15595754123507"
      ]
     },
     "execution_count": 21,
     "metadata": {},
     "output_type": "execute_result"
    }
   ],
   "source": [
    "np.mean(distances)"
   ]
  },
  {
   "cell_type": "markdown",
   "metadata": {},
   "source": [
    "The network is indeed a small world as we have a node distance between them of 4.156. So, our network is compact.\n",
    "<br>In order to calculate this, we have chosen two groups of 1000 random nodes each one from the network and we have compute the shortest_path between every node of each group. We have also had to manage the exception that occurs in case there is no path between two nodes. Another option would have been to compute the mean only in one connected component instead of in the whole graph to guarantee there is always a path between 2 nodes."
   ]
  },
  {
   "cell_type": "markdown",
   "metadata": {},
   "source": [
    "#### Exercise 2.5: Network comparison"
   ]
  },
  {
   "cell_type": "code",
   "execution_count": 2,
   "metadata": {},
   "outputs": [],
   "source": [
    "Data = open('..//data//network2.csv', \"r\")\n",
    "Gnet2 = nx.parse_edgelist(Data, comments='#', delimiter=',', create_using=nx.Graph(),\n",
    "                      nodetype=int, data=(('weight', float),))"
   ]
  },
  {
   "cell_type": "code",
   "execution_count": 3,
   "metadata": {},
   "outputs": [
    {
     "name": "stdout",
     "output_type": "stream",
     "text": [
      "The number of nodes of Network2 is: 26542\n",
      "The number of edges of Network2 is: 43516\n"
     ]
    }
   ],
   "source": [
    "nNodes = np.unique(Gnet2.nodes).shape[0]\n",
    "print(f'The number of nodes of Network2 is: {nNodes}')\n",
    "nEdges = (np.array(Gnet2.edges)).shape[0]\n",
    "print(f'The number of edges of Network2 is: {nEdges}')"
   ]
  },
  {
   "cell_type": "markdown",
   "metadata": {},
   "source": [
    "This (Network2) graph is much bigger than the previous one (Network1)."
   ]
  },
  {
   "cell_type": "code",
   "execution_count": 4,
   "metadata": {},
   "outputs": [],
   "source": [
    "ds = sorted([d for n, d in Gnet2.degree()])"
   ]
  },
  {
   "cell_type": "code",
   "execution_count": 5,
   "metadata": {},
   "outputs": [
    {
     "data": {
      "text/plain": [
       "array([    0,  1556,  2782,  9455, 12305,   347,    88,     8,     1],\n",
       "      dtype=int64)"
      ]
     },
     "execution_count": 5,
     "metadata": {},
     "output_type": "execute_result"
    }
   ],
   "source": [
    "np.bincount(ds)"
   ]
  },
  {
   "cell_type": "code",
   "execution_count": 6,
   "metadata": {},
   "outputs": [],
   "source": [
    "ds_s = [str(d) for d in ds]"
   ]
  },
  {
   "cell_type": "code",
   "execution_count": 7,
   "metadata": {},
   "outputs": [
    {
     "data": {
      "image/png": "[encoded data removed]",
      "text/plain": [
       "<Figure size 576x432 with 1 Axes>"
      ]
     },
     "metadata": {
      "needs_background": "light"
     },
     "output_type": "display_data"
    }
   ],
   "source": [
    "plt.figure(figsize=(8,6))\n",
    "plt.hist(ds_s,bins=len(set(ds)))\n",
    "plt.title(\"Degree Distribution\", fontsize=20)\n",
    "plt.xlabel(\"degrees\", fontsize=10)\n",
    "plt.ylabel(\"counts\", fontsize=10)\n",
    "# Display the result\n",
    "plt.show()"
   ]
  },
  {
   "cell_type": "markdown",
   "metadata": {},
   "source": [
    "In Network2 the degree is distributed among all nodes. So, there is no node that is super connected to other nodes."
   ]
  },
  {
   "cell_type": "code",
   "execution_count": 8,
   "metadata": {},
   "outputs": [],
   "source": [
    "mean = np.mean(ds)"
   ]
  },
  {
   "cell_type": "code",
   "execution_count": 9,
   "metadata": {},
   "outputs": [
    {
     "name": "stdout",
     "output_type": "stream",
     "text": [
      "Some of the properties of the degree distribution are:\n",
      "- mean = 3.2790294627383014\n",
      "- min value = 1\n",
      "- max value = 8\n"
     ]
    }
   ],
   "source": [
    "print('Some of the properties of the degree distribution are:')\n",
    "print(f'- mean = {mean}')\n",
    "print(f'- min value = {np.min(ds)}')\n",
    "print(f'- max value = {np.max(ds)}')"
   ]
  },
  {
   "cell_type": "markdown",
   "metadata": {},
   "source": [
    "The average degree of Network2 is slighly higher than the Network1 avg degree, but with another distribution."
   ]
  },
  {
   "cell_type": "code",
   "execution_count": 10,
   "metadata": {},
   "outputs": [
    {
     "data": {
      "text/plain": [
       "5"
      ]
     },
     "execution_count": 10,
     "metadata": {},
     "output_type": "execute_result"
    }
   ],
   "source": [
    "ncc = nx.number_connected_components(Gnet2)\n",
    "ncc"
   ]
  },
  {
   "cell_type": "code",
   "execution_count": 11,
   "metadata": {},
   "outputs": [
    {
     "name": "stdout",
     "output_type": "stream",
     "text": [
      "[26481, 24, 30, 2, 5]\n",
      "0\n"
     ]
    }
   ],
   "source": [
    "connected_components = [cc for cc in nx.connected_components(Gnet2)]\n",
    "print([len(cc) for cc in connected_components])\n",
    "big_cc = np.argmax([len(cc) for cc in connected_components])\n",
    "G0 = Gnet2.subgraph(connected_components[big_cc]) # G0 = giant component\n",
    "print(big_cc)\n"
   ]
  },
  {
   "cell_type": "markdown",
   "metadata": {},
   "source": [
    "The number of connected components is 5. So this graph has a bigger giant component and less small components, so the graph is more compacted. Here we show the length of each connected component."
   ]
  },
  {
   "cell_type": "code",
   "execution_count": 14,
   "metadata": {},
   "outputs": [],
   "source": [
    "distances = []\n",
    "np.random.seed(0)\n",
    "nodesToVisit = np.random.permutation(list(Gnet2.nodes))\n",
    "\n",
    "for nA in nodesToVisit[:100]:\n",
    "    i += 1\n",
    "    for nB in nodesToVisit[-100:]:\n",
    "        if nA != nB:\n",
    "            try:\n",
    "                dist = nx.shortest_path_length(Gnet2,source=nA,target=nB)\n",
    "                distances.append(dist)\n",
    "            except:\n",
    "                pass"
   ]
  },
  {
   "cell_type": "code",
   "execution_count": 15,
   "metadata": {},
   "outputs": [
    {
     "data": {
      "text/plain": [
       "100.14727272727272"
      ]
     },
     "execution_count": 15,
     "metadata": {},
     "output_type": "execute_result"
    }
   ],
   "source": [
    "np.mean(distances)"
   ]
  },
  {
   "cell_type": "markdown",
   "metadata": {},
   "source": [
    "In this case the network is very sparsed, because the mean distance from two nodes is 100. <br>In order to calculate this, we have chosen two groups of 100 random nodes (after some trials, we have decided it is a reasonable value) each one from the network and we have compute the shortest_path between every node of each group. We have also had to manage the exception that occurs in case there is no path between two nodes. Another option would have been to compute the mean only in one connected component instead of in the whole graph to guarantee there is always a path between 2 nodes."
   ]
  },
  {
   "cell_type": "markdown",
   "metadata": {},
   "source": [
    "#### Exercise 2.6: Network identification"
   ]
  },
  {
   "cell_type": "markdown",
   "metadata": {
    "collapsed": true
   },
   "source": [
    "Considering the degree distributions of both graphs, we have concluded that the first network is related to the Internet subnetwork of routers due to the number of connections of the major router (+8000 connections), and also due to the high compactness (short paths) of the network that suits with the idea of a Internet subnetwork, that you need few jumps from one node to another.\n",
    "\n",
    "On the other hand, the other degree distribution (network2) is related with the network of roads around NYC, as the maximum of roads intersections is 8. We have also concluded this because of the spread of the second network, that it makes sense to the structure of a city such big as NYC."
   ]
  }
 ],
 "metadata": {
  "kernelspec": {
   "display_name": "Python 3 (ipykernel)",
   "language": "python",
   "name": "python3"
  },
  "language_info": {
   "codemirror_mode": {
    "name": "ipython",
    "version": 3
   },
   "file_extension": ".py",
   "mimetype": "text/x-python",
   "name": "python",
   "nbconvert_exporter": "python",
   "pygments_lexer": "ipython3",
   "version": "3.8.12"
  }
 },
 "nbformat": 4,
 "nbformat_minor": 2
}
