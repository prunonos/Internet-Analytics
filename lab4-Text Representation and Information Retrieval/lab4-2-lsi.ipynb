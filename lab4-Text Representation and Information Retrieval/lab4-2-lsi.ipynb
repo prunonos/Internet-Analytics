{
 "cells": [
  {
   "cell_type": "markdown",
   "metadata": {},
   "source": [
    "# Text 2: Latent semantic indexing\n",
    "**Internet Analytics - Lab 4**\n",
    "\n",
    "---\n",
    "\n",
    "**Group:** *Your group letter.*\n",
    "\n",
    "**Names:**\n",
    "\n",
    "* *Name 1*\n",
    "* *Name 2*\n",
    "* *Name 3*\n",
    "\n",
    "---\n",
    "\n",
    "#### Instructions\n",
    "\n",
    "*This is a template for part 2 of the lab. Clearly write your answers, comments and interpretations in Markodown cells. Don't forget that you can add $\\LaTeX$ equations in these cells. Feel free to add or remove any cell.*\n",
    "\n",
    "*Please properly comment your code. Code readability will be considered for grading. To avoid long cells of codes in the notebook, you can also embed long python functions and classes in a separate module. Don’t forget to hand in your module if that is the case. In multiple exercises, you are required to come up with your own method to solve various problems. Be creative and clearly motivate and explain your methods. Creativity and clarity will be considered for grading.*"
   ]
  },
  {
   "cell_type": "markdown",
   "metadata": {},
   "source": [
    "U = M ×K;  S = K ×K; V = K ×N , K rank"
   ]
  },
  {
   "cell_type": "code",
   "execution_count": 1,
   "metadata": {},
   "outputs": [],
   "source": [
    "import pickle\n",
    "import numpy as np\n",
    "from scipy.sparse import load_npz\n",
    "from scipy.sparse.linalg import svds\n",
    "from utils import load_json\n"
   ]
  },
  {
   "cell_type": "markdown",
   "metadata": {},
   "source": [
    "## Exercise 4.4: Latent semantic indexing"
   ]
  },
  {
   "cell_type": "code",
   "execution_count": 8,
   "metadata": {},
   "outputs": [],
   "source": [
    "data = load_npz('tf_idf.npz')\n",
    "courses = load_json('data/courses.txt')\n",
    "index_terms = load_json('dict_index_word.txt')"
   ]
  },
  {
   "cell_type": "code",
   "execution_count": 9,
   "metadata": {},
   "outputs": [],
   "source": [
    "index_terms = index_terms[0]"
   ]
  },
  {
   "cell_type": "code",
   "execution_count": 10,
   "metadata": {},
   "outputs": [
    {
     "name": "stdout",
     "output_type": "stream",
     "text": [
      "95.08828388714933\n",
      "92.52086463673743\n",
      "88.3883485765918\n",
      "85.20283555746113\n",
      "83.43562837221057\n",
      "83.04422329354485\n",
      "80.08661731300825\n",
      "79.44790102019806\n",
      "78.32118326518545\n",
      "77.80732117558594\n",
      "77.55624700367134\n",
      "77.09396702889406\n",
      "76.76352918962567\n",
      "76.20642924256359\n",
      "75.67076932146176\n",
      "75.39385613492838\n",
      "75.19340246546489\n",
      "74.71228252450693\n",
      "72.67555141052131\n",
      "72.26136661351383\n"
     ]
    }
   ],
   "source": [
    "K=300\n",
    "U, S, V = svds(data, K)\n",
    "\n",
    "for i in range(1,21):\n",
    "    print(S[-i])"
   ]
  },
  {
   "cell_type": "markdown",
   "metadata": {},
   "source": [
    "The values of Si represent the strength of topic i. \n",
    "\n",
    "The columns of U represent the influence of topic i on the columns of the data, in our case the documents.\n",
    "\n",
    "The rows of V represent the influence of topic i on the rows of the data, in our case the terms."
   ]
  },
  {
   "cell_type": "markdown",
   "metadata": {},
   "source": [
    "## Exercise 4.5: Topic extraction"
   ]
  },
  {
   "cell_type": "code",
   "execution_count": 13,
   "metadata": {},
   "outputs": [],
   "source": [
    "documents = []   # 10X10 10 topics for each 10 documents\n",
    "terms = []       # 10X10 10 topics for each 10 terms\n",
    "\n",
    "for i in range(1,11):\n",
    "    #column of U (Mx1): for topic i wich of this M Terms represent i more\n",
    "    uCol = U[:,-i]\n",
    "    #row de V (Nx1): for topic i wich of this N Documents represent i more\n",
    "    vRow = V[-i, :]\n",
    "    \n",
    "    indexTerm = np.argsort(uCol)[::-1]\n",
    "    terms.append(indexTerm[0:10])\n",
    "    indexDoc = np.argsort(vRow)[::-1]\n",
    "    documents.append(indexDoc[0:10])\n",
    "\n",
    "\n",
    "        \n",
    "#Give a label to each of them "
   ]
  },
  {
   "cell_type": "code",
   "execution_count": 16,
   "metadata": {
    "scrolled": true
   },
   "outputs": [
    {
     "name": "stdout",
     "output_type": "stream",
     "text": [
      "Topic 0:\n",
      "   - Documents (Courses) :\n",
      "   Field Research Project A\n",
      "   Project 1 (EDIC)\n",
      "   Field Research Project B\n",
      "   Project 2 (EDIC)\n",
      "   De- and re-regulation of Network Industries\n",
      "   Training Rotation (EDNE)\n",
      "   PLLs and clock & data recovery\n",
      "   Studio BA4 (De Vylder & Taillieu)\n",
      "   Magnetic confinement\n",
      "   Multidisciplinary organization of medtechs/biotechs\n",
      "\n",
      "\n",
      "   - Terms (words) :\n",
      "   edmt administration\n",
      "   contact edmt\n",
      "   administration enrollment\n",
      "   ic laboratory\n",
      "   semester ic\n",
      "   assignment link\n",
      "   syllabus including\n",
      "   link note\n",
      "   note taught\n",
      "   taught regulation\n",
      "\n",
      "\n",
      "Topic 1:\n",
      "   - Documents (Courses) :\n",
      "   Lab immersion III\n",
      "   Lab immersion I\n",
      "   Lab immersion II\n",
      "   Semester project in Bioengineering\n",
      "   Project in bioengineering and biosciences\n",
      "   Project in neuroprosthetics\n",
      "   Lab immersion in industry A\n",
      "   Lab immersion academic (outside EPFL) A\n",
      "   Lab immersion academic (outside EPFL) B\n",
      "   Lab immersion in industry B\n",
      "\n",
      "\n",
      "   - Terms (words) :\n",
      "   experimentation data\n",
      "   wetlab computational\n",
      "   obtained wetlab\n",
      "   molecular medicine\n",
      "   data obtained\n",
      "   mode evaluation\n",
      "   written report\n",
      "   presentationplan experiment\n",
      "   hypothesis based\n",
      "   protocol data\n",
      "\n",
      "\n",
      "Topic 2:\n",
      "   - Documents (Courses) :\n",
      "   Lab immersion III\n",
      "   Lab immersion I\n",
      "   Project in bioengineering and biosciences\n",
      "   Lab immersion II\n",
      "   Semester project in Bioengineering\n",
      "   Lab immersion in industry A\n",
      "   Lab immersion academic (outside EPFL) A\n",
      "   Lab immersion academic (outside EPFL) B\n",
      "   Lab immersion in industry B\n",
      "   Project in neuroprosthetics\n",
      "\n",
      "\n",
      "   - Terms (words) :\n",
      "   experimentation data\n",
      "   wetlab computational\n",
      "   obtained wetlab\n",
      "   molecular medicine\n",
      "   mode evaluation\n",
      "   medicine neuroscience\n",
      "   presentationplan experiment\n",
      "   experiment specific\n",
      "   protocol data\n",
      "   hypothesis based\n",
      "\n",
      "\n",
      "Topic 3:\n",
      "   - Documents (Courses) :\n",
      "   Operations: economics & strategy\n",
      "   Materials and technology of microfabrication\n",
      "   Integrated circuits technology\n",
      "   Machine Learning for Engineers\n",
      "   Information : strategy & economics\n",
      "   Multivariate statistics\n",
      "   Geocomputation\n",
      "   Seminar series on advances in materials (autumn)\n",
      "   Seminar series on advances in materials (spring)\n",
      "   Technology & innovation strategy\n",
      "\n",
      "\n",
      "   - Terms (words) :\n",
      "   overview economic\n",
      "   economic driver\n",
      "   structural quantitative\n",
      "   consumer overview\n",
      "   basic dealing\n",
      "   management basic\n",
      "   written class\n",
      "   possibility designing\n",
      "   designing successful\n",
      "   firm concerned\n",
      "\n",
      "\n",
      "Topic 4:\n",
      "   - Documents (Courses) :\n",
      "   Operations: economics & strategy\n",
      "   Information literacy for chemists\n",
      "   Lab immersion III\n",
      "   Project in bioengineering and biosciences\n",
      "   Lab immersion I\n",
      "   Lab immersion II\n",
      "   Semester project in Bioengineering\n",
      "   Asset Pricing\n",
      "   Information : strategy & economics\n",
      "   Project in neuroprosthetics\n",
      "\n",
      "\n",
      "   - Terms (words) :\n",
      "   firm consumer\n",
      "   written class\n",
      "   scope management\n",
      "   enabling information\n",
      "   topic origin\n",
      "   strategic structural\n",
      "   strategy view\n",
      "   structural quantitative\n",
      "   economics statistic\n",
      "   economic driver\n",
      "\n",
      "\n",
      "Topic 5:\n",
      "   - Documents (Courses) :\n",
      "   UE W: Reading construction\n",
      "   Biomineralization: from nature to application\n",
      "   B2B - high-tech marketing\n",
      "   Corporate strategy\n",
      "   Industry dynamics, models & trends\n",
      "   Statistical mechanics\n",
      "   CCMX Winter School - Nanoparticles: From Fundamentals to Applications in Life Sciences\n",
      "   Risk and energy\n",
      "   Théorie et critique du projet MA2 (Boltshauser)\n",
      "   Biochemistry II\n",
      "\n",
      "\n",
      "   - Terms (words) :\n",
      "   develop scholarly\n",
      "   nature product\n",
      "   industrial constraint\n",
      "   industrial data\n",
      "   class preparation\n",
      "   engage type\n",
      "   constraint management\n",
      "   selected building\n",
      "   technical interview\n",
      "   assigned section\n",
      "\n",
      "\n",
      "Topic 6:\n",
      "   - Documents (Courses) :\n",
      "   Operations: economics & strategy\n",
      "   Machine Learning for Engineers\n",
      "   Lab immersion III\n",
      "   Lab immersion I\n",
      "   Project in bioengineering and biosciences\n",
      "   Lab immersion II\n",
      "   Semester project in Bioengineering\n",
      "   Integrated circuits technology\n",
      "   UE W: Reading construction\n",
      "   Lab immersion in industry A\n",
      "\n",
      "\n",
      "   - Terms (words) :\n",
      "   possibility designing\n",
      "   successful strategy\n",
      "   quantitative performance\n",
      "   recent special\n",
      "   calculus economics\n",
      "   operation strategic\n",
      "   designing successful\n",
      "   operational decision\n",
      "   operational dynamic\n",
      "   realize strategic\n",
      "\n",
      "\n",
      "Topic 7:\n",
      "   - Documents (Courses) :\n",
      "   Multivariate statistics\n",
      "   Data analysis and model classification\n",
      "   Fundamentals in Systems Engineering\n",
      "   Seminar series on advances in materials (autumn)\n",
      "   Seminar series on advances in materials (spring)\n",
      "   Foundations of software\n",
      "   Biostatistics\n",
      "   Convexity\n",
      "   Database systems\n",
      "   Geocomputation\n",
      "\n",
      "\n",
      "   - Terms (words) :\n",
      "   machine supervised\n",
      "   supervised unsupervised\n",
      "   independent component\n",
      "   observation made\n",
      "   variable main\n",
      "   association variable\n",
      "   finish exercise\n",
      "   discriminant content\n",
      "   session finish\n",
      "   test conditional\n",
      "\n",
      "\n",
      "Topic 8:\n",
      "   - Documents (Courses) :\n",
      "   Fundamentals in Systems Engineering\n",
      "   Seminar series on advances in materials (autumn)\n",
      "   Seminar series on advances in materials (spring)\n",
      "   Foundations of software\n",
      "   Database systems\n",
      "   Integrated circuits technology\n",
      "   Corporate strategy\n",
      "   Théorie et critique du projet MA1 (Geers)\n",
      "   Théorie et critique du projet MA2 (Geers)\n",
      "   Machine Learning for Engineers\n",
      "\n",
      "\n",
      "   - Terms (words) :\n",
      "   system life\n",
      "   engineering handbook\n",
      "   engineering system\n",
      "   cycle process\n",
      "   de weck\n",
      "   stakeholder requirement\n",
      "   engineering engineering\n",
      "   assignment team\n",
      "   concept selection\n",
      "   team assignment\n",
      "\n",
      "\n",
      "Topic 9:\n",
      "   - Documents (Courses) :\n",
      "   Seminar series on advances in materials (spring)\n",
      "   Seminar series on advances in materials (autumn)\n",
      "   Database systems\n",
      "   Foundations of software\n",
      "   Théorie et critique du projet MA1 (Geers)\n",
      "   Théorie et critique du projet MA2 (Geers)\n",
      "   Topics on Datacenter Design\n",
      "   Integrated circuits technology\n",
      "   Corporate strategy\n",
      "   Synthesis, analysis and verification\n",
      "\n",
      "\n",
      "   - Terms (words) :\n",
      "   expected note\n",
      "   series consist\n",
      "   interpret topic\n",
      "   slide distributed\n",
      "   background talk\n",
      "   attendance talk\n",
      "   emerging topic\n",
      "   selected current\n",
      "   http interpret\n",
      "   distributed expected\n",
      "\n",
      "\n"
     ]
    }
   ],
   "source": [
    "for i in range(10):\n",
    "    print( \"Topic \" + str(i) + \":\")\n",
    "    \n",
    "    print( \"   - Documents (Courses) :\")\n",
    "    for j in documents[i]:\n",
    "        print(\"   \" + courses[j]['name'])\n",
    "        \n",
    "    print(\"\\n\")\n",
    "    print( \"   - Terms (words) :\")\n",
    "    for k in terms[i]:\n",
    "        print(\"   \" + index_terms[str(k)])\n",
    "    print(\"\\n\")\n",
    "        \n",
    "#Give a label to each of them "
   ]
  },
  {
   "cell_type": "markdown",
   "metadata": {},
   "source": [
    "TODO <br>\n",
    "Topic 0: Administration IC <br>\n",
    "Topic 1: Chimistry Lab <br>\n",
    "Topic 2: ? <br>\n",
    "Topic 3: Topic 1 <br>\n",
    "Topic 4: Machine Learning <br>\n",
    "Topic 5: Topic4 <br>\n",
    "Topic 6: ? <br>\n",
    "Topic 7: Classification <br>\n",
    "Topic 8: ? <br>\n",
    "Topic 9: ?"
   ]
  },
  {
   "cell_type": "markdown",
   "metadata": {},
   "source": [
    "## Exercise 4.6: Document similarity search in concept-space"
   ]
  },
  {
   "cell_type": "markdown",
   "metadata": {},
   "source": [
    "For the facebook query, as we have 6 possible terms where facebook appear,\n",
    "we have done the average of their term vector (Ut) from the matrix U to \n",
    "compute the similarityproduct."
   ]
  },
  {
   "cell_type": "code",
   "execution_count": 17,
   "metadata": {},
   "outputs": [],
   "source": [
    "def sim(termUt, docuVd):\n",
    "    prodSV = S * docuVd\n",
    "    prod = termUt.T @ (prodSV)\n",
    "    norm1 = np.linalg.norm(termUt)\n",
    "    norm2 = np.linalg.norm(prodSV)\n",
    "    return prod / (norm1 * norm2)"
   ]
  },
  {
   "cell_type": "code",
   "execution_count": 18,
   "metadata": {},
   "outputs": [],
   "source": [
    "facebook_idxs =[22303, 22304, 22305, 54060, 57412, 66176]\n",
    "UtFacebookVectors = []\n",
    "\n",
    "for i in facebook_idxs:\n",
    "    UtFacebookVectors.append(U[i,:])\n",
    "UtFacebookVectors = np.asarray(UtFacebookVectors)\n",
    "UtFacebook = UtFacebookVectors.mean(axis=0)"
   ]
  },
  {
   "cell_type": "code",
   "execution_count": 19,
   "metadata": {
    "scrolled": true
   },
   "outputs": [],
   "source": [
    "#sim() function\n",
    "McIndex = 35957 \n",
    "UtMc = U[McIndex, :]"
   ]
  },
  {
   "cell_type": "code",
   "execution_count": 20,
   "metadata": {},
   "outputs": [],
   "source": [
    "McSimilitude = []\n",
    "FbSimilitude = []\n",
    "for i in range(len(courses)):\n",
    "    Vd = V[:, i]\n",
    "    McSimilitude.append(sim(UtMc, Vd))\n",
    "    FbSimilitude.append(sim(UtFacebook, Vd))\n"
   ]
  },
  {
   "cell_type": "code",
   "execution_count": 21,
   "metadata": {},
   "outputs": [],
   "source": [
    "top5CoursesMc = np.argsort(McSimilitude)[::-1][:5]\n",
    "top5CoursesFb = np.argsort(FbSimilitude)[::-1][:5]"
   ]
  },
  {
   "cell_type": "code",
   "execution_count": 22,
   "metadata": {},
   "outputs": [
    {
     "name": "stdout",
     "output_type": "stream",
     "text": [
      "Top 5 Courses (similitude with Markoc Chain) :\n",
      "   Markov chains and algorithmic applications ( 0.7495848317908491)\n",
      "   Optimization and simulation ( 0.721219545739311)\n",
      "   Applied stochastic processes ( 0.7195993713917974)\n",
      "   Internet analytics ( 0.674083072315756)\n",
      "   Computational Social Media ( 0.6035083143311233)\n",
      " =====================================\n",
      "Top 5 Courses (similitude with Facebook) :\n",
      "   Computational Social Media ( 0.9759045495646025)\n",
      "   Internet analytics ( 0.947551408352123)\n",
      "   Distributed information systems ( 0.4948218469422557)\n",
      "   Networks out of control ( 0.43180139257320505)\n",
      "   Personal interaction studio ( 0.407806718554651)\n"
     ]
    }
   ],
   "source": [
    "print( \"Top 5 Courses (similitude with Markoc Chain) :\")\n",
    "for j in top5CoursesMc:\n",
    "    print(\"   \" + courses[j]['name'] + f\" ( {McSimilitude[j]})\")\n",
    "\n",
    "print(\" =====================================\")\n",
    "print( \"Top 5 Courses (similitude with Facebook) :\")\n",
    "for j in top5CoursesFb:\n",
    "    print(\"   \" + courses[j]['name'] + f\" ( {FbSimilitude[j]})\")"
   ]
  },
  {
   "cell_type": "code",
   "execution_count": null,
   "metadata": {},
   "outputs": [],
   "source": [
    "# TODO Compare with Part1"
   ]
  },
  {
   "cell_type": "markdown",
   "metadata": {},
   "source": [
    "## Exercise 4.7: Document-document similarity"
   ]
  },
  {
   "cell_type": "code",
   "execution_count": 23,
   "metadata": {},
   "outputs": [],
   "source": [
    "def simDoc(doc1,doc2):\n",
    "    dot_doc = doc1.T @ doc2\n",
    "    norm1 = np.linalg.norm(doc1)\n",
    "    norm2 = np.linalg.norm(doc2)\n",
    "    return dot_doc / (norm1 * norm2)"
   ]
  },
  {
   "cell_type": "code",
   "execution_count": 24,
   "metadata": {},
   "outputs": [],
   "source": [
    "COM308index = 43\n",
    "COM308Vector = V[:, 43]"
   ]
  },
  {
   "cell_type": "code",
   "execution_count": 25,
   "metadata": {},
   "outputs": [],
   "source": [
    "COM308Similitude = []\n",
    "for i in range(len(courses)):\n",
    "    Vd = V[:, i]\n",
    "    COM308Similitude.append(simDoc(COM308Vector, Vd))"
   ]
  },
  {
   "cell_type": "code",
   "execution_count": 26,
   "metadata": {},
   "outputs": [],
   "source": [
    "#the first one is Internet Analytics so I start from 1 an not 0 to get rid of it\n",
    "top5CoursesCOM308 = np.argsort(COM308Similitude)[::-1][1:6]  "
   ]
  },
  {
   "cell_type": "code",
   "execution_count": 28,
   "metadata": {},
   "outputs": [
    {
     "name": "stdout",
     "output_type": "stream",
     "text": [
      "Top 5 Courses similar to Internet Analytic course :\n",
      "   Computational Social Media ( 0.9317045873618645)\n",
      "   Distributed information systems ( 0.5436517067832451)\n",
      "   Networks out of control ( 0.4478851321391735)\n",
      "   Personal interaction studio ( 0.3959728685073792)\n",
      "   Graph theory ( 0.3504919600926692)\n"
     ]
    }
   ],
   "source": [
    "print( \"Top 5 Courses similar to Internet Analytic course :\")\n",
    "for j in top5CoursesCOM308:\n",
    "    print(\"   \" + courses[j]['name'] + f\" ( {COM308Similitude[j]})\")"
   ]
  },
  {
   "cell_type": "code",
   "execution_count": null,
   "metadata": {},
   "outputs": [],
   "source": []
  }
 ],
 "metadata": {
  "kernelspec": {
   "display_name": "Python 3",
   "language": "python",
   "name": "python3"
  },
  "language_info": {
   "codemirror_mode": {
    "name": "ipython",
    "version": 3
   },
   "file_extension": ".py",
   "mimetype": "text/x-python",
   "name": "python",
   "nbconvert_exporter": "python",
   "pygments_lexer": "ipython3",
   "version": "3.7.6"
  }
 },
 "nbformat": 4,
 "nbformat_minor": 2
}
